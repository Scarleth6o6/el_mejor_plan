{
 "cells": [
  {
   "cell_type": "markdown",
   "metadata": {},
   "source": [
    "## Resumen de la revisión 1 <a class=\"tocSkip\"></a>"
   ]
  },
  {
   "cell_type": "markdown",
   "metadata": {},
   "source": [
    "----"
   ]
  },
  {
   "cell_type": "markdown",
   "metadata": {
    "id": "3rYiDeEH0q0f"
   },
   "source": [
    "# ¿Cuál es la mejor tarifa?\n",
    "\n",
    "Trabajas como analista para el operador de telecomunicaciones Megaline. La empresa ofrece a sus clientes dos tarifas de prepago, Surf y Ultimate. El departamento comercial quiere saber cuál de las tarifas genera más ingresos para poder ajustar el presupuesto de publicidad.\n",
    "\n",
    "Vas a realizar un análisis preliminar de las tarifas basado en una selección de clientes relativamente pequeña. Tendrás los datos de 500 clientes de Megaline: quiénes son los clientes, de dónde son, qué tarifa usan, así como la cantidad de llamadas que hicieron y los mensajes de texto que enviaron en 2018. Tu trabajo es analizar el comportamiento de los clientes y determinar qué tarifa de prepago genera más ingresos."
   ]
  },
  {
   "cell_type": "markdown",
   "metadata": {
    "id": "MQi4IPy70q0y"
   },
   "source": [
    "## Inicialización"
   ]
  },
  {
   "cell_type": "code",
   "execution_count": 1,
   "metadata": {
    "id": "MtYIuBxu0q0z"
   },
   "outputs": [],
   "source": [
    "# Cargar todas las librerías\n",
    "import pandas as pd\n",
    "import numpy as np\n",
    "from scipy import stats as st\n",
    "from matplotlib import pyplot as plt\n",
    "import seaborn as sns\n",
    "import math as mt\n",
    "from math import factorial"
   ]
  },
  {
   "cell_type": "markdown",
   "metadata": {
    "id": "4ysWWC5i0q00"
   },
   "source": [
    "## Cargar datos"
   ]
  },
  {
   "cell_type": "code",
   "execution_count": 2,
   "metadata": {
    "id": "CCqPW7rS0q01"
   },
   "outputs": [],
   "source": [
    "# Carga los archivos de datos en diferentes DataFrames\n",
    "calls_df = pd.read_csv('/datasets/megaline_calls.csv', sep=',')\n",
    "mensajes_df = pd.read_csv('/datasets/megaline_messages.csv', sep=',')\n",
    "internet_df = pd.read_csv('/datasets/megaline_internet.csv', sep = ',')\n",
    "plans_df = pd.read_csv('/datasets/megaline_plans.csv', sep=',')\n",
    "users_df = pd.read_csv('/datasets/megaline_users.csv', sep = ',')"
   ]
  },
  {
   "cell_type": "markdown",
   "metadata": {
    "id": "69qqoJ3r0q01"
   },
   "source": [
    "## Preparar los datos"
   ]
  },
  {
   "cell_type": "markdown",
   "metadata": {
    "id": "vUuZw80S0q01"
   },
   "source": [
    "Disponemos de 5 tablas de datos:\n",
    "    \n",
    "- Tablas de Servicios: Tres de estas tablas corresponden a los servicios ofrecidos en el plan (internet, mensajes y datos). En estas tablas se encuentra información sobre el ID del usuario que utiliza el servicio, la fecha de uso y el consumo del servicio. Para internet, se mide en megabytes (MB), y para llamadas, en minutos. Cada fila de información incluye el ID correspondiente para identificar cada operación.\n",
    "\n",
    "\n",
    "- Tabla de Planes: Esta tabla detalla la tarifa mensual en USD, el nombre del plan y los servicios que se ofrecen por un monto específico. La tabla especifica la cantidad de internet en megabytes, la cantidad de mensajes y el tiempo de llamadas en minutos. También incluye la tarifa adicional por cada minuto, GB o mensaje que exceda lo establecido en el plan.\n",
    "\n",
    "\n",
    "- Tabla de Clientes: Contiene el ID único del usuario, que se utiliza para llevar el registro de su consumo. Además, incluye el nombre, apellido, edad, ciudad, fecha de registro, el nombre del plan contratado y, en caso de que el usuario haya dado de baja el plan, la fecha de baja."
   ]
  },
  {
   "cell_type": "markdown",
   "metadata": {
    "id": "ohBhimvH0q01"
   },
   "source": [
    "## Tarifas"
   ]
  },
  {
   "cell_type": "code",
   "execution_count": 3,
   "metadata": {
    "id": "GptqP3Q40q02"
   },
   "outputs": [
    {
     "name": "stdout",
     "output_type": "stream",
     "text": [
      "<class 'pandas.core.frame.DataFrame'>\n",
      "RangeIndex: 2 entries, 0 to 1\n",
      "Data columns (total 8 columns):\n",
      " #   Column                 Non-Null Count  Dtype  \n",
      "---  ------                 --------------  -----  \n",
      " 0   messages_included      2 non-null      int64  \n",
      " 1   mb_per_month_included  2 non-null      int64  \n",
      " 2   minutes_included       2 non-null      int64  \n",
      " 3   usd_monthly_pay        2 non-null      int64  \n",
      " 4   usd_per_gb             2 non-null      int64  \n",
      " 5   usd_per_message        2 non-null      float64\n",
      " 6   usd_per_minute         2 non-null      float64\n",
      " 7   plan_name              2 non-null      object \n",
      "dtypes: float64(2), int64(5), object(1)\n",
      "memory usage: 256.0+ bytes\n"
     ]
    }
   ],
   "source": [
    "# Imprime la información general/resumida sobre el DataFrame de las tarifas\n",
    "plans_df.info()"
   ]
  },
  {
   "cell_type": "code",
   "execution_count": 4,
   "metadata": {
    "id": "64xzjwL70q02"
   },
   "outputs": [
    {
     "data": {
      "text/html": [
       "<div>\n",
       "<style scoped>\n",
       "    .dataframe tbody tr th:only-of-type {\n",
       "        vertical-align: middle;\n",
       "    }\n",
       "\n",
       "    .dataframe tbody tr th {\n",
       "        vertical-align: top;\n",
       "    }\n",
       "\n",
       "    .dataframe thead th {\n",
       "        text-align: right;\n",
       "    }\n",
       "</style>\n",
       "<table border=\"1\" class=\"dataframe\">\n",
       "  <thead>\n",
       "    <tr style=\"text-align: right;\">\n",
       "      <th></th>\n",
       "      <th>messages_included</th>\n",
       "      <th>mb_per_month_included</th>\n",
       "      <th>minutes_included</th>\n",
       "      <th>usd_monthly_pay</th>\n",
       "      <th>usd_per_gb</th>\n",
       "      <th>usd_per_message</th>\n",
       "      <th>usd_per_minute</th>\n",
       "      <th>plan_name</th>\n",
       "    </tr>\n",
       "  </thead>\n",
       "  <tbody>\n",
       "    <tr>\n",
       "      <th>0</th>\n",
       "      <td>50</td>\n",
       "      <td>15360</td>\n",
       "      <td>500</td>\n",
       "      <td>20</td>\n",
       "      <td>10</td>\n",
       "      <td>0.03</td>\n",
       "      <td>0.03</td>\n",
       "      <td>surf</td>\n",
       "    </tr>\n",
       "    <tr>\n",
       "      <th>1</th>\n",
       "      <td>1000</td>\n",
       "      <td>30720</td>\n",
       "      <td>3000</td>\n",
       "      <td>70</td>\n",
       "      <td>7</td>\n",
       "      <td>0.01</td>\n",
       "      <td>0.01</td>\n",
       "      <td>ultimate</td>\n",
       "    </tr>\n",
       "  </tbody>\n",
       "</table>\n",
       "</div>"
      ],
      "text/plain": [
       "   messages_included  mb_per_month_included  minutes_included  \\\n",
       "0                 50                  15360               500   \n",
       "1               1000                  30720              3000   \n",
       "\n",
       "   usd_monthly_pay  usd_per_gb  usd_per_message  usd_per_minute plan_name  \n",
       "0               20          10             0.03            0.03      surf  \n",
       "1               70           7             0.01            0.01  ultimate  "
      ]
     },
     "execution_count": 4,
     "metadata": {},
     "output_type": "execute_result"
    }
   ],
   "source": [
    "# Imprime una muestra de los datos para las tarifas\n",
    "plans_df.head()"
   ]
  },
  {
   "cell_type": "markdown",
   "metadata": {
    "id": "mEc_3_hs0q02"
   },
   "source": [
    "##### Observaciones\n",
    "- Se obserban 2 planes Surf y Ultimate.\n",
    "- El plan surf consiste en una tarifa de  `$20` mensuales por 500 minutos, 50 mensajes y 15360mb con un costo adicional de `$10` por GB y 3 centavos por minuto o mensaje extra a lo mencionado en el plan. \n",
    "- El plan Ultimate consiste en una tarida de `$70` mensuales por 3000 minutos, 1000 sms y 30720mb con un costo adicional de `$7` por GB, 1 centavo por minuto o mensaje extra a lo convenido en el plan.\n",
    "##### Problemas\n",
    "- Inconsitencia unidades de medida: La cantidad de datos moviles por mes están medidos en mb y se cobran por cantidad en GB. Esto representa una incosistencia en los datos que puede causar confución y errores durante el análisis. \n",
    "- Tipos de Datos: El costo `usd_monthly_pay` y `usd_per_gb` son de tipo int y deberian manejarse como float debido a que el monto podria cambiar eventualmente y podria generar perdida de informacion si se conserva como entero y más adelante se agregan datos con valores decimales como centavos.\n",
    "##### Soluciónes:\n",
    "- Convertir los valores de `mb_per_month_included` a GB para mantener consistencia en las unidades de medida.\n",
    "- Convertir las columnas `usd_monthly_pay` y `usd_per_gb` en tipo `float` con el metodo `astype()`."
   ]
  },
  {
   "cell_type": "markdown",
   "metadata": {
    "id": "R3C05i1l0q03"
   },
   "source": [
    "## Corregir datos"
   ]
  },
  {
   "cell_type": "markdown",
   "metadata": {
    "id": "bIi8StZI0q03"
   },
   "source": [
    "Cambiar el tipo de dato a las columnas `usd_monthly_pay` y `usd_per_gb`"
   ]
  },
  {
   "cell_type": "code",
   "execution_count": 5,
   "metadata": {
    "id": "Y7SVmjGn0q03"
   },
   "outputs": [],
   "source": [
    "plans_df['usd_monthly_pay']= plans_df['usd_monthly_pay'].astype(float)\n",
    "plans_df['usd_per_gb']= plans_df['usd_per_gb'].astype(float)"
   ]
  },
  {
   "cell_type": "markdown",
   "metadata": {
    "id": "LJir7bml0q03"
   },
   "source": [
    "## Enriquecer los datos"
   ]
  },
  {
   "cell_type": "markdown",
   "metadata": {
    "id": "eqADpCfg0q04"
   },
   "source": [
    "\n",
    "Convertir la columna `mb_per_month_included` en `gb_per_month_included`"
   ]
  },
  {
   "cell_type": "code",
   "execution_count": 6,
   "metadata": {},
   "outputs": [],
   "source": [
    "plans_df['mb_per_month_included'] = plans_df['mb_per_month_included']/1024\n",
    "plans_df.rename(columns = {'mb_per_month_included':'gb_per_month_included'}, inplace=True)"
   ]
  },
  {
   "cell_type": "markdown",
   "metadata": {},
   "source": [
    "Redondeo por exceso a los valores de `gb_per_month_included`"
   ]
  },
  {
   "cell_type": "code",
   "execution_count": 7,
   "metadata": {
    "id": "gfcIEuXV0q04"
   },
   "outputs": [],
   "source": [
    "plans_df['gb_per_month_included'] = plans_df['gb_per_month_included'].apply(mt.ceil)"
   ]
  },
  {
   "cell_type": "markdown",
   "metadata": {
    "id": "1n2X6WXf0q04"
   },
   "source": [
    "## Usuarios/as"
   ]
  },
  {
   "cell_type": "code",
   "execution_count": 8,
   "metadata": {
    "id": "2NgjWFqx0q05"
   },
   "outputs": [
    {
     "name": "stdout",
     "output_type": "stream",
     "text": [
      "Usuarios\n",
      "<class 'pandas.core.frame.DataFrame'>\n",
      "RangeIndex: 500 entries, 0 to 499\n",
      "Data columns (total 8 columns):\n",
      " #   Column      Non-Null Count  Dtype \n",
      "---  ------      --------------  ----- \n",
      " 0   user_id     500 non-null    int64 \n",
      " 1   first_name  500 non-null    object\n",
      " 2   last_name   500 non-null    object\n",
      " 3   age         500 non-null    int64 \n",
      " 4   city        500 non-null    object\n",
      " 5   reg_date    500 non-null    object\n",
      " 6   plan        500 non-null    object\n",
      " 7   churn_date  34 non-null     object\n",
      "dtypes: int64(2), object(6)\n",
      "memory usage: 31.4+ KB\n"
     ]
    }
   ],
   "source": [
    "# Imprime la información general/resumida sobre el DataFrame de usuarios\n",
    "print('Usuarios')\n",
    "users_df.info()"
   ]
  },
  {
   "cell_type": "code",
   "execution_count": 9,
   "metadata": {
    "id": "1IN1L9uh0q05",
    "scrolled": true
   },
   "outputs": [
    {
     "data": {
      "text/html": [
       "<div>\n",
       "<style scoped>\n",
       "    .dataframe tbody tr th:only-of-type {\n",
       "        vertical-align: middle;\n",
       "    }\n",
       "\n",
       "    .dataframe tbody tr th {\n",
       "        vertical-align: top;\n",
       "    }\n",
       "\n",
       "    .dataframe thead th {\n",
       "        text-align: right;\n",
       "    }\n",
       "</style>\n",
       "<table border=\"1\" class=\"dataframe\">\n",
       "  <thead>\n",
       "    <tr style=\"text-align: right;\">\n",
       "      <th></th>\n",
       "      <th>user_id</th>\n",
       "      <th>first_name</th>\n",
       "      <th>last_name</th>\n",
       "      <th>age</th>\n",
       "      <th>city</th>\n",
       "      <th>reg_date</th>\n",
       "      <th>plan</th>\n",
       "      <th>churn_date</th>\n",
       "    </tr>\n",
       "  </thead>\n",
       "  <tbody>\n",
       "    <tr>\n",
       "      <th>276</th>\n",
       "      <td>1276</td>\n",
       "      <td>Karmen</td>\n",
       "      <td>Carney</td>\n",
       "      <td>20</td>\n",
       "      <td>Phoenix-Mesa-Chandler, AZ MSA</td>\n",
       "      <td>2018-02-14</td>\n",
       "      <td>surf</td>\n",
       "      <td>NaN</td>\n",
       "    </tr>\n",
       "    <tr>\n",
       "      <th>80</th>\n",
       "      <td>1080</td>\n",
       "      <td>Neal</td>\n",
       "      <td>Mcgee</td>\n",
       "      <td>45</td>\n",
       "      <td>New York-Newark-Jersey City, NY-NJ-PA MSA</td>\n",
       "      <td>2018-08-03</td>\n",
       "      <td>surf</td>\n",
       "      <td>NaN</td>\n",
       "    </tr>\n",
       "    <tr>\n",
       "      <th>456</th>\n",
       "      <td>1456</td>\n",
       "      <td>Seymour</td>\n",
       "      <td>Olsen</td>\n",
       "      <td>66</td>\n",
       "      <td>Minneapolis-St. Paul-Bloomington, MN-WI MSA</td>\n",
       "      <td>2018-06-02</td>\n",
       "      <td>ultimate</td>\n",
       "      <td>NaN</td>\n",
       "    </tr>\n",
       "  </tbody>\n",
       "</table>\n",
       "</div>"
      ],
      "text/plain": [
       "     user_id first_name last_name  age  \\\n",
       "276     1276     Karmen    Carney   20   \n",
       "80      1080       Neal     Mcgee   45   \n",
       "456     1456    Seymour     Olsen   66   \n",
       "\n",
       "                                            city    reg_date      plan  \\\n",
       "276                Phoenix-Mesa-Chandler, AZ MSA  2018-02-14      surf   \n",
       "80     New York-Newark-Jersey City, NY-NJ-PA MSA  2018-08-03      surf   \n",
       "456  Minneapolis-St. Paul-Bloomington, MN-WI MSA  2018-06-02  ultimate   \n",
       "\n",
       "    churn_date  \n",
       "276        NaN  \n",
       "80         NaN  \n",
       "456        NaN  "
      ]
     },
     "execution_count": 9,
     "metadata": {},
     "output_type": "execute_result"
    }
   ],
   "source": [
    "# Imprime una muestra de datos para usuarios\n",
    "users_df.sample(3)"
   ]
  },
  {
   "cell_type": "markdown",
   "metadata": {
    "id": "dCZoUq4f0q06"
   },
   "source": [
    "##### Observaciones\n",
    " En esta tabla se observan los atributos de cada usuario: \n",
    "- `user_id`: El número que identifica a cada usuario único\n",
    "- `first_name` y `last_name`: Indican el nombre y apellido del usuario respectivamente, podian unirse en una sola columna, `full_name` para simplificarlos\n",
    "- `age`: Indica la edad del usuario. Es importante verificar que estos valores sean razonables.\n",
    "- `city`: Contiene información sobre el área metropolitana de residencia del cliente. Aunque contiene mucha información, es importante considerar si el nivel de precisión es suficiente para el análisis o si se necesita información más específica.\n",
    "- `reg_date`: Contiene la fecha en desde la cual el cliente contrató el plan.\n",
    "- `plan`: Indica si se contrató el plan  `surf` o `ultimate`.\n",
    "- `churn_date`: Indica la fecha en la se da de baja o se cancela el plan o el servicio contratado. Los valores NaN indican usuarios que aún no han cancelado el servicio.\n",
    "##### Problemas:\n",
    "- Las columnas `reg_date` y `churn_date` son de tipo `object`, lo que podría permitir el ingreso de fechas en un formato incorrecto.\n",
    "- Datos Ausentes en churn_date.\n",
    "##### Soluciones:\n",
    "- Para verifiacar que el formato de la fecha sea correcto lo mejor será cambiar el tipo de dato a las columnas `reg_date` y `churn_date` de `object` a `date`.\n",
    "- Reconocer que los valores `NaN` son esperados para usuarios activos y manejarlos adecuadamente en el análisis."
   ]
  },
  {
   "cell_type": "markdown",
   "metadata": {},
   "source": [
    "Revisar si existen datos duplicados"
   ]
  },
  {
   "cell_type": "code",
   "execution_count": 10,
   "metadata": {},
   "outputs": [
    {
     "data": {
      "text/plain": [
       "0"
      ]
     },
     "execution_count": 10,
     "metadata": {},
     "output_type": "execute_result"
    }
   ],
   "source": [
    "users_df.duplicated().sum()"
   ]
  },
  {
   "cell_type": "markdown",
   "metadata": {},
   "source": [
    "Verificar rango de edad"
   ]
  },
  {
   "cell_type": "code",
   "execution_count": 11,
   "metadata": {},
   "outputs": [
    {
     "name": "stdout",
     "output_type": "stream",
     "text": [
      "Rango de edad: 18 y 75\n"
     ]
    }
   ],
   "source": [
    "print('Rango de edad:',users_df['age'].min(), 'y',users_df['age'].max())"
   ]
  },
  {
   "cell_type": "markdown",
   "metadata": {
    "id": "BX5FQh_I0q06"
   },
   "source": [
    "### Corregir los datos"
   ]
  },
  {
   "cell_type": "markdown",
   "metadata": {
    "id": "8OdKMwJv0q06"
   },
   "source": [
    "Cambiar el tipo de dato a las columnas `reg_date` y `churn_date`"
   ]
  },
  {
   "cell_type": "code",
   "execution_count": 12,
   "metadata": {
    "id": "yUqX-K0C0q07"
   },
   "outputs": [],
   "source": [
    "users_df['reg_date']= pd.to_datetime(users_df['reg_date'], format='%Y-%m-%d')\n",
    "users_df['churn_date']= pd.to_datetime(users_df['churn_date'], format='%Y-%m-%d')\n",
    "users_df['month'] = users_df['reg_date'].dt.month"
   ]
  },
  {
   "cell_type": "markdown",
   "metadata": {
    "id": "ycwuARJp0q07"
   },
   "source": [
    "### Enriquecer los datos"
   ]
  },
  {
   "cell_type": "markdown",
   "metadata": {
    "id": "96NIh4CJ0q08"
   },
   "source": [
    "Fusionar las columnas correspondientes a nombre y apellido"
   ]
  },
  {
   "cell_type": "code",
   "execution_count": 13,
   "metadata": {
    "id": "iq0AaBS90q08"
   },
   "outputs": [],
   "source": [
    "# Combinar las columnas first_name y last_name almacenar los valores en la primera columna y renombrarla como full_name\n",
    "users_df['first_name'] = users_df['first_name']+' ' + users_df['last_name']\n"
   ]
  },
  {
   "cell_type": "code",
   "execution_count": 14,
   "metadata": {},
   "outputs": [],
   "source": [
    "users_df.rename(columns={'first_name':'full_name'}, inplace = True)"
   ]
  },
  {
   "cell_type": "code",
   "execution_count": 15,
   "metadata": {},
   "outputs": [],
   "source": [
    "# Eliminar la columna last_name\n",
    "users_df.drop(['last_name'], axis=1, inplace=True)"
   ]
  },
  {
   "cell_type": "markdown",
   "metadata": {
    "id": "o7MeKCid0q08"
   },
   "source": [
    "## Llamadas"
   ]
  },
  {
   "cell_type": "code",
   "execution_count": 16,
   "metadata": {
    "id": "6dDlnoDm0q08"
   },
   "outputs": [
    {
     "name": "stdout",
     "output_type": "stream",
     "text": [
      "Llamadas\n",
      "<class 'pandas.core.frame.DataFrame'>\n",
      "RangeIndex: 137735 entries, 0 to 137734\n",
      "Data columns (total 4 columns):\n",
      " #   Column     Non-Null Count   Dtype  \n",
      "---  ------     --------------   -----  \n",
      " 0   id         137735 non-null  object \n",
      " 1   user_id    137735 non-null  int64  \n",
      " 2   call_date  137735 non-null  object \n",
      " 3   duration   137735 non-null  float64\n",
      "dtypes: float64(1), int64(1), object(2)\n",
      "memory usage: 4.2+ MB\n"
     ]
    }
   ],
   "source": [
    "# Imprime la información general/resumida sobre el DataFrame de las llamadas\n",
    "print('Llamadas')\n",
    "calls_df.info()"
   ]
  },
  {
   "cell_type": "code",
   "execution_count": 17,
   "metadata": {
    "id": "kuh1vlNB0q09"
   },
   "outputs": [
    {
     "data": {
      "text/html": [
       "<div>\n",
       "<style scoped>\n",
       "    .dataframe tbody tr th:only-of-type {\n",
       "        vertical-align: middle;\n",
       "    }\n",
       "\n",
       "    .dataframe tbody tr th {\n",
       "        vertical-align: top;\n",
       "    }\n",
       "\n",
       "    .dataframe thead th {\n",
       "        text-align: right;\n",
       "    }\n",
       "</style>\n",
       "<table border=\"1\" class=\"dataframe\">\n",
       "  <thead>\n",
       "    <tr style=\"text-align: right;\">\n",
       "      <th></th>\n",
       "      <th>id</th>\n",
       "      <th>user_id</th>\n",
       "      <th>call_date</th>\n",
       "      <th>duration</th>\n",
       "    </tr>\n",
       "  </thead>\n",
       "  <tbody>\n",
       "    <tr>\n",
       "      <th>0</th>\n",
       "      <td>1000_93</td>\n",
       "      <td>1000</td>\n",
       "      <td>2018-12-27</td>\n",
       "      <td>8.52</td>\n",
       "    </tr>\n",
       "    <tr>\n",
       "      <th>1</th>\n",
       "      <td>1000_145</td>\n",
       "      <td>1000</td>\n",
       "      <td>2018-12-27</td>\n",
       "      <td>13.66</td>\n",
       "    </tr>\n",
       "    <tr>\n",
       "      <th>2</th>\n",
       "      <td>1000_247</td>\n",
       "      <td>1000</td>\n",
       "      <td>2018-12-27</td>\n",
       "      <td>14.48</td>\n",
       "    </tr>\n",
       "  </tbody>\n",
       "</table>\n",
       "</div>"
      ],
      "text/plain": [
       "         id  user_id   call_date  duration\n",
       "0   1000_93     1000  2018-12-27      8.52\n",
       "1  1000_145     1000  2018-12-27     13.66\n",
       "2  1000_247     1000  2018-12-27     14.48"
      ]
     },
     "execution_count": 17,
     "metadata": {},
     "output_type": "execute_result"
    }
   ],
   "source": [
    "# Imprime una muestra de datos para las llamadas\n",
    "calls_df.head(3)"
   ]
  },
  {
   "cell_type": "markdown",
   "metadata": {
    "id": "DOAxYJSx0q09"
   },
   "source": [
    "##### Observaciones:\n",
    "En la tabla se muestra la informacion de cada llamada:\n",
    "- `id`: Identifica de manera única cada llamada, al parecer el id esta compuesto por el user_id un guión-bajo y un número adicional.\n",
    "- `user_id`: Es una clave foranea de la tabla user_df, el número identifica qué usuario realizó la llamada.\n",
    "- `call_date`: Indica la fecha en que se realizó la llamada en formato `yyyy-mm-dd` \n",
    "- `duration`: Indica la duracion de la llamada en minutos.\n",
    "##### Problemas:\n",
    "- El campo duration es de tipo float, lo cual podría causar problemas ya que los minutos generalmente se miden como números enteros o en segundos, y los decimales de un float no equivalen a fracciones de un minuto.\n",
    "- Se pueden observar valores de de `0.00` en la colunmna `duration`, aunque estos valores podrían referirse a llamadas de prueba (llamar y colgar de inmediato). Independientemente si representan llamadas fallidas o de prueba, no aportan valor al análisis ya que no se realiza un cobro de servicio por estas llamadas.\n",
    "- Adicionalmente, podría ser más específico el nombre de la columna `duration`, ya que no especifica la unidad de medida.\n",
    "- La columna `call_date` es de tipo `object`, lo que podría permitir el ingreso de fechas en un formato incorrecto.\n",
    "##### Soluciones:\n",
    "- Cambiar el tipo de dato de la columna `duration` a un formato más adecuado. Dado que la tarifa se calcula redondeando hacia arriba al minuto más cercano, lo más apropiado sería almacenar el valor como un entero, realizando el redondeo por exceso.\n",
    "- Lo más conveniente para el este caso en donde la columna `duration` tiene valores `0.00` es eliminar estos registros.\n",
    "- Renombrar la columna `duration` a `minutes`\n",
    "- Realizar una validación adicional de la columna `call_date` para asegurarse de que todas las fechas son válidas y están en el formato correcto. Para esto lo mejor será cambiar el tipo de dato a la columna de `object` a `datetime`."
   ]
  },
  {
   "cell_type": "markdown",
   "metadata": {
    "id": "S7hzxmbX0q0-"
   },
   "source": [
    "### Corregir los datos"
   ]
  },
  {
   "cell_type": "markdown",
   "metadata": {
    "id": "YxWyAjD20q0-"
   },
   "source": [
    "Cambiar el tipo de dato a la columna `duration` a `int` y la columna `call_date` a `datetime`"
   ]
  },
  {
   "cell_type": "code",
   "execution_count": 18,
   "metadata": {
    "id": "S2r8xA4f0q0-"
   },
   "outputs": [],
   "source": [
    "calls_df['duration'] = mt.ceil(calls_df['duration'])"
   ]
  },
  {
   "cell_type": "code",
   "execution_count": 19,
   "metadata": {},
   "outputs": [],
   "source": [
    "calls_df['call_date'] = pd.to_datetime(calls_df['call_date'], format='%Y-%m-%d')"
   ]
  },
  {
   "cell_type": "markdown",
   "metadata": {},
   "source": [
    "Eliminar los registros con el valor de `duration` igual a 0"
   ]
  },
  {
   "cell_type": "code",
   "execution_count": 20,
   "metadata": {
    "id": "iZ1avpA_0q0_"
   },
   "outputs": [],
   "source": [
    "calls_df = calls_df[calls_df['duration']!= 0]"
   ]
  },
  {
   "cell_type": "markdown",
   "metadata": {
    "id": "KrMgTrlG0q0_"
   },
   "source": [
    "### Enriquecer los datos"
   ]
  },
  {
   "cell_type": "markdown",
   "metadata": {},
   "source": [
    "Extraer solo el mes de la columna `call_date` y almacenarlo en una nueva columna"
   ]
  },
  {
   "cell_type": "code",
   "execution_count": 21,
   "metadata": {},
   "outputs": [],
   "source": [
    "calls_df['month'] = calls_df['call_date'].dt.month"
   ]
  },
  {
   "cell_type": "markdown",
   "metadata": {
    "id": "a9MbmEvE0q0_"
   },
   "source": [
    "Renombrar la columna `duration`"
   ]
  },
  {
   "cell_type": "code",
   "execution_count": 22,
   "metadata": {},
   "outputs": [],
   "source": [
    "calls_df.rename(columns= {'duration': 'minutes'}, inplace=True)"
   ]
  },
  {
   "cell_type": "code",
   "execution_count": 23,
   "metadata": {},
   "outputs": [
    {
     "data": {
      "text/html": [
       "<div>\n",
       "<style scoped>\n",
       "    .dataframe tbody tr th:only-of-type {\n",
       "        vertical-align: middle;\n",
       "    }\n",
       "\n",
       "    .dataframe tbody tr th {\n",
       "        vertical-align: top;\n",
       "    }\n",
       "\n",
       "    .dataframe thead th {\n",
       "        text-align: right;\n",
       "    }\n",
       "</style>\n",
       "<table border=\"1\" class=\"dataframe\">\n",
       "  <thead>\n",
       "    <tr style=\"text-align: right;\">\n",
       "      <th></th>\n",
       "      <th>id</th>\n",
       "      <th>user_id</th>\n",
       "      <th>call_date</th>\n",
       "      <th>minutes</th>\n",
       "      <th>month</th>\n",
       "    </tr>\n",
       "  </thead>\n",
       "  <tbody>\n",
       "    <tr>\n",
       "      <th>0</th>\n",
       "      <td>1000_93</td>\n",
       "      <td>1000</td>\n",
       "      <td>2018-12-27</td>\n",
       "      <td>9</td>\n",
       "      <td>12</td>\n",
       "    </tr>\n",
       "    <tr>\n",
       "      <th>1</th>\n",
       "      <td>1000_145</td>\n",
       "      <td>1000</td>\n",
       "      <td>2018-12-27</td>\n",
       "      <td>14</td>\n",
       "      <td>12</td>\n",
       "    </tr>\n",
       "    <tr>\n",
       "      <th>2</th>\n",
       "      <td>1000_247</td>\n",
       "      <td>1000</td>\n",
       "      <td>2018-12-27</td>\n",
       "      <td>15</td>\n",
       "      <td>12</td>\n",
       "    </tr>\n",
       "  </tbody>\n",
       "</table>\n",
       "</div>"
      ],
      "text/plain": [
       "         id  user_id  call_date  minutes  month\n",
       "0   1000_93     1000 2018-12-27        9     12\n",
       "1  1000_145     1000 2018-12-27       14     12\n",
       "2  1000_247     1000 2018-12-27       15     12"
      ]
     },
     "execution_count": 23,
     "metadata": {},
     "output_type": "execute_result"
    }
   ],
   "source": [
    "calls_df.head(3)"
   ]
  },
  {
   "cell_type": "markdown",
   "metadata": {
    "id": "mOUZSi180q0_"
   },
   "source": [
    "## Mensajes"
   ]
  },
  {
   "cell_type": "code",
   "execution_count": 24,
   "metadata": {
    "id": "R-bYJpdV0q1A"
   },
   "outputs": [
    {
     "name": "stdout",
     "output_type": "stream",
     "text": [
      "Mensajes\n",
      "<class 'pandas.core.frame.DataFrame'>\n",
      "RangeIndex: 76051 entries, 0 to 76050\n",
      "Data columns (total 3 columns):\n",
      " #   Column        Non-Null Count  Dtype \n",
      "---  ------        --------------  ----- \n",
      " 0   id            76051 non-null  object\n",
      " 1   user_id       76051 non-null  int64 \n",
      " 2   message_date  76051 non-null  object\n",
      "dtypes: int64(1), object(2)\n",
      "memory usage: 1.7+ MB\n"
     ]
    }
   ],
   "source": [
    "# Imprime la información general/resumida sobre el DataFrame de los mensajes\n",
    "print('Mensajes')\n",
    "mensajes_df.info()"
   ]
  },
  {
   "cell_type": "code",
   "execution_count": 25,
   "metadata": {
    "id": "mCEl2iGE0q1A"
   },
   "outputs": [
    {
     "data": {
      "text/html": [
       "<div>\n",
       "<style scoped>\n",
       "    .dataframe tbody tr th:only-of-type {\n",
       "        vertical-align: middle;\n",
       "    }\n",
       "\n",
       "    .dataframe tbody tr th {\n",
       "        vertical-align: top;\n",
       "    }\n",
       "\n",
       "    .dataframe thead th {\n",
       "        text-align: right;\n",
       "    }\n",
       "</style>\n",
       "<table border=\"1\" class=\"dataframe\">\n",
       "  <thead>\n",
       "    <tr style=\"text-align: right;\">\n",
       "      <th></th>\n",
       "      <th>id</th>\n",
       "      <th>user_id</th>\n",
       "      <th>message_date</th>\n",
       "    </tr>\n",
       "  </thead>\n",
       "  <tbody>\n",
       "    <tr>\n",
       "      <th>76048</th>\n",
       "      <td>1497_547</td>\n",
       "      <td>1497</td>\n",
       "      <td>2018-12-31</td>\n",
       "    </tr>\n",
       "    <tr>\n",
       "      <th>76049</th>\n",
       "      <td>1497_558</td>\n",
       "      <td>1497</td>\n",
       "      <td>2018-12-24</td>\n",
       "    </tr>\n",
       "    <tr>\n",
       "      <th>76050</th>\n",
       "      <td>1497_613</td>\n",
       "      <td>1497</td>\n",
       "      <td>2018-12-23</td>\n",
       "    </tr>\n",
       "  </tbody>\n",
       "</table>\n",
       "</div>"
      ],
      "text/plain": [
       "             id  user_id message_date\n",
       "76048  1497_547     1497   2018-12-31\n",
       "76049  1497_558     1497   2018-12-24\n",
       "76050  1497_613     1497   2018-12-23"
      ]
     },
     "execution_count": 25,
     "metadata": {},
     "output_type": "execute_result"
    }
   ],
   "source": [
    "# Imprime una muestra de datos para los mensajes\n",
    "mensajes_df.tail(3)"
   ]
  },
  {
   "cell_type": "markdown",
   "metadata": {
    "id": "04xDj7KH0q1A"
   },
   "source": [
    "##### Observaciones:\n",
    "En la tabla se muestra la informacion de cada mensaje:\n",
    "- `id`: Identifica de manera única cada mensaje, el id esta compuesto por el user_id y un guión-bajo seguido de un número adicional.\n",
    "- `user_id`: Es una clave foranea de la tabla user_df, el número identifica al usuario emisor del mensaje.\n",
    "- `message_date`: Indica en que fecha se envió el mensaje en formato `yyyy-mm-dd` \n",
    "- No se observan problemas en la estructura o en los datos, solo para verificar correctamente el formato lo mejor será cambiar el tipo de dato de la columna `message_date` a `datetime`"
   ]
  },
  {
   "cell_type": "markdown",
   "metadata": {
    "id": "Sprfak900q1B"
   },
   "source": [
    "### Corregir los datos"
   ]
  },
  {
   "cell_type": "markdown",
   "metadata": {
    "id": "eGw7d9j10q1B"
   },
   "source": [
    "Cambiar el tipo de dato de `message_date` a datetime"
   ]
  },
  {
   "cell_type": "code",
   "execution_count": 26,
   "metadata": {
    "id": "vsllvkoa0q1B"
   },
   "outputs": [],
   "source": [
    "mensajes_df['message_date'] = pd.to_datetime(mensajes_df['message_date'], format='%Y-%m-%d')"
   ]
  },
  {
   "cell_type": "markdown",
   "metadata": {
    "id": "HvLid7iD0q1B"
   },
   "source": [
    "### Enriquecer los datos"
   ]
  },
  {
   "cell_type": "markdown",
   "metadata": {
    "id": "8nhPFKIe0q1C"
   },
   "source": [
    "Extraer el solo el mes de la fecha en la que se envió el mensaje y almacenarlo en una nueva columna"
   ]
  },
  {
   "cell_type": "code",
   "execution_count": 27,
   "metadata": {},
   "outputs": [],
   "source": [
    "mensajes_df['month'] = mensajes_df['message_date'].dt.month"
   ]
  },
  {
   "cell_type": "markdown",
   "metadata": {
    "id": "bStkaxn40q1C"
   },
   "source": [
    "## Internet"
   ]
  },
  {
   "cell_type": "code",
   "execution_count": 28,
   "metadata": {
    "id": "e-Uz5qyn0q1C"
   },
   "outputs": [
    {
     "name": "stdout",
     "output_type": "stream",
     "text": [
      "Internet\n",
      "<class 'pandas.core.frame.DataFrame'>\n",
      "RangeIndex: 104825 entries, 0 to 104824\n",
      "Data columns (total 4 columns):\n",
      " #   Column        Non-Null Count   Dtype  \n",
      "---  ------        --------------   -----  \n",
      " 0   id            104825 non-null  object \n",
      " 1   user_id       104825 non-null  int64  \n",
      " 2   session_date  104825 non-null  object \n",
      " 3   mb_used       104825 non-null  float64\n",
      "dtypes: float64(1), int64(1), object(2)\n",
      "memory usage: 3.2+ MB\n"
     ]
    }
   ],
   "source": [
    "# Imprime la información general/resumida sobre el DataFrame de internet\n",
    "print('Internet')\n",
    "internet_df.info()"
   ]
  },
  {
   "cell_type": "code",
   "execution_count": 29,
   "metadata": {
    "id": "9r3x_XLw0q1C"
   },
   "outputs": [
    {
     "data": {
      "text/html": [
       "<div>\n",
       "<style scoped>\n",
       "    .dataframe tbody tr th:only-of-type {\n",
       "        vertical-align: middle;\n",
       "    }\n",
       "\n",
       "    .dataframe tbody tr th {\n",
       "        vertical-align: top;\n",
       "    }\n",
       "\n",
       "    .dataframe thead th {\n",
       "        text-align: right;\n",
       "    }\n",
       "</style>\n",
       "<table border=\"1\" class=\"dataframe\">\n",
       "  <thead>\n",
       "    <tr style=\"text-align: right;\">\n",
       "      <th></th>\n",
       "      <th>id</th>\n",
       "      <th>user_id</th>\n",
       "      <th>session_date</th>\n",
       "      <th>mb_used</th>\n",
       "    </tr>\n",
       "  </thead>\n",
       "  <tbody>\n",
       "    <tr>\n",
       "      <th>0</th>\n",
       "      <td>1000_13</td>\n",
       "      <td>1000</td>\n",
       "      <td>2018-12-29</td>\n",
       "      <td>89.86</td>\n",
       "    </tr>\n",
       "    <tr>\n",
       "      <th>1</th>\n",
       "      <td>1000_204</td>\n",
       "      <td>1000</td>\n",
       "      <td>2018-12-31</td>\n",
       "      <td>0.00</td>\n",
       "    </tr>\n",
       "    <tr>\n",
       "      <th>2</th>\n",
       "      <td>1000_379</td>\n",
       "      <td>1000</td>\n",
       "      <td>2018-12-28</td>\n",
       "      <td>660.40</td>\n",
       "    </tr>\n",
       "  </tbody>\n",
       "</table>\n",
       "</div>"
      ],
      "text/plain": [
       "         id  user_id session_date  mb_used\n",
       "0   1000_13     1000   2018-12-29    89.86\n",
       "1  1000_204     1000   2018-12-31     0.00\n",
       "2  1000_379     1000   2018-12-28   660.40"
      ]
     },
     "execution_count": 29,
     "metadata": {},
     "output_type": "execute_result"
    }
   ],
   "source": [
    "# Imprime una muestra de datos para el tráfico de internet\n",
    "internet_df.head(3)"
   ]
  },
  {
   "cell_type": "markdown",
   "metadata": {
    "id": "EzOG5ik30q1D"
   },
   "source": [
    "##### Observaciones:\n",
    "- `id`: Identificador único de cada sesión de uso de datos. Parece estar compuesto por user_id seguido de un guion bajo y un número adicional.\n",
    "- `user_id`: Identificador del usuario que ha utilizado los datos.\n",
    "- `session_date`: Fecha en la que se registró el uso de datos, en formato yyyy-mm-dd.\n",
    "- `mb_used`: Cantidad de datos utilizados en MB (megabytes) durante la sesión.\n",
    "##### Problemas: \n",
    "- Se observan valores de 0.00 en mb_used, lo que podría indicar sesiones donde no se utilizó ningún dato. Estos registros podrían ser irrelevantes para nuestro análisis.\n",
    "- La columna `session_date` es de tipo `object`, lo que podría permitir el ingreso de fechas en un formato incorrecto. \n",
    "##### Solucion: \n",
    "- Convertir la columna `session_date` a un tipo de dato `datetime` para asegurar la consistencia y facilitar el análisis temporal.\n",
    "- Eliminar las filas con `mb_used` igual a 0.00"
   ]
  },
  {
   "cell_type": "markdown",
   "metadata": {
    "id": "yA0tkPFg0q1D"
   },
   "source": [
    "### Corregir los datos"
   ]
  },
  {
   "cell_type": "markdown",
   "metadata": {
    "id": "zlZMuIEK0q1D"
   },
   "source": [
    "Eliminar datos que no aportan información "
   ]
  },
  {
   "cell_type": "code",
   "execution_count": 30,
   "metadata": {
    "id": "zVeanzdd0q1E"
   },
   "outputs": [],
   "source": [
    "# Eliminar las filas con 'mb_used' igual a 0.00\n",
    "internet_df= internet_df[internet_df['mb_used'] != 0]"
   ]
  },
  {
   "cell_type": "code",
   "execution_count": 31,
   "metadata": {},
   "outputs": [],
   "source": [
    "# Cambiar el tipo de dato de la columna 'session_date'\n",
    "internet_df['session_date'] = pd.to_datetime(internet_df['session_date'], format= '%Y-%m-%d')"
   ]
  },
  {
   "cell_type": "markdown",
   "metadata": {
    "id": "e8_mLF4a0q1E"
   },
   "source": [
    "### Enriquecer los datos"
   ]
  },
  {
   "cell_type": "markdown",
   "metadata": {
    "id": "xhNdn2tE0q1E"
   },
   "source": [
    "Extraer el solo el mes de la columna de `session_date`."
   ]
  },
  {
   "cell_type": "code",
   "execution_count": 32,
   "metadata": {},
   "outputs": [],
   "source": [
    "internet_df['month'] = internet_df['session_date'].dt.month"
   ]
  },
  {
   "cell_type": "markdown",
   "metadata": {
    "id": "3UA2cqIW0q1E"
   },
   "source": [
    "## Estudiar las condiciones de las tarifas"
   ]
  },
  {
   "cell_type": "code",
   "execution_count": 33,
   "metadata": {
    "id": "i409op8p0q1F"
   },
   "outputs": [
    {
     "data": {
      "text/html": [
       "<div>\n",
       "<style scoped>\n",
       "    .dataframe tbody tr th:only-of-type {\n",
       "        vertical-align: middle;\n",
       "    }\n",
       "\n",
       "    .dataframe tbody tr th {\n",
       "        vertical-align: top;\n",
       "    }\n",
       "\n",
       "    .dataframe thead th {\n",
       "        text-align: right;\n",
       "    }\n",
       "</style>\n",
       "<table border=\"1\" class=\"dataframe\">\n",
       "  <thead>\n",
       "    <tr style=\"text-align: right;\">\n",
       "      <th></th>\n",
       "      <th>messages_included</th>\n",
       "      <th>gb_per_month_included</th>\n",
       "      <th>minutes_included</th>\n",
       "      <th>usd_monthly_pay</th>\n",
       "      <th>usd_per_gb</th>\n",
       "      <th>usd_per_message</th>\n",
       "      <th>usd_per_minute</th>\n",
       "      <th>plan_name</th>\n",
       "    </tr>\n",
       "  </thead>\n",
       "  <tbody>\n",
       "    <tr>\n",
       "      <th>0</th>\n",
       "      <td>50</td>\n",
       "      <td>15</td>\n",
       "      <td>500</td>\n",
       "      <td>20.0</td>\n",
       "      <td>10.0</td>\n",
       "      <td>0.03</td>\n",
       "      <td>0.03</td>\n",
       "      <td>surf</td>\n",
       "    </tr>\n",
       "    <tr>\n",
       "      <th>1</th>\n",
       "      <td>1000</td>\n",
       "      <td>30</td>\n",
       "      <td>3000</td>\n",
       "      <td>70.0</td>\n",
       "      <td>7.0</td>\n",
       "      <td>0.01</td>\n",
       "      <td>0.01</td>\n",
       "      <td>ultimate</td>\n",
       "    </tr>\n",
       "  </tbody>\n",
       "</table>\n",
       "</div>"
      ],
      "text/plain": [
       "   messages_included  gb_per_month_included  minutes_included  \\\n",
       "0                 50                     15               500   \n",
       "1               1000                     30              3000   \n",
       "\n",
       "   usd_monthly_pay  usd_per_gb  usd_per_message  usd_per_minute plan_name  \n",
       "0             20.0        10.0             0.03            0.03      surf  \n",
       "1             70.0         7.0             0.01            0.01  ultimate  "
      ]
     },
     "execution_count": 33,
     "metadata": {},
     "output_type": "execute_result"
    }
   ],
   "source": [
    "# Imprime las condiciones de la tarifa y asegúrate de que te quedan claras\n",
    "plans_df"
   ]
  },
  {
   "cell_type": "markdown",
   "metadata": {
    "id": "hMR1tP5d0q1F"
   },
   "source": [
    "## Agregar datos por usuario\n",
    "\n",
    "Agregar los datos por usuario y por periodo para que solo haya un registro por usuario y por periodo. Esto facilitará mucho el análisis posterior."
   ]
  },
  {
   "cell_type": "code",
   "execution_count": 34,
   "metadata": {
    "id": "A332cedB0q1G"
   },
   "outputs": [
    {
     "data": {
      "text/html": [
       "<div>\n",
       "<style scoped>\n",
       "    .dataframe tbody tr th:only-of-type {\n",
       "        vertical-align: middle;\n",
       "    }\n",
       "\n",
       "    .dataframe tbody tr th {\n",
       "        vertical-align: top;\n",
       "    }\n",
       "\n",
       "    .dataframe thead th {\n",
       "        text-align: right;\n",
       "    }\n",
       "</style>\n",
       "<table border=\"1\" class=\"dataframe\">\n",
       "  <thead>\n",
       "    <tr style=\"text-align: right;\">\n",
       "      <th></th>\n",
       "      <th>user_id</th>\n",
       "      <th>month</th>\n",
       "      <th>count_calls</th>\n",
       "    </tr>\n",
       "  </thead>\n",
       "  <tbody>\n",
       "    <tr>\n",
       "      <th>967</th>\n",
       "      <td>1209</td>\n",
       "      <td>8</td>\n",
       "      <td>9</td>\n",
       "    </tr>\n",
       "    <tr>\n",
       "      <th>1635</th>\n",
       "      <td>1361</td>\n",
       "      <td>7</td>\n",
       "      <td>42</td>\n",
       "    </tr>\n",
       "  </tbody>\n",
       "</table>\n",
       "</div>"
      ],
      "text/plain": [
       "      user_id  month  count_calls\n",
       "967      1209      8            9\n",
       "1635     1361      7           42"
      ]
     },
     "execution_count": 34,
     "metadata": {},
     "output_type": "execute_result"
    }
   ],
   "source": [
    "# Calcula el número de llamadas hechas por cada usuario al mes. Guarda el resultado.\n",
    "calls_user_per_month = calls_df.groupby(['user_id','month'])['call_date'].count().reset_index(name='count_calls')\n",
    "calls_user_per_month.sample(2)"
   ]
  },
  {
   "cell_type": "code",
   "execution_count": 35,
   "metadata": {
    "id": "aw2cmuql0q1G"
   },
   "outputs": [
    {
     "data": {
      "text/html": [
       "<div>\n",
       "<style scoped>\n",
       "    .dataframe tbody tr th:only-of-type {\n",
       "        vertical-align: middle;\n",
       "    }\n",
       "\n",
       "    .dataframe tbody tr th {\n",
       "        vertical-align: top;\n",
       "    }\n",
       "\n",
       "    .dataframe thead th {\n",
       "        text-align: right;\n",
       "    }\n",
       "</style>\n",
       "<table border=\"1\" class=\"dataframe\">\n",
       "  <thead>\n",
       "    <tr style=\"text-align: right;\">\n",
       "      <th></th>\n",
       "      <th>user_id</th>\n",
       "      <th>month</th>\n",
       "      <th>minutes</th>\n",
       "    </tr>\n",
       "  </thead>\n",
       "  <tbody>\n",
       "    <tr>\n",
       "      <th>1623</th>\n",
       "      <td>1359</td>\n",
       "      <td>3</td>\n",
       "      <td>480</td>\n",
       "    </tr>\n",
       "    <tr>\n",
       "      <th>529</th>\n",
       "      <td>1113</td>\n",
       "      <td>12</td>\n",
       "      <td>522</td>\n",
       "    </tr>\n",
       "    <tr>\n",
       "      <th>413</th>\n",
       "      <td>1088</td>\n",
       "      <td>6</td>\n",
       "      <td>242</td>\n",
       "    </tr>\n",
       "  </tbody>\n",
       "</table>\n",
       "</div>"
      ],
      "text/plain": [
       "      user_id  month  minutes\n",
       "1623     1359      3      480\n",
       "529      1113     12      522\n",
       "413      1088      6      242"
      ]
     },
     "execution_count": 35,
     "metadata": {},
     "output_type": "execute_result"
    }
   ],
   "source": [
    "# Calcula la cantidad de minutos usados por cada usuario al mes. Guarda el resultado.\n",
    "minutes_user_per_month = calls_df.groupby(['user_id','month'])['minutes'].sum().reset_index()\n",
    "minutes_user_per_month.sample(3)"
   ]
  },
  {
   "cell_type": "code",
   "execution_count": 36,
   "metadata": {
    "id": "CcQvNHn60q1G"
   },
   "outputs": [
    {
     "data": {
      "text/html": [
       "<div>\n",
       "<style scoped>\n",
       "    .dataframe tbody tr th:only-of-type {\n",
       "        vertical-align: middle;\n",
       "    }\n",
       "\n",
       "    .dataframe tbody tr th {\n",
       "        vertical-align: top;\n",
       "    }\n",
       "\n",
       "    .dataframe thead th {\n",
       "        text-align: right;\n",
       "    }\n",
       "</style>\n",
       "<table border=\"1\" class=\"dataframe\">\n",
       "  <thead>\n",
       "    <tr style=\"text-align: right;\">\n",
       "      <th></th>\n",
       "      <th>user_id</th>\n",
       "      <th>month</th>\n",
       "      <th>count_sms</th>\n",
       "    </tr>\n",
       "  </thead>\n",
       "  <tbody>\n",
       "    <tr>\n",
       "      <th>206</th>\n",
       "      <td>1062</td>\n",
       "      <td>12</td>\n",
       "      <td>9</td>\n",
       "    </tr>\n",
       "    <tr>\n",
       "      <th>694</th>\n",
       "      <td>1188</td>\n",
       "      <td>9</td>\n",
       "      <td>32</td>\n",
       "    </tr>\n",
       "    <tr>\n",
       "      <th>1623</th>\n",
       "      <td>1444</td>\n",
       "      <td>10</td>\n",
       "      <td>54</td>\n",
       "    </tr>\n",
       "  </tbody>\n",
       "</table>\n",
       "</div>"
      ],
      "text/plain": [
       "      user_id  month  count_sms\n",
       "206      1062     12          9\n",
       "694      1188      9         32\n",
       "1623     1444     10         54"
      ]
     },
     "execution_count": 36,
     "metadata": {},
     "output_type": "execute_result"
    }
   ],
   "source": [
    "# Calcula el número de mensajes enviados por cada usuario al mes. Guarda el resultado.\n",
    "sms_user_per_month = mensajes_df.groupby(['user_id', 'month'])['message_date'].count().reset_index(name= 'count_sms')\n",
    "sms_user_per_month.sample(3)"
   ]
  },
  {
   "cell_type": "code",
   "execution_count": 37,
   "metadata": {
    "id": "H1AqN2eG0q1H"
   },
   "outputs": [
    {
     "data": {
      "text/html": [
       "<div>\n",
       "<style scoped>\n",
       "    .dataframe tbody tr th:only-of-type {\n",
       "        vertical-align: middle;\n",
       "    }\n",
       "\n",
       "    .dataframe tbody tr th {\n",
       "        vertical-align: top;\n",
       "    }\n",
       "\n",
       "    .dataframe thead th {\n",
       "        text-align: right;\n",
       "    }\n",
       "</style>\n",
       "<table border=\"1\" class=\"dataframe\">\n",
       "  <thead>\n",
       "    <tr style=\"text-align: right;\">\n",
       "      <th></th>\n",
       "      <th>user_id</th>\n",
       "      <th>month</th>\n",
       "      <th>mb_used</th>\n",
       "      <th>gb_used</th>\n",
       "    </tr>\n",
       "  </thead>\n",
       "  <tbody>\n",
       "    <tr>\n",
       "      <th>2000</th>\n",
       "      <td>1432</td>\n",
       "      <td>10</td>\n",
       "      <td>8402.19</td>\n",
       "      <td>9</td>\n",
       "    </tr>\n",
       "  </tbody>\n",
       "</table>\n",
       "</div>"
      ],
      "text/plain": [
       "      user_id  month  mb_used  gb_used\n",
       "2000     1432     10  8402.19        9"
      ]
     },
     "execution_count": 37,
     "metadata": {},
     "output_type": "execute_result"
    }
   ],
   "source": [
    "# Calcula el volumen del tráfico de Internet usado por cada usuario al mes. Guarda el resultado.\n",
    "data_user_per_month = internet_df.groupby(['user_id','month'])['mb_used'].sum().reset_index()\n",
    "# Transformar el consumo de datos MB a GB\n",
    "data_user_per_month['gb_used'] = data_user_per_month['mb_used']/1024\n",
    "# Redondear el monto de Gigas consumidos hacia arriba\n",
    "data_user_per_month['gb_used'] = data_user_per_month['gb_used'].apply(mt.ceil)\n",
    "data_user_per_month.sample()"
   ]
  },
  {
   "cell_type": "code",
   "execution_count": 38,
   "metadata": {
    "id": "FW99ykyf0q1H"
   },
   "outputs": [],
   "source": [
    "# Fusiona los datos de llamadas, minutos, mensajes e Internet con base en user_id y month\n",
    "consumo_user_month= calls_user_per_month.merge(minutes_user_per_month, \n",
    "                                               on=['user_id','month'], \n",
    "                                               how='outer')\n",
    "\n",
    "consumo_user_month = consumo_user_month.merge(sms_user_per_month, \n",
    "                                              on=['user_id','month'],\n",
    "                                              how ='outer')\n",
    "\n",
    "consumo_user_month = consumo_user_month.merge(data_user_per_month,\n",
    "                                              on=['user_id','month'],\n",
    "                                              how='outer')\n",
    "# Elimina las columnas adicionales de month\n",
    "consumo_user_month.drop('mb_used', axis=1, inplace= True)"
   ]
  },
  {
   "cell_type": "code",
   "execution_count": 39,
   "metadata": {
    "id": "0dNOXHag0q1H"
   },
   "outputs": [],
   "source": [
    "# Unir el DF users_df para obtener la informacion del plan contratado por usuario\n",
    "plan_user = users_df[['user_id','plan','city']]\n",
    "consumo_user_month = consumo_user_month.merge(plan_user, on= 'user_id', how= 'outer')\n",
    "#consumo_user_month.sample()"
   ]
  },
  {
   "cell_type": "code",
   "execution_count": 40,
   "metadata": {},
   "outputs": [],
   "source": [
    "# Añade la información de la tarifa\n",
    "consumo_user_month = consumo_user_month.merge(plans_df, left_on= 'plan', right_on='plan_name', how= 'outer')"
   ]
  },
  {
   "cell_type": "code",
   "execution_count": 41,
   "metadata": {},
   "outputs": [],
   "source": [
    "consumo_user_month.drop('plan_name', axis=1, inplace = True)"
   ]
  },
  {
   "cell_type": "code",
   "execution_count": 42,
   "metadata": {},
   "outputs": [
    {
     "data": {
      "text/html": [
       "<div>\n",
       "<style scoped>\n",
       "    .dataframe tbody tr th:only-of-type {\n",
       "        vertical-align: middle;\n",
       "    }\n",
       "\n",
       "    .dataframe tbody tr th {\n",
       "        vertical-align: top;\n",
       "    }\n",
       "\n",
       "    .dataframe thead th {\n",
       "        text-align: right;\n",
       "    }\n",
       "</style>\n",
       "<table border=\"1\" class=\"dataframe\">\n",
       "  <thead>\n",
       "    <tr style=\"text-align: right;\">\n",
       "      <th></th>\n",
       "      <th>user_id</th>\n",
       "      <th>month</th>\n",
       "      <th>count_calls</th>\n",
       "      <th>minutes</th>\n",
       "      <th>count_sms</th>\n",
       "      <th>gb_used</th>\n",
       "      <th>plan</th>\n",
       "      <th>city</th>\n",
       "      <th>messages_included</th>\n",
       "      <th>gb_per_month_included</th>\n",
       "      <th>minutes_included</th>\n",
       "      <th>usd_monthly_pay</th>\n",
       "      <th>usd_per_gb</th>\n",
       "      <th>usd_per_message</th>\n",
       "      <th>usd_per_minute</th>\n",
       "    </tr>\n",
       "  </thead>\n",
       "  <tbody>\n",
       "    <tr>\n",
       "      <th>0</th>\n",
       "      <td>1000</td>\n",
       "      <td>12.0</td>\n",
       "      <td>16.0</td>\n",
       "      <td>124.0</td>\n",
       "      <td>11.0</td>\n",
       "      <td>2.0</td>\n",
       "      <td>ultimate</td>\n",
       "      <td>Atlanta-Sandy Springs-Roswell, GA MSA</td>\n",
       "      <td>1000</td>\n",
       "      <td>30</td>\n",
       "      <td>3000</td>\n",
       "      <td>70.0</td>\n",
       "      <td>7.0</td>\n",
       "      <td>0.01</td>\n",
       "      <td>0.01</td>\n",
       "    </tr>\n",
       "    <tr>\n",
       "      <th>1</th>\n",
       "      <td>1006</td>\n",
       "      <td>11.0</td>\n",
       "      <td>2.0</td>\n",
       "      <td>10.0</td>\n",
       "      <td>15.0</td>\n",
       "      <td>3.0</td>\n",
       "      <td>ultimate</td>\n",
       "      <td>San Francisco-Oakland-Berkeley, CA MSA</td>\n",
       "      <td>1000</td>\n",
       "      <td>30</td>\n",
       "      <td>3000</td>\n",
       "      <td>70.0</td>\n",
       "      <td>7.0</td>\n",
       "      <td>0.01</td>\n",
       "      <td>0.01</td>\n",
       "    </tr>\n",
       "    <tr>\n",
       "      <th>2</th>\n",
       "      <td>1006</td>\n",
       "      <td>12.0</td>\n",
       "      <td>7.0</td>\n",
       "      <td>59.0</td>\n",
       "      <td>139.0</td>\n",
       "      <td>32.0</td>\n",
       "      <td>ultimate</td>\n",
       "      <td>San Francisco-Oakland-Berkeley, CA MSA</td>\n",
       "      <td>1000</td>\n",
       "      <td>30</td>\n",
       "      <td>3000</td>\n",
       "      <td>70.0</td>\n",
       "      <td>7.0</td>\n",
       "      <td>0.01</td>\n",
       "      <td>0.01</td>\n",
       "    </tr>\n",
       "    <tr>\n",
       "      <th>3</th>\n",
       "      <td>1008</td>\n",
       "      <td>10.0</td>\n",
       "      <td>54.0</td>\n",
       "      <td>476.0</td>\n",
       "      <td>21.0</td>\n",
       "      <td>17.0</td>\n",
       "      <td>ultimate</td>\n",
       "      <td>Orlando-Kissimmee-Sanford, FL MSA</td>\n",
       "      <td>1000</td>\n",
       "      <td>30</td>\n",
       "      <td>3000</td>\n",
       "      <td>70.0</td>\n",
       "      <td>7.0</td>\n",
       "      <td>0.01</td>\n",
       "      <td>0.01</td>\n",
       "    </tr>\n",
       "    <tr>\n",
       "      <th>4</th>\n",
       "      <td>1008</td>\n",
       "      <td>11.0</td>\n",
       "      <td>50.0</td>\n",
       "      <td>446.0</td>\n",
       "      <td>37.0</td>\n",
       "      <td>24.0</td>\n",
       "      <td>ultimate</td>\n",
       "      <td>Orlando-Kissimmee-Sanford, FL MSA</td>\n",
       "      <td>1000</td>\n",
       "      <td>30</td>\n",
       "      <td>3000</td>\n",
       "      <td>70.0</td>\n",
       "      <td>7.0</td>\n",
       "      <td>0.01</td>\n",
       "      <td>0.01</td>\n",
       "    </tr>\n",
       "    <tr>\n",
       "      <th>...</th>\n",
       "      <td>...</td>\n",
       "      <td>...</td>\n",
       "      <td>...</td>\n",
       "      <td>...</td>\n",
       "      <td>...</td>\n",
       "      <td>...</td>\n",
       "      <td>...</td>\n",
       "      <td>...</td>\n",
       "      <td>...</td>\n",
       "      <td>...</td>\n",
       "      <td>...</td>\n",
       "      <td>...</td>\n",
       "      <td>...</td>\n",
       "      <td>...</td>\n",
       "      <td>...</td>\n",
       "    </tr>\n",
       "    <tr>\n",
       "      <th>2298</th>\n",
       "      <td>1143</td>\n",
       "      <td>NaN</td>\n",
       "      <td>NaN</td>\n",
       "      <td>NaN</td>\n",
       "      <td>NaN</td>\n",
       "      <td>NaN</td>\n",
       "      <td>surf</td>\n",
       "      <td>Cincinnati, OH-KY-IN MSA</td>\n",
       "      <td>50</td>\n",
       "      <td>15</td>\n",
       "      <td>500</td>\n",
       "      <td>20.0</td>\n",
       "      <td>10.0</td>\n",
       "      <td>0.03</td>\n",
       "      <td>0.03</td>\n",
       "    </tr>\n",
       "    <tr>\n",
       "      <th>2299</th>\n",
       "      <td>1307</td>\n",
       "      <td>NaN</td>\n",
       "      <td>NaN</td>\n",
       "      <td>NaN</td>\n",
       "      <td>NaN</td>\n",
       "      <td>NaN</td>\n",
       "      <td>surf</td>\n",
       "      <td>Boston-Cambridge-Newton, MA-NH MSA</td>\n",
       "      <td>50</td>\n",
       "      <td>15</td>\n",
       "      <td>500</td>\n",
       "      <td>20.0</td>\n",
       "      <td>10.0</td>\n",
       "      <td>0.03</td>\n",
       "      <td>0.03</td>\n",
       "    </tr>\n",
       "    <tr>\n",
       "      <th>2300</th>\n",
       "      <td>1319</td>\n",
       "      <td>NaN</td>\n",
       "      <td>NaN</td>\n",
       "      <td>NaN</td>\n",
       "      <td>NaN</td>\n",
       "      <td>NaN</td>\n",
       "      <td>surf</td>\n",
       "      <td>Colorado Springs, CO MSA</td>\n",
       "      <td>50</td>\n",
       "      <td>15</td>\n",
       "      <td>500</td>\n",
       "      <td>20.0</td>\n",
       "      <td>10.0</td>\n",
       "      <td>0.03</td>\n",
       "      <td>0.03</td>\n",
       "    </tr>\n",
       "    <tr>\n",
       "      <th>2301</th>\n",
       "      <td>1378</td>\n",
       "      <td>NaN</td>\n",
       "      <td>NaN</td>\n",
       "      <td>NaN</td>\n",
       "      <td>NaN</td>\n",
       "      <td>NaN</td>\n",
       "      <td>surf</td>\n",
       "      <td>Denver-Aurora-Lakewood, CO MSA</td>\n",
       "      <td>50</td>\n",
       "      <td>15</td>\n",
       "      <td>500</td>\n",
       "      <td>20.0</td>\n",
       "      <td>10.0</td>\n",
       "      <td>0.03</td>\n",
       "      <td>0.03</td>\n",
       "    </tr>\n",
       "    <tr>\n",
       "      <th>2302</th>\n",
       "      <td>1473</td>\n",
       "      <td>NaN</td>\n",
       "      <td>NaN</td>\n",
       "      <td>NaN</td>\n",
       "      <td>NaN</td>\n",
       "      <td>NaN</td>\n",
       "      <td>surf</td>\n",
       "      <td>Louisville/Jefferson County, KY-IN MSA</td>\n",
       "      <td>50</td>\n",
       "      <td>15</td>\n",
       "      <td>500</td>\n",
       "      <td>20.0</td>\n",
       "      <td>10.0</td>\n",
       "      <td>0.03</td>\n",
       "      <td>0.03</td>\n",
       "    </tr>\n",
       "  </tbody>\n",
       "</table>\n",
       "<p>2303 rows × 15 columns</p>\n",
       "</div>"
      ],
      "text/plain": [
       "      user_id  month  count_calls  minutes  count_sms  gb_used      plan  \\\n",
       "0        1000   12.0         16.0    124.0       11.0      2.0  ultimate   \n",
       "1        1006   11.0          2.0     10.0       15.0      3.0  ultimate   \n",
       "2        1006   12.0          7.0     59.0      139.0     32.0  ultimate   \n",
       "3        1008   10.0         54.0    476.0       21.0     17.0  ultimate   \n",
       "4        1008   11.0         50.0    446.0       37.0     24.0  ultimate   \n",
       "...       ...    ...          ...      ...        ...      ...       ...   \n",
       "2298     1143    NaN          NaN      NaN        NaN      NaN      surf   \n",
       "2299     1307    NaN          NaN      NaN        NaN      NaN      surf   \n",
       "2300     1319    NaN          NaN      NaN        NaN      NaN      surf   \n",
       "2301     1378    NaN          NaN      NaN        NaN      NaN      surf   \n",
       "2302     1473    NaN          NaN      NaN        NaN      NaN      surf   \n",
       "\n",
       "                                        city  messages_included  \\\n",
       "0      Atlanta-Sandy Springs-Roswell, GA MSA               1000   \n",
       "1     San Francisco-Oakland-Berkeley, CA MSA               1000   \n",
       "2     San Francisco-Oakland-Berkeley, CA MSA               1000   \n",
       "3          Orlando-Kissimmee-Sanford, FL MSA               1000   \n",
       "4          Orlando-Kissimmee-Sanford, FL MSA               1000   \n",
       "...                                      ...                ...   \n",
       "2298                Cincinnati, OH-KY-IN MSA                 50   \n",
       "2299      Boston-Cambridge-Newton, MA-NH MSA                 50   \n",
       "2300                Colorado Springs, CO MSA                 50   \n",
       "2301          Denver-Aurora-Lakewood, CO MSA                 50   \n",
       "2302  Louisville/Jefferson County, KY-IN MSA                 50   \n",
       "\n",
       "      gb_per_month_included  minutes_included  usd_monthly_pay  usd_per_gb  \\\n",
       "0                        30              3000             70.0         7.0   \n",
       "1                        30              3000             70.0         7.0   \n",
       "2                        30              3000             70.0         7.0   \n",
       "3                        30              3000             70.0         7.0   \n",
       "4                        30              3000             70.0         7.0   \n",
       "...                     ...               ...              ...         ...   \n",
       "2298                     15               500             20.0        10.0   \n",
       "2299                     15               500             20.0        10.0   \n",
       "2300                     15               500             20.0        10.0   \n",
       "2301                     15               500             20.0        10.0   \n",
       "2302                     15               500             20.0        10.0   \n",
       "\n",
       "      usd_per_message  usd_per_minute  \n",
       "0                0.01            0.01  \n",
       "1                0.01            0.01  \n",
       "2                0.01            0.01  \n",
       "3                0.01            0.01  \n",
       "4                0.01            0.01  \n",
       "...               ...             ...  \n",
       "2298             0.03            0.03  \n",
       "2299             0.03            0.03  \n",
       "2300             0.03            0.03  \n",
       "2301             0.03            0.03  \n",
       "2302             0.03            0.03  \n",
       "\n",
       "[2303 rows x 15 columns]"
      ]
     },
     "execution_count": 42,
     "metadata": {},
     "output_type": "execute_result"
    }
   ],
   "source": [
    "consumo_user_month"
   ]
  },
  {
   "cell_type": "code",
   "execution_count": 43,
   "metadata": {
    "id": "5FGCf_c60q1I"
   },
   "outputs": [],
   "source": [
    "# Calcular el consumo extra mensual de cada usuario\n",
    "extra_consum_month = pd.DataFrame()\n",
    "extra_consum_month['month'] = consumo_user_month['month']\n",
    "extra_consum_month['plan'] = consumo_user_month['plan']\n",
    "extra_consum_month['city'] = consumo_user_month['city']\n",
    "extra_consum_month['extra_minutes'] = np.maximum(0, consumo_user_month['minutes'] - consumo_user_month['minutes_included'])\n",
    "extra_consum_month['extra_messages'] = np.maximum(0, consumo_user_month['count_sms'] - consumo_user_month['messages_included'])\n",
    "extra_consum_month['extra_gb'] = np.maximum(0, consumo_user_month['gb_used'] - consumo_user_month['gb_per_month_included']) "
   ]
  },
  {
   "cell_type": "code",
   "execution_count": 45,
   "metadata": {},
   "outputs": [],
   "source": [
    "# Calcula el ingreso mensual para cada usuario\n",
    "extra_consum_month['extra_minutes_cost'] = extra_consum_month['extra_minutes']* consumo_user_month['usd_per_minute']\n",
    "extra_consum_month['extra_messages_cost'] = extra_consum_month['extra_messages'] * consumo_user_month['usd_per_message']\n",
    "extra_consum_month['extra_gb_cost'] = extra_consum_month['extra_gb'] * consumo_user_month['usd_per_gb']"
   ]
  },
  {
   "cell_type": "code",
   "execution_count": 46,
   "metadata": {},
   "outputs": [],
   "source": [
    "extra_consum_month['total_cost_usd'] = np.maximum(0, extra_consum_month['extra_minutes_cost'] + extra_consum_month['extra_messages_cost'] + extra_consum_month['extra_gb_cost'] + consumo_user_month['usd_monthly_pay'])"
   ]
  },
  {
   "cell_type": "markdown",
   "metadata": {},
   "source": [
    "Se observan filas con valores ausentes en todas las columnas de consumo. Probablemente corresponden a usuarios que contrataron el un plan pero no han consumido datos. Esto podria producir errores en el analisis asi que será mejor rellenar los datos."
   ]
  },
  {
   "cell_type": "code",
   "execution_count": 47,
   "metadata": {},
   "outputs": [
    {
     "data": {
      "text/plain": [
       "month                   10\n",
       "plan                     0\n",
       "city                     0\n",
       "extra_minutes           47\n",
       "extra_messages         497\n",
       "extra_gb                26\n",
       "extra_minutes_cost      47\n",
       "extra_messages_cost    497\n",
       "extra_gb_cost           26\n",
       "total_cost_usd         545\n",
       "dtype: int64"
      ]
     },
     "execution_count": 47,
     "metadata": {},
     "output_type": "execute_result"
    }
   ],
   "source": [
    "extra_consum_month.isna().sum()"
   ]
  },
  {
   "cell_type": "code",
   "execution_count": 48,
   "metadata": {},
   "outputs": [],
   "source": [
    "# Llena los valores NaN con 0 \n",
    "consumo_user_month = consumo_user_month.fillna(0)\n",
    "extra_consum_month = extra_consum_month.fillna(0)\n",
    "extra_consum_month = extra_consum_month[extra_consum_month['total_cost_usd']!=0]\n",
    "# Eliminar las filas con month = 0 ya que estas no contienen informacion relevante para el analisis\n",
    "consumo_user_month = consumo_user_month[consumo_user_month['month']!= 0]\n",
    "# Convierte las columnas de vuelta a enteros\n",
    "consumo_user_month['month'] = consumo_user_month['month'].astype(int)\n",
    "consumo_user_month['count_calls'] = consumo_user_month['count_calls'].astype(int)\n",
    "consumo_user_month['minutes'] = consumo_user_month['minutes'].astype(int)\n",
    "consumo_user_month['count_sms'] = consumo_user_month['count_sms'].astype(int)\n",
    "consumo_user_month['gb_used'] = consumo_user_month['gb_used'].astype(int)\n",
    "extra_consum_month['month'] = consumo_user_month['month'].astype(int)\n",
    "extra_consum_month['plan'] = consumo_user_month['plan']\n",
    "extra_consum_month['extra_minutes'] = extra_consum_month['extra_minutes'].astype(int)\n",
    "extra_consum_month['extra_messages'] = extra_consum_month['extra_messages'].astype(int)\n",
    "extra_consum_month['extra_gb'] = extra_consum_month['extra_gb'].astype(int)"
   ]
  },
  {
   "cell_type": "code",
   "execution_count": 50,
   "metadata": {},
   "outputs": [
    {
     "data": {
      "text/html": [
       "<div>\n",
       "<style scoped>\n",
       "    .dataframe tbody tr th:only-of-type {\n",
       "        vertical-align: middle;\n",
       "    }\n",
       "\n",
       "    .dataframe tbody tr th {\n",
       "        vertical-align: top;\n",
       "    }\n",
       "\n",
       "    .dataframe thead th {\n",
       "        text-align: right;\n",
       "    }\n",
       "</style>\n",
       "<table border=\"1\" class=\"dataframe\">\n",
       "  <thead>\n",
       "    <tr style=\"text-align: right;\">\n",
       "      <th></th>\n",
       "      <th>user_id</th>\n",
       "      <th>month</th>\n",
       "      <th>count_calls</th>\n",
       "      <th>minutes</th>\n",
       "      <th>count_sms</th>\n",
       "      <th>gb_used</th>\n",
       "      <th>plan</th>\n",
       "      <th>city</th>\n",
       "      <th>messages_included</th>\n",
       "      <th>gb_per_month_included</th>\n",
       "      <th>minutes_included</th>\n",
       "      <th>usd_monthly_pay</th>\n",
       "      <th>usd_per_gb</th>\n",
       "      <th>usd_per_message</th>\n",
       "      <th>usd_per_minute</th>\n",
       "    </tr>\n",
       "  </thead>\n",
       "  <tbody>\n",
       "    <tr>\n",
       "      <th>1404</th>\n",
       "      <td>1212</td>\n",
       "      <td>12</td>\n",
       "      <td>30</td>\n",
       "      <td>263</td>\n",
       "      <td>35</td>\n",
       "      <td>13</td>\n",
       "      <td>surf</td>\n",
       "      <td>Austin-Round Rock-Georgetown, TX MSA</td>\n",
       "      <td>50</td>\n",
       "      <td>15</td>\n",
       "      <td>500</td>\n",
       "      <td>20.0</td>\n",
       "      <td>10.0</td>\n",
       "      <td>0.03</td>\n",
       "      <td>0.03</td>\n",
       "    </tr>\n",
       "    <tr>\n",
       "      <th>2092</th>\n",
       "      <td>1425</td>\n",
       "      <td>12</td>\n",
       "      <td>28</td>\n",
       "      <td>246</td>\n",
       "      <td>28</td>\n",
       "      <td>18</td>\n",
       "      <td>surf</td>\n",
       "      <td>Las Vegas-Henderson-Paradise, NV MSA</td>\n",
       "      <td>50</td>\n",
       "      <td>15</td>\n",
       "      <td>500</td>\n",
       "      <td>20.0</td>\n",
       "      <td>10.0</td>\n",
       "      <td>0.03</td>\n",
       "      <td>0.03</td>\n",
       "    </tr>\n",
       "    <tr>\n",
       "      <th>2227</th>\n",
       "      <td>1491</td>\n",
       "      <td>4</td>\n",
       "      <td>6</td>\n",
       "      <td>44</td>\n",
       "      <td>6</td>\n",
       "      <td>0</td>\n",
       "      <td>surf</td>\n",
       "      <td>Grand Rapids-Kentwood, MI MSA</td>\n",
       "      <td>50</td>\n",
       "      <td>15</td>\n",
       "      <td>500</td>\n",
       "      <td>20.0</td>\n",
       "      <td>10.0</td>\n",
       "      <td>0.03</td>\n",
       "      <td>0.03</td>\n",
       "    </tr>\n",
       "  </tbody>\n",
       "</table>\n",
       "</div>"
      ],
      "text/plain": [
       "      user_id  month  count_calls  minutes  count_sms  gb_used  plan  \\\n",
       "1404     1212     12           30      263         35       13  surf   \n",
       "2092     1425     12           28      246         28       18  surf   \n",
       "2227     1491      4            6       44          6        0  surf   \n",
       "\n",
       "                                      city  messages_included  \\\n",
       "1404  Austin-Round Rock-Georgetown, TX MSA                 50   \n",
       "2092  Las Vegas-Henderson-Paradise, NV MSA                 50   \n",
       "2227         Grand Rapids-Kentwood, MI MSA                 50   \n",
       "\n",
       "      gb_per_month_included  minutes_included  usd_monthly_pay  usd_per_gb  \\\n",
       "1404                     15               500             20.0        10.0   \n",
       "2092                     15               500             20.0        10.0   \n",
       "2227                     15               500             20.0        10.0   \n",
       "\n",
       "      usd_per_message  usd_per_minute  \n",
       "1404             0.03            0.03  \n",
       "2092             0.03            0.03  \n",
       "2227             0.03            0.03  "
      ]
     },
     "execution_count": 50,
     "metadata": {},
     "output_type": "execute_result"
    }
   ],
   "source": [
    "consumo_user_month.sample(3)"
   ]
  },
  {
   "cell_type": "code",
   "execution_count": 51,
   "metadata": {},
   "outputs": [
    {
     "data": {
      "text/html": [
       "<div>\n",
       "<style scoped>\n",
       "    .dataframe tbody tr th:only-of-type {\n",
       "        vertical-align: middle;\n",
       "    }\n",
       "\n",
       "    .dataframe tbody tr th {\n",
       "        vertical-align: top;\n",
       "    }\n",
       "\n",
       "    .dataframe thead th {\n",
       "        text-align: right;\n",
       "    }\n",
       "</style>\n",
       "<table border=\"1\" class=\"dataframe\">\n",
       "  <thead>\n",
       "    <tr style=\"text-align: right;\">\n",
       "      <th></th>\n",
       "      <th>month</th>\n",
       "      <th>plan</th>\n",
       "      <th>city</th>\n",
       "      <th>extra_minutes</th>\n",
       "      <th>extra_messages</th>\n",
       "      <th>extra_gb</th>\n",
       "      <th>extra_minutes_cost</th>\n",
       "      <th>extra_messages_cost</th>\n",
       "      <th>extra_gb_cost</th>\n",
       "      <th>total_cost_usd</th>\n",
       "    </tr>\n",
       "  </thead>\n",
       "  <tbody>\n",
       "    <tr>\n",
       "      <th>655</th>\n",
       "      <td>7</td>\n",
       "      <td>ultimate</td>\n",
       "      <td>Fresno, CA MSA</td>\n",
       "      <td>0</td>\n",
       "      <td>0</td>\n",
       "      <td>0</td>\n",
       "      <td>0.0</td>\n",
       "      <td>0.0</td>\n",
       "      <td>0.0</td>\n",
       "      <td>70.0</td>\n",
       "    </tr>\n",
       "    <tr>\n",
       "      <th>380</th>\n",
       "      <td>9</td>\n",
       "      <td>ultimate</td>\n",
       "      <td>Cleveland-Elyria, OH MSA</td>\n",
       "      <td>0</td>\n",
       "      <td>0</td>\n",
       "      <td>0</td>\n",
       "      <td>0.0</td>\n",
       "      <td>0.0</td>\n",
       "      <td>0.0</td>\n",
       "      <td>70.0</td>\n",
       "    </tr>\n",
       "    <tr>\n",
       "      <th>365</th>\n",
       "      <td>7</td>\n",
       "      <td>ultimate</td>\n",
       "      <td>Los Angeles-Long Beach-Anaheim, CA MSA</td>\n",
       "      <td>0</td>\n",
       "      <td>0</td>\n",
       "      <td>0</td>\n",
       "      <td>0.0</td>\n",
       "      <td>0.0</td>\n",
       "      <td>0.0</td>\n",
       "      <td>70.0</td>\n",
       "    </tr>\n",
       "  </tbody>\n",
       "</table>\n",
       "</div>"
      ],
      "text/plain": [
       "     month      plan                                    city  extra_minutes  \\\n",
       "655      7  ultimate                          Fresno, CA MSA              0   \n",
       "380      9  ultimate                Cleveland-Elyria, OH MSA              0   \n",
       "365      7  ultimate  Los Angeles-Long Beach-Anaheim, CA MSA              0   \n",
       "\n",
       "     extra_messages  extra_gb  extra_minutes_cost  extra_messages_cost  \\\n",
       "655               0         0                 0.0                  0.0   \n",
       "380               0         0                 0.0                  0.0   \n",
       "365               0         0                 0.0                  0.0   \n",
       "\n",
       "     extra_gb_cost  total_cost_usd  \n",
       "655            0.0            70.0  \n",
       "380            0.0            70.0  \n",
       "365            0.0            70.0  "
      ]
     },
     "execution_count": 51,
     "metadata": {},
     "output_type": "execute_result"
    }
   ],
   "source": [
    "extra_consum_month.sample(3)"
   ]
  },
  {
   "cell_type": "markdown",
   "metadata": {
    "id": "-jtyHzJb0q1I"
   },
   "source": [
    "## Estudia el comportamiento de usuario"
   ]
  },
  {
   "cell_type": "markdown",
   "metadata": {
    "id": "vtW4CJEe0q1J"
   },
   "source": [
    "### Llamadas"
   ]
  },
  {
   "cell_type": "code",
   "execution_count": 52,
   "metadata": {},
   "outputs": [],
   "source": [
    "# Compara la duración promedio de llamadas por cada plan y por cada mes. Traza un gráfico de barras para visualizarla.\n",
    "avg_call_duration_by_plan_month = consumo_user_month.pivot_table(index='month', columns='plan',  values='minutes', aggfunc='mean')"
   ]
  },
  {
   "cell_type": "code",
   "execution_count": 53,
   "metadata": {
    "id": "Jf5v5--k0q1J"
   },
   "outputs": [
    {
     "data": {
      "image/png": "[encoded data removed]",
      "text/plain": [
       "<Figure size 640x480 with 1 Axes>"
      ]
     },
     "metadata": {},
     "output_type": "display_data"
    }
   ],
   "source": [
    "# Lista de nombres de meses\n",
    "month_names = ['Enero', 'Febrero', 'Marzo', 'Abril', 'Mayo', 'Junio', \n",
    "               'Julio', 'Agosto', 'Septiembre', 'Octubre', 'Noviembre', 'Diciembre']\n",
    "avg_call_duration_by_plan_month.plot( ylabel= 'Duracion promedio (minutos)',\n",
    "                                     xlabel = 'Mes',\n",
    "                                     kind= 'bar',title= 'Comparacion de la Duración Promedio de Llamadas por Plan y Mes')\n",
    "# Cambiar etiquetas de x por los nombres de los meses\n",
    "plt.xticks(ticks=range(len(month_names)), labels=month_names)\n",
    "plt.legend(['Surf', 'Ultimate'],title='Plan', fontsize=10)\n",
    "# Gridlines\n",
    "plt.grid(axis='y', linestyle='--', alpha=0.7)\n",
    "plt.tight_layout()\n",
    "plt.show()"
   ]
  },
  {
   "cell_type": "code",
   "execution_count": 54,
   "metadata": {
    "id": "QoLqW1S_0q1J"
   },
   "outputs": [
    {
     "data": {
      "image/png": "[encoded data removed]",
      "text/plain": [
       "<Figure size 800x400 with 1 Axes>"
      ]
     },
     "metadata": {},
     "output_type": "display_data"
    }
   ],
   "source": [
    "# Compara el número de minutos mensuales que necesitan los usuarios de cada plan. Traza un histograma.\n",
    "# calcular la cantidad adecuada de bins a utilizar\n",
    "n_bins = int(np.ceil(np.log2(len(avg_call_duration_by_plan_month)) + 1))\n",
    "plt.figure(figsize=(8, 4))\n",
    "avg_call_duration_by_plan_month['ultimate'].plot(kind='hist', bins=n_bins, alpha=0.5, color='blue', label='Ultimate')\n",
    "avg_call_duration_by_plan_month['surf'].plot(kind='hist', bins=n_bins, alpha=0.5, color='red', label='Surf')\n",
    "\n",
    "plt.grid(axis='y', linestyle='--', alpha=0.7)\n",
    "plt.tight_layout()\n",
    "plt.legend(title='Plan', fontsize=10)\n",
    "plt.title('Histograma de la Duración Promedio de Llamadas por Plan y Mes')\n",
    "plt.ylabel('Frecuencia')\n",
    "plt.xlabel('Minutos')\n",
    "plt.show()"
   ]
  },
  {
   "cell_type": "code",
   "execution_count": 55,
   "metadata": {
    "id": "oSndbAnt0q1K"
   },
   "outputs": [
    {
     "data": {
      "text/html": [
       "<div>\n",
       "<style scoped>\n",
       "    .dataframe tbody tr th:only-of-type {\n",
       "        vertical-align: middle;\n",
       "    }\n",
       "\n",
       "    .dataframe tbody tr th {\n",
       "        vertical-align: top;\n",
       "    }\n",
       "\n",
       "    .dataframe thead th {\n",
       "        text-align: right;\n",
       "    }\n",
       "</style>\n",
       "<table border=\"1\" class=\"dataframe\">\n",
       "  <thead>\n",
       "    <tr style=\"text-align: right;\">\n",
       "      <th></th>\n",
       "      <th>surf</th>\n",
       "      <th>ultimate</th>\n",
       "    </tr>\n",
       "  </thead>\n",
       "  <tbody>\n",
       "    <tr>\n",
       "      <th>media</th>\n",
       "      <td>384.469691</td>\n",
       "      <td>387.999742</td>\n",
       "    </tr>\n",
       "    <tr>\n",
       "      <th>varianza</th>\n",
       "      <td>5369.551952</td>\n",
       "      <td>5472.540904</td>\n",
       "    </tr>\n",
       "  </tbody>\n",
       "</table>\n",
       "</div>"
      ],
      "text/plain": [
       "                 surf     ultimate\n",
       "media      384.469691   387.999742\n",
       "varianza  5369.551952  5472.540904"
      ]
     },
     "execution_count": 55,
     "metadata": {},
     "output_type": "execute_result"
    }
   ],
   "source": [
    "# Calcula la media y la varianza de la duración mensual de llamadas.\n",
    "var_media_calls = pd.DataFrame(index=['media', 'varianza'])\n",
    "var_media_calls['surf'] = [avg_call_duration_by_plan_month['surf'].mean(), np.var(avg_call_duration_by_plan_month['surf'])]\n",
    "var_media_calls['ultimate'] = [avg_call_duration_by_plan_month['ultimate'].mean(), \n",
    "                               np.var(avg_call_duration_by_plan_month['ultimate'])]\n",
    "var_media_calls.head()"
   ]
  },
  {
   "cell_type": "code",
   "execution_count": 56,
   "metadata": {
    "id": "nZzoRUKc0q1K"
   },
   "outputs": [
    {
     "data": {
      "image/png": "[encoded data removed]",
      "text/plain": [
       "<Figure size 640x480 with 1 Axes>"
      ]
     },
     "metadata": {},
     "output_type": "display_data"
    }
   ],
   "source": [
    "# Traza un diagrama de caja para visualizar la distribución de la duración mensual de llamadas\n",
    "month_duration_calls = consumo_user_month.groupby(['plan','month'])['minutes'].mean().reset_index(name='duration')\n",
    "\n",
    "# Graficar usando seaborn\n",
    "sns.boxplot(y='plan', x='duration', data=month_duration_calls)\n",
    "#plt.yticks('Surf','Ultimate')\n",
    "plt.xlabel('Duración (minutos)')\n",
    "plt.ylabel('Plan')\n",
    "plt.title('Distribución de la Duración Mensual de Llamadas por Plan')\n",
    "plt.show()\n",
    "#print(avg_call_duration_by_plan_month.head())\n",
    "#print('=========================================')\n",
    "#print(month_duration_calls.head()) "
   ]
  },
  {
   "cell_type": "markdown",
   "metadata": {
    "id": "r627zBO50q1K"
   },
   "source": [
    "- El comportamiento del consumo de minutos es similar en ambos planes, aunque no idéntico. Ambos planes tienen una mayor frecuencia de uso en el rango de 400 a 450 minutos. Sin embargo, el plan `Ultimate` tiene una mayor concentración de usuarios en este rango, lo que sugiere que los usuarios de este plan tienden a usar más minutos.\n",
    "- Los usuarios del plan `Surf` están mayormente distribuidos en los rangos de 200 a 350, mientras que los usuarios de `Ultimate` tienden a estar concentrados en los rangos más altos.\n",
    "- Aunque es más frecuente que los usuarios de `Ultimate` esten entre los 400 y 450 minutos existen clientes del plan `Surf` que utilizan al rededor de 450 y 470 minutos al mes\n",
    "- Ninguno de los planes supera los 500 minutos en llamada mensualmente. Seria recomendable bajar la cantidad de minutos incluido en ambos planes.\n",
    "- En enero ambos planes parten con un promedio de minutos mas bajo para el plan `Surf` este es ligeramente mas alto que el de `Ultimate`. `Ultimate` tiene un gran alza en febrereo pero vuelve a bajar drasticamente en marzo, desde ahi aumenta gradualmente en abril y mayo, baja otra vez en junio y sube en julio, los meses siguientes sube y baja alternadamente pero se mantiene pos sobre los 400 minutos.\n",
    "- `Surf` por otro lado tubo un gran aumento de la duracion de llamadas de enero a febrero y desde ahí aumentó ligeramente cada mes hasta Julio, de Julio a agosto se redujo la duracion promedio de llamadas pero aun asi no decendio de los 400 minutos, aumentó nuevamente en septiembre y octubre, bajó en noviembre y aumentó a casi 500 en diciembre"
   ]
  },
  {
   "cell_type": "markdown",
   "metadata": {
    "id": "8idKy8Wh0q1L"
   },
   "source": [
    "### Mensajes"
   ]
  },
  {
   "cell_type": "code",
   "execution_count": 57,
   "metadata": {
    "id": "NXLxiTit0q1L"
   },
   "outputs": [],
   "source": [
    "# Comprara el número de mensajes que tienden a enviar cada mes los usuarios de cada plan \n",
    "avg_monthly_messages_per_plan = consumo_user_month.pivot_table(index='month', \n",
    "                                                               columns='plan', values='count_sms', aggfunc='mean')"
   ]
  },
  {
   "cell_type": "code",
   "execution_count": 58,
   "metadata": {},
   "outputs": [
    {
     "data": {
      "image/png": "[encoded data removed]",
      "text/plain": [
       "<Figure size 640x480 with 1 Axes>"
      ]
     },
     "metadata": {},
     "output_type": "display_data"
    }
   ],
   "source": [
    "# Traza un gráfico de barras para visualizar la diferencia.\n",
    "avg_monthly_messages_per_plan.plot(kind='bar', ylabel= 'Cantidad promedio de Mensajes',\n",
    "                                     xlabel = 'Mes',\n",
    "                                     title= 'Comparacion de cantidad de mensajes \"Ultimate\" vs \"Surf\"')\n",
    "# Cambiar etiquetas de x por los nombres de los meses\n",
    "plt.xticks(ticks=range(len(month_names)), labels=month_names)\n",
    "plt.legend(['Surf', 'Ultimate'], title='Plan', fontsize=10)\n",
    "# Gridlines\n",
    "plt.grid(axis='y', linestyle='--', alpha=0.7)\n",
    "plt.tight_layout()\n",
    "plt.show()"
   ]
  },
  {
   "cell_type": "code",
   "execution_count": 59,
   "metadata": {},
   "outputs": [
    {
     "data": {
      "image/png": "[encoded data removed]",
      "text/plain": [
       "<Figure size 800x400 with 1 Axes>"
      ]
     },
     "metadata": {},
     "output_type": "display_data"
    }
   ],
   "source": [
    "# Compara la cantidad de mensajes mensuales que necesitan los usuarios de cada plan. Traza un histograma.\n",
    "# calcular la cantidad adecuada de bins a utilizar\n",
    "n_bins = int(np.ceil(np.log2(len(avg_monthly_messages_per_plan)) + 1))\n",
    "plt.figure(figsize=(8, 4))\n",
    "avg_monthly_messages_per_plan['ultimate'].plot(kind='hist', bins=n_bins, alpha=0.5, color='blue', label='Ultimate')\n",
    "avg_monthly_messages_per_plan['surf'].plot(kind='hist', bins=n_bins, alpha=0.5, color='red', label='Surf')\n",
    "\n",
    "plt.grid(axis='y', linestyle='--', alpha=0.7)\n",
    "plt.tight_layout()\n",
    "plt.legend(title='Plan', fontsize=10)\n",
    "plt.title('Cantidad de mensajes por mes \"Ultimate\" vs \"Surf\"')\n",
    "plt.ylabel('Frecuencia')\n",
    "plt.xlabel('Mensajes')\n",
    "plt.show()"
   ]
  },
  {
   "cell_type": "code",
   "execution_count": 60,
   "metadata": {},
   "outputs": [
    {
     "data": {
      "text/html": [
       "<div>\n",
       "<style scoped>\n",
       "    .dataframe tbody tr th:only-of-type {\n",
       "        vertical-align: middle;\n",
       "    }\n",
       "\n",
       "    .dataframe tbody tr th {\n",
       "        vertical-align: top;\n",
       "    }\n",
       "\n",
       "    .dataframe thead th {\n",
       "        text-align: right;\n",
       "    }\n",
       "</style>\n",
       "<table border=\"1\" class=\"dataframe\">\n",
       "  <thead>\n",
       "    <tr style=\"text-align: right;\">\n",
       "      <th></th>\n",
       "      <th>surf</th>\n",
       "      <th>ultimate</th>\n",
       "    </tr>\n",
       "  </thead>\n",
       "  <tbody>\n",
       "    <tr>\n",
       "      <th>media</th>\n",
       "      <td>24.656000</td>\n",
       "      <td>31.089497</td>\n",
       "    </tr>\n",
       "    <tr>\n",
       "      <th>varianza</th>\n",
       "      <td>75.064776</td>\n",
       "      <td>80.074466</td>\n",
       "    </tr>\n",
       "  </tbody>\n",
       "</table>\n",
       "</div>"
      ],
      "text/plain": [
       "               surf   ultimate\n",
       "media     24.656000  31.089497\n",
       "varianza  75.064776  80.074466"
      ]
     },
     "execution_count": 60,
     "metadata": {},
     "output_type": "execute_result"
    }
   ],
   "source": [
    "# Calcula la media y la varianza de la cantidad mensual de  mensajes.\n",
    "var_media_sms = pd.DataFrame(index=['media', 'varianza'])\n",
    "var_media_sms['surf'] = [avg_monthly_messages_per_plan['surf'].mean(), np.var(avg_monthly_messages_per_plan['surf'])]\n",
    "var_media_sms['ultimate'] = [avg_monthly_messages_per_plan['ultimate'].mean(), \n",
    "                             np.var(avg_monthly_messages_per_plan['ultimate'])]\n",
    "var_media_sms.head()"
   ]
  },
  {
   "cell_type": "code",
   "execution_count": 61,
   "metadata": {},
   "outputs": [
    {
     "data": {
      "image/png": "[encoded data removed]",
      "text/plain": [
       "<Figure size 640x480 with 1 Axes>"
      ]
     },
     "metadata": {},
     "output_type": "display_data"
    }
   ],
   "source": [
    "# Traza un diagrama de caja para visualizar la distribución de la cantidad mensual de mensajes\n",
    "month_sms = consumo_user_month.groupby(['plan','month'])['count_sms'].mean().reset_index(name='cant_sms')\n",
    "\n",
    "# Graficar usando seaborn\n",
    "sns.boxplot(y='plan', x='cant_sms', data= month_sms)\n",
    "plt.xlabel('Cantdad de Mensajes')\n",
    "plt.ylabel('Plan')\n",
    "plt.title('Distribución Mensual de Mensajes por Plan: \"Surf\" vs \"Ultimate\"')\n",
    "plt.show()"
   ]
  },
  {
   "cell_type": "markdown",
   "metadata": {
    "id": "390SSL480q1M"
   },
   "source": [
    "- Los usuarios del plan `Ultimate` tienden a enviar más mensajes que los del plan 'Surf', aunque su consumo no se aproxima al límite desproporcional de 1000 mensajes incluidos en el plan. El rango de uso para este plan varía aproximadamente entre 16 y 45 mensajes mensuales.\"\n",
    "- Los usuarios del plan `Surf` no utilizan más de 40 mensajes al mes.\n",
    "- Sería conveniente reducir la cantidad de mensajes incluidos en ambos planes, ya que ningún usuario necesita más de 50 mensajes mensuales según los datos\n",
    "- Podría considerarse la creación de un nuevo plan para los usuarios que envían entre 10 y 15 mensajes, ya que representan una proporción considerable de los usuarios del plan 'Surf'\n",
    "- El plan `Surf` mantiene un alza constante desde enero a octubre, el mes de noviembre tuvo una ligera baja y vuelve a subir la cantidad de mensajes en diciembre.\n",
    "- El comportamiento de los usuarios de `Ultimate` es más variado al lo largo del año, en enero hay menor actividad, reapunta en febrero, pero vuelve a bajar ligeramente en marzo, y sube nuevamente en abril y mayo, y asi se mantiene subiendo y bajando hasta diciembre, donde aumenta significativamente el promedio de mensajes. La baja de consumo durante el año fueron menores a las alzas."
   ]
  },
  {
   "cell_type": "markdown",
   "metadata": {
    "id": "42YSypXz0q1M"
   },
   "source": [
    "### Internet"
   ]
  },
  {
   "cell_type": "code",
   "execution_count": 62,
   "metadata": {
    "id": "GRI_R7xF0q1L"
   },
   "outputs": [],
   "source": [
    "# Compara la cantidad de tráfico de Internet consumido por usuarios por plan\n",
    "avg_monthly_data_per_plan = consumo_user_month.pivot_table(index='month', columns='plan', values='gb_used', aggfunc='mean')\n",
    "#avg_monthly_data_per_plan"
   ]
  },
  {
   "cell_type": "code",
   "execution_count": 63,
   "metadata": {
    "id": "dtFwCGAp0q1M",
    "scrolled": true
   },
   "outputs": [
    {
     "data": {
      "image/png": "[encoded data removed]",
      "text/plain": [
       "<Figure size 640x480 with 1 Axes>"
      ]
     },
     "metadata": {},
     "output_type": "display_data"
    }
   ],
   "source": [
    "# Traza un gráfico de barras para visualizar la diferencia.\n",
    "avg_monthly_data_per_plan.plot(kind='bar', ylabel= 'Promedio de GB utilizados',\n",
    "                                     xlabel = 'Mes',\n",
    "                                     title= 'Comparacion de uso de GB mensuales entre Planes')\n",
    "# Cambiar etiquetas de x por los nombres de los meses\n",
    "plt.xticks(ticks=range(len(month_names)), labels=month_names)\n",
    "plt.legend(['Surf', 'Ultimate'], title='Plan', fontsize=10)\n",
    "# Gridlines\n",
    "plt.grid(axis='y', linestyle='--', alpha=0.7)\n",
    "plt.tight_layout()\n",
    "plt.show()"
   ]
  },
  {
   "cell_type": "code",
   "execution_count": 64,
   "metadata": {},
   "outputs": [
    {
     "data": {
      "image/png": "[encoded data removed]",
      "text/plain": [
       "<Figure size 800x400 with 1 Axes>"
      ]
     },
     "metadata": {},
     "output_type": "display_data"
    }
   ],
   "source": [
    "# Compara el número de GB mensuales que necesitan los usuarios de cada plan. Traza un histograma.\n",
    "# calcular la cantidad adecuada de bins a utilizar\n",
    "n_bins = int(np.ceil(np.log2(len(avg_monthly_data_per_plan)) + 1))\n",
    "plt.figure(figsize=(8, 4))\n",
    "avg_monthly_data_per_plan['ultimate'].plot(kind='hist', bins=n_bins, alpha=0.5, color='blue', label='Ultimate')\n",
    "avg_monthly_data_per_plan['surf'].plot(kind='hist', bins=n_bins, alpha=0.5, color='red', label='Surf')\n",
    "\n",
    "plt.grid(axis='y', linestyle='--', alpha=0.7)\n",
    "plt.tight_layout()\n",
    "plt.legend(title='Plan', fontsize=10)\n",
    "plt.title('Distribucion de uso de GB Mensuales por Plan')\n",
    "plt.ylabel('Frecuencia')\n",
    "plt.xlabel('Giga Bytes')\n",
    "plt.show()"
   ]
  },
  {
   "cell_type": "code",
   "execution_count": 65,
   "metadata": {
    "id": "lSuKPtjh0q1M"
   },
   "outputs": [
    {
     "data": {
      "text/html": [
       "<div>\n",
       "<style scoped>\n",
       "    .dataframe tbody tr th:only-of-type {\n",
       "        vertical-align: middle;\n",
       "    }\n",
       "\n",
       "    .dataframe tbody tr th {\n",
       "        vertical-align: top;\n",
       "    }\n",
       "\n",
       "    .dataframe thead th {\n",
       "        text-align: right;\n",
       "    }\n",
       "</style>\n",
       "<table border=\"1\" class=\"dataframe\">\n",
       "  <thead>\n",
       "    <tr style=\"text-align: right;\">\n",
       "      <th></th>\n",
       "      <th>surf</th>\n",
       "      <th>ultimate</th>\n",
       "    </tr>\n",
       "  </thead>\n",
       "  <tbody>\n",
       "    <tr>\n",
       "      <th>media</th>\n",
       "      <td>14.594808</td>\n",
       "      <td>16.346165</td>\n",
       "    </tr>\n",
       "    <tr>\n",
       "      <th>varianza</th>\n",
       "      <td>12.067831</td>\n",
       "      <td>8.201410</td>\n",
       "    </tr>\n",
       "  </tbody>\n",
       "</table>\n",
       "</div>"
      ],
      "text/plain": [
       "               surf   ultimate\n",
       "media     14.594808  16.346165\n",
       "varianza  12.067831   8.201410"
      ]
     },
     "execution_count": 65,
     "metadata": {},
     "output_type": "execute_result"
    }
   ],
   "source": [
    "# Calcula la media y la varianza de la cantidad mensual de GB utilizados.\n",
    "var_media_gb = pd.DataFrame(index=['media', 'varianza'])\n",
    "var_media_gb['surf'] = [avg_monthly_data_per_plan['surf'].mean(), np.var(avg_monthly_data_per_plan['surf'])]\n",
    "var_media_gb['ultimate'] = [avg_monthly_data_per_plan['ultimate'].mean(), np.var(avg_monthly_data_per_plan['ultimate'])]\n",
    "var_media_gb"
   ]
  },
  {
   "cell_type": "code",
   "execution_count": 66,
   "metadata": {
    "id": "wnh8jYXi0q1N"
   },
   "outputs": [
    {
     "data": {
      "image/png": "[encoded data removed]",
      "text/plain": [
       "<Figure size 640x480 with 1 Axes>"
      ]
     },
     "metadata": {},
     "output_type": "display_data"
    }
   ],
   "source": [
    "# Traza un diagrama de caja para visualizar la distribución de la duración mensual de mensajes\n",
    "month_gb = consumo_user_month.groupby(['plan','month'])['gb_used'].mean().reset_index(name='avg_gb')\n",
    "\n",
    "# Graficar usando seaborn\n",
    "sns.boxplot(y='plan', x='avg_gb', data=month_gb)\n",
    "plt.xlabel('Giga Bytes utilizados')\n",
    "plt.ylabel('Plan')\n",
    "plt.title('Distribucion Mensual de Consumo de GB por Plan')\n",
    "plt.show()"
   ]
  },
  {
   "cell_type": "markdown",
   "metadata": {
    "id": "UN9zwuMP0q1N"
   },
   "source": [
    "- El uso de Internet en por los usuarios de \"Ultimate\" se mantiene constante a lo largo de los meses en el rango de 16 a 18 GB\n",
    "- Los usuarios del plan Ultimate generalmente tienen un uso de datos más alto que los usuarios de Surf durante la mayoría de los meses.\n",
    "- Hay un pico notable en el uso de GB en agosto para el plan Ultimate, que supera ligeramente al uso en otros meses.\n",
    "- En enero, el uso de datos en el plan Surf es significativamente menor en comparación con los otros meses y con el plan Ultimate.\n",
    "- A partir de febrero, el uso de datos de Surf aumenta y se mantiene relativamente constante, aunque siempre por debajo de Ultimate.\n",
    "- Para el plan Ultimate, se observa un uso más constante a lo largo del año, con pequeñas variaciones.\n",
    "- Ambos planes muestran un aumento en el uso de datos en los meses de verano, siendo agosto el mes con el mayor consumo para Ultimate.\n",
    "- Se obserba en el historiograma que al igual que con los minutos y los mensajes hay un grupo de usuarios que tiene un consumo de datos mucho más bajo de lo esperado entre 5 y 9 GB\n",
    "\n",
    "- Los usuarios de Surf utilizan habitualmente entre 12 y 18 GB, mientras que el rango de consumo de los usuarios de ultimate esta concentrado mayormente entre los 16 y 18 GB mensuales."
   ]
  },
  {
   "cell_type": "markdown",
   "metadata": {
    "id": "tCijq3260q1N"
   },
   "source": [
    "## Ingreso"
   ]
  },
  {
   "cell_type": "code",
   "execution_count": 67,
   "metadata": {
    "id": "tz-dq_V00q1O"
   },
   "outputs": [],
   "source": [
    "# Compara los ingresos generados por usuarios por plan. Traza un gráfico de barras para visualizarla.\n",
    "avg_income_by_plan_month = extra_consum_month.pivot_table(index='month', columns='plan', \n",
    "                                                          values='total_cost_usd', aggfunc='mean')"
   ]
  },
  {
   "cell_type": "code",
   "execution_count": 68,
   "metadata": {
    "id": "0Y1v8ZUz0q1P"
   },
   "outputs": [
    {
     "data": {
      "image/png": "[encoded data removed]",
      "text/plain": [
       "<Figure size 640x480 with 1 Axes>"
      ]
     },
     "metadata": {},
     "output_type": "display_data"
    }
   ],
   "source": [
    "avg_income_by_plan_month.plot(ylabel= 'Ingreso en USD',\n",
    "                                     xlabel = 'Mes',\n",
    "                                     kind= 'bar',\n",
    "                                     title= 'Comparacion de promedio de ingresos por Plan y Mes')\n",
    "# Cambiar etiquetas de x por los nombres de los meses\n",
    "plt.xticks(ticks=range(len(month_names)), labels=month_names)\n",
    "plt.legend(['Surf', 'Ultimate'],title='Plan', fontsize=12, )\n",
    "# Gridlines\n",
    "plt.grid(axis='y', linestyle='--', alpha=0.7)\n",
    "plt.tight_layout()\n",
    "plt.show()"
   ]
  },
  {
   "cell_type": "code",
   "execution_count": 69,
   "metadata": {},
   "outputs": [
    {
     "data": {
      "image/png": "[encoded data removed]",
      "text/plain": [
       "<Figure size 800x400 with 1 Axes>"
      ]
     },
     "metadata": {},
     "output_type": "display_data"
    }
   ],
   "source": [
    "# Compara los ingresos mensuales promedio por usuario de cada plan. Traza un histograma.\n",
    "# calcular la cantidad adecuada de bins a utilizar\n",
    "n_bins = int(np.ceil(np.log2(len(avg_income_by_plan_month)) + 1))\n",
    "plt.figure(figsize=(8, 4))\n",
    "avg_income_by_plan_month['ultimate'].plot(kind='hist', bins=n_bins, alpha=0.5, color='blue', label='Ultimate')\n",
    "avg_income_by_plan_month['surf'].plot(kind='hist', bins=n_bins, alpha=0.5, color='red', label='Surf')\n",
    "\n",
    "plt.grid(axis='y', linestyle='--', alpha=0.7)\n",
    "plt.tight_layout()\n",
    "plt.legend(title='Plan', fontsize=12)\n",
    "plt.title('Ingreso Promedio Mensual por Usuario en USD \"Ultimate\" vs \"Surf\"')\n",
    "plt.ylabel('Frecuencia')\n",
    "plt.xlabel('Monto (USD)')\n",
    "plt.show()\n"
   ]
  },
  {
   "cell_type": "code",
   "execution_count": 70,
   "metadata": {},
   "outputs": [
    {
     "data": {
      "text/html": [
       "<div>\n",
       "<style scoped>\n",
       "    .dataframe tbody tr th:only-of-type {\n",
       "        vertical-align: middle;\n",
       "    }\n",
       "\n",
       "    .dataframe tbody tr th {\n",
       "        vertical-align: top;\n",
       "    }\n",
       "\n",
       "    .dataframe thead th {\n",
       "        text-align: right;\n",
       "    }\n",
       "</style>\n",
       "<table border=\"1\" class=\"dataframe\">\n",
       "  <thead>\n",
       "    <tr style=\"text-align: right;\">\n",
       "      <th></th>\n",
       "      <th>surf</th>\n",
       "      <th>ultimate</th>\n",
       "    </tr>\n",
       "  </thead>\n",
       "  <tbody>\n",
       "    <tr>\n",
       "      <th>media</th>\n",
       "      <td>50.052760</td>\n",
       "      <td>72.283602</td>\n",
       "    </tr>\n",
       "    <tr>\n",
       "      <th>varianza</th>\n",
       "      <td>236.903215</td>\n",
       "      <td>3.875544</td>\n",
       "    </tr>\n",
       "  </tbody>\n",
       "</table>\n",
       "</div>"
      ],
      "text/plain": [
       "                surf   ultimate\n",
       "media      50.052760  72.283602\n",
       "varianza  236.903215   3.875544"
      ]
     },
     "execution_count": 70,
     "metadata": {},
     "output_type": "execute_result"
    }
   ],
   "source": [
    "# Calcula la media y la varianza del ingreso promedio mensual por usuario.\n",
    "var_media_usd = pd.DataFrame(index=['media', 'varianza'])\n",
    "var_media_usd['surf'] = [avg_income_by_plan_month['surf'].mean(), np.var(avg_income_by_plan_month['surf'])]\n",
    "var_media_usd['ultimate'] = [avg_income_by_plan_month['ultimate'].mean(), np.var(avg_income_by_plan_month['ultimate'])]\n",
    "var_media_usd.head()"
   ]
  },
  {
   "cell_type": "code",
   "execution_count": 71,
   "metadata": {},
   "outputs": [
    {
     "data": {
      "image/png": "[encoded data removed]",
      "text/plain": [
       "<Figure size 640x480 with 1 Axes>"
      ]
     },
     "metadata": {},
     "output_type": "display_data"
    }
   ],
   "source": [
    "# Traza un diagrama de caja para visualizar la distribución del mensual de ingresos por cliente\n",
    "month_usd_plan = extra_consum_month.groupby(['plan','month'])['total_cost_usd'].mean().reset_index(name='avg_usd')\n",
    "\n",
    "# Graficar usando seaborn\n",
    "sns.boxplot(y='plan', x='avg_usd', data=month_usd_plan)\n",
    "plt.xlabel('Monto (USD)')\n",
    "plt.ylabel('Plan')\n",
    "plt.title('Distribucion de Ingresos Mensuales por Usuario \"Ultimate\" vs \"Surf\"')\n",
    "plt.show()"
   ]
  },
  {
   "cell_type": "markdown",
   "metadata": {
    "id": "bYmwxyVh0q1P"
   },
   "source": [
    "- El plan `Ultimate`se mantiene al rededor `$70` los meses de enero y febrero, el mes de marzo casi llega a los `$80`, y baja ligeramente el mes de abril, las fluctuaciones de ingreso no son muy grandes entre cada mes.\n",
    "- Por el contrario el promedio de ingresos del plan `Surf` quizas le deba su nombre a las olas que genera con la fluctuacion de ingesos al lo largo del año. El mes de enero un ingreso promedio de `$20`, en febrero aumenta al rededor de `$15`, en marzo ocurrio un aumento similar, bajó un par de dolares en abril y desde mayo a agosto hubo un alsa constante de ingresos, los siguentes 3 meses los ingresos promedio suben y bajan aproximadamente `$5`, por ulmimo el mes de diciembre tiene un alza de mas de `$10` lo con lo que alcanza los `$70` casi igualando los ingresos de `Ultimate` de ese mes.\n",
    "- Surf tiene una distribución más amplia, con ingresos que van desde aproximadamente `$20` hasta casi `$70` .\n",
    "- Ultimate tiene una distribución más concentrada alrededor de los $70 USD, lo que indica que la mayoría de los usuarios están generando ingresos en este rango. \n",
    "- La frecuencia de ingresos en Surf está más dispersa, con picos notables en los intervalos de 40-50 USD y 50-60 USD.\n",
    "- Ultimate muestra un pico en el intervalo de ingresos más alto, indicando que la mayoría de sus usuarios generan ingresos cercanos a los `$70` .\n"
   ]
  },
  {
   "cell_type": "markdown",
   "metadata": {
    "id": "ajJ7VKeI0q1Q"
   },
   "source": [
    "## Prueba las hipótesis estadísticas"
   ]
  },
  {
   "cell_type": "markdown",
   "metadata": {
    "id": "IQwa_hsh0q1Q"
   },
   "source": [
    "- H0 (Hipótesis Nula):  No hay diferencia en los ingresos promedio entre los usuarios de los planes Ultimate y Surf.\n",
    "- H1 (Hipótesis Alternativa): Hay una diferencia en los ingresos promedio entre los usuarios de los planes Ultimate y Surf.\n",
    "- Umbral de significacion: 5%"
   ]
  },
  {
   "cell_type": "code",
   "execution_count": 72,
   "metadata": {
    "id": "nFoPNlPq0q1R"
   },
   "outputs": [
    {
     "name": "stdout",
     "output_type": "stream",
     "text": [
      "Estadístico t: Ttest_indResult(statistic=-4.751636114631202, pvalue=0.0005473491793640881)\n",
      "Rechazamos la hipótesis nula. Hay una diferencia significativa en los ingresos promedio de los planes.\n"
     ]
    }
   ],
   "source": [
    "# Prueba las hipótesis\n",
    "avg_income_surf = avg_income_by_plan_month['surf']\n",
    "avg_income_ultimate = avg_income_by_plan_month['ultimate']\n",
    "\n",
    "alpha = 0.05\n",
    "results = st.ttest_ind(avg_income_surf, avg_income_ultimate, equal_var=False) \n",
    "print('Estadístico t:',results)\n",
    "\n",
    "if (results.pvalue < alpha):\n",
    "    print(\"Rechazamos la hipótesis nula. Hay una diferencia significativa en los ingresos promedio de los planes.\")\n",
    "else:\n",
    "    print(\"No rechazamos la hipótesis nula. No hay una diferencia significativa entre los ingresos promedio de los planes.\")"
   ]
  },
  {
   "cell_type": "markdown",
   "metadata": {
    "id": "LsBgitqj0q1R"
   },
   "source": [
    "- H0 (Hipótesis Nula): El ingreso promedio de los usuarios del área NY-NJ es igual al de los usuarios de otras regiones.\n",
    "- H1 (Hipótesis Alternativa): El ingreso promedio de los usuarios del área NY-NJ es diferente al de los usuarios de otras regiones.\n",
    "- Umbral de significacion: 5%"
   ]
  },
  {
   "cell_type": "code",
   "execution_count": 73,
   "metadata": {
    "id": "Cqcj7wrZ0q1S"
   },
   "outputs": [],
   "source": [
    "# Filtrar datos de interés\n",
    "ny_nj_area = ['New York-Newark-Jersey City, NY-NJ-PA MSA', 'Albany-Schenectady-Troy, NY MSA','Buffalo-Cheektowaga, NY MSA']\n",
    "# Filtrar usuarios del área NY-NJ\n",
    "ny_nj_income  = extra_consum_month[extra_consum_month['city'].isin(ny_nj_area)]\n",
    "# Filtrar usuarios de otras áreas\n",
    "other_income = extra_consum_month[~extra_consum_month['city'].isin(ny_nj_area)]\n",
    "# Obtener el ingreso promedio mensual por plan para NY-NJ\n",
    "ny_nj_income = ny_nj_income.pivot_table(index='month', columns='plan', \n",
    "                                                          values='total_cost_usd', aggfunc='mean')\n",
    "ny_nj_income.fillna(0,inplace=True)\n",
    "# Obtener el ingreso promedio mensual por plan para otras areas \n",
    "other_income = other_income.pivot_table(index='month', columns='plan', \n",
    "                                                      values='total_cost_usd', aggfunc='mean')\n",
    "other_income.fillna(0,inplace=True)"
   ]
  },
  {
   "cell_type": "code",
   "execution_count": 74,
   "metadata": {},
   "outputs": [
    {
     "name": "stdout",
     "output_type": "stream",
     "text": [
      "varianzas NY-NJ: plan\n",
      "surf        163.714304\n",
      "ultimate    838.003596\n",
      "dtype: float64\n",
      "--------------------------------------\n",
      "plan\n",
      "surf        257.697794\n",
      "ultimate      4.126986\n",
      "dtype: float64\n",
      "----------------------------------------\n",
      "Rechazamos la hipótesis nula. Hay una diferencia significativa en los ingresos promedio entre el area de NY-NJ y las otras regiones\n"
     ]
    }
   ],
   "source": [
    "# Prueba las hipótesis\n",
    "print('varianzas NY-NJ:',np.var(ny_nj_income))\n",
    "print('--------------------------------------')\n",
    "print(np.var(other_income))\n",
    "print('----------------------------------------')\n",
    "results_2 = st.ttest_ind(ny_nj_income, other_income, equal_var = False)\n",
    "if results.pvalue < alpha:\n",
    "     print(\"Rechazamos la hipótesis nula. Hay una diferencia significativa en los ingresos promedio entre el area de NY-NJ y las otras regiones\")\n",
    "else:\n",
    "    print(\"No rechazamos la hipótesis nula. No hay suficiente evidencia para afirmar que los ingresos promedio son diferentes.\")"
   ]
  },
  {
   "cell_type": "markdown",
   "metadata": {
    "id": "bbTR8UQO0q1T"
   },
   "source": [
    "## Conclusión general\n",
    "\n",
    "- El plan Ultimate genera más ingresos que el plan Surf, pero no parece ser la opción más óptima para muchos usuarios. En primer lugar, los usuarios de este plan raramente superan los límites de mensajes o minutos establecidos, y solo en pocas ocasiones exceden los límites de datos. Esto sugiere que la cantidad de minutos y mensajes ofrecidos en el plan Ultimate podría ser desproporcionada y poco útil para la mayoría de los usuarios.\n",
    "\n",
    "- Por otro lado, los usuarios del plan Surf muestran una amplia variedad de patrones de consumo, desde aquellos que utilizan menos de la mitad de los datos incluidos en el plan, hasta quienes consumen casi la misma cantidad de datos que los usuarios del plan Ultimate.\n",
    "\n",
    "- Considerando lo anterior, se podría evaluar la creación de un nuevo plan para los usuarios con un consumo de datos más bajo. Adicionalmente, se debería considerar reducir la cantidad de datos ofrecidos en el plan Ultimate, ya que, según los patrones de consumo observados, podría ser más rentable para algunos usuarios optar por el plan Surf y pagar la tarifa adicional por consumo extra.\n",
    "\n",
    "- El consumo de servicios varía a lo largo del año. En febrero, se observó un aumento significativo en el consumo de datos, con fluctuaciones posteriores que muestran una tendencia al alza en el resto del año.\n",
    "\n",
    "- Es crucial revisar los datos antes y después de unir columnas, ya que este proceso puede introducir valores nulos en varias columnas. Es importante manejar estos datos con cuidado al decidir si reemplazar o eliminar estos valores nulos."
   ]
  }
 ],
 "metadata": {
  "ExecuteTimeLog": [
   {
    "duration": 828,
    "start_time": "2021-11-16T09:21:11.304Z"
   },
   {
    "duration": 893,
    "start_time": "2021-11-16T09:21:17.728Z"
   },
   {
    "duration": 1150,
    "start_time": "2021-11-16T09:21:29.568Z"
   },
   {
    "duration": 3,
    "start_time": "2021-11-16T09:24:14.495Z"
   },
   {
    "duration": 120,
    "start_time": "2021-11-16T09:24:46.630Z"
   },
   {
    "duration": 3,
    "start_time": "2021-11-16T09:28:27.882Z"
   },
   {
    "duration": 4,
    "start_time": "2021-11-16T09:29:54.281Z"
   },
   {
    "duration": 3,
    "start_time": "2021-11-16T09:30:45.936Z"
   },
   {
    "duration": 4,
    "start_time": "2021-11-16T09:31:06.300Z"
   },
   {
    "duration": 113,
    "start_time": "2021-11-16T09:31:37.208Z"
   },
   {
    "duration": 143,
    "start_time": "2021-11-16T09:31:48.656Z"
   },
   {
    "duration": 98,
    "start_time": "2021-11-16T09:31:55.678Z"
   },
   {
    "duration": 3,
    "start_time": "2021-11-16T09:32:08.535Z"
   },
   {
    "duration": 111,
    "start_time": "2021-11-16T09:32:10.120Z"
   },
   {
    "duration": 3,
    "start_time": "2021-11-16T09:32:15.732Z"
   },
   {
    "duration": 4,
    "start_time": "2021-11-16T09:32:29.423Z"
   },
   {
    "duration": 3,
    "start_time": "2021-11-16T10:03:03.074Z"
   },
   {
    "duration": 3,
    "start_time": "2021-11-16T10:10:01.288Z"
   },
   {
    "duration": 3,
    "start_time": "2021-11-16T10:10:46.923Z"
   },
   {
    "duration": 121,
    "start_time": "2021-11-16T10:37:46.494Z"
   },
   {
    "duration": 125,
    "start_time": "2021-11-16T10:38:20.632Z"
   },
   {
    "duration": 112,
    "start_time": "2021-11-16T10:46:53.001Z"
   },
   {
    "duration": 110,
    "start_time": "2021-11-16T10:48:25.775Z"
   },
   {
    "duration": 3,
    "start_time": "2021-11-16T10:50:18.720Z"
   },
   {
    "duration": 4,
    "start_time": "2021-11-16T10:50:37.649Z"
   },
   {
    "duration": 2,
    "start_time": "2021-11-16T10:50:51.884Z"
   },
   {
    "duration": 3,
    "start_time": "2021-11-16T10:51:56.237Z"
   },
   {
    "duration": 101,
    "start_time": "2021-11-16T10:53:13.791Z"
   },
   {
    "duration": 3,
    "start_time": "2021-11-16T10:55:59.186Z"
   },
   {
    "duration": 3,
    "start_time": "2021-11-16T10:56:10.751Z"
   },
   {
    "duration": 3,
    "start_time": "2021-11-16T10:56:49.038Z"
   },
   {
    "duration": 3,
    "start_time": "2021-11-16T10:56:49.174Z"
   },
   {
    "duration": 4,
    "start_time": "2021-11-16T10:56:49.414Z"
   },
   {
    "duration": 3,
    "start_time": "2021-11-16T10:56:49.680Z"
   },
   {
    "duration": 3,
    "start_time": "2021-11-16T10:56:50.370Z"
   },
   {
    "duration": 114,
    "start_time": "2021-11-16T10:59:34.518Z"
   },
   {
    "duration": 3,
    "start_time": "2021-11-16T11:01:41.201Z"
   },
   {
    "duration": 116,
    "start_time": "2021-11-16T11:01:48.754Z"
   },
   {
    "duration": 3,
    "start_time": "2021-11-16T11:02:16.685Z"
   },
   {
    "duration": 3,
    "start_time": "2021-11-16T11:02:19.479Z"
   },
   {
    "duration": 3,
    "start_time": "2021-11-16T11:02:47.067Z"
   },
   {
    "duration": 3,
    "start_time": "2021-11-16T11:02:49.353Z"
   },
   {
    "duration": 3,
    "start_time": "2021-11-16T11:03:07.835Z"
   },
   {
    "duration": 3,
    "start_time": "2021-11-16T11:03:07.953Z"
   },
   {
    "duration": 112,
    "start_time": "2021-11-16T11:07:52.072Z"
   },
   {
    "duration": 187,
    "start_time": "2021-11-16T11:09:23.468Z"
   },
   {
    "duration": 4,
    "start_time": "2021-11-16T11:10:01.455Z"
   },
   {
    "duration": 3,
    "start_time": "2021-11-16T11:10:05.069Z"
   },
   {
    "duration": 4,
    "start_time": "2021-11-16T11:10:13.376Z"
   },
   {
    "duration": 3,
    "start_time": "2021-11-16T11:10:14.434Z"
   },
   {
    "duration": 3,
    "start_time": "2021-11-16T11:10:22.853Z"
   },
   {
    "duration": 4,
    "start_time": "2021-11-16T11:27:29.279Z"
   },
   {
    "duration": 4,
    "start_time": "2021-11-16T11:29:08.919Z"
   },
   {
    "duration": 118,
    "start_time": "2021-11-16T11:29:46.703Z"
   },
   {
    "duration": 437,
    "start_time": "2021-11-16T11:36:02.181Z"
   },
   {
    "duration": 157,
    "start_time": "2021-11-16T11:36:14.388Z"
   },
   {
    "duration": 207,
    "start_time": "2021-11-16T11:47:15.898Z"
   },
   {
    "duration": 3,
    "start_time": "2021-11-16T11:53:52.092Z"
   },
   {
    "duration": 3,
    "start_time": "2021-11-16T11:53:52.236Z"
   },
   {
    "duration": 3,
    "start_time": "2021-11-16T11:59:12.005Z"
   },
   {
    "duration": 112,
    "start_time": "2021-11-16T12:00:33.446Z"
   },
   {
    "duration": 3,
    "start_time": "2021-11-16T12:02:14.453Z"
   },
   {
    "duration": 3,
    "start_time": "2021-11-16T12:02:39.512Z"
   },
   {
    "duration": 106,
    "start_time": "2021-11-16T12:03:03.460Z"
   },
   {
    "duration": 3,
    "start_time": "2021-11-17T20:37:21.139Z"
   },
   {
    "duration": 3,
    "start_time": "2021-11-17T20:37:22.229Z"
   },
   {
    "duration": 3,
    "start_time": "2021-11-17T20:38:38.806Z"
   },
   {
    "duration": 3,
    "start_time": "2021-11-17T20:38:41.958Z"
   },
   {
    "duration": 3,
    "start_time": "2021-11-17T20:43:46.551Z"
   },
   {
    "duration": 4,
    "start_time": "2021-11-17T20:58:21.835Z"
   },
   {
    "duration": 3,
    "start_time": "2021-11-17T20:59:21.872Z"
   },
   {
    "duration": 4,
    "start_time": "2021-11-17T20:59:45.352Z"
   },
   {
    "duration": 4,
    "start_time": "2021-11-17T20:59:49.646Z"
   },
   {
    "duration": 159,
    "start_time": "2021-11-17T21:02:26.949Z"
   },
   {
    "duration": 3,
    "start_time": "2021-11-17T21:03:53.461Z"
   },
   {
    "duration": 3,
    "start_time": "2021-11-17T21:03:53.694Z"
   },
   {
    "duration": 3,
    "start_time": "2021-11-17T21:05:28.145Z"
   },
   {
    "duration": 116,
    "start_time": "2021-11-17T21:05:57.787Z"
   },
   {
    "duration": 3,
    "start_time": "2021-11-17T21:06:37.993Z"
   },
   {
    "duration": 3,
    "start_time": "2021-11-17T21:06:38.261Z"
   },
   {
    "duration": 3,
    "start_time": "2021-11-17T21:11:54.358Z"
   },
   {
    "duration": 3,
    "start_time": "2021-11-17T21:12:43.846Z"
   },
   {
    "duration": 4,
    "start_time": "2021-11-17T21:13:08.773Z"
   },
   {
    "duration": 3,
    "start_time": "2021-11-17T21:14:44.441Z"
   },
   {
    "duration": 3,
    "start_time": "2021-11-17T21:15:42.059Z"
   },
   {
    "duration": 4,
    "start_time": "2021-11-17T21:15:51.995Z"
   },
   {
    "duration": 3,
    "start_time": "2021-11-17T21:15:53.923Z"
   },
   {
    "duration": 3,
    "start_time": "2021-11-17T21:15:55.282Z"
   },
   {
    "duration": 3,
    "start_time": "2021-11-17T21:16:28.492Z"
   },
   {
    "duration": 3,
    "start_time": "2021-11-17T21:16:32.603Z"
   },
   {
    "duration": 3,
    "start_time": "2021-11-17T21:17:06.941Z"
   },
   {
    "duration": 98,
    "start_time": "2021-11-17T21:18:05.733Z"
   },
   {
    "duration": 4,
    "start_time": "2021-11-17T21:21:35.255Z"
   },
   {
    "duration": 3,
    "start_time": "2021-11-17T21:21:37.804Z"
   },
   {
    "duration": 4,
    "start_time": "2021-11-17T21:23:06.071Z"
   },
   {
    "duration": 3,
    "start_time": "2021-11-17T21:23:24.799Z"
   },
   {
    "duration": 3,
    "start_time": "2021-11-17T21:23:32.591Z"
   },
   {
    "duration": 98,
    "start_time": "2021-11-17T21:28:31.559Z"
   },
   {
    "duration": 3,
    "start_time": "2021-11-17T21:28:45.448Z"
   },
   {
    "duration": 3,
    "start_time": "2021-11-17T21:29:17.303Z"
   },
   {
    "duration": 3,
    "start_time": "2021-11-17T21:29:29.617Z"
   },
   {
    "duration": 3,
    "start_time": "2021-11-17T21:29:32.681Z"
   },
   {
    "duration": 3,
    "start_time": "2021-11-17T21:36:11.474Z"
   },
   {
    "duration": 3,
    "start_time": "2021-11-17T21:36:14.791Z"
   },
   {
    "duration": 3,
    "start_time": "2021-11-17T21:36:53.943Z"
   },
   {
    "duration": 3,
    "start_time": "2021-11-17T21:36:56.165Z"
   },
   {
    "duration": 4,
    "start_time": "2021-11-17T21:37:16.590Z"
   },
   {
    "duration": 3,
    "start_time": "2021-11-17T21:37:22.702Z"
   },
   {
    "duration": 4,
    "start_time": "2021-11-17T21:38:03.479Z"
   },
   {
    "duration": 3,
    "start_time": "2021-11-17T21:38:08.601Z"
   },
   {
    "duration": 3,
    "start_time": "2021-11-17T21:38:12.928Z"
   },
   {
    "duration": 3,
    "start_time": "2021-11-17T21:38:48.896Z"
   },
   {
    "duration": 2,
    "start_time": "2021-11-17T21:38:49.171Z"
   },
   {
    "duration": 4,
    "start_time": "2021-11-17T21:39:57.889Z"
   },
   {
    "duration": 3,
    "start_time": "2021-11-17T21:39:58.057Z"
   },
   {
    "duration": 3,
    "start_time": "2021-11-17T21:41:20.108Z"
   },
   {
    "duration": 3,
    "start_time": "2021-11-17T21:41:20.629Z"
   },
   {
    "duration": 3,
    "start_time": "2021-11-17T21:42:49.136Z"
   },
   {
    "duration": 3,
    "start_time": "2021-11-17T21:43:15.137Z"
   },
   {
    "duration": 4,
    "start_time": "2021-11-17T21:43:16.766Z"
   },
   {
    "duration": 4,
    "start_time": "2021-11-17T21:43:31.711Z"
   },
   {
    "duration": 3,
    "start_time": "2021-11-17T21:43:36.312Z"
   },
   {
    "duration": 4,
    "start_time": "2021-11-17T21:45:08.825Z"
   },
   {
    "duration": 4,
    "start_time": "2021-11-17T21:45:10.119Z"
   },
   {
    "duration": 4,
    "start_time": "2021-11-17T21:45:13.748Z"
   },
   {
    "duration": 3,
    "start_time": "2021-11-17T21:45:22.219Z"
   },
   {
    "duration": 3,
    "start_time": "2021-11-17T21:45:33.412Z"
   },
   {
    "duration": 2,
    "start_time": "2021-11-17T21:46:01.885Z"
   },
   {
    "duration": 3,
    "start_time": "2021-11-17T21:46:03.628Z"
   },
   {
    "duration": 107,
    "start_time": "2021-11-17T21:47:32.512Z"
   },
   {
    "duration": 103,
    "start_time": "2021-11-17T21:50:36.243Z"
   },
   {
    "duration": 3,
    "start_time": "2021-11-18T06:28:31.440Z"
   },
   {
    "duration": 3,
    "start_time": "2021-11-18T06:29:00.168Z"
   },
   {
    "duration": 3,
    "start_time": "2021-11-18T06:31:27.008Z"
   },
   {
    "duration": 2,
    "start_time": "2021-11-18T06:35:34.288Z"
   },
   {
    "duration": 2,
    "start_time": "2021-11-18T06:38:04.527Z"
   },
   {
    "duration": 5061,
    "start_time": "2024-07-17T15:39:32.594Z"
   },
   {
    "duration": 1166,
    "start_time": "2024-07-17T15:39:41.936Z"
   },
   {
    "duration": 124,
    "start_time": "2024-07-17T15:40:10.970Z"
   },
   {
    "duration": 121,
    "start_time": "2024-07-17T15:41:39.605Z"
   },
   {
    "duration": 154,
    "start_time": "2024-07-17T15:41:45.852Z"
   },
   {
    "duration": 137,
    "start_time": "2024-07-17T15:42:00.729Z"
   },
   {
    "duration": 236,
    "start_time": "2024-07-17T15:43:29.463Z"
   },
   {
    "duration": 246,
    "start_time": "2024-07-17T15:43:36.997Z"
   },
   {
    "duration": 198,
    "start_time": "2024-07-17T15:44:34.412Z"
   },
   {
    "duration": 174,
    "start_time": "2024-07-17T15:45:31.402Z"
   },
   {
    "duration": 297,
    "start_time": "2024-07-17T15:47:08.454Z"
   },
   {
    "duration": 265,
    "start_time": "2024-07-17T15:48:00.776Z"
   },
   {
    "duration": 15,
    "start_time": "2024-07-17T15:48:54.144Z"
   },
   {
    "duration": 43,
    "start_time": "2024-07-17T15:49:26.093Z"
   },
   {
    "duration": 513,
    "start_time": "2024-07-17T15:49:57.823Z"
   },
   {
    "duration": 15,
    "start_time": "2024-07-17T15:50:07.120Z"
   },
   {
    "duration": 13,
    "start_time": "2024-07-17T15:50:15.645Z"
   },
   {
    "duration": 13,
    "start_time": "2024-07-17T15:50:20.717Z"
   },
   {
    "duration": 14,
    "start_time": "2024-07-17T15:50:35.278Z"
   },
   {
    "duration": 70,
    "start_time": "2024-07-17T15:53:02.183Z"
   },
   {
    "duration": 71,
    "start_time": "2024-07-17T15:54:23.442Z"
   },
   {
    "duration": 74,
    "start_time": "2024-07-17T15:54:48.734Z"
   },
   {
    "duration": 25,
    "start_time": "2024-07-17T15:55:59.336Z"
   },
   {
    "duration": 20,
    "start_time": "2024-07-17T15:56:36.959Z"
   },
   {
    "duration": 23,
    "start_time": "2024-07-17T15:57:23.350Z"
   },
   {
    "duration": 16,
    "start_time": "2024-07-17T15:58:14.226Z"
   },
   {
    "duration": 15,
    "start_time": "2024-07-17T15:58:46.159Z"
   },
   {
    "duration": 51,
    "start_time": "2024-07-17T16:10:14.898Z"
   },
   {
    "duration": 15,
    "start_time": "2024-07-17T16:10:26.469Z"
   },
   {
    "duration": 4961,
    "start_time": "2024-07-18T14:16:56.247Z"
   },
   {
    "duration": 383,
    "start_time": "2024-07-18T14:17:01.213Z"
   },
   {
    "duration": 29,
    "start_time": "2024-07-18T14:17:01.598Z"
   },
   {
    "duration": 20,
    "start_time": "2024-07-18T14:17:01.631Z"
   },
   {
    "duration": 23,
    "start_time": "2024-07-18T14:17:01.657Z"
   },
   {
    "duration": 56,
    "start_time": "2024-07-18T14:17:01.683Z"
   },
   {
    "duration": 20,
    "start_time": "2024-07-18T14:17:01.742Z"
   },
   {
    "duration": 20,
    "start_time": "2024-07-18T14:17:01.766Z"
   },
   {
    "duration": 41,
    "start_time": "2024-07-18T14:17:01.790Z"
   },
   {
    "duration": 4,
    "start_time": "2024-07-18T14:17:01.833Z"
   },
   {
    "duration": 4,
    "start_time": "2024-07-18T14:17:01.840Z"
   },
   {
    "duration": 4,
    "start_time": "2024-07-18T14:17:01.847Z"
   },
   {
    "duration": 4,
    "start_time": "2024-07-18T14:17:01.854Z"
   },
   {
    "duration": 4,
    "start_time": "2024-07-18T14:17:01.865Z"
   },
   {
    "duration": 5,
    "start_time": "2024-07-18T14:17:01.872Z"
   },
   {
    "duration": 3,
    "start_time": "2024-07-18T14:17:01.933Z"
   },
   {
    "duration": 4,
    "start_time": "2024-07-18T14:17:01.941Z"
   },
   {
    "duration": 5,
    "start_time": "2024-07-18T14:17:01.948Z"
   },
   {
    "duration": 4,
    "start_time": "2024-07-18T14:17:01.956Z"
   },
   {
    "duration": 4,
    "start_time": "2024-07-18T14:17:01.963Z"
   },
   {
    "duration": 60,
    "start_time": "2024-07-18T14:17:01.971Z"
   },
   {
    "duration": 5,
    "start_time": "2024-07-18T14:17:02.034Z"
   },
   {
    "duration": 10,
    "start_time": "2024-07-18T14:17:02.042Z"
   },
   {
    "duration": 4,
    "start_time": "2024-07-18T14:17:02.055Z"
   },
   {
    "duration": 4,
    "start_time": "2024-07-18T14:17:02.062Z"
   },
   {
    "duration": 3,
    "start_time": "2024-07-18T14:17:02.070Z"
   },
   {
    "duration": 54,
    "start_time": "2024-07-18T14:17:02.077Z"
   },
   {
    "duration": 4,
    "start_time": "2024-07-18T14:17:02.134Z"
   },
   {
    "duration": 5,
    "start_time": "2024-07-18T14:17:02.141Z"
   },
   {
    "duration": 4,
    "start_time": "2024-07-18T14:17:02.149Z"
   },
   {
    "duration": 4,
    "start_time": "2024-07-18T14:17:02.157Z"
   },
   {
    "duration": 4,
    "start_time": "2024-07-18T14:17:02.165Z"
   },
   {
    "duration": 62,
    "start_time": "2024-07-18T14:17:02.173Z"
   },
   {
    "duration": 14,
    "start_time": "2024-07-18T14:17:22.874Z"
   },
   {
    "duration": 1251,
    "start_time": "2024-07-18T14:22:58.325Z"
   },
   {
    "duration": 324,
    "start_time": "2024-07-18T14:22:59.579Z"
   },
   {
    "duration": 34,
    "start_time": "2024-07-18T14:22:59.906Z"
   },
   {
    "duration": 26,
    "start_time": "2024-07-18T14:22:59.944Z"
   },
   {
    "duration": 26,
    "start_time": "2024-07-18T14:22:59.974Z"
   },
   {
    "duration": 44,
    "start_time": "2024-07-18T14:23:00.003Z"
   },
   {
    "duration": 16,
    "start_time": "2024-07-18T14:23:00.050Z"
   },
   {
    "duration": 18,
    "start_time": "2024-07-18T14:23:00.069Z"
   },
   {
    "duration": 41,
    "start_time": "2024-07-18T14:23:00.091Z"
   },
   {
    "duration": 4,
    "start_time": "2024-07-18T14:23:00.137Z"
   },
   {
    "duration": 3,
    "start_time": "2024-07-18T14:23:00.145Z"
   },
   {
    "duration": 5,
    "start_time": "2024-07-18T14:23:00.151Z"
   },
   {
    "duration": 4,
    "start_time": "2024-07-18T14:23:00.168Z"
   },
   {
    "duration": 4,
    "start_time": "2024-07-18T14:23:00.175Z"
   },
   {
    "duration": 4,
    "start_time": "2024-07-18T14:23:00.183Z"
   },
   {
    "duration": 40,
    "start_time": "2024-07-18T14:23:00.190Z"
   },
   {
    "duration": 4,
    "start_time": "2024-07-18T14:23:00.234Z"
   },
   {
    "duration": 3,
    "start_time": "2024-07-18T14:23:00.241Z"
   },
   {
    "duration": 3,
    "start_time": "2024-07-18T14:23:00.248Z"
   },
   {
    "duration": 3,
    "start_time": "2024-07-18T14:23:00.255Z"
   },
   {
    "duration": 3,
    "start_time": "2024-07-18T14:23:00.262Z"
   },
   {
    "duration": 3,
    "start_time": "2024-07-18T14:23:00.269Z"
   },
   {
    "duration": 3,
    "start_time": "2024-07-18T14:23:00.276Z"
   },
   {
    "duration": 5,
    "start_time": "2024-07-18T14:23:00.330Z"
   },
   {
    "duration": 3,
    "start_time": "2024-07-18T14:23:00.339Z"
   },
   {
    "duration": 6,
    "start_time": "2024-07-18T14:23:00.346Z"
   },
   {
    "duration": 5,
    "start_time": "2024-07-18T14:23:00.356Z"
   },
   {
    "duration": 4,
    "start_time": "2024-07-18T14:23:00.372Z"
   },
   {
    "duration": 56,
    "start_time": "2024-07-18T14:23:00.379Z"
   },
   {
    "duration": 3,
    "start_time": "2024-07-18T14:23:00.440Z"
   },
   {
    "duration": 3,
    "start_time": "2024-07-18T14:23:00.447Z"
   },
   {
    "duration": 3,
    "start_time": "2024-07-18T14:23:00.453Z"
   },
   {
    "duration": 7,
    "start_time": "2024-07-18T14:23:00.459Z"
   },
   {
    "duration": 22,
    "start_time": "2024-07-18T14:23:25.696Z"
   },
   {
    "duration": 452,
    "start_time": "2024-07-18T14:30:34.654Z"
   },
   {
    "duration": 8,
    "start_time": "2024-07-18T14:30:43.241Z"
   },
   {
    "duration": 5,
    "start_time": "2024-07-18T14:30:59.049Z"
   },
   {
    "duration": 7,
    "start_time": "2024-07-18T14:31:49.760Z"
   },
   {
    "duration": 18,
    "start_time": "2024-07-18T14:32:00.796Z"
   },
   {
    "duration": 15,
    "start_time": "2024-07-18T14:46:22.079Z"
   },
   {
    "duration": 14,
    "start_time": "2024-07-18T14:47:35.218Z"
   },
   {
    "duration": 14,
    "start_time": "2024-07-18T14:47:58.800Z"
   },
   {
    "duration": 20,
    "start_time": "2024-07-18T14:48:17.752Z"
   },
   {
    "duration": 318,
    "start_time": "2024-07-19T14:45:58.667Z"
   },
   {
    "duration": 4983,
    "start_time": "2024-07-19T14:46:09.761Z"
   },
   {
    "duration": 418,
    "start_time": "2024-07-19T14:46:14.749Z"
   },
   {
    "duration": 32,
    "start_time": "2024-07-19T14:46:15.170Z"
   },
   {
    "duration": 22,
    "start_time": "2024-07-19T14:46:15.207Z"
   },
   {
    "duration": 24,
    "start_time": "2024-07-19T14:46:15.233Z"
   },
   {
    "duration": 50,
    "start_time": "2024-07-19T14:46:15.260Z"
   },
   {
    "duration": 17,
    "start_time": "2024-07-19T14:46:15.313Z"
   },
   {
    "duration": 9,
    "start_time": "2024-07-19T14:46:15.333Z"
   },
   {
    "duration": 7,
    "start_time": "2024-07-19T14:46:15.345Z"
   },
   {
    "duration": 43,
    "start_time": "2024-07-19T14:46:15.358Z"
   },
   {
    "duration": 15,
    "start_time": "2024-07-19T14:46:15.404Z"
   },
   {
    "duration": 15,
    "start_time": "2024-07-19T14:46:15.422Z"
   },
   {
    "duration": 4,
    "start_time": "2024-07-19T14:46:15.440Z"
   },
   {
    "duration": 4,
    "start_time": "2024-07-19T14:46:15.447Z"
   },
   {
    "duration": 49,
    "start_time": "2024-07-19T14:46:15.453Z"
   },
   {
    "duration": 4,
    "start_time": "2024-07-19T14:46:15.505Z"
   },
   {
    "duration": 4,
    "start_time": "2024-07-19T14:46:15.512Z"
   },
   {
    "duration": 4,
    "start_time": "2024-07-19T14:46:15.520Z"
   },
   {
    "duration": 3,
    "start_time": "2024-07-19T14:46:15.529Z"
   },
   {
    "duration": 4,
    "start_time": "2024-07-19T14:46:15.535Z"
   },
   {
    "duration": 3,
    "start_time": "2024-07-19T14:46:15.543Z"
   },
   {
    "duration": 3,
    "start_time": "2024-07-19T14:46:15.602Z"
   },
   {
    "duration": 4,
    "start_time": "2024-07-19T14:46:15.608Z"
   },
   {
    "duration": 4,
    "start_time": "2024-07-19T14:46:15.615Z"
   },
   {
    "duration": 3,
    "start_time": "2024-07-19T14:46:15.622Z"
   },
   {
    "duration": 4,
    "start_time": "2024-07-19T14:46:15.629Z"
   },
   {
    "duration": 3,
    "start_time": "2024-07-19T14:46:15.637Z"
   },
   {
    "duration": 4,
    "start_time": "2024-07-19T14:46:15.701Z"
   },
   {
    "duration": 3,
    "start_time": "2024-07-19T14:46:15.709Z"
   },
   {
    "duration": 3,
    "start_time": "2024-07-19T14:46:15.715Z"
   },
   {
    "duration": 3,
    "start_time": "2024-07-19T14:46:15.722Z"
   },
   {
    "duration": 3,
    "start_time": "2024-07-19T14:46:15.728Z"
   },
   {
    "duration": 4,
    "start_time": "2024-07-19T14:46:15.734Z"
   },
   {
    "duration": 3,
    "start_time": "2024-07-19T14:46:15.741Z"
   },
   {
    "duration": 14,
    "start_time": "2024-07-19T15:08:09.769Z"
   },
   {
    "duration": 198,
    "start_time": "2024-07-19T15:48:51.927Z"
   },
   {
    "duration": 23,
    "start_time": "2024-07-19T15:48:56.911Z"
   },
   {
    "duration": 10,
    "start_time": "2024-07-19T15:49:02.806Z"
   },
   {
    "duration": 10,
    "start_time": "2024-07-19T15:49:44.862Z"
   },
   {
    "duration": 22,
    "start_time": "2024-07-19T15:49:55.242Z"
   },
   {
    "duration": 10,
    "start_time": "2024-07-19T15:50:05.083Z"
   },
   {
    "duration": 9,
    "start_time": "2024-07-19T15:54:21.342Z"
   },
   {
    "duration": 11,
    "start_time": "2024-07-19T15:54:28.047Z"
   },
   {
    "duration": 9,
    "start_time": "2024-07-19T15:56:35.538Z"
   },
   {
    "duration": 5,
    "start_time": "2024-07-19T15:56:38.672Z"
   },
   {
    "duration": 8,
    "start_time": "2024-07-19T15:58:42.672Z"
   },
   {
    "duration": 5,
    "start_time": "2024-07-19T15:58:48.240Z"
   },
   {
    "duration": 5,
    "start_time": "2024-07-19T15:58:59.159Z"
   },
   {
    "duration": 4,
    "start_time": "2024-07-19T15:59:52.257Z"
   },
   {
    "duration": 14,
    "start_time": "2024-07-19T16:24:19.258Z"
   },
   {
    "duration": 244,
    "start_time": "2024-07-19T16:26:18.359Z"
   },
   {
    "duration": 1202,
    "start_time": "2024-07-19T16:26:30.742Z"
   },
   {
    "duration": 5,
    "start_time": "2024-07-19T16:35:17.314Z"
   },
   {
    "duration": 18,
    "start_time": "2024-07-19T16:35:33.739Z"
   },
   {
    "duration": 16,
    "start_time": "2024-07-19T16:35:46.620Z"
   },
   {
    "duration": 22,
    "start_time": "2024-07-19T16:36:47.217Z"
   },
   {
    "duration": 8,
    "start_time": "2024-07-19T16:37:47.152Z"
   },
   {
    "duration": 315,
    "start_time": "2024-07-20T18:23:18.749Z"
   },
   {
    "duration": 4999,
    "start_time": "2024-07-20T18:23:37.118Z"
   },
   {
    "duration": 349,
    "start_time": "2024-07-20T18:23:42.121Z"
   },
   {
    "duration": 26,
    "start_time": "2024-07-20T18:23:42.473Z"
   },
   {
    "duration": 25,
    "start_time": "2024-07-20T18:23:42.503Z"
   },
   {
    "duration": 24,
    "start_time": "2024-07-20T18:23:42.531Z"
   },
   {
    "duration": 14,
    "start_time": "2024-07-20T18:23:42.558Z"
   },
   {
    "duration": 17,
    "start_time": "2024-07-20T18:23:42.612Z"
   },
   {
    "duration": 5,
    "start_time": "2024-07-20T18:23:42.632Z"
   },
   {
    "duration": 7,
    "start_time": "2024-07-20T18:23:42.641Z"
   },
   {
    "duration": 3,
    "start_time": "2024-07-20T18:23:42.656Z"
   },
   {
    "duration": 60,
    "start_time": "2024-07-20T18:23:42.663Z"
   },
   {
    "duration": 15,
    "start_time": "2024-07-20T18:23:42.726Z"
   },
   {
    "duration": 10,
    "start_time": "2024-07-20T18:23:42.744Z"
   },
   {
    "duration": 6,
    "start_time": "2024-07-20T18:23:42.757Z"
   },
   {
    "duration": 54,
    "start_time": "2024-07-20T18:23:42.766Z"
   },
   {
    "duration": 6,
    "start_time": "2024-07-20T18:23:42.827Z"
   },
   {
    "duration": 4,
    "start_time": "2024-07-20T18:23:42.836Z"
   },
   {
    "duration": 4,
    "start_time": "2024-07-20T18:23:42.843Z"
   },
   {
    "duration": 3,
    "start_time": "2024-07-20T18:23:42.851Z"
   },
   {
    "duration": 4,
    "start_time": "2024-07-20T18:23:42.857Z"
   },
   {
    "duration": 4,
    "start_time": "2024-07-20T18:23:42.911Z"
   },
   {
    "duration": 4,
    "start_time": "2024-07-20T18:23:42.918Z"
   },
   {
    "duration": 5,
    "start_time": "2024-07-20T18:23:42.925Z"
   },
   {
    "duration": 4,
    "start_time": "2024-07-20T18:23:42.934Z"
   },
   {
    "duration": 4,
    "start_time": "2024-07-20T18:23:42.941Z"
   },
   {
    "duration": 3,
    "start_time": "2024-07-20T18:23:42.950Z"
   },
   {
    "duration": 59,
    "start_time": "2024-07-20T18:23:42.957Z"
   },
   {
    "duration": 4,
    "start_time": "2024-07-20T18:23:43.024Z"
   },
   {
    "duration": 4,
    "start_time": "2024-07-20T18:23:43.031Z"
   },
   {
    "duration": 6,
    "start_time": "2024-07-20T18:23:43.039Z"
   },
   {
    "duration": 6,
    "start_time": "2024-07-20T18:23:43.052Z"
   },
   {
    "duration": 4,
    "start_time": "2024-07-20T18:23:43.061Z"
   },
   {
    "duration": 3,
    "start_time": "2024-07-20T18:23:43.112Z"
   },
   {
    "duration": 3,
    "start_time": "2024-07-20T18:23:43.120Z"
   },
   {
    "duration": 5,
    "start_time": "2024-07-20T18:23:43.127Z"
   },
   {
    "duration": 4,
    "start_time": "2024-07-20T18:23:43.135Z"
   },
   {
    "duration": 4,
    "start_time": "2024-07-20T18:23:43.142Z"
   },
   {
    "duration": 3,
    "start_time": "2024-07-20T18:23:43.149Z"
   },
   {
    "duration": 17,
    "start_time": "2024-07-20T18:24:25.361Z"
   },
   {
    "duration": 5,
    "start_time": "2024-07-20T18:24:54.604Z"
   },
   {
    "duration": 20,
    "start_time": "2024-07-20T18:25:03.418Z"
   },
   {
    "duration": 6,
    "start_time": "2024-07-20T18:27:19.716Z"
   },
   {
    "duration": 15,
    "start_time": "2024-07-20T18:27:29.012Z"
   },
   {
    "duration": 27,
    "start_time": "2024-07-20T18:29:39.972Z"
   },
   {
    "duration": 15,
    "start_time": "2024-07-20T18:29:57.245Z"
   },
   {
    "duration": 15,
    "start_time": "2024-07-20T18:30:11.987Z"
   },
   {
    "duration": 14,
    "start_time": "2024-07-20T18:30:27.855Z"
   },
   {
    "duration": 324,
    "start_time": "2024-07-21T19:07:19.259Z"
   },
   {
    "duration": 4877,
    "start_time": "2024-07-21T19:07:32.614Z"
   },
   {
    "duration": 343,
    "start_time": "2024-07-21T19:07:37.495Z"
   },
   {
    "duration": 28,
    "start_time": "2024-07-21T19:07:37.840Z"
   },
   {
    "duration": 20,
    "start_time": "2024-07-21T19:07:37.872Z"
   },
   {
    "duration": 26,
    "start_time": "2024-07-21T19:07:37.909Z"
   },
   {
    "duration": 17,
    "start_time": "2024-07-21T19:07:37.941Z"
   },
   {
    "duration": 49,
    "start_time": "2024-07-21T19:07:37.964Z"
   },
   {
    "duration": 6,
    "start_time": "2024-07-21T19:07:38.016Z"
   },
   {
    "duration": 6,
    "start_time": "2024-07-21T19:07:38.026Z"
   },
   {
    "duration": 3,
    "start_time": "2024-07-21T19:07:38.038Z"
   },
   {
    "duration": 15,
    "start_time": "2024-07-21T19:07:38.044Z"
   },
   {
    "duration": 58,
    "start_time": "2024-07-21T19:07:38.062Z"
   },
   {
    "duration": 11,
    "start_time": "2024-07-21T19:07:38.123Z"
   },
   {
    "duration": 6,
    "start_time": "2024-07-21T19:07:38.136Z"
   },
   {
    "duration": 8,
    "start_time": "2024-07-21T19:07:38.145Z"
   },
   {
    "duration": 53,
    "start_time": "2024-07-21T19:07:38.156Z"
   },
   {
    "duration": 24,
    "start_time": "2024-07-21T19:07:38.212Z"
   },
   {
    "duration": 15,
    "start_time": "2024-07-21T19:07:38.239Z"
   },
   {
    "duration": 12,
    "start_time": "2024-07-21T19:07:38.258Z"
   },
   {
    "duration": 36,
    "start_time": "2024-07-21T19:07:38.273Z"
   },
   {
    "duration": 3,
    "start_time": "2024-07-21T19:07:38.313Z"
   },
   {
    "duration": 3,
    "start_time": "2024-07-21T19:07:38.320Z"
   },
   {
    "duration": 4,
    "start_time": "2024-07-21T19:07:38.327Z"
   },
   {
    "duration": 4,
    "start_time": "2024-07-21T19:07:38.334Z"
   },
   {
    "duration": 4,
    "start_time": "2024-07-21T19:07:38.341Z"
   },
   {
    "duration": 61,
    "start_time": "2024-07-21T19:07:38.348Z"
   },
   {
    "duration": 4,
    "start_time": "2024-07-21T19:07:38.411Z"
   },
   {
    "duration": 3,
    "start_time": "2024-07-21T19:07:38.423Z"
   },
   {
    "duration": 4,
    "start_time": "2024-07-21T19:07:38.429Z"
   },
   {
    "duration": 3,
    "start_time": "2024-07-21T19:07:38.436Z"
   },
   {
    "duration": 3,
    "start_time": "2024-07-21T19:07:38.443Z"
   },
   {
    "duration": 3,
    "start_time": "2024-07-21T19:07:38.450Z"
   },
   {
    "duration": 54,
    "start_time": "2024-07-21T19:07:38.456Z"
   },
   {
    "duration": 4,
    "start_time": "2024-07-21T19:07:38.514Z"
   },
   {
    "duration": 10,
    "start_time": "2024-07-21T19:07:38.520Z"
   },
   {
    "duration": 11,
    "start_time": "2024-07-21T19:07:38.532Z"
   },
   {
    "duration": 3,
    "start_time": "2024-07-21T19:07:38.548Z"
   },
   {
    "duration": 5,
    "start_time": "2024-07-21T19:07:38.554Z"
   },
   {
    "duration": 4,
    "start_time": "2024-07-21T19:07:38.562Z"
   },
   {
    "duration": 14,
    "start_time": "2024-07-21T19:10:54.807Z"
   },
   {
    "duration": 57,
    "start_time": "2024-07-21T19:15:33.993Z"
   },
   {
    "duration": 67,
    "start_time": "2024-07-21T19:16:05.215Z"
   },
   {
    "duration": 62,
    "start_time": "2024-07-21T19:16:10.540Z"
   },
   {
    "duration": 319,
    "start_time": "2024-07-21T20:42:24.828Z"
   },
   {
    "duration": 4941,
    "start_time": "2024-07-21T20:44:44.140Z"
   },
   {
    "duration": 339,
    "start_time": "2024-07-21T20:44:49.084Z"
   },
   {
    "duration": 26,
    "start_time": "2024-07-21T20:44:49.427Z"
   },
   {
    "duration": 22,
    "start_time": "2024-07-21T20:44:49.457Z"
   },
   {
    "duration": 53,
    "start_time": "2024-07-21T20:44:49.482Z"
   },
   {
    "duration": 18,
    "start_time": "2024-07-21T20:44:49.538Z"
   },
   {
    "duration": 19,
    "start_time": "2024-07-21T20:44:49.560Z"
   },
   {
    "duration": 41,
    "start_time": "2024-07-21T20:44:49.582Z"
   },
   {
    "duration": 7,
    "start_time": "2024-07-21T20:44:49.626Z"
   },
   {
    "duration": 3,
    "start_time": "2024-07-21T20:44:49.638Z"
   },
   {
    "duration": 17,
    "start_time": "2024-07-21T20:44:49.644Z"
   },
   {
    "duration": 15,
    "start_time": "2024-07-21T20:44:49.664Z"
   },
   {
    "duration": 12,
    "start_time": "2024-07-21T20:44:49.725Z"
   },
   {
    "duration": 6,
    "start_time": "2024-07-21T20:44:49.740Z"
   },
   {
    "duration": 9,
    "start_time": "2024-07-21T20:44:49.749Z"
   },
   {
    "duration": 8,
    "start_time": "2024-07-21T20:44:49.761Z"
   },
   {
    "duration": 77,
    "start_time": "2024-07-21T20:44:49.772Z"
   },
   {
    "duration": 16,
    "start_time": "2024-07-21T20:44:49.852Z"
   },
   {
    "duration": 87,
    "start_time": "2024-07-21T20:44:49.871Z"
   },
   {
    "duration": 13,
    "start_time": "2024-07-21T20:44:49.962Z"
   },
   {
    "duration": 4,
    "start_time": "2024-07-21T20:44:49.978Z"
   },
   {
    "duration": 3,
    "start_time": "2024-07-21T20:44:49.985Z"
   },
   {
    "duration": 5,
    "start_time": "2024-07-21T20:44:50.023Z"
   },
   {
    "duration": 5,
    "start_time": "2024-07-21T20:44:50.031Z"
   },
   {
    "duration": 4,
    "start_time": "2024-07-21T20:44:50.039Z"
   },
   {
    "duration": 4,
    "start_time": "2024-07-21T20:44:50.046Z"
   },
   {
    "duration": 3,
    "start_time": "2024-07-21T20:44:50.054Z"
   },
   {
    "duration": 2,
    "start_time": "2024-07-21T20:44:50.067Z"
   },
   {
    "duration": 3,
    "start_time": "2024-07-21T20:44:50.125Z"
   },
   {
    "duration": 4,
    "start_time": "2024-07-21T20:44:50.132Z"
   },
   {
    "duration": 4,
    "start_time": "2024-07-21T20:44:50.139Z"
   },
   {
    "duration": 3,
    "start_time": "2024-07-21T20:44:50.147Z"
   },
   {
    "duration": 3,
    "start_time": "2024-07-21T20:44:50.153Z"
   },
   {
    "duration": 3,
    "start_time": "2024-07-21T20:44:50.160Z"
   },
   {
    "duration": 58,
    "start_time": "2024-07-21T20:44:50.166Z"
   },
   {
    "duration": 7,
    "start_time": "2024-07-21T20:44:50.228Z"
   },
   {
    "duration": 4,
    "start_time": "2024-07-21T20:44:50.238Z"
   },
   {
    "duration": 3,
    "start_time": "2024-07-21T20:44:50.245Z"
   },
   {
    "duration": 3,
    "start_time": "2024-07-21T20:44:50.251Z"
   },
   {
    "duration": 3,
    "start_time": "2024-07-21T20:44:50.257Z"
   },
   {
    "duration": 11,
    "start_time": "2024-07-21T20:48:24.888Z"
   },
   {
    "duration": 15,
    "start_time": "2024-07-21T20:48:34.861Z"
   },
   {
    "duration": 14,
    "start_time": "2024-07-21T20:48:40.978Z"
   },
   {
    "duration": 14,
    "start_time": "2024-07-21T20:48:43.825Z"
   },
   {
    "duration": 26,
    "start_time": "2024-07-21T20:54:49.262Z"
   },
   {
    "duration": 55,
    "start_time": "2024-07-21T20:54:59.755Z"
   },
   {
    "duration": 18,
    "start_time": "2024-07-21T20:55:14.752Z"
   },
   {
    "duration": 46,
    "start_time": "2024-07-21T20:58:57.199Z"
   },
   {
    "duration": 22,
    "start_time": "2024-07-21T21:00:39.818Z"
   },
   {
    "duration": 15,
    "start_time": "2024-07-21T21:01:04.882Z"
   },
   {
    "duration": 318,
    "start_time": "2024-07-22T06:58:11.218Z"
   },
   {
    "duration": 4843,
    "start_time": "2024-07-22T14:51:14.912Z"
   },
   {
    "duration": 371,
    "start_time": "2024-07-22T14:51:19.759Z"
   },
   {
    "duration": 15,
    "start_time": "2024-07-22T14:51:20.133Z"
   },
   {
    "duration": 16,
    "start_time": "2024-07-22T14:51:20.152Z"
   },
   {
    "duration": 5,
    "start_time": "2024-07-22T14:51:20.172Z"
   },
   {
    "duration": 28,
    "start_time": "2024-07-22T14:51:20.181Z"
   },
   {
    "duration": 3,
    "start_time": "2024-07-22T14:51:20.212Z"
   },
   {
    "duration": 15,
    "start_time": "2024-07-22T14:51:20.218Z"
   },
   {
    "duration": 15,
    "start_time": "2024-07-22T14:51:20.236Z"
   },
   {
    "duration": 53,
    "start_time": "2024-07-22T14:51:20.254Z"
   },
   {
    "duration": 8,
    "start_time": "2024-07-22T14:51:20.311Z"
   },
   {
    "duration": 12,
    "start_time": "2024-07-22T14:51:20.323Z"
   },
   {
    "duration": 16,
    "start_time": "2024-07-22T14:51:20.338Z"
   },
   {
    "duration": 53,
    "start_time": "2024-07-22T14:51:20.362Z"
   },
   {
    "duration": 16,
    "start_time": "2024-07-22T14:51:20.417Z"
   },
   {
    "duration": 83,
    "start_time": "2024-07-22T14:51:20.436Z"
   },
   {
    "duration": 34,
    "start_time": "2024-07-22T14:51:20.521Z"
   },
   {
    "duration": 13,
    "start_time": "2024-07-22T14:51:20.558Z"
   },
   {
    "duration": 45,
    "start_time": "2024-07-22T14:51:20.574Z"
   },
   {
    "duration": 13,
    "start_time": "2024-07-22T14:51:20.622Z"
   },
   {
    "duration": 17,
    "start_time": "2024-07-22T14:51:20.638Z"
   },
   {
    "duration": 58,
    "start_time": "2024-07-22T14:51:20.658Z"
   },
   {
    "duration": 4,
    "start_time": "2024-07-22T14:51:20.718Z"
   },
   {
    "duration": 4,
    "start_time": "2024-07-22T14:51:20.725Z"
   },
   {
    "duration": 4,
    "start_time": "2024-07-22T14:51:20.733Z"
   },
   {
    "duration": 4,
    "start_time": "2024-07-22T14:51:20.739Z"
   },
   {
    "duration": 4,
    "start_time": "2024-07-22T14:51:20.747Z"
   },
   {
    "duration": 4,
    "start_time": "2024-07-22T14:51:20.754Z"
   },
   {
    "duration": 3,
    "start_time": "2024-07-22T14:51:20.808Z"
   },
   {
    "duration": 5,
    "start_time": "2024-07-22T14:51:20.814Z"
   },
   {
    "duration": 7,
    "start_time": "2024-07-22T14:51:20.822Z"
   },
   {
    "duration": 3,
    "start_time": "2024-07-22T14:51:20.833Z"
   },
   {
    "duration": 4,
    "start_time": "2024-07-22T14:51:20.839Z"
   },
   {
    "duration": 5,
    "start_time": "2024-07-22T14:51:20.847Z"
   },
   {
    "duration": 51,
    "start_time": "2024-07-22T14:51:20.855Z"
   },
   {
    "duration": 3,
    "start_time": "2024-07-22T14:51:20.910Z"
   },
   {
    "duration": 3,
    "start_time": "2024-07-22T14:51:20.917Z"
   },
   {
    "duration": 6,
    "start_time": "2024-07-22T14:51:20.923Z"
   },
   {
    "duration": 4,
    "start_time": "2024-07-22T14:51:20.932Z"
   },
   {
    "duration": 52,
    "start_time": "2024-07-22T14:52:37.624Z"
   },
   {
    "duration": 52,
    "start_time": "2024-07-22T14:52:44.173Z"
   },
   {
    "duration": 18,
    "start_time": "2024-07-22T15:16:10.981Z"
   },
   {
    "duration": 13,
    "start_time": "2024-07-22T15:16:45.304Z"
   },
   {
    "duration": 11,
    "start_time": "2024-07-22T15:17:32.967Z"
   },
   {
    "duration": 5,
    "start_time": "2024-07-22T15:17:47.179Z"
   },
   {
    "duration": 1207,
    "start_time": "2024-07-22T15:21:15.558Z"
   },
   {
    "duration": 79,
    "start_time": "2024-07-22T15:21:26.386Z"
   },
   {
    "duration": 1223,
    "start_time": "2024-07-22T15:21:53.707Z"
   },
   {
    "duration": 267,
    "start_time": "2024-07-22T15:21:54.933Z"
   },
   {
    "duration": 15,
    "start_time": "2024-07-22T15:21:55.206Z"
   },
   {
    "duration": 16,
    "start_time": "2024-07-22T15:21:55.224Z"
   },
   {
    "duration": 6,
    "start_time": "2024-07-22T15:21:55.244Z"
   },
   {
    "duration": 7,
    "start_time": "2024-07-22T15:21:55.253Z"
   },
   {
    "duration": 4,
    "start_time": "2024-07-22T15:21:55.263Z"
   },
   {
    "duration": 15,
    "start_time": "2024-07-22T15:21:55.306Z"
   },
   {
    "duration": 15,
    "start_time": "2024-07-22T15:21:55.324Z"
   },
   {
    "duration": 9,
    "start_time": "2024-07-22T15:21:55.342Z"
   },
   {
    "duration": 52,
    "start_time": "2024-07-22T15:21:55.354Z"
   },
   {
    "duration": 8,
    "start_time": "2024-07-22T15:21:55.409Z"
   },
   {
    "duration": 9,
    "start_time": "2024-07-22T15:21:55.420Z"
   },
   {
    "duration": 25,
    "start_time": "2024-07-22T15:21:55.435Z"
   },
   {
    "duration": 55,
    "start_time": "2024-07-22T15:21:55.463Z"
   },
   {
    "duration": 54,
    "start_time": "2024-07-22T15:21:55.521Z"
   },
   {
    "duration": 52,
    "start_time": "2024-07-22T15:21:55.577Z"
   },
   {
    "duration": 14,
    "start_time": "2024-07-22T15:21:55.631Z"
   },
   {
    "duration": 5,
    "start_time": "2024-07-22T15:21:55.647Z"
   },
   {
    "duration": 50,
    "start_time": "2024-07-22T15:21:55.656Z"
   },
   {
    "duration": 12,
    "start_time": "2024-07-22T15:21:55.709Z"
   },
   {
    "duration": 18,
    "start_time": "2024-07-22T15:21:55.724Z"
   },
   {
    "duration": 23,
    "start_time": "2024-07-22T15:21:55.744Z"
   },
   {
    "duration": 2,
    "start_time": "2024-07-22T15:21:55.806Z"
   },
   {
    "duration": 3,
    "start_time": "2024-07-22T15:21:55.813Z"
   },
   {
    "duration": 3,
    "start_time": "2024-07-22T15:21:55.819Z"
   },
   {
    "duration": 4,
    "start_time": "2024-07-22T15:21:55.825Z"
   },
   {
    "duration": 3,
    "start_time": "2024-07-22T15:21:55.833Z"
   },
   {
    "duration": 8,
    "start_time": "2024-07-22T15:21:55.840Z"
   },
   {
    "duration": 3,
    "start_time": "2024-07-22T15:21:55.852Z"
   },
   {
    "duration": 3,
    "start_time": "2024-07-22T15:21:55.907Z"
   },
   {
    "duration": 10,
    "start_time": "2024-07-22T15:21:55.913Z"
   },
   {
    "duration": 4,
    "start_time": "2024-07-22T15:21:55.927Z"
   },
   {
    "duration": 3,
    "start_time": "2024-07-22T15:21:55.934Z"
   },
   {
    "duration": 4,
    "start_time": "2024-07-22T15:21:55.940Z"
   },
   {
    "duration": 5,
    "start_time": "2024-07-22T15:21:55.947Z"
   },
   {
    "duration": 52,
    "start_time": "2024-07-22T15:21:55.955Z"
   },
   {
    "duration": 4,
    "start_time": "2024-07-22T15:21:56.010Z"
   },
   {
    "duration": 4,
    "start_time": "2024-07-22T15:21:56.016Z"
   },
   {
    "duration": 6,
    "start_time": "2024-07-22T15:21:56.023Z"
   },
   {
    "duration": 14,
    "start_time": "2024-07-22T15:24:15.878Z"
   },
   {
    "duration": 12,
    "start_time": "2024-07-22T15:25:01.663Z"
   },
   {
    "duration": 12,
    "start_time": "2024-07-22T15:25:26.769Z"
   },
   {
    "duration": 10,
    "start_time": "2024-07-22T15:25:34.944Z"
   },
   {
    "duration": 11,
    "start_time": "2024-07-22T15:25:56.244Z"
   },
   {
    "duration": 16,
    "start_time": "2024-07-22T16:21:52.800Z"
   },
   {
    "duration": 7,
    "start_time": "2024-07-22T16:23:33.677Z"
   },
   {
    "duration": 6,
    "start_time": "2024-07-22T16:24:13.146Z"
   },
   {
    "duration": 16,
    "start_time": "2024-07-22T16:25:11.831Z"
   },
   {
    "duration": 1170,
    "start_time": "2024-07-22T16:29:55.960Z"
   },
   {
    "duration": 275,
    "start_time": "2024-07-22T16:29:57.134Z"
   },
   {
    "duration": 16,
    "start_time": "2024-07-22T16:29:57.412Z"
   },
   {
    "duration": 19,
    "start_time": "2024-07-22T16:29:57.432Z"
   },
   {
    "duration": 5,
    "start_time": "2024-07-22T16:29:57.454Z"
   },
   {
    "duration": 6,
    "start_time": "2024-07-22T16:29:57.462Z"
   },
   {
    "duration": 1259,
    "start_time": "2024-07-22T16:29:57.474Z"
   },
   {
    "duration": 0,
    "start_time": "2024-07-22T16:29:58.738Z"
   },
   {
    "duration": 0,
    "start_time": "2024-07-22T16:29:58.740Z"
   },
   {
    "duration": 0,
    "start_time": "2024-07-22T16:29:58.742Z"
   },
   {
    "duration": 0,
    "start_time": "2024-07-22T16:29:58.744Z"
   },
   {
    "duration": 0,
    "start_time": "2024-07-22T16:29:58.747Z"
   },
   {
    "duration": 0,
    "start_time": "2024-07-22T16:29:58.749Z"
   },
   {
    "duration": 0,
    "start_time": "2024-07-22T16:29:58.752Z"
   },
   {
    "duration": 0,
    "start_time": "2024-07-22T16:29:58.754Z"
   },
   {
    "duration": 0,
    "start_time": "2024-07-22T16:29:58.757Z"
   },
   {
    "duration": 0,
    "start_time": "2024-07-22T16:29:58.759Z"
   },
   {
    "duration": 0,
    "start_time": "2024-07-22T16:29:58.761Z"
   },
   {
    "duration": 0,
    "start_time": "2024-07-22T16:29:58.763Z"
   },
   {
    "duration": 0,
    "start_time": "2024-07-22T16:29:58.807Z"
   },
   {
    "duration": 0,
    "start_time": "2024-07-22T16:29:58.809Z"
   },
   {
    "duration": 0,
    "start_time": "2024-07-22T16:29:58.813Z"
   },
   {
    "duration": 1,
    "start_time": "2024-07-22T16:29:58.814Z"
   },
   {
    "duration": 0,
    "start_time": "2024-07-22T16:29:58.818Z"
   },
   {
    "duration": 0,
    "start_time": "2024-07-22T16:29:58.820Z"
   },
   {
    "duration": 0,
    "start_time": "2024-07-22T16:29:58.822Z"
   },
   {
    "duration": 0,
    "start_time": "2024-07-22T16:29:58.824Z"
   },
   {
    "duration": 0,
    "start_time": "2024-07-22T16:29:58.827Z"
   },
   {
    "duration": 0,
    "start_time": "2024-07-22T16:29:58.829Z"
   },
   {
    "duration": 0,
    "start_time": "2024-07-22T16:29:58.831Z"
   },
   {
    "duration": 0,
    "start_time": "2024-07-22T16:29:58.834Z"
   },
   {
    "duration": 0,
    "start_time": "2024-07-22T16:29:58.836Z"
   },
   {
    "duration": 0,
    "start_time": "2024-07-22T16:29:58.838Z"
   },
   {
    "duration": 0,
    "start_time": "2024-07-22T16:29:58.839Z"
   },
   {
    "duration": 0,
    "start_time": "2024-07-22T16:29:58.841Z"
   },
   {
    "duration": 0,
    "start_time": "2024-07-22T16:29:58.842Z"
   },
   {
    "duration": 0,
    "start_time": "2024-07-22T16:29:58.845Z"
   },
   {
    "duration": 0,
    "start_time": "2024-07-22T16:29:58.847Z"
   },
   {
    "duration": 0,
    "start_time": "2024-07-22T16:29:58.913Z"
   },
   {
    "duration": 0,
    "start_time": "2024-07-22T16:29:58.915Z"
   },
   {
    "duration": 16,
    "start_time": "2024-07-22T16:31:00.727Z"
   },
   {
    "duration": 5,
    "start_time": "2024-07-22T16:31:32.665Z"
   },
   {
    "duration": 88,
    "start_time": "2024-07-22T16:31:36.940Z"
   },
   {
    "duration": 1150,
    "start_time": "2024-07-22T16:32:30.066Z"
   },
   {
    "duration": 296,
    "start_time": "2024-07-22T16:32:31.219Z"
   },
   {
    "duration": 16,
    "start_time": "2024-07-22T16:32:31.519Z"
   },
   {
    "duration": 16,
    "start_time": "2024-07-22T16:32:31.539Z"
   },
   {
    "duration": 6,
    "start_time": "2024-07-22T16:32:31.557Z"
   },
   {
    "duration": 40,
    "start_time": "2024-07-22T16:32:31.566Z"
   },
   {
    "duration": 9,
    "start_time": "2024-07-22T16:32:31.609Z"
   },
   {
    "duration": 15,
    "start_time": "2024-07-22T16:32:31.620Z"
   },
   {
    "duration": 14,
    "start_time": "2024-07-22T16:32:31.639Z"
   },
   {
    "duration": 48,
    "start_time": "2024-07-22T16:32:31.659Z"
   },
   {
    "duration": 5,
    "start_time": "2024-07-22T16:32:31.710Z"
   },
   {
    "duration": 8,
    "start_time": "2024-07-22T16:32:31.718Z"
   },
   {
    "duration": 9,
    "start_time": "2024-07-22T16:32:31.730Z"
   },
   {
    "duration": 65,
    "start_time": "2024-07-22T16:32:31.742Z"
   },
   {
    "duration": 11,
    "start_time": "2024-07-22T16:32:31.809Z"
   },
   {
    "duration": 57,
    "start_time": "2024-07-22T16:32:31.823Z"
   },
   {
    "duration": 30,
    "start_time": "2024-07-22T16:32:31.906Z"
   },
   {
    "duration": 13,
    "start_time": "2024-07-22T16:32:31.939Z"
   },
   {
    "duration": 4,
    "start_time": "2024-07-22T16:32:31.955Z"
   },
   {
    "duration": 49,
    "start_time": "2024-07-22T16:32:31.962Z"
   },
   {
    "duration": 11,
    "start_time": "2024-07-22T16:32:32.013Z"
   },
   {
    "duration": 17,
    "start_time": "2024-07-22T16:32:32.028Z"
   },
   {
    "duration": 58,
    "start_time": "2024-07-22T16:32:32.048Z"
   },
   {
    "duration": 11,
    "start_time": "2024-07-22T16:32:32.109Z"
   },
   {
    "duration": 3,
    "start_time": "2024-07-22T16:32:32.124Z"
   },
   {
    "duration": 4,
    "start_time": "2024-07-22T16:32:32.131Z"
   },
   {
    "duration": 4,
    "start_time": "2024-07-22T16:32:32.138Z"
   },
   {
    "duration": 3,
    "start_time": "2024-07-22T16:32:32.149Z"
   },
   {
    "duration": 4,
    "start_time": "2024-07-22T16:32:32.206Z"
   },
   {
    "duration": 3,
    "start_time": "2024-07-22T16:32:32.214Z"
   },
   {
    "duration": 3,
    "start_time": "2024-07-22T16:32:32.220Z"
   },
   {
    "duration": 4,
    "start_time": "2024-07-22T16:32:32.225Z"
   },
   {
    "duration": 3,
    "start_time": "2024-07-22T16:32:32.232Z"
   },
   {
    "duration": 4,
    "start_time": "2024-07-22T16:32:32.239Z"
   },
   {
    "duration": 4,
    "start_time": "2024-07-22T16:32:32.246Z"
   },
   {
    "duration": 5,
    "start_time": "2024-07-22T16:32:32.306Z"
   },
   {
    "duration": 8,
    "start_time": "2024-07-22T16:32:32.315Z"
   },
   {
    "duration": 5,
    "start_time": "2024-07-22T16:32:32.326Z"
   },
   {
    "duration": 6,
    "start_time": "2024-07-22T16:32:32.334Z"
   },
   {
    "duration": 3,
    "start_time": "2024-07-22T16:32:32.343Z"
   },
   {
    "duration": 914,
    "start_time": "2024-07-22T16:34:55.476Z"
   },
   {
    "duration": 15,
    "start_time": "2024-07-22T16:35:32.961Z"
   },
   {
    "duration": 14,
    "start_time": "2024-07-22T16:35:47.757Z"
   },
   {
    "duration": 4916,
    "start_time": "2024-07-22T18:04:19.732Z"
   },
   {
    "duration": 363,
    "start_time": "2024-07-22T18:04:24.652Z"
   },
   {
    "duration": 17,
    "start_time": "2024-07-22T18:04:25.017Z"
   },
   {
    "duration": 16,
    "start_time": "2024-07-22T18:04:25.039Z"
   },
   {
    "duration": 6,
    "start_time": "2024-07-22T18:04:25.058Z"
   },
   {
    "duration": 9,
    "start_time": "2024-07-22T18:04:25.066Z"
   },
   {
    "duration": 5,
    "start_time": "2024-07-22T18:04:25.077Z"
   },
   {
    "duration": 15,
    "start_time": "2024-07-22T18:04:25.125Z"
   },
   {
    "duration": 15,
    "start_time": "2024-07-22T18:04:25.143Z"
   },
   {
    "duration": 8,
    "start_time": "2024-07-22T18:04:25.164Z"
   },
   {
    "duration": 48,
    "start_time": "2024-07-22T18:04:25.175Z"
   },
   {
    "duration": 9,
    "start_time": "2024-07-22T18:04:25.227Z"
   },
   {
    "duration": 8,
    "start_time": "2024-07-22T18:04:25.239Z"
   },
   {
    "duration": 27,
    "start_time": "2024-07-22T18:04:25.250Z"
   },
   {
    "duration": 51,
    "start_time": "2024-07-22T18:04:25.280Z"
   },
   {
    "duration": 56,
    "start_time": "2024-07-22T18:04:25.334Z"
   },
   {
    "duration": 46,
    "start_time": "2024-07-22T18:04:25.392Z"
   },
   {
    "duration": 15,
    "start_time": "2024-07-22T18:04:25.440Z"
   },
   {
    "duration": 5,
    "start_time": "2024-07-22T18:04:25.458Z"
   },
   {
    "duration": 58,
    "start_time": "2024-07-22T18:04:25.468Z"
   },
   {
    "duration": 11,
    "start_time": "2024-07-22T18:04:25.529Z"
   },
   {
    "duration": 18,
    "start_time": "2024-07-22T18:04:25.544Z"
   },
   {
    "duration": 60,
    "start_time": "2024-07-22T18:04:25.565Z"
   },
   {
    "duration": 15,
    "start_time": "2024-07-22T18:04:25.628Z"
   },
   {
    "duration": 3,
    "start_time": "2024-07-22T18:04:25.647Z"
   },
   {
    "duration": 5,
    "start_time": "2024-07-22T18:04:25.653Z"
   },
   {
    "duration": 4,
    "start_time": "2024-07-22T18:04:25.661Z"
   },
   {
    "duration": 51,
    "start_time": "2024-07-22T18:04:25.675Z"
   },
   {
    "duration": 5,
    "start_time": "2024-07-22T18:04:25.730Z"
   },
   {
    "duration": 3,
    "start_time": "2024-07-22T18:04:25.738Z"
   },
   {
    "duration": 7,
    "start_time": "2024-07-22T18:04:25.744Z"
   },
   {
    "duration": 4,
    "start_time": "2024-07-22T18:04:25.754Z"
   },
   {
    "duration": 4,
    "start_time": "2024-07-22T18:04:25.761Z"
   },
   {
    "duration": 4,
    "start_time": "2024-07-22T18:04:25.769Z"
   },
   {
    "duration": 4,
    "start_time": "2024-07-22T18:04:25.824Z"
   },
   {
    "duration": 8,
    "start_time": "2024-07-22T18:04:25.831Z"
   },
   {
    "duration": 3,
    "start_time": "2024-07-22T18:04:25.842Z"
   },
   {
    "duration": 4,
    "start_time": "2024-07-22T18:04:25.849Z"
   },
   {
    "duration": 6,
    "start_time": "2024-07-22T18:04:25.856Z"
   },
   {
    "duration": 3,
    "start_time": "2024-07-22T18:04:25.866Z"
   },
   {
    "duration": 23,
    "start_time": "2024-07-22T18:06:53.319Z"
   },
   {
    "duration": 438,
    "start_time": "2024-07-22T18:08:13.164Z"
   },
   {
    "duration": 5,
    "start_time": "2024-07-22T18:08:30.518Z"
   },
   {
    "duration": 24,
    "start_time": "2024-07-22T18:08:39.520Z"
   },
   {
    "duration": 4,
    "start_time": "2024-07-22T18:09:01.559Z"
   },
   {
    "duration": 46,
    "start_time": "2024-07-22T18:13:27.764Z"
   },
   {
    "duration": 19,
    "start_time": "2024-07-22T18:13:44.379Z"
   },
   {
    "duration": 10,
    "start_time": "2024-07-22T18:20:22.768Z"
   },
   {
    "duration": 11,
    "start_time": "2024-07-22T18:22:53.550Z"
   },
   {
    "duration": 40,
    "start_time": "2024-07-22T18:27:14.710Z"
   },
   {
    "duration": 18,
    "start_time": "2024-07-22T18:27:24.793Z"
   },
   {
    "duration": 15,
    "start_time": "2024-07-22T18:27:59.070Z"
   },
   {
    "duration": 13,
    "start_time": "2024-07-22T18:28:02.815Z"
   },
   {
    "duration": 22,
    "start_time": "2024-07-22T18:30:26.157Z"
   },
   {
    "duration": 13,
    "start_time": "2024-07-22T18:30:30.756Z"
   },
   {
    "duration": 850,
    "start_time": "2024-07-22T18:33:00.438Z"
   },
   {
    "duration": 1198,
    "start_time": "2024-07-22T18:33:15.229Z"
   },
   {
    "duration": 287,
    "start_time": "2024-07-22T18:33:16.431Z"
   },
   {
    "duration": 15,
    "start_time": "2024-07-22T18:33:16.721Z"
   },
   {
    "duration": 16,
    "start_time": "2024-07-22T18:33:16.740Z"
   },
   {
    "duration": 5,
    "start_time": "2024-07-22T18:33:16.762Z"
   },
   {
    "duration": 7,
    "start_time": "2024-07-22T18:33:16.770Z"
   },
   {
    "duration": 45,
    "start_time": "2024-07-22T18:33:16.780Z"
   },
   {
    "duration": 16,
    "start_time": "2024-07-22T18:33:16.829Z"
   },
   {
    "duration": 16,
    "start_time": "2024-07-22T18:33:16.847Z"
   },
   {
    "duration": 56,
    "start_time": "2024-07-22T18:33:16.866Z"
   },
   {
    "duration": 6,
    "start_time": "2024-07-22T18:33:16.925Z"
   },
   {
    "duration": 7,
    "start_time": "2024-07-22T18:33:16.934Z"
   },
   {
    "duration": 5,
    "start_time": "2024-07-22T18:33:16.944Z"
   },
   {
    "duration": 4,
    "start_time": "2024-07-22T18:33:16.957Z"
   },
   {
    "duration": 9,
    "start_time": "2024-07-22T18:33:16.964Z"
   },
   {
    "duration": 59,
    "start_time": "2024-07-22T18:33:16.975Z"
   },
   {
    "duration": 10,
    "start_time": "2024-07-22T18:33:17.037Z"
   },
   {
    "duration": 114,
    "start_time": "2024-07-22T18:33:17.049Z"
   },
   {
    "duration": 75,
    "start_time": "2024-07-22T18:33:17.166Z"
   },
   {
    "duration": 13,
    "start_time": "2024-07-22T18:33:17.244Z"
   },
   {
    "duration": 5,
    "start_time": "2024-07-22T18:33:17.260Z"
   },
   {
    "duration": 20,
    "start_time": "2024-07-22T18:33:17.268Z"
   },
   {
    "duration": 10,
    "start_time": "2024-07-22T18:33:17.324Z"
   },
   {
    "duration": 20,
    "start_time": "2024-07-22T18:33:17.337Z"
   },
   {
    "duration": 29,
    "start_time": "2024-07-22T18:33:17.363Z"
   },
   {
    "duration": 11,
    "start_time": "2024-07-22T18:33:17.425Z"
   },
   {
    "duration": 10,
    "start_time": "2024-07-22T18:33:17.439Z"
   },
   {
    "duration": 39,
    "start_time": "2024-07-22T18:33:17.452Z"
   },
   {
    "duration": 12,
    "start_time": "2024-07-22T18:33:17.524Z"
   },
   {
    "duration": 3,
    "start_time": "2024-07-22T18:33:17.540Z"
   },
   {
    "duration": 3,
    "start_time": "2024-07-22T18:33:17.547Z"
   },
   {
    "duration": 3,
    "start_time": "2024-07-22T18:33:17.554Z"
   },
   {
    "duration": 3,
    "start_time": "2024-07-22T18:33:17.560Z"
   },
   {
    "duration": 5,
    "start_time": "2024-07-22T18:33:17.566Z"
   },
   {
    "duration": 3,
    "start_time": "2024-07-22T18:33:17.624Z"
   },
   {
    "duration": 3,
    "start_time": "2024-07-22T18:33:17.630Z"
   },
   {
    "duration": 3,
    "start_time": "2024-07-22T18:33:17.637Z"
   },
   {
    "duration": 4,
    "start_time": "2024-07-22T18:33:17.643Z"
   },
   {
    "duration": 3,
    "start_time": "2024-07-22T18:33:17.650Z"
   },
   {
    "duration": 4,
    "start_time": "2024-07-22T18:33:17.656Z"
   },
   {
    "duration": 54,
    "start_time": "2024-07-22T18:33:17.668Z"
   },
   {
    "duration": 3,
    "start_time": "2024-07-22T18:33:17.725Z"
   },
   {
    "duration": 4,
    "start_time": "2024-07-22T18:33:17.731Z"
   },
   {
    "duration": 14,
    "start_time": "2024-07-22T18:33:17.737Z"
   },
   {
    "duration": 723,
    "start_time": "2024-07-22T18:35:13.174Z"
   },
   {
    "duration": 19,
    "start_time": "2024-07-22T18:35:51.033Z"
   },
   {
    "duration": 11,
    "start_time": "2024-07-22T18:59:37.758Z"
   },
   {
    "duration": 4784,
    "start_time": "2024-07-23T14:55:51.508Z"
   },
   {
    "duration": 352,
    "start_time": "2024-07-23T14:55:56.295Z"
   },
   {
    "duration": 18,
    "start_time": "2024-07-23T14:55:56.651Z"
   },
   {
    "duration": 16,
    "start_time": "2024-07-23T14:55:56.674Z"
   },
   {
    "duration": 6,
    "start_time": "2024-07-23T14:55:56.693Z"
   },
   {
    "duration": 10,
    "start_time": "2024-07-23T14:55:56.728Z"
   },
   {
    "duration": 9,
    "start_time": "2024-07-23T14:55:56.741Z"
   },
   {
    "duration": 18,
    "start_time": "2024-07-23T14:55:56.753Z"
   },
   {
    "duration": 15,
    "start_time": "2024-07-23T14:55:56.775Z"
   },
   {
    "duration": 9,
    "start_time": "2024-07-23T14:55:56.831Z"
   },
   {
    "duration": 5,
    "start_time": "2024-07-23T14:55:56.843Z"
   },
   {
    "duration": 8,
    "start_time": "2024-07-23T14:55:56.853Z"
   },
   {
    "duration": 5,
    "start_time": "2024-07-23T14:55:56.864Z"
   },
   {
    "duration": 4,
    "start_time": "2024-07-23T14:55:56.872Z"
   },
   {
    "duration": 7,
    "start_time": "2024-07-23T14:55:56.927Z"
   },
   {
    "duration": 29,
    "start_time": "2024-07-23T14:55:56.938Z"
   },
   {
    "duration": 23,
    "start_time": "2024-07-23T14:55:56.973Z"
   },
   {
    "duration": 57,
    "start_time": "2024-07-23T14:55:57.027Z"
   },
   {
    "duration": 51,
    "start_time": "2024-07-23T14:55:57.088Z"
   },
   {
    "duration": 16,
    "start_time": "2024-07-23T14:55:57.142Z"
   },
   {
    "duration": 9,
    "start_time": "2024-07-23T14:55:57.161Z"
   },
   {
    "duration": 52,
    "start_time": "2024-07-23T14:55:57.174Z"
   },
   {
    "duration": 10,
    "start_time": "2024-07-23T14:55:57.229Z"
   },
   {
    "duration": 20,
    "start_time": "2024-07-23T14:55:57.242Z"
   },
   {
    "duration": 62,
    "start_time": "2024-07-23T14:55:57.266Z"
   },
   {
    "duration": 12,
    "start_time": "2024-07-23T14:55:57.332Z"
   },
   {
    "duration": 11,
    "start_time": "2024-07-23T14:55:57.349Z"
   },
   {
    "duration": 77,
    "start_time": "2024-07-23T14:55:57.369Z"
   },
   {
    "duration": 25,
    "start_time": "2024-07-23T14:55:57.449Z"
   },
   {
    "duration": 15,
    "start_time": "2024-07-23T14:55:57.479Z"
   },
   {
    "duration": 38,
    "start_time": "2024-07-23T14:55:57.497Z"
   },
   {
    "duration": 3,
    "start_time": "2024-07-23T14:55:57.538Z"
   },
   {
    "duration": 4,
    "start_time": "2024-07-23T14:55:57.545Z"
   },
   {
    "duration": 16,
    "start_time": "2024-07-23T14:55:57.553Z"
   },
   {
    "duration": 4,
    "start_time": "2024-07-23T14:55:57.572Z"
   },
   {
    "duration": 6,
    "start_time": "2024-07-23T14:55:57.579Z"
   },
   {
    "duration": 36,
    "start_time": "2024-07-23T14:55:57.590Z"
   },
   {
    "duration": 4,
    "start_time": "2024-07-23T14:55:57.630Z"
   },
   {
    "duration": 4,
    "start_time": "2024-07-23T14:55:57.638Z"
   },
   {
    "duration": 4,
    "start_time": "2024-07-23T14:55:57.646Z"
   },
   {
    "duration": 3,
    "start_time": "2024-07-23T14:55:57.654Z"
   },
   {
    "duration": 3,
    "start_time": "2024-07-23T14:55:57.662Z"
   },
   {
    "duration": 58,
    "start_time": "2024-07-23T14:55:57.669Z"
   },
   {
    "duration": 3,
    "start_time": "2024-07-23T14:55:57.731Z"
   },
   {
    "duration": 4,
    "start_time": "2024-07-23T14:55:57.738Z"
   },
   {
    "duration": 11,
    "start_time": "2024-07-23T15:04:49.380Z"
   },
   {
    "duration": 10,
    "start_time": "2024-07-23T15:06:14.372Z"
   },
   {
    "duration": 13,
    "start_time": "2024-07-23T15:09:46.191Z"
   },
   {
    "duration": 14,
    "start_time": "2024-07-23T15:09:58.074Z"
   },
   {
    "duration": 14,
    "start_time": "2024-07-23T15:10:40.206Z"
   },
   {
    "duration": 12,
    "start_time": "2024-07-23T15:10:51.495Z"
   },
   {
    "duration": 12,
    "start_time": "2024-07-23T15:15:40.777Z"
   },
   {
    "duration": 18,
    "start_time": "2024-07-23T15:16:35.776Z"
   },
   {
    "duration": 15,
    "start_time": "2024-07-23T15:19:43.498Z"
   },
   {
    "duration": 21,
    "start_time": "2024-07-23T15:20:00.721Z"
   },
   {
    "duration": 23,
    "start_time": "2024-07-23T15:20:13.253Z"
   },
   {
    "duration": 17,
    "start_time": "2024-07-23T15:20:25.717Z"
   },
   {
    "duration": 19,
    "start_time": "2024-07-23T15:24:11.595Z"
   },
   {
    "duration": 25,
    "start_time": "2024-07-23T15:25:54.881Z"
   },
   {
    "duration": 20,
    "start_time": "2024-07-23T15:32:14.619Z"
   },
   {
    "duration": 21,
    "start_time": "2024-07-23T15:32:22.092Z"
   },
   {
    "duration": 15,
    "start_time": "2024-07-23T15:32:36.978Z"
   },
   {
    "duration": 16,
    "start_time": "2024-07-23T15:32:50.128Z"
   },
   {
    "duration": 11,
    "start_time": "2024-07-23T15:36:01.638Z"
   },
   {
    "duration": 18,
    "start_time": "2024-07-23T15:36:11.390Z"
   },
   {
    "duration": 12,
    "start_time": "2024-07-23T15:37:53.596Z"
   },
   {
    "duration": 1204,
    "start_time": "2024-07-23T15:45:34.633Z"
   },
   {
    "duration": 273,
    "start_time": "2024-07-23T15:45:35.840Z"
   },
   {
    "duration": 17,
    "start_time": "2024-07-23T15:45:36.116Z"
   },
   {
    "duration": 17,
    "start_time": "2024-07-23T15:45:36.138Z"
   },
   {
    "duration": 5,
    "start_time": "2024-07-23T15:45:36.158Z"
   },
   {
    "duration": 8,
    "start_time": "2024-07-23T15:45:36.167Z"
   },
   {
    "duration": 49,
    "start_time": "2024-07-23T15:45:36.177Z"
   },
   {
    "duration": 14,
    "start_time": "2024-07-23T15:45:36.230Z"
   },
   {
    "duration": 13,
    "start_time": "2024-07-23T15:45:36.247Z"
   },
   {
    "duration": 9,
    "start_time": "2024-07-23T15:45:36.266Z"
   },
   {
    "duration": 48,
    "start_time": "2024-07-23T15:45:36.278Z"
   },
   {
    "duration": 8,
    "start_time": "2024-07-23T15:45:36.328Z"
   },
   {
    "duration": 5,
    "start_time": "2024-07-23T15:45:36.340Z"
   },
   {
    "duration": 5,
    "start_time": "2024-07-23T15:45:36.349Z"
   },
   {
    "duration": 6,
    "start_time": "2024-07-23T15:45:36.356Z"
   },
   {
    "duration": 71,
    "start_time": "2024-07-23T15:45:36.365Z"
   },
   {
    "duration": 11,
    "start_time": "2024-07-23T15:45:36.440Z"
   },
   {
    "duration": 83,
    "start_time": "2024-07-23T15:45:36.454Z"
   },
   {
    "duration": 30,
    "start_time": "2024-07-23T15:45:36.539Z"
   },
   {
    "duration": 15,
    "start_time": "2024-07-23T15:45:36.571Z"
   },
   {
    "duration": 44,
    "start_time": "2024-07-23T15:45:36.589Z"
   },
   {
    "duration": 7,
    "start_time": "2024-07-23T15:45:36.635Z"
   },
   {
    "duration": 20,
    "start_time": "2024-07-23T15:45:36.645Z"
   },
   {
    "duration": 10,
    "start_time": "2024-07-23T15:45:36.669Z"
   },
   {
    "duration": 52,
    "start_time": "2024-07-23T15:45:36.682Z"
   },
   {
    "duration": 10,
    "start_time": "2024-07-23T15:45:36.738Z"
   },
   {
    "duration": 21,
    "start_time": "2024-07-23T15:45:36.751Z"
   },
   {
    "duration": 11,
    "start_time": "2024-07-23T15:45:36.780Z"
   },
   {
    "duration": 11,
    "start_time": "2024-07-23T15:45:36.827Z"
   },
   {
    "duration": 4,
    "start_time": "2024-07-23T15:45:36.840Z"
   },
   {
    "duration": 79,
    "start_time": "2024-07-23T15:45:36.847Z"
   },
   {
    "duration": 11,
    "start_time": "2024-07-23T15:45:36.929Z"
   },
   {
    "duration": 17,
    "start_time": "2024-07-23T15:45:36.943Z"
   },
   {
    "duration": 72,
    "start_time": "2024-07-23T15:45:36.964Z"
   },
   {
    "duration": 17,
    "start_time": "2024-07-23T15:45:37.039Z"
   },
   {
    "duration": 13,
    "start_time": "2024-07-23T15:45:37.059Z"
   },
   {
    "duration": 4,
    "start_time": "2024-07-23T15:45:37.074Z"
   },
   {
    "duration": 3,
    "start_time": "2024-07-23T15:45:37.127Z"
   },
   {
    "duration": 3,
    "start_time": "2024-07-23T15:45:37.133Z"
   },
   {
    "duration": 3,
    "start_time": "2024-07-23T15:45:37.138Z"
   },
   {
    "duration": 3,
    "start_time": "2024-07-23T15:45:37.144Z"
   },
   {
    "duration": 3,
    "start_time": "2024-07-23T15:45:37.150Z"
   },
   {
    "duration": 3,
    "start_time": "2024-07-23T15:45:37.157Z"
   },
   {
    "duration": 3,
    "start_time": "2024-07-23T15:45:37.163Z"
   },
   {
    "duration": 3,
    "start_time": "2024-07-23T15:45:37.169Z"
   },
   {
    "duration": 3,
    "start_time": "2024-07-23T15:45:37.174Z"
   },
   {
    "duration": 3,
    "start_time": "2024-07-23T15:45:37.180Z"
   },
   {
    "duration": 4,
    "start_time": "2024-07-23T15:45:37.186Z"
   },
   {
    "duration": 12,
    "start_time": "2024-07-23T15:46:34.920Z"
   },
   {
    "duration": 21,
    "start_time": "2024-07-23T15:49:43.302Z"
   },
   {
    "duration": 24,
    "start_time": "2024-07-23T15:51:44.183Z"
   },
   {
    "duration": 24,
    "start_time": "2024-07-23T15:52:22.992Z"
   },
   {
    "duration": 24,
    "start_time": "2024-07-23T15:52:31.960Z"
   },
   {
    "duration": 25,
    "start_time": "2024-07-23T15:52:40.583Z"
   },
   {
    "duration": 25,
    "start_time": "2024-07-23T15:53:04.526Z"
   },
   {
    "duration": 22,
    "start_time": "2024-07-23T16:00:54.076Z"
   },
   {
    "duration": 328,
    "start_time": "2024-07-23T17:22:56.644Z"
   },
   {
    "duration": 4996,
    "start_time": "2024-07-23T17:23:15.027Z"
   },
   {
    "duration": 374,
    "start_time": "2024-07-23T17:23:20.027Z"
   },
   {
    "duration": 17,
    "start_time": "2024-07-23T17:23:20.404Z"
   },
   {
    "duration": 17,
    "start_time": "2024-07-23T17:23:20.426Z"
   },
   {
    "duration": 6,
    "start_time": "2024-07-23T17:23:20.446Z"
   },
   {
    "duration": 48,
    "start_time": "2024-07-23T17:23:20.456Z"
   },
   {
    "duration": 6,
    "start_time": "2024-07-23T17:23:20.507Z"
   },
   {
    "duration": 17,
    "start_time": "2024-07-23T17:23:20.517Z"
   },
   {
    "duration": 15,
    "start_time": "2024-07-23T17:23:20.537Z"
   },
   {
    "duration": 50,
    "start_time": "2024-07-23T17:23:20.558Z"
   },
   {
    "duration": 6,
    "start_time": "2024-07-23T17:23:20.611Z"
   },
   {
    "duration": 8,
    "start_time": "2024-07-23T17:23:20.620Z"
   },
   {
    "duration": 5,
    "start_time": "2024-07-23T17:23:20.632Z"
   },
   {
    "duration": 5,
    "start_time": "2024-07-23T17:23:20.640Z"
   },
   {
    "duration": 57,
    "start_time": "2024-07-23T17:23:20.650Z"
   },
   {
    "duration": 33,
    "start_time": "2024-07-23T17:23:20.711Z"
   },
   {
    "duration": 11,
    "start_time": "2024-07-23T17:23:20.747Z"
   },
   {
    "duration": 94,
    "start_time": "2024-07-23T17:23:20.762Z"
   },
   {
    "duration": 48,
    "start_time": "2024-07-23T17:23:20.859Z"
   },
   {
    "duration": 16,
    "start_time": "2024-07-23T17:23:20.909Z"
   },
   {
    "duration": 16,
    "start_time": "2024-07-23T17:23:20.928Z"
   },
   {
    "duration": 5,
    "start_time": "2024-07-23T17:23:20.947Z"
   },
   {
    "duration": 57,
    "start_time": "2024-07-23T17:23:20.955Z"
   },
   {
    "duration": 11,
    "start_time": "2024-07-23T17:23:21.015Z"
   },
   {
    "duration": 20,
    "start_time": "2024-07-23T17:23:21.030Z"
   },
   {
    "duration": 48,
    "start_time": "2024-07-23T17:23:21.053Z"
   },
   {
    "duration": 23,
    "start_time": "2024-07-23T17:23:21.105Z"
   },
   {
    "duration": 13,
    "start_time": "2024-07-23T17:23:21.136Z"
   },
   {
    "duration": 49,
    "start_time": "2024-07-23T17:23:21.152Z"
   },
   {
    "duration": 4,
    "start_time": "2024-07-23T17:23:21.204Z"
   },
   {
    "duration": 22,
    "start_time": "2024-07-23T17:23:21.211Z"
   },
   {
    "duration": 11,
    "start_time": "2024-07-23T17:23:21.236Z"
   },
   {
    "duration": 52,
    "start_time": "2024-07-23T17:23:21.250Z"
   },
   {
    "duration": 17,
    "start_time": "2024-07-23T17:23:21.307Z"
   },
   {
    "duration": 14,
    "start_time": "2024-07-23T17:23:21.326Z"
   },
   {
    "duration": 12,
    "start_time": "2024-07-23T17:23:21.343Z"
   },
   {
    "duration": 62,
    "start_time": "2024-07-23T17:23:21.358Z"
   },
   {
    "duration": 427,
    "start_time": "2024-07-23T17:23:21.423Z"
   },
   {
    "duration": 0,
    "start_time": "2024-07-23T17:23:21.853Z"
   },
   {
    "duration": 1,
    "start_time": "2024-07-23T17:23:21.855Z"
   },
   {
    "duration": 0,
    "start_time": "2024-07-23T17:23:21.858Z"
   },
   {
    "duration": 0,
    "start_time": "2024-07-23T17:23:21.860Z"
   },
   {
    "duration": 0,
    "start_time": "2024-07-23T17:23:21.862Z"
   },
   {
    "duration": 0,
    "start_time": "2024-07-23T17:23:21.865Z"
   },
   {
    "duration": 0,
    "start_time": "2024-07-23T17:23:21.866Z"
   },
   {
    "duration": 0,
    "start_time": "2024-07-23T17:23:21.869Z"
   },
   {
    "duration": 0,
    "start_time": "2024-07-23T17:23:21.871Z"
   },
   {
    "duration": 0,
    "start_time": "2024-07-23T17:23:21.902Z"
   },
   {
    "duration": 10,
    "start_time": "2024-07-23T17:23:35.025Z"
   },
   {
    "duration": 20,
    "start_time": "2024-07-23T17:23:45.109Z"
   },
   {
    "duration": 13,
    "start_time": "2024-07-23T17:24:52.902Z"
   },
   {
    "duration": 20,
    "start_time": "2024-07-23T17:25:14.444Z"
   },
   {
    "duration": 19,
    "start_time": "2024-07-23T17:25:53.574Z"
   },
   {
    "duration": 335,
    "start_time": "2024-07-23T17:27:08.527Z"
   },
   {
    "duration": 1268,
    "start_time": "2024-07-23T17:27:19.482Z"
   },
   {
    "duration": 277,
    "start_time": "2024-07-23T17:27:20.753Z"
   },
   {
    "duration": 17,
    "start_time": "2024-07-23T17:27:21.033Z"
   },
   {
    "duration": 16,
    "start_time": "2024-07-23T17:27:21.055Z"
   },
   {
    "duration": 30,
    "start_time": "2024-07-23T17:27:21.074Z"
   },
   {
    "duration": 8,
    "start_time": "2024-07-23T17:27:21.108Z"
   },
   {
    "duration": 6,
    "start_time": "2024-07-23T17:27:21.119Z"
   },
   {
    "duration": 15,
    "start_time": "2024-07-23T17:27:21.128Z"
   },
   {
    "duration": 56,
    "start_time": "2024-07-23T17:27:21.149Z"
   },
   {
    "duration": 9,
    "start_time": "2024-07-23T17:27:21.213Z"
   },
   {
    "duration": 6,
    "start_time": "2024-07-23T17:27:21.225Z"
   },
   {
    "duration": 8,
    "start_time": "2024-07-23T17:27:21.235Z"
   },
   {
    "duration": 56,
    "start_time": "2024-07-23T17:27:21.246Z"
   },
   {
    "duration": 4,
    "start_time": "2024-07-23T17:27:21.305Z"
   },
   {
    "duration": 5,
    "start_time": "2024-07-23T17:27:21.313Z"
   },
   {
    "duration": 27,
    "start_time": "2024-07-23T17:27:21.322Z"
   },
   {
    "duration": 52,
    "start_time": "2024-07-23T17:27:21.352Z"
   },
   {
    "duration": 61,
    "start_time": "2024-07-23T17:27:21.408Z"
   },
   {
    "duration": 60,
    "start_time": "2024-07-23T17:27:21.472Z"
   },
   {
    "duration": 16,
    "start_time": "2024-07-23T17:27:21.537Z"
   },
   {
    "duration": 17,
    "start_time": "2024-07-23T17:27:21.556Z"
   },
   {
    "duration": 28,
    "start_time": "2024-07-23T17:27:21.575Z"
   },
   {
    "duration": 20,
    "start_time": "2024-07-23T17:27:21.607Z"
   },
   {
    "duration": 11,
    "start_time": "2024-07-23T17:27:21.631Z"
   },
   {
    "duration": 63,
    "start_time": "2024-07-23T17:27:21.646Z"
   },
   {
    "duration": 11,
    "start_time": "2024-07-23T17:27:21.713Z"
   },
   {
    "duration": 24,
    "start_time": "2024-07-23T17:27:21.727Z"
   },
   {
    "duration": 45,
    "start_time": "2024-07-23T17:27:21.759Z"
   },
   {
    "duration": 11,
    "start_time": "2024-07-23T17:27:21.807Z"
   },
   {
    "duration": 4,
    "start_time": "2024-07-23T17:27:21.821Z"
   },
   {
    "duration": 24,
    "start_time": "2024-07-23T17:27:21.827Z"
   },
   {
    "duration": 47,
    "start_time": "2024-07-23T17:27:21.854Z"
   },
   {
    "duration": 14,
    "start_time": "2024-07-23T17:27:21.904Z"
   },
   {
    "duration": 24,
    "start_time": "2024-07-23T17:27:21.921Z"
   },
   {
    "duration": 54,
    "start_time": "2024-07-23T17:27:21.948Z"
   },
   {
    "duration": 18,
    "start_time": "2024-07-23T17:27:22.007Z"
   },
   {
    "duration": 30,
    "start_time": "2024-07-23T17:27:22.028Z"
   },
   {
    "duration": 52,
    "start_time": "2024-07-23T17:27:22.061Z"
   },
   {
    "duration": 4,
    "start_time": "2024-07-23T17:27:22.116Z"
   },
   {
    "duration": 4,
    "start_time": "2024-07-23T17:27:22.123Z"
   },
   {
    "duration": 4,
    "start_time": "2024-07-23T17:27:22.130Z"
   },
   {
    "duration": 5,
    "start_time": "2024-07-23T17:27:22.137Z"
   },
   {
    "duration": 4,
    "start_time": "2024-07-23T17:27:22.145Z"
   },
   {
    "duration": 52,
    "start_time": "2024-07-23T17:27:22.152Z"
   },
   {
    "duration": 3,
    "start_time": "2024-07-23T17:27:22.209Z"
   },
   {
    "duration": 3,
    "start_time": "2024-07-23T17:27:22.219Z"
   },
   {
    "duration": 3,
    "start_time": "2024-07-23T17:27:22.226Z"
   },
   {
    "duration": 4,
    "start_time": "2024-07-23T17:27:22.233Z"
   },
   {
    "duration": 11,
    "start_time": "2024-07-23T17:31:58.872Z"
   },
   {
    "duration": 15,
    "start_time": "2024-07-23T17:32:12.421Z"
   },
   {
    "duration": 27,
    "start_time": "2024-07-23T17:32:29.435Z"
   },
   {
    "duration": 33,
    "start_time": "2024-07-23T17:33:18.329Z"
   },
   {
    "duration": 18,
    "start_time": "2024-07-23T17:34:10.392Z"
   },
   {
    "duration": 22,
    "start_time": "2024-07-23T17:34:30.678Z"
   },
   {
    "duration": 7,
    "start_time": "2024-07-23T17:35:20.987Z"
   },
   {
    "duration": 19,
    "start_time": "2024-07-23T17:35:39.779Z"
   },
   {
    "duration": 24,
    "start_time": "2024-07-23T17:36:15.005Z"
   },
   {
    "duration": 415,
    "start_time": "2024-07-23T17:53:45.154Z"
   },
   {
    "duration": 38,
    "start_time": "2024-07-23T17:55:40.385Z"
   },
   {
    "duration": 877,
    "start_time": "2024-07-23T18:01:08.776Z"
   },
   {
    "duration": 41,
    "start_time": "2024-07-23T18:02:24.268Z"
   },
   {
    "duration": 26,
    "start_time": "2024-07-23T18:02:53.415Z"
   },
   {
    "duration": 27,
    "start_time": "2024-07-23T18:03:28.356Z"
   },
   {
    "duration": 30,
    "start_time": "2024-07-23T18:06:18.925Z"
   },
   {
    "duration": 46,
    "start_time": "2024-07-23T18:06:30.133Z"
   },
   {
    "duration": 37,
    "start_time": "2024-07-23T18:09:33.639Z"
   },
   {
    "duration": 31,
    "start_time": "2024-07-23T18:09:52.787Z"
   },
   {
    "duration": 45,
    "start_time": "2024-07-23T18:10:07.910Z"
   },
   {
    "duration": 43,
    "start_time": "2024-07-23T18:11:20.893Z"
   },
   {
    "duration": 355,
    "start_time": "2024-07-23T21:59:56.765Z"
   },
   {
    "duration": 30,
    "start_time": "2024-07-23T22:00:17.697Z"
   },
   {
    "duration": 5329,
    "start_time": "2024-07-23T22:00:35.554Z"
   },
   {
    "duration": 420,
    "start_time": "2024-07-23T22:00:40.886Z"
   },
   {
    "duration": 17,
    "start_time": "2024-07-23T22:00:41.309Z"
   },
   {
    "duration": 17,
    "start_time": "2024-07-23T22:00:41.330Z"
   },
   {
    "duration": 36,
    "start_time": "2024-07-23T22:00:41.350Z"
   },
   {
    "duration": 13,
    "start_time": "2024-07-23T22:00:41.389Z"
   },
   {
    "duration": 5,
    "start_time": "2024-07-23T22:00:41.405Z"
   },
   {
    "duration": 14,
    "start_time": "2024-07-23T22:00:41.413Z"
   },
   {
    "duration": 42,
    "start_time": "2024-07-23T22:00:41.431Z"
   },
   {
    "duration": 16,
    "start_time": "2024-07-23T22:00:41.487Z"
   },
   {
    "duration": 10,
    "start_time": "2024-07-23T22:00:41.506Z"
   },
   {
    "duration": 9,
    "start_time": "2024-07-23T22:00:41.525Z"
   },
   {
    "duration": 6,
    "start_time": "2024-07-23T22:00:41.537Z"
   },
   {
    "duration": 26,
    "start_time": "2024-07-23T22:00:41.546Z"
   },
   {
    "duration": 16,
    "start_time": "2024-07-23T22:00:41.575Z"
   },
   {
    "duration": 31,
    "start_time": "2024-07-23T22:00:41.596Z"
   },
   {
    "duration": 11,
    "start_time": "2024-07-23T22:00:41.630Z"
   },
   {
    "duration": 66,
    "start_time": "2024-07-23T22:00:41.671Z"
   },
   {
    "duration": 42,
    "start_time": "2024-07-23T22:00:41.740Z"
   },
   {
    "duration": 17,
    "start_time": "2024-07-23T22:00:41.786Z"
   },
   {
    "duration": 16,
    "start_time": "2024-07-23T22:00:41.805Z"
   },
   {
    "duration": 5,
    "start_time": "2024-07-23T22:00:41.823Z"
   },
   {
    "duration": 53,
    "start_time": "2024-07-23T22:00:41.831Z"
   },
   {
    "duration": 14,
    "start_time": "2024-07-23T22:00:41.891Z"
   },
   {
    "duration": 18,
    "start_time": "2024-07-23T22:00:41.909Z"
   },
   {
    "duration": 41,
    "start_time": "2024-07-23T22:00:41.930Z"
   },
   {
    "duration": 33,
    "start_time": "2024-07-23T22:00:41.980Z"
   },
   {
    "duration": 11,
    "start_time": "2024-07-23T22:00:42.021Z"
   },
   {
    "duration": 35,
    "start_time": "2024-07-23T22:00:42.035Z"
   },
   {
    "duration": 8,
    "start_time": "2024-07-23T22:00:42.085Z"
   },
   {
    "duration": 23,
    "start_time": "2024-07-23T22:00:42.101Z"
   },
   {
    "duration": 12,
    "start_time": "2024-07-23T22:00:42.127Z"
   },
   {
    "duration": 28,
    "start_time": "2024-07-23T22:00:42.142Z"
   },
   {
    "duration": 38,
    "start_time": "2024-07-23T22:00:42.175Z"
   },
   {
    "duration": 16,
    "start_time": "2024-07-23T22:00:42.216Z"
   },
   {
    "duration": 39,
    "start_time": "2024-07-23T22:00:42.235Z"
   },
   {
    "duration": 27,
    "start_time": "2024-07-23T22:00:42.286Z"
   },
   {
    "duration": 44,
    "start_time": "2024-07-23T22:00:42.316Z"
   },
   {
    "duration": 16,
    "start_time": "2024-07-23T22:00:42.368Z"
   },
   {
    "duration": 9,
    "start_time": "2024-07-23T22:00:42.390Z"
   },
   {
    "duration": 5,
    "start_time": "2024-07-23T22:00:42.402Z"
   },
   {
    "duration": 3,
    "start_time": "2024-07-23T22:00:42.411Z"
   },
   {
    "duration": 3,
    "start_time": "2024-07-23T22:00:42.418Z"
   },
   {
    "duration": 3,
    "start_time": "2024-07-23T22:00:42.424Z"
   },
   {
    "duration": 4,
    "start_time": "2024-07-23T22:00:42.467Z"
   },
   {
    "duration": 7,
    "start_time": "2024-07-23T22:00:42.475Z"
   },
   {
    "duration": 13,
    "start_time": "2024-07-23T22:00:42.485Z"
   },
   {
    "duration": 3,
    "start_time": "2024-07-23T22:00:42.504Z"
   },
   {
    "duration": 55,
    "start_time": "2024-07-23T22:01:26.948Z"
   },
   {
    "duration": 49,
    "start_time": "2024-07-23T22:02:16.868Z"
   },
   {
    "duration": 1370,
    "start_time": "2024-07-23T22:09:44.725Z"
   },
   {
    "duration": 380,
    "start_time": "2024-07-23T22:09:46.099Z"
   },
   {
    "duration": 24,
    "start_time": "2024-07-23T22:09:46.491Z"
   },
   {
    "duration": 18,
    "start_time": "2024-07-23T22:09:46.522Z"
   },
   {
    "duration": 8,
    "start_time": "2024-07-23T22:09:46.543Z"
   },
   {
    "duration": 28,
    "start_time": "2024-07-23T22:09:46.555Z"
   },
   {
    "duration": 9,
    "start_time": "2024-07-23T22:09:46.591Z"
   },
   {
    "duration": 16,
    "start_time": "2024-07-23T22:09:46.611Z"
   },
   {
    "duration": 15,
    "start_time": "2024-07-23T22:09:46.631Z"
   },
   {
    "duration": 17,
    "start_time": "2024-07-23T22:09:46.670Z"
   },
   {
    "duration": 18,
    "start_time": "2024-07-23T22:09:46.691Z"
   },
   {
    "duration": 11,
    "start_time": "2024-07-23T22:09:46.713Z"
   },
   {
    "duration": 6,
    "start_time": "2024-07-23T22:09:46.727Z"
   },
   {
    "duration": 34,
    "start_time": "2024-07-23T22:09:46.737Z"
   },
   {
    "duration": 17,
    "start_time": "2024-07-23T22:09:46.773Z"
   },
   {
    "duration": 40,
    "start_time": "2024-07-23T22:09:46.796Z"
   },
   {
    "duration": 30,
    "start_time": "2024-07-23T22:09:46.841Z"
   },
   {
    "duration": 78,
    "start_time": "2024-07-23T22:09:46.874Z"
   },
   {
    "duration": 43,
    "start_time": "2024-07-23T22:09:46.956Z"
   },
   {
    "duration": 17,
    "start_time": "2024-07-23T22:09:47.002Z"
   },
   {
    "duration": 15,
    "start_time": "2024-07-23T22:09:47.022Z"
   },
   {
    "duration": 27,
    "start_time": "2024-07-23T22:09:47.040Z"
   },
   {
    "duration": 33,
    "start_time": "2024-07-23T22:09:47.079Z"
   },
   {
    "duration": 12,
    "start_time": "2024-07-23T22:09:47.116Z"
   },
   {
    "duration": 41,
    "start_time": "2024-07-23T22:09:47.132Z"
   },
   {
    "duration": 14,
    "start_time": "2024-07-23T22:09:47.176Z"
   },
   {
    "duration": 32,
    "start_time": "2024-07-23T22:09:47.193Z"
   },
   {
    "duration": 36,
    "start_time": "2024-07-23T22:09:47.235Z"
   },
   {
    "duration": 20,
    "start_time": "2024-07-23T22:09:47.274Z"
   },
   {
    "duration": 22,
    "start_time": "2024-07-23T22:09:47.297Z"
   },
   {
    "duration": 29,
    "start_time": "2024-07-23T22:09:47.329Z"
   },
   {
    "duration": 16,
    "start_time": "2024-07-23T22:09:47.362Z"
   },
   {
    "duration": 17,
    "start_time": "2024-07-23T22:09:47.381Z"
   },
   {
    "duration": 44,
    "start_time": "2024-07-23T22:09:47.422Z"
   },
   {
    "duration": 34,
    "start_time": "2024-07-23T22:09:47.469Z"
   },
   {
    "duration": 27,
    "start_time": "2024-07-23T22:09:47.512Z"
   },
   {
    "duration": 36,
    "start_time": "2024-07-23T22:09:47.545Z"
   },
   {
    "duration": 55,
    "start_time": "2024-07-23T22:09:47.589Z"
   },
   {
    "duration": 4,
    "start_time": "2024-07-23T22:09:47.648Z"
   },
   {
    "duration": 17,
    "start_time": "2024-07-23T22:09:47.655Z"
   },
   {
    "duration": 9,
    "start_time": "2024-07-23T22:09:47.680Z"
   },
   {
    "duration": 7,
    "start_time": "2024-07-23T22:09:47.703Z"
   },
   {
    "duration": 4,
    "start_time": "2024-07-23T22:09:47.720Z"
   },
   {
    "duration": 3,
    "start_time": "2024-07-23T22:09:47.727Z"
   },
   {
    "duration": 3,
    "start_time": "2024-07-23T22:09:47.734Z"
   },
   {
    "duration": 5,
    "start_time": "2024-07-23T22:09:47.741Z"
   },
   {
    "duration": 18,
    "start_time": "2024-07-23T22:09:47.754Z"
   },
   {
    "duration": 5,
    "start_time": "2024-07-23T22:09:47.776Z"
   },
   {
    "duration": 40,
    "start_time": "2024-07-23T22:12:44.180Z"
   },
   {
    "duration": 39,
    "start_time": "2024-07-23T22:16:19.478Z"
   },
   {
    "duration": 4872,
    "start_time": "2024-07-24T14:37:51.552Z"
   },
   {
    "duration": 381,
    "start_time": "2024-07-24T14:37:56.428Z"
   },
   {
    "duration": 16,
    "start_time": "2024-07-24T14:37:56.812Z"
   },
   {
    "duration": 20,
    "start_time": "2024-07-24T14:37:56.833Z"
   },
   {
    "duration": 6,
    "start_time": "2024-07-24T14:37:56.857Z"
   },
   {
    "duration": 9,
    "start_time": "2024-07-24T14:37:56.867Z"
   },
   {
    "duration": 6,
    "start_time": "2024-07-24T14:37:56.879Z"
   },
   {
    "duration": 59,
    "start_time": "2024-07-24T14:37:56.889Z"
   },
   {
    "duration": 14,
    "start_time": "2024-07-24T14:37:56.951Z"
   },
   {
    "duration": 9,
    "start_time": "2024-07-24T14:37:56.972Z"
   },
   {
    "duration": 6,
    "start_time": "2024-07-24T14:37:56.984Z"
   },
   {
    "duration": 9,
    "start_time": "2024-07-24T14:37:57.036Z"
   },
   {
    "duration": 7,
    "start_time": "2024-07-24T14:37:57.048Z"
   },
   {
    "duration": 5,
    "start_time": "2024-07-24T14:37:57.058Z"
   },
   {
    "duration": 5,
    "start_time": "2024-07-24T14:37:57.067Z"
   },
   {
    "duration": 66,
    "start_time": "2024-07-24T14:37:57.075Z"
   },
   {
    "duration": 11,
    "start_time": "2024-07-24T14:37:57.144Z"
   },
   {
    "duration": 82,
    "start_time": "2024-07-24T14:37:57.159Z"
   },
   {
    "duration": 30,
    "start_time": "2024-07-24T14:37:57.244Z"
   },
   {
    "duration": 14,
    "start_time": "2024-07-24T14:37:57.276Z"
   },
   {
    "duration": 46,
    "start_time": "2024-07-24T14:37:57.293Z"
   },
   {
    "duration": 5,
    "start_time": "2024-07-24T14:37:57.342Z"
   },
   {
    "duration": 20,
    "start_time": "2024-07-24T14:37:57.350Z"
   },
   {
    "duration": 10,
    "start_time": "2024-07-24T14:37:57.373Z"
   },
   {
    "duration": 54,
    "start_time": "2024-07-24T14:37:57.386Z"
   },
   {
    "duration": 10,
    "start_time": "2024-07-24T14:37:57.442Z"
   },
   {
    "duration": 24,
    "start_time": "2024-07-24T14:37:57.455Z"
   },
   {
    "duration": 10,
    "start_time": "2024-07-24T14:37:57.487Z"
   },
   {
    "duration": 10,
    "start_time": "2024-07-24T14:37:57.536Z"
   },
   {
    "duration": 4,
    "start_time": "2024-07-24T14:37:57.548Z"
   },
   {
    "duration": 21,
    "start_time": "2024-07-24T14:37:57.556Z"
   },
   {
    "duration": 12,
    "start_time": "2024-07-24T14:37:57.580Z"
   },
   {
    "duration": 50,
    "start_time": "2024-07-24T14:37:57.595Z"
   },
   {
    "duration": 25,
    "start_time": "2024-07-24T14:37:57.648Z"
   },
   {
    "duration": 17,
    "start_time": "2024-07-24T14:37:57.675Z"
   },
   {
    "duration": 49,
    "start_time": "2024-07-24T14:37:57.695Z"
   },
   {
    "duration": 25,
    "start_time": "2024-07-24T14:37:57.746Z"
   },
   {
    "duration": 63,
    "start_time": "2024-07-24T14:37:57.774Z"
   },
   {
    "duration": 412,
    "start_time": "2024-07-24T14:37:57.840Z"
   },
   {
    "duration": 0,
    "start_time": "2024-07-24T14:37:58.255Z"
   },
   {
    "duration": 0,
    "start_time": "2024-07-24T14:37:58.258Z"
   },
   {
    "duration": 0,
    "start_time": "2024-07-24T14:37:58.260Z"
   },
   {
    "duration": 0,
    "start_time": "2024-07-24T14:37:58.263Z"
   },
   {
    "duration": 0,
    "start_time": "2024-07-24T14:37:58.266Z"
   },
   {
    "duration": 0,
    "start_time": "2024-07-24T14:37:58.268Z"
   },
   {
    "duration": 0,
    "start_time": "2024-07-24T14:37:58.270Z"
   },
   {
    "duration": 0,
    "start_time": "2024-07-24T14:37:58.273Z"
   },
   {
    "duration": 0,
    "start_time": "2024-07-24T14:37:58.275Z"
   },
   {
    "duration": 11,
    "start_time": "2024-07-24T14:38:13.552Z"
   },
   {
    "duration": 50,
    "start_time": "2024-07-24T14:38:20.779Z"
   },
   {
    "duration": 1148,
    "start_time": "2024-07-24T14:48:20.108Z"
   },
   {
    "duration": 274,
    "start_time": "2024-07-24T14:48:21.260Z"
   },
   {
    "duration": 16,
    "start_time": "2024-07-24T14:48:21.537Z"
   },
   {
    "duration": 17,
    "start_time": "2024-07-24T14:48:21.557Z"
   },
   {
    "duration": 5,
    "start_time": "2024-07-24T14:48:21.577Z"
   },
   {
    "duration": 23,
    "start_time": "2024-07-24T14:48:21.585Z"
   },
   {
    "duration": 28,
    "start_time": "2024-07-24T14:48:21.610Z"
   },
   {
    "duration": 16,
    "start_time": "2024-07-24T14:48:21.641Z"
   },
   {
    "duration": 14,
    "start_time": "2024-07-24T14:48:21.660Z"
   },
   {
    "duration": 8,
    "start_time": "2024-07-24T14:48:21.680Z"
   },
   {
    "duration": 5,
    "start_time": "2024-07-24T14:48:21.734Z"
   },
   {
    "duration": 9,
    "start_time": "2024-07-24T14:48:21.743Z"
   },
   {
    "duration": 6,
    "start_time": "2024-07-24T14:48:21.757Z"
   },
   {
    "duration": 6,
    "start_time": "2024-07-24T14:48:21.765Z"
   },
   {
    "duration": 8,
    "start_time": "2024-07-24T14:48:21.774Z"
   },
   {
    "duration": 71,
    "start_time": "2024-07-24T14:48:21.784Z"
   },
   {
    "duration": 11,
    "start_time": "2024-07-24T14:48:21.861Z"
   },
   {
    "duration": 84,
    "start_time": "2024-07-24T14:48:21.876Z"
   },
   {
    "duration": 29,
    "start_time": "2024-07-24T14:48:21.963Z"
   },
   {
    "duration": 13,
    "start_time": "2024-07-24T14:48:21.994Z"
   },
   {
    "duration": 34,
    "start_time": "2024-07-24T14:48:22.010Z"
   },
   {
    "duration": 5,
    "start_time": "2024-07-24T14:48:22.047Z"
   },
   {
    "duration": 19,
    "start_time": "2024-07-24T14:48:22.055Z"
   },
   {
    "duration": 11,
    "start_time": "2024-07-24T14:48:22.077Z"
   },
   {
    "duration": 58,
    "start_time": "2024-07-24T14:48:22.091Z"
   },
   {
    "duration": 9,
    "start_time": "2024-07-24T14:48:22.152Z"
   },
   {
    "duration": 23,
    "start_time": "2024-07-24T14:48:22.164Z"
   },
   {
    "duration": 43,
    "start_time": "2024-07-24T14:48:22.195Z"
   },
   {
    "duration": 11,
    "start_time": "2024-07-24T14:48:22.241Z"
   },
   {
    "duration": 4,
    "start_time": "2024-07-24T14:48:22.255Z"
   },
   {
    "duration": 22,
    "start_time": "2024-07-24T14:48:22.262Z"
   },
   {
    "duration": 56,
    "start_time": "2024-07-24T14:48:22.287Z"
   },
   {
    "duration": 14,
    "start_time": "2024-07-24T14:48:22.346Z"
   },
   {
    "duration": 22,
    "start_time": "2024-07-24T14:48:22.364Z"
   },
   {
    "duration": 52,
    "start_time": "2024-07-24T14:48:22.390Z"
   },
   {
    "duration": 17,
    "start_time": "2024-07-24T14:48:22.445Z"
   },
   {
    "duration": 26,
    "start_time": "2024-07-24T14:48:22.465Z"
   },
   {
    "duration": 63,
    "start_time": "2024-07-24T14:48:22.494Z"
   },
   {
    "duration": 40,
    "start_time": "2024-07-24T14:48:22.560Z"
   },
   {
    "duration": 31,
    "start_time": "2024-07-24T14:48:22.603Z"
   },
   {
    "duration": 5,
    "start_time": "2024-07-24T14:48:22.637Z"
   },
   {
    "duration": 4,
    "start_time": "2024-07-24T14:48:22.645Z"
   },
   {
    "duration": 4,
    "start_time": "2024-07-24T14:48:22.652Z"
   },
   {
    "duration": 4,
    "start_time": "2024-07-24T14:48:22.660Z"
   },
   {
    "duration": 3,
    "start_time": "2024-07-24T14:48:22.667Z"
   },
   {
    "duration": 5,
    "start_time": "2024-07-24T14:48:22.673Z"
   },
   {
    "duration": 4,
    "start_time": "2024-07-24T14:48:22.733Z"
   },
   {
    "duration": 4,
    "start_time": "2024-07-24T14:48:22.740Z"
   },
   {
    "duration": 1162,
    "start_time": "2024-07-24T14:50:12.889Z"
   },
   {
    "duration": 314,
    "start_time": "2024-07-24T14:50:14.055Z"
   },
   {
    "duration": 22,
    "start_time": "2024-07-24T14:50:14.372Z"
   },
   {
    "duration": 35,
    "start_time": "2024-07-24T14:50:14.398Z"
   },
   {
    "duration": 8,
    "start_time": "2024-07-24T14:50:14.436Z"
   },
   {
    "duration": 9,
    "start_time": "2024-07-24T14:50:14.447Z"
   },
   {
    "duration": 6,
    "start_time": "2024-07-24T14:50:14.459Z"
   },
   {
    "duration": 16,
    "start_time": "2024-07-24T14:50:14.469Z"
   },
   {
    "duration": 60,
    "start_time": "2024-07-24T14:50:14.488Z"
   },
   {
    "duration": 11,
    "start_time": "2024-07-24T14:50:14.557Z"
   },
   {
    "duration": 7,
    "start_time": "2024-07-24T14:50:14.571Z"
   },
   {
    "duration": 54,
    "start_time": "2024-07-24T14:50:14.582Z"
   },
   {
    "duration": 7,
    "start_time": "2024-07-24T14:50:14.640Z"
   },
   {
    "duration": 4,
    "start_time": "2024-07-24T14:50:14.653Z"
   },
   {
    "duration": 6,
    "start_time": "2024-07-24T14:50:14.661Z"
   },
   {
    "duration": 64,
    "start_time": "2024-07-24T14:50:14.671Z"
   },
   {
    "duration": 13,
    "start_time": "2024-07-24T14:50:14.738Z"
   },
   {
    "duration": 90,
    "start_time": "2024-07-24T14:50:14.755Z"
   },
   {
    "duration": 29,
    "start_time": "2024-07-24T14:50:14.848Z"
   },
   {
    "duration": 15,
    "start_time": "2024-07-24T14:50:14.880Z"
   },
   {
    "duration": 44,
    "start_time": "2024-07-24T14:50:14.897Z"
   },
   {
    "duration": 5,
    "start_time": "2024-07-24T14:50:14.945Z"
   },
   {
    "duration": 21,
    "start_time": "2024-07-24T14:50:14.953Z"
   },
   {
    "duration": 11,
    "start_time": "2024-07-24T14:50:14.977Z"
   },
   {
    "duration": 58,
    "start_time": "2024-07-24T14:50:14.992Z"
   },
   {
    "duration": 11,
    "start_time": "2024-07-24T14:50:15.053Z"
   },
   {
    "duration": 31,
    "start_time": "2024-07-24T14:50:15.067Z"
   },
   {
    "duration": 15,
    "start_time": "2024-07-24T14:50:15.138Z"
   },
   {
    "duration": 11,
    "start_time": "2024-07-24T14:50:15.156Z"
   },
   {
    "duration": 4,
    "start_time": "2024-07-24T14:50:15.169Z"
   },
   {
    "duration": 58,
    "start_time": "2024-07-24T14:50:15.176Z"
   },
   {
    "duration": 11,
    "start_time": "2024-07-24T14:50:15.237Z"
   },
   {
    "duration": 15,
    "start_time": "2024-07-24T14:50:15.251Z"
   },
   {
    "duration": 27,
    "start_time": "2024-07-24T14:50:15.270Z"
   },
   {
    "duration": 49,
    "start_time": "2024-07-24T14:50:15.300Z"
   },
   {
    "duration": 14,
    "start_time": "2024-07-24T14:50:15.352Z"
   },
   {
    "duration": 24,
    "start_time": "2024-07-24T14:50:15.369Z"
   },
   {
    "duration": 75,
    "start_time": "2024-07-24T14:50:15.396Z"
   },
   {
    "duration": 4,
    "start_time": "2024-07-24T14:50:15.474Z"
   },
   {
    "duration": 4,
    "start_time": "2024-07-24T14:50:15.481Z"
   },
   {
    "duration": 3,
    "start_time": "2024-07-24T14:50:15.489Z"
   },
   {
    "duration": 40,
    "start_time": "2024-07-24T14:50:15.496Z"
   },
   {
    "duration": 4,
    "start_time": "2024-07-24T14:50:15.540Z"
   },
   {
    "duration": 3,
    "start_time": "2024-07-24T14:50:15.548Z"
   },
   {
    "duration": 4,
    "start_time": "2024-07-24T14:50:15.553Z"
   },
   {
    "duration": 4,
    "start_time": "2024-07-24T14:50:15.561Z"
   },
   {
    "duration": 3,
    "start_time": "2024-07-24T14:50:15.569Z"
   },
   {
    "duration": 6,
    "start_time": "2024-07-24T14:50:15.575Z"
   },
   {
    "duration": 4,
    "start_time": "2024-07-24T14:51:17.683Z"
   },
   {
    "duration": 8,
    "start_time": "2024-07-24T14:51:28.075Z"
   },
   {
    "duration": 6,
    "start_time": "2024-07-24T14:52:27.413Z"
   },
   {
    "duration": 11,
    "start_time": "2024-07-24T14:53:15.913Z"
   },
   {
    "duration": 16,
    "start_time": "2024-07-24T14:53:29.316Z"
   },
   {
    "duration": 16,
    "start_time": "2024-07-24T14:53:53.667Z"
   },
   {
    "duration": 36,
    "start_time": "2024-07-24T14:54:38.691Z"
   },
   {
    "duration": 215,
    "start_time": "2024-07-24T14:58:31.007Z"
   },
   {
    "duration": 30,
    "start_time": "2024-07-24T14:59:57.243Z"
   },
   {
    "duration": 1244,
    "start_time": "2024-07-24T15:00:45.063Z"
   },
   {
    "duration": 292,
    "start_time": "2024-07-24T15:00:46.311Z"
   },
   {
    "duration": 29,
    "start_time": "2024-07-24T15:00:46.606Z"
   },
   {
    "duration": 19,
    "start_time": "2024-07-24T15:00:46.641Z"
   },
   {
    "duration": 7,
    "start_time": "2024-07-24T15:00:46.663Z"
   },
   {
    "duration": 8,
    "start_time": "2024-07-24T15:00:46.673Z"
   },
   {
    "duration": 5,
    "start_time": "2024-07-24T15:00:46.684Z"
   },
   {
    "duration": 58,
    "start_time": "2024-07-24T15:00:46.692Z"
   },
   {
    "duration": 15,
    "start_time": "2024-07-24T15:00:46.753Z"
   },
   {
    "duration": 9,
    "start_time": "2024-07-24T15:00:46.775Z"
   },
   {
    "duration": 5,
    "start_time": "2024-07-24T15:00:46.787Z"
   },
   {
    "duration": 10,
    "start_time": "2024-07-24T15:00:46.834Z"
   },
   {
    "duration": 6,
    "start_time": "2024-07-24T15:00:46.848Z"
   },
   {
    "duration": 5,
    "start_time": "2024-07-24T15:00:46.859Z"
   },
   {
    "duration": 6,
    "start_time": "2024-07-24T15:00:46.867Z"
   },
   {
    "duration": 70,
    "start_time": "2024-07-24T15:00:46.875Z"
   },
   {
    "duration": 12,
    "start_time": "2024-07-24T15:00:46.948Z"
   },
   {
    "duration": 81,
    "start_time": "2024-07-24T15:00:46.963Z"
   },
   {
    "duration": 30,
    "start_time": "2024-07-24T15:00:47.047Z"
   },
   {
    "duration": 13,
    "start_time": "2024-07-24T15:00:47.079Z"
   },
   {
    "duration": 42,
    "start_time": "2024-07-24T15:00:47.094Z"
   },
   {
    "duration": 5,
    "start_time": "2024-07-24T15:00:47.140Z"
   },
   {
    "duration": 20,
    "start_time": "2024-07-24T15:00:47.148Z"
   },
   {
    "duration": 10,
    "start_time": "2024-07-24T15:00:47.171Z"
   },
   {
    "duration": 54,
    "start_time": "2024-07-24T15:00:47.185Z"
   },
   {
    "duration": 10,
    "start_time": "2024-07-24T15:00:47.242Z"
   },
   {
    "duration": 24,
    "start_time": "2024-07-24T15:00:47.255Z"
   },
   {
    "duration": 47,
    "start_time": "2024-07-24T15:00:47.287Z"
   },
   {
    "duration": 10,
    "start_time": "2024-07-24T15:00:47.337Z"
   },
   {
    "duration": 4,
    "start_time": "2024-07-24T15:00:47.350Z"
   },
   {
    "duration": 21,
    "start_time": "2024-07-24T15:00:47.358Z"
   },
   {
    "duration": 10,
    "start_time": "2024-07-24T15:00:47.382Z"
   },
   {
    "duration": 51,
    "start_time": "2024-07-24T15:00:47.395Z"
   },
   {
    "duration": 21,
    "start_time": "2024-07-24T15:00:47.449Z"
   },
   {
    "duration": 16,
    "start_time": "2024-07-24T15:00:47.473Z"
   },
   {
    "duration": 49,
    "start_time": "2024-07-24T15:00:47.492Z"
   },
   {
    "duration": 22,
    "start_time": "2024-07-24T15:00:47.543Z"
   },
   {
    "duration": 36,
    "start_time": "2024-07-24T15:00:47.569Z"
   },
   {
    "duration": 27,
    "start_time": "2024-07-24T15:00:47.636Z"
   },
   {
    "duration": 9,
    "start_time": "2024-07-24T15:00:47.665Z"
   },
   {
    "duration": 3,
    "start_time": "2024-07-24T15:00:47.678Z"
   },
   {
    "duration": 3,
    "start_time": "2024-07-24T15:00:47.685Z"
   },
   {
    "duration": 46,
    "start_time": "2024-07-24T15:00:47.691Z"
   },
   {
    "duration": 3,
    "start_time": "2024-07-24T15:00:47.741Z"
   },
   {
    "duration": 4,
    "start_time": "2024-07-24T15:00:47.748Z"
   },
   {
    "duration": 4,
    "start_time": "2024-07-24T15:00:47.755Z"
   },
   {
    "duration": 4,
    "start_time": "2024-07-24T15:00:47.762Z"
   },
   {
    "duration": 3,
    "start_time": "2024-07-24T15:00:47.769Z"
   },
   {
    "duration": 4,
    "start_time": "2024-07-24T15:00:47.775Z"
   },
   {
    "duration": 10,
    "start_time": "2024-07-24T15:02:18.697Z"
   },
   {
    "duration": 32,
    "start_time": "2024-07-24T15:02:36.573Z"
   },
   {
    "duration": 1195,
    "start_time": "2024-07-24T15:06:15.102Z"
   },
   {
    "duration": 303,
    "start_time": "2024-07-24T15:06:16.301Z"
   },
   {
    "duration": 16,
    "start_time": "2024-07-24T15:06:16.607Z"
   },
   {
    "duration": 18,
    "start_time": "2024-07-24T15:06:16.640Z"
   },
   {
    "duration": 6,
    "start_time": "2024-07-24T15:06:16.662Z"
   },
   {
    "duration": 8,
    "start_time": "2024-07-24T15:06:16.671Z"
   },
   {
    "duration": 6,
    "start_time": "2024-07-24T15:06:16.682Z"
   },
   {
    "duration": 56,
    "start_time": "2024-07-24T15:06:16.691Z"
   },
   {
    "duration": 14,
    "start_time": "2024-07-24T15:06:16.750Z"
   },
   {
    "duration": 9,
    "start_time": "2024-07-24T15:06:16.771Z"
   },
   {
    "duration": 5,
    "start_time": "2024-07-24T15:06:16.783Z"
   },
   {
    "duration": 46,
    "start_time": "2024-07-24T15:06:16.790Z"
   },
   {
    "duration": 6,
    "start_time": "2024-07-24T15:06:16.840Z"
   },
   {
    "duration": 5,
    "start_time": "2024-07-24T15:06:16.849Z"
   },
   {
    "duration": 6,
    "start_time": "2024-07-24T15:06:16.858Z"
   },
   {
    "duration": 76,
    "start_time": "2024-07-24T15:06:16.868Z"
   },
   {
    "duration": 12,
    "start_time": "2024-07-24T15:06:16.947Z"
   },
   {
    "duration": 78,
    "start_time": "2024-07-24T15:06:16.963Z"
   },
   {
    "duration": 31,
    "start_time": "2024-07-24T15:06:17.044Z"
   },
   {
    "duration": 13,
    "start_time": "2024-07-24T15:06:17.078Z"
   },
   {
    "duration": 45,
    "start_time": "2024-07-24T15:06:17.094Z"
   },
   {
    "duration": 5,
    "start_time": "2024-07-24T15:06:17.142Z"
   },
   {
    "duration": 23,
    "start_time": "2024-07-24T15:06:17.150Z"
   },
   {
    "duration": 13,
    "start_time": "2024-07-24T15:06:17.178Z"
   },
   {
    "duration": 46,
    "start_time": "2024-07-24T15:06:17.194Z"
   },
   {
    "duration": 10,
    "start_time": "2024-07-24T15:06:17.243Z"
   },
   {
    "duration": 22,
    "start_time": "2024-07-24T15:06:17.257Z"
   },
   {
    "duration": 47,
    "start_time": "2024-07-24T15:06:17.287Z"
   },
   {
    "duration": 10,
    "start_time": "2024-07-24T15:06:17.340Z"
   },
   {
    "duration": 3,
    "start_time": "2024-07-24T15:06:17.354Z"
   },
   {
    "duration": 22,
    "start_time": "2024-07-24T15:06:17.360Z"
   },
   {
    "duration": 50,
    "start_time": "2024-07-24T15:06:17.384Z"
   },
   {
    "duration": 14,
    "start_time": "2024-07-24T15:06:17.437Z"
   },
   {
    "duration": 21,
    "start_time": "2024-07-24T15:06:17.458Z"
   },
   {
    "duration": 16,
    "start_time": "2024-07-24T15:06:17.482Z"
   },
   {
    "duration": 42,
    "start_time": "2024-07-24T15:06:17.501Z"
   },
   {
    "duration": 24,
    "start_time": "2024-07-24T15:06:17.546Z"
   },
   {
    "duration": 62,
    "start_time": "2024-07-24T15:06:17.573Z"
   },
   {
    "duration": 21,
    "start_time": "2024-07-24T15:06:17.638Z"
   },
   {
    "duration": 10,
    "start_time": "2024-07-24T15:06:17.661Z"
   },
   {
    "duration": 23,
    "start_time": "2024-07-24T15:06:17.674Z"
   },
   {
    "duration": 4,
    "start_time": "2024-07-24T15:06:17.735Z"
   },
   {
    "duration": 4,
    "start_time": "2024-07-24T15:06:17.741Z"
   },
   {
    "duration": 4,
    "start_time": "2024-07-24T15:06:17.748Z"
   },
   {
    "duration": 4,
    "start_time": "2024-07-24T15:06:17.755Z"
   },
   {
    "duration": 4,
    "start_time": "2024-07-24T15:06:17.762Z"
   },
   {
    "duration": 3,
    "start_time": "2024-07-24T15:06:17.769Z"
   },
   {
    "duration": 3,
    "start_time": "2024-07-24T15:06:17.775Z"
   },
   {
    "duration": 4,
    "start_time": "2024-07-24T15:06:17.834Z"
   },
   {
    "duration": 3,
    "start_time": "2024-07-24T15:06:17.841Z"
   },
   {
    "duration": 1223,
    "start_time": "2024-07-24T15:35:54.533Z"
   },
   {
    "duration": 292,
    "start_time": "2024-07-24T15:35:55.759Z"
   },
   {
    "duration": 17,
    "start_time": "2024-07-24T15:35:56.054Z"
   },
   {
    "duration": 17,
    "start_time": "2024-07-24T15:35:56.075Z"
   },
   {
    "duration": 7,
    "start_time": "2024-07-24T15:35:56.095Z"
   },
   {
    "duration": 10,
    "start_time": "2024-07-24T15:35:56.136Z"
   },
   {
    "duration": 6,
    "start_time": "2024-07-24T15:35:56.149Z"
   },
   {
    "duration": 16,
    "start_time": "2024-07-24T15:35:56.158Z"
   },
   {
    "duration": 59,
    "start_time": "2024-07-24T15:35:56.177Z"
   },
   {
    "duration": 13,
    "start_time": "2024-07-24T15:35:56.242Z"
   },
   {
    "duration": 6,
    "start_time": "2024-07-24T15:35:56.259Z"
   },
   {
    "duration": 8,
    "start_time": "2024-07-24T15:35:56.268Z"
   },
   {
    "duration": 6,
    "start_time": "2024-07-24T15:35:56.280Z"
   },
   {
    "duration": 5,
    "start_time": "2024-07-24T15:35:56.334Z"
   },
   {
    "duration": 18,
    "start_time": "2024-07-24T15:35:56.342Z"
   },
   {
    "duration": 28,
    "start_time": "2024-07-24T15:35:56.362Z"
   },
   {
    "duration": 11,
    "start_time": "2024-07-24T15:35:56.393Z"
   },
   {
    "duration": 66,
    "start_time": "2024-07-24T15:35:56.435Z"
   },
   {
    "duration": 47,
    "start_time": "2024-07-24T15:35:56.504Z"
   },
   {
    "duration": 14,
    "start_time": "2024-07-24T15:35:56.554Z"
   },
   {
    "duration": 13,
    "start_time": "2024-07-24T15:35:56.571Z"
   },
   {
    "duration": 5,
    "start_time": "2024-07-24T15:35:56.587Z"
   },
   {
    "duration": 57,
    "start_time": "2024-07-24T15:35:56.596Z"
   },
   {
    "duration": 11,
    "start_time": "2024-07-24T15:35:56.656Z"
   },
   {
    "duration": 17,
    "start_time": "2024-07-24T15:35:56.670Z"
   },
   {
    "duration": 46,
    "start_time": "2024-07-24T15:35:56.690Z"
   },
   {
    "duration": 24,
    "start_time": "2024-07-24T15:35:56.739Z"
   },
   {
    "duration": 11,
    "start_time": "2024-07-24T15:35:56.772Z"
   },
   {
    "duration": 10,
    "start_time": "2024-07-24T15:35:56.788Z"
   },
   {
    "duration": 56,
    "start_time": "2024-07-24T15:35:56.800Z"
   },
   {
    "duration": 11,
    "start_time": "2024-07-24T15:35:56.859Z"
   },
   {
    "duration": 14,
    "start_time": "2024-07-24T15:35:56.872Z"
   },
   {
    "duration": 59,
    "start_time": "2024-07-24T15:35:56.890Z"
   },
   {
    "duration": 18,
    "start_time": "2024-07-24T15:35:56.952Z"
   },
   {
    "duration": 18,
    "start_time": "2024-07-24T15:35:56.973Z"
   },
   {
    "duration": 60,
    "start_time": "2024-07-24T15:35:56.994Z"
   },
   {
    "duration": 33,
    "start_time": "2024-07-24T15:35:57.058Z"
   },
   {
    "duration": 6,
    "start_time": "2024-07-24T15:35:57.093Z"
   },
   {
    "duration": 38,
    "start_time": "2024-07-24T15:35:57.104Z"
   },
   {
    "duration": 17,
    "start_time": "2024-07-24T15:35:57.145Z"
   },
   {
    "duration": 4,
    "start_time": "2024-07-24T15:35:57.165Z"
   },
   {
    "duration": 3,
    "start_time": "2024-07-24T15:35:57.173Z"
   },
   {
    "duration": 4,
    "start_time": "2024-07-24T15:35:57.179Z"
   },
   {
    "duration": 48,
    "start_time": "2024-07-24T15:35:57.187Z"
   },
   {
    "duration": 4,
    "start_time": "2024-07-24T15:35:57.239Z"
   },
   {
    "duration": 3,
    "start_time": "2024-07-24T15:35:57.246Z"
   },
   {
    "duration": 4,
    "start_time": "2024-07-24T15:35:57.253Z"
   },
   {
    "duration": 4,
    "start_time": "2024-07-24T15:35:57.261Z"
   },
   {
    "duration": 3,
    "start_time": "2024-07-24T15:35:57.269Z"
   },
   {
    "duration": 19,
    "start_time": "2024-07-24T15:36:35.659Z"
   },
   {
    "duration": 5,
    "start_time": "2024-07-24T15:38:33.755Z"
   },
   {
    "duration": 14,
    "start_time": "2024-07-24T15:38:35.665Z"
   },
   {
    "duration": 15,
    "start_time": "2024-07-24T15:38:56.279Z"
   },
   {
    "duration": 15,
    "start_time": "2024-07-24T15:39:01.671Z"
   },
   {
    "duration": 10,
    "start_time": "2024-07-24T15:51:27.369Z"
   },
   {
    "duration": 13,
    "start_time": "2024-07-24T15:51:31.088Z"
   },
   {
    "duration": 1732,
    "start_time": "2024-07-24T15:51:48.045Z"
   },
   {
    "duration": 7,
    "start_time": "2024-07-24T15:51:58.079Z"
   },
   {
    "duration": 10,
    "start_time": "2024-07-24T15:52:03.432Z"
   },
   {
    "duration": 20,
    "start_time": "2024-07-24T15:52:12.628Z"
   },
   {
    "duration": 22,
    "start_time": "2024-07-24T15:52:33.078Z"
   },
   {
    "duration": 21,
    "start_time": "2024-07-24T15:54:50.999Z"
   },
   {
    "duration": 309,
    "start_time": "2024-07-24T17:25:04.997Z"
   },
   {
    "duration": 4876,
    "start_time": "2024-07-24T17:25:13.390Z"
   },
   {
    "duration": 375,
    "start_time": "2024-07-24T17:25:18.269Z"
   },
   {
    "duration": 17,
    "start_time": "2024-07-24T17:25:18.647Z"
   },
   {
    "duration": 16,
    "start_time": "2024-07-24T17:25:18.669Z"
   },
   {
    "duration": 25,
    "start_time": "2024-07-24T17:25:18.688Z"
   },
   {
    "duration": 7,
    "start_time": "2024-07-24T17:25:18.716Z"
   },
   {
    "duration": 6,
    "start_time": "2024-07-24T17:25:18.726Z"
   },
   {
    "duration": 16,
    "start_time": "2024-07-24T17:25:18.736Z"
   },
   {
    "duration": 60,
    "start_time": "2024-07-24T17:25:18.755Z"
   },
   {
    "duration": 9,
    "start_time": "2024-07-24T17:25:18.823Z"
   },
   {
    "duration": 6,
    "start_time": "2024-07-24T17:25:18.834Z"
   },
   {
    "duration": 9,
    "start_time": "2024-07-24T17:25:18.844Z"
   },
   {
    "duration": 5,
    "start_time": "2024-07-24T17:25:18.856Z"
   },
   {
    "duration": 49,
    "start_time": "2024-07-24T17:25:18.864Z"
   },
   {
    "duration": 8,
    "start_time": "2024-07-24T17:25:18.916Z"
   },
   {
    "duration": 28,
    "start_time": "2024-07-24T17:25:18.926Z"
   },
   {
    "duration": 10,
    "start_time": "2024-07-24T17:25:18.957Z"
   },
   {
    "duration": 93,
    "start_time": "2024-07-24T17:25:18.971Z"
   },
   {
    "duration": 26,
    "start_time": "2024-07-24T17:25:19.067Z"
   },
   {
    "duration": 13,
    "start_time": "2024-07-24T17:25:19.114Z"
   },
   {
    "duration": 13,
    "start_time": "2024-07-24T17:25:19.129Z"
   },
   {
    "duration": 4,
    "start_time": "2024-07-24T17:25:19.145Z"
   },
   {
    "duration": 60,
    "start_time": "2024-07-24T17:25:19.153Z"
   },
   {
    "duration": 11,
    "start_time": "2024-07-24T17:25:19.215Z"
   },
   {
    "duration": 18,
    "start_time": "2024-07-24T17:25:19.228Z"
   },
   {
    "duration": 10,
    "start_time": "2024-07-24T17:25:19.249Z"
   },
   {
    "duration": 58,
    "start_time": "2024-07-24T17:25:19.262Z"
   },
   {
    "duration": 10,
    "start_time": "2024-07-24T17:25:19.329Z"
   },
   {
    "duration": 10,
    "start_time": "2024-07-24T17:25:19.342Z"
   },
   {
    "duration": 57,
    "start_time": "2024-07-24T17:25:19.355Z"
   },
   {
    "duration": 11,
    "start_time": "2024-07-24T17:25:19.415Z"
   },
   {
    "duration": 13,
    "start_time": "2024-07-24T17:25:19.429Z"
   },
   {
    "duration": 22,
    "start_time": "2024-07-24T17:25:19.445Z"
   },
   {
    "duration": 54,
    "start_time": "2024-07-24T17:25:19.470Z"
   },
   {
    "duration": 13,
    "start_time": "2024-07-24T17:25:19.527Z"
   },
   {
    "duration": 27,
    "start_time": "2024-07-24T17:25:19.544Z"
   },
   {
    "duration": 31,
    "start_time": "2024-07-24T17:25:19.612Z"
   },
   {
    "duration": 11,
    "start_time": "2024-07-24T17:25:19.646Z"
   },
   {
    "duration": 10,
    "start_time": "2024-07-24T17:25:19.660Z"
   },
   {
    "duration": 43,
    "start_time": "2024-07-24T17:25:19.674Z"
   },
   {
    "duration": 21,
    "start_time": "2024-07-24T17:25:19.720Z"
   },
   {
    "duration": 28,
    "start_time": "2024-07-24T17:25:19.744Z"
   },
   {
    "duration": 43,
    "start_time": "2024-07-24T17:25:19.775Z"
   },
   {
    "duration": 3,
    "start_time": "2024-07-24T17:25:19.821Z"
   },
   {
    "duration": 4,
    "start_time": "2024-07-24T17:25:19.827Z"
   },
   {
    "duration": 4,
    "start_time": "2024-07-24T17:25:19.834Z"
   },
   {
    "duration": 3,
    "start_time": "2024-07-24T17:25:19.841Z"
   },
   {
    "duration": 3,
    "start_time": "2024-07-24T17:25:19.848Z"
   },
   {
    "duration": 58,
    "start_time": "2024-07-24T17:25:19.854Z"
   },
   {
    "duration": 4,
    "start_time": "2024-07-24T17:25:19.915Z"
   },
   {
    "duration": 4,
    "start_time": "2024-07-24T17:25:19.922Z"
   },
   {
    "duration": 9,
    "start_time": "2024-07-24T17:25:46.490Z"
   },
   {
    "duration": 16,
    "start_time": "2024-07-24T17:28:33.365Z"
   },
   {
    "duration": 14,
    "start_time": "2024-07-24T17:28:40.802Z"
   },
   {
    "duration": 10,
    "start_time": "2024-07-24T17:28:56.363Z"
   },
   {
    "duration": 10,
    "start_time": "2024-07-24T17:29:54.272Z"
   },
   {
    "duration": 11,
    "start_time": "2024-07-24T17:30:16.640Z"
   },
   {
    "duration": 10,
    "start_time": "2024-07-24T17:30:22.168Z"
   },
   {
    "duration": 8,
    "start_time": "2024-07-24T17:34:13.768Z"
   },
   {
    "duration": 1220,
    "start_time": "2024-07-24T17:38:31.708Z"
   },
   {
    "duration": 308,
    "start_time": "2024-07-24T17:38:32.931Z"
   },
   {
    "duration": 15,
    "start_time": "2024-07-24T17:38:33.244Z"
   },
   {
    "duration": 18,
    "start_time": "2024-07-24T17:38:33.264Z"
   },
   {
    "duration": 6,
    "start_time": "2024-07-24T17:38:33.285Z"
   },
   {
    "duration": 10,
    "start_time": "2024-07-24T17:38:33.316Z"
   },
   {
    "duration": 5,
    "start_time": "2024-07-24T17:38:33.330Z"
   },
   {
    "duration": 15,
    "start_time": "2024-07-24T17:38:33.339Z"
   },
   {
    "duration": 55,
    "start_time": "2024-07-24T17:38:33.357Z"
   },
   {
    "duration": 12,
    "start_time": "2024-07-24T17:38:33.419Z"
   },
   {
    "duration": 5,
    "start_time": "2024-07-24T17:38:33.433Z"
   },
   {
    "duration": 7,
    "start_time": "2024-07-24T17:38:33.441Z"
   },
   {
    "duration": 6,
    "start_time": "2024-07-24T17:38:33.451Z"
   },
   {
    "duration": 5,
    "start_time": "2024-07-24T17:38:33.460Z"
   },
   {
    "duration": 9,
    "start_time": "2024-07-24T17:38:33.514Z"
   },
   {
    "duration": 25,
    "start_time": "2024-07-24T17:38:33.526Z"
   },
   {
    "duration": 11,
    "start_time": "2024-07-24T17:38:33.554Z"
   },
   {
    "duration": 92,
    "start_time": "2024-07-24T17:38:33.568Z"
   },
   {
    "duration": 48,
    "start_time": "2024-07-24T17:38:33.664Z"
   },
   {
    "duration": 18,
    "start_time": "2024-07-24T17:38:33.716Z"
   },
   {
    "duration": 13,
    "start_time": "2024-07-24T17:38:33.738Z"
   },
   {
    "duration": 5,
    "start_time": "2024-07-24T17:38:33.754Z"
   },
   {
    "duration": 12,
    "start_time": "2024-07-24T17:38:33.761Z"
   },
   {
    "duration": 23,
    "start_time": "2024-07-24T17:38:33.813Z"
   },
   {
    "duration": 9,
    "start_time": "2024-07-24T17:38:33.839Z"
   },
   {
    "duration": 18,
    "start_time": "2024-07-24T17:38:33.852Z"
   },
   {
    "duration": 47,
    "start_time": "2024-07-24T17:38:33.873Z"
   },
   {
    "duration": 22,
    "start_time": "2024-07-24T17:38:33.929Z"
   },
   {
    "duration": 11,
    "start_time": "2024-07-24T17:38:33.955Z"
   },
   {
    "duration": 48,
    "start_time": "2024-07-24T17:38:33.969Z"
   },
   {
    "duration": 22,
    "start_time": "2024-07-24T17:38:34.021Z"
   },
   {
    "duration": 11,
    "start_time": "2024-07-24T17:38:34.046Z"
   },
   {
    "duration": 13,
    "start_time": "2024-07-24T17:38:34.059Z"
   },
   {
    "duration": 23,
    "start_time": "2024-07-24T17:38:34.114Z"
   },
   {
    "duration": 16,
    "start_time": "2024-07-24T17:38:34.140Z"
   },
   {
    "duration": 13,
    "start_time": "2024-07-24T17:38:34.159Z"
   },
   {
    "duration": 24,
    "start_time": "2024-07-24T17:38:34.212Z"
   },
   {
    "duration": 31,
    "start_time": "2024-07-24T17:38:34.240Z"
   },
   {
    "duration": 43,
    "start_time": "2024-07-24T17:38:34.273Z"
   },
   {
    "duration": 10,
    "start_time": "2024-07-24T17:38:34.319Z"
   },
   {
    "duration": 8,
    "start_time": "2024-07-24T17:38:34.332Z"
   },
   {
    "duration": 20,
    "start_time": "2024-07-24T17:38:34.343Z"
   },
   {
    "duration": 64,
    "start_time": "2024-07-24T17:38:34.366Z"
   },
   {
    "duration": 8,
    "start_time": "2024-07-24T17:38:34.433Z"
   },
   {
    "duration": 3,
    "start_time": "2024-07-24T17:38:34.444Z"
   },
   {
    "duration": 4,
    "start_time": "2024-07-24T17:38:34.450Z"
   },
   {
    "duration": 3,
    "start_time": "2024-07-24T17:38:34.457Z"
   },
   {
    "duration": 4,
    "start_time": "2024-07-24T17:38:34.463Z"
   },
   {
    "duration": 4,
    "start_time": "2024-07-24T17:38:34.514Z"
   },
   {
    "duration": 4,
    "start_time": "2024-07-24T17:38:34.522Z"
   },
   {
    "duration": 4,
    "start_time": "2024-07-24T17:38:34.529Z"
   },
   {
    "duration": 3,
    "start_time": "2024-07-24T17:38:34.540Z"
   },
   {
    "duration": 19,
    "start_time": "2024-07-24T17:41:19.953Z"
   },
   {
    "duration": 21,
    "start_time": "2024-07-24T17:41:49.029Z"
   },
   {
    "duration": 406,
    "start_time": "2024-07-24T17:42:04.269Z"
   },
   {
    "duration": 22,
    "start_time": "2024-07-24T17:42:13.208Z"
   },
   {
    "duration": 17,
    "start_time": "2024-07-24T17:42:22.251Z"
   },
   {
    "duration": 15,
    "start_time": "2024-07-24T17:42:54.257Z"
   },
   {
    "duration": 13,
    "start_time": "2024-07-24T17:43:21.056Z"
   },
   {
    "duration": 13,
    "start_time": "2024-07-24T17:43:36.550Z"
   },
   {
    "duration": 29,
    "start_time": "2024-07-24T17:44:16.303Z"
   },
   {
    "duration": 327,
    "start_time": "2024-07-25T17:08:31.029Z"
   },
   {
    "duration": 4723,
    "start_time": "2024-07-25T17:08:41.000Z"
   },
   {
    "duration": 361,
    "start_time": "2024-07-25T17:08:45.726Z"
   },
   {
    "duration": 17,
    "start_time": "2024-07-25T17:08:46.089Z"
   },
   {
    "duration": 22,
    "start_time": "2024-07-25T17:08:46.111Z"
   },
   {
    "duration": 5,
    "start_time": "2024-07-25T17:08:46.136Z"
   },
   {
    "duration": 7,
    "start_time": "2024-07-25T17:08:46.145Z"
   },
   {
    "duration": 6,
    "start_time": "2024-07-25T17:08:46.156Z"
   },
   {
    "duration": 15,
    "start_time": "2024-07-25T17:08:46.165Z"
   },
   {
    "duration": 14,
    "start_time": "2024-07-25T17:08:46.224Z"
   },
   {
    "duration": 8,
    "start_time": "2024-07-25T17:08:46.244Z"
   },
   {
    "duration": 6,
    "start_time": "2024-07-25T17:08:46.255Z"
   },
   {
    "duration": 9,
    "start_time": "2024-07-25T17:08:46.264Z"
   },
   {
    "duration": 51,
    "start_time": "2024-07-25T17:08:46.275Z"
   },
   {
    "duration": 6,
    "start_time": "2024-07-25T17:08:46.329Z"
   },
   {
    "duration": 6,
    "start_time": "2024-07-25T17:08:46.337Z"
   },
   {
    "duration": 31,
    "start_time": "2024-07-25T17:08:46.346Z"
   },
   {
    "duration": 48,
    "start_time": "2024-07-25T17:08:46.381Z"
   },
   {
    "duration": 54,
    "start_time": "2024-07-25T17:08:46.432Z"
   },
   {
    "duration": 50,
    "start_time": "2024-07-25T17:08:46.489Z"
   },
   {
    "duration": 13,
    "start_time": "2024-07-25T17:08:46.542Z"
   },
   {
    "duration": 13,
    "start_time": "2024-07-25T17:08:46.558Z"
   },
   {
    "duration": 5,
    "start_time": "2024-07-25T17:08:46.573Z"
   },
   {
    "duration": 55,
    "start_time": "2024-07-25T17:08:46.581Z"
   },
   {
    "duration": 24,
    "start_time": "2024-07-25T17:08:46.639Z"
   },
   {
    "duration": 12,
    "start_time": "2024-07-25T17:08:46.666Z"
   },
   {
    "duration": 47,
    "start_time": "2024-07-25T17:08:46.682Z"
   },
   {
    "duration": 10,
    "start_time": "2024-07-25T17:08:46.732Z"
   },
   {
    "duration": 23,
    "start_time": "2024-07-25T17:08:46.749Z"
   },
   {
    "duration": 11,
    "start_time": "2024-07-25T17:08:46.775Z"
   },
   {
    "duration": 9,
    "start_time": "2024-07-25T17:08:46.824Z"
   },
   {
    "duration": 21,
    "start_time": "2024-07-25T17:08:46.835Z"
   },
   {
    "duration": 11,
    "start_time": "2024-07-25T17:08:46.859Z"
   },
   {
    "duration": 13,
    "start_time": "2024-07-25T17:08:46.873Z"
   },
   {
    "duration": 25,
    "start_time": "2024-07-25T17:08:46.924Z"
   },
   {
    "duration": 17,
    "start_time": "2024-07-25T17:08:46.954Z"
   },
   {
    "duration": 50,
    "start_time": "2024-07-25T17:08:46.973Z"
   },
   {
    "duration": 21,
    "start_time": "2024-07-25T17:08:47.026Z"
   },
   {
    "duration": 31,
    "start_time": "2024-07-25T17:08:47.050Z"
   },
   {
    "duration": 39,
    "start_time": "2024-07-25T17:08:47.084Z"
   },
   {
    "duration": 8,
    "start_time": "2024-07-25T17:08:47.126Z"
   },
   {
    "duration": 8,
    "start_time": "2024-07-25T17:08:47.137Z"
   },
   {
    "duration": 25,
    "start_time": "2024-07-25T17:08:47.147Z"
   },
   {
    "duration": 62,
    "start_time": "2024-07-25T17:08:47.175Z"
   },
   {
    "duration": 418,
    "start_time": "2024-07-25T17:08:47.240Z"
   },
   {
    "duration": 0,
    "start_time": "2024-07-25T17:08:47.662Z"
   },
   {
    "duration": 0,
    "start_time": "2024-07-25T17:08:47.665Z"
   },
   {
    "duration": 0,
    "start_time": "2024-07-25T17:08:47.666Z"
   },
   {
    "duration": 0,
    "start_time": "2024-07-25T17:08:47.668Z"
   },
   {
    "duration": 0,
    "start_time": "2024-07-25T17:08:47.671Z"
   },
   {
    "duration": 0,
    "start_time": "2024-07-25T17:08:47.672Z"
   },
   {
    "duration": 0,
    "start_time": "2024-07-25T17:08:47.673Z"
   },
   {
    "duration": 0,
    "start_time": "2024-07-25T17:08:47.675Z"
   },
   {
    "duration": 31,
    "start_time": "2024-07-25T17:09:06.322Z"
   },
   {
    "duration": 30,
    "start_time": "2024-07-25T17:11:55.924Z"
   },
   {
    "duration": 30,
    "start_time": "2024-07-25T17:13:55.355Z"
   },
   {
    "duration": 8,
    "start_time": "2024-07-25T17:14:35.473Z"
   },
   {
    "duration": 10,
    "start_time": "2024-07-25T17:22:52.310Z"
   },
   {
    "duration": 25,
    "start_time": "2024-07-25T17:22:54.745Z"
   },
   {
    "duration": 8,
    "start_time": "2024-07-25T17:23:00.395Z"
   },
   {
    "duration": 8,
    "start_time": "2024-07-25T17:23:56.420Z"
   },
   {
    "duration": 7,
    "start_time": "2024-07-25T17:24:37.838Z"
   },
   {
    "duration": 8,
    "start_time": "2024-07-25T17:25:58.746Z"
   },
   {
    "duration": 5,
    "start_time": "2024-07-25T17:26:18.998Z"
   },
   {
    "duration": 37,
    "start_time": "2024-07-25T17:26:28.971Z"
   },
   {
    "duration": 16,
    "start_time": "2024-07-25T17:27:20.054Z"
   },
   {
    "duration": 32,
    "start_time": "2024-07-25T17:28:09.592Z"
   },
   {
    "duration": 27,
    "start_time": "2024-07-25T17:29:25.943Z"
   },
   {
    "duration": 35,
    "start_time": "2024-07-25T17:29:30.831Z"
   },
   {
    "duration": 31,
    "start_time": "2024-07-25T17:33:34.307Z"
   },
   {
    "duration": 1187,
    "start_time": "2024-07-25T17:36:23.647Z"
   },
   {
    "duration": 274,
    "start_time": "2024-07-25T17:36:24.837Z"
   },
   {
    "duration": 16,
    "start_time": "2024-07-25T17:36:25.114Z"
   },
   {
    "duration": 17,
    "start_time": "2024-07-25T17:36:25.134Z"
   },
   {
    "duration": 6,
    "start_time": "2024-07-25T17:36:25.153Z"
   },
   {
    "duration": 8,
    "start_time": "2024-07-25T17:36:25.162Z"
   },
   {
    "duration": 5,
    "start_time": "2024-07-25T17:36:25.173Z"
   },
   {
    "duration": 15,
    "start_time": "2024-07-25T17:36:25.224Z"
   },
   {
    "duration": 14,
    "start_time": "2024-07-25T17:36:25.242Z"
   },
   {
    "duration": 9,
    "start_time": "2024-07-25T17:36:25.263Z"
   },
   {
    "duration": 5,
    "start_time": "2024-07-25T17:36:25.275Z"
   },
   {
    "duration": 9,
    "start_time": "2024-07-25T17:36:25.324Z"
   },
   {
    "duration": 6,
    "start_time": "2024-07-25T17:36:25.336Z"
   },
   {
    "duration": 6,
    "start_time": "2024-07-25T17:36:25.346Z"
   },
   {
    "duration": 6,
    "start_time": "2024-07-25T17:36:25.356Z"
   },
   {
    "duration": 70,
    "start_time": "2024-07-25T17:36:25.366Z"
   },
   {
    "duration": 11,
    "start_time": "2024-07-25T17:36:25.439Z"
   },
   {
    "duration": 82,
    "start_time": "2024-07-25T17:36:25.453Z"
   },
   {
    "duration": 29,
    "start_time": "2024-07-25T17:36:25.538Z"
   },
   {
    "duration": 13,
    "start_time": "2024-07-25T17:36:25.570Z"
   },
   {
    "duration": 45,
    "start_time": "2024-07-25T17:36:25.586Z"
   },
   {
    "duration": 5,
    "start_time": "2024-07-25T17:36:25.633Z"
   },
   {
    "duration": 11,
    "start_time": "2024-07-25T17:36:25.642Z"
   },
   {
    "duration": 20,
    "start_time": "2024-07-25T17:36:25.657Z"
   },
   {
    "duration": 46,
    "start_time": "2024-07-25T17:36:25.680Z"
   },
   {
    "duration": 18,
    "start_time": "2024-07-25T17:36:25.729Z"
   },
   {
    "duration": 10,
    "start_time": "2024-07-25T17:36:25.750Z"
   },
   {
    "duration": 62,
    "start_time": "2024-07-25T17:36:25.769Z"
   },
   {
    "duration": 11,
    "start_time": "2024-07-25T17:36:25.834Z"
   },
   {
    "duration": 11,
    "start_time": "2024-07-25T17:36:25.848Z"
   },
   {
    "duration": 20,
    "start_time": "2024-07-25T17:36:25.862Z"
   },
   {
    "duration": 41,
    "start_time": "2024-07-25T17:36:25.885Z"
   },
   {
    "duration": 12,
    "start_time": "2024-07-25T17:36:25.929Z"
   },
   {
    "duration": 21,
    "start_time": "2024-07-25T17:36:25.945Z"
   },
   {
    "duration": 55,
    "start_time": "2024-07-25T17:36:25.969Z"
   },
   {
    "duration": 12,
    "start_time": "2024-07-25T17:36:26.028Z"
   },
   {
    "duration": 22,
    "start_time": "2024-07-25T17:36:26.043Z"
   },
   {
    "duration": 63,
    "start_time": "2024-07-25T17:36:26.069Z"
   },
   {
    "duration": 10,
    "start_time": "2024-07-25T17:36:26.135Z"
   },
   {
    "duration": 12,
    "start_time": "2024-07-25T17:36:26.148Z"
   },
   {
    "duration": 8,
    "start_time": "2024-07-25T17:36:26.163Z"
   },
   {
    "duration": 52,
    "start_time": "2024-07-25T17:36:26.174Z"
   },
   {
    "duration": 10,
    "start_time": "2024-07-25T17:36:26.229Z"
   },
   {
    "duration": 8,
    "start_time": "2024-07-25T17:36:26.242Z"
   },
   {
    "duration": 33,
    "start_time": "2024-07-25T17:36:26.253Z"
   },
   {
    "duration": 70,
    "start_time": "2024-07-25T17:36:26.288Z"
   },
   {
    "duration": 3,
    "start_time": "2024-07-25T17:36:26.362Z"
   },
   {
    "duration": 4,
    "start_time": "2024-07-25T17:36:26.369Z"
   },
   {
    "duration": 3,
    "start_time": "2024-07-25T17:36:26.377Z"
   },
   {
    "duration": 3,
    "start_time": "2024-07-25T17:36:26.425Z"
   },
   {
    "duration": 4,
    "start_time": "2024-07-25T17:36:26.432Z"
   },
   {
    "duration": 3,
    "start_time": "2024-07-25T17:36:26.440Z"
   },
   {
    "duration": 4,
    "start_time": "2024-07-25T17:36:26.447Z"
   },
   {
    "duration": 3,
    "start_time": "2024-07-25T17:36:26.454Z"
   },
   {
    "duration": 31,
    "start_time": "2024-07-25T17:39:44.870Z"
   },
   {
    "duration": 25,
    "start_time": "2024-07-25T17:40:42.418Z"
   },
   {
    "duration": 1158,
    "start_time": "2024-07-25T17:42:53.657Z"
   },
   {
    "duration": 264,
    "start_time": "2024-07-25T17:42:54.822Z"
   },
   {
    "duration": 16,
    "start_time": "2024-07-25T17:42:55.088Z"
   },
   {
    "duration": 25,
    "start_time": "2024-07-25T17:42:55.110Z"
   },
   {
    "duration": 6,
    "start_time": "2024-07-25T17:42:55.138Z"
   },
   {
    "duration": 7,
    "start_time": "2024-07-25T17:42:55.147Z"
   },
   {
    "duration": 6,
    "start_time": "2024-07-25T17:42:55.156Z"
   },
   {
    "duration": 59,
    "start_time": "2024-07-25T17:42:55.165Z"
   },
   {
    "duration": 14,
    "start_time": "2024-07-25T17:42:55.228Z"
   },
   {
    "duration": 9,
    "start_time": "2024-07-25T17:42:55.250Z"
   },
   {
    "duration": 6,
    "start_time": "2024-07-25T17:42:55.264Z"
   },
   {
    "duration": 50,
    "start_time": "2024-07-25T17:42:55.273Z"
   },
   {
    "duration": 5,
    "start_time": "2024-07-25T17:42:55.327Z"
   },
   {
    "duration": 7,
    "start_time": "2024-07-25T17:42:55.336Z"
   },
   {
    "duration": 6,
    "start_time": "2024-07-25T17:42:55.345Z"
   },
   {
    "duration": 24,
    "start_time": "2024-07-25T17:42:55.355Z"
   },
   {
    "duration": 11,
    "start_time": "2024-07-25T17:42:55.422Z"
   },
   {
    "duration": 56,
    "start_time": "2024-07-25T17:42:55.436Z"
   },
   {
    "duration": 48,
    "start_time": "2024-07-25T17:42:55.495Z"
   },
   {
    "duration": 13,
    "start_time": "2024-07-25T17:42:55.546Z"
   },
   {
    "duration": 13,
    "start_time": "2024-07-25T17:42:55.562Z"
   },
   {
    "duration": 4,
    "start_time": "2024-07-25T17:42:55.578Z"
   },
   {
    "duration": 12,
    "start_time": "2024-07-25T17:42:55.622Z"
   },
   {
    "duration": 21,
    "start_time": "2024-07-25T17:42:55.637Z"
   },
   {
    "duration": 11,
    "start_time": "2024-07-25T17:42:55.661Z"
   },
   {
    "duration": 54,
    "start_time": "2024-07-25T17:42:55.675Z"
   },
   {
    "duration": 10,
    "start_time": "2024-07-25T17:42:55.732Z"
   },
   {
    "duration": 22,
    "start_time": "2024-07-25T17:42:55.751Z"
   },
   {
    "duration": 49,
    "start_time": "2024-07-25T17:42:55.775Z"
   },
   {
    "duration": 9,
    "start_time": "2024-07-25T17:42:55.827Z"
   },
   {
    "duration": 22,
    "start_time": "2024-07-25T17:42:55.840Z"
   },
   {
    "duration": 11,
    "start_time": "2024-07-25T17:42:55.864Z"
   },
   {
    "duration": 46,
    "start_time": "2024-07-25T17:42:55.878Z"
   },
   {
    "duration": 20,
    "start_time": "2024-07-25T17:42:55.927Z"
   },
   {
    "duration": 16,
    "start_time": "2024-07-25T17:42:55.950Z"
   },
   {
    "duration": 12,
    "start_time": "2024-07-25T17:42:55.969Z"
   },
   {
    "duration": 22,
    "start_time": "2024-07-25T17:42:56.023Z"
   },
   {
    "duration": 32,
    "start_time": "2024-07-25T17:42:56.048Z"
   },
   {
    "duration": 42,
    "start_time": "2024-07-25T17:42:56.083Z"
   },
   {
    "duration": 9,
    "start_time": "2024-07-25T17:42:56.128Z"
   },
   {
    "duration": 7,
    "start_time": "2024-07-25T17:42:56.141Z"
   },
   {
    "duration": 21,
    "start_time": "2024-07-25T17:42:56.150Z"
   },
   {
    "duration": 49,
    "start_time": "2024-07-25T17:42:56.174Z"
   },
   {
    "duration": 10,
    "start_time": "2024-07-25T17:42:56.226Z"
   },
   {
    "duration": 19,
    "start_time": "2024-07-25T17:42:56.240Z"
   },
   {
    "duration": 69,
    "start_time": "2024-07-25T17:42:56.262Z"
   },
   {
    "duration": 3,
    "start_time": "2024-07-25T17:42:56.334Z"
   },
   {
    "duration": 4,
    "start_time": "2024-07-25T17:42:56.340Z"
   },
   {
    "duration": 3,
    "start_time": "2024-07-25T17:42:56.347Z"
   },
   {
    "duration": 3,
    "start_time": "2024-07-25T17:42:56.354Z"
   },
   {
    "duration": 4,
    "start_time": "2024-07-25T17:42:56.361Z"
   },
   {
    "duration": 55,
    "start_time": "2024-07-25T17:42:56.368Z"
   },
   {
    "duration": 4,
    "start_time": "2024-07-25T17:42:56.426Z"
   },
   {
    "duration": 5,
    "start_time": "2024-07-25T17:42:56.432Z"
   },
   {
    "duration": 29,
    "start_time": "2024-07-25T17:43:20.859Z"
   },
   {
    "duration": 1146,
    "start_time": "2024-07-25T17:53:44.904Z"
   },
   {
    "duration": 269,
    "start_time": "2024-07-25T17:53:46.053Z"
   },
   {
    "duration": 15,
    "start_time": "2024-07-25T17:53:46.325Z"
   },
   {
    "duration": 17,
    "start_time": "2024-07-25T17:53:46.344Z"
   },
   {
    "duration": 8,
    "start_time": "2024-07-25T17:53:46.366Z"
   },
   {
    "duration": 48,
    "start_time": "2024-07-25T17:53:46.376Z"
   },
   {
    "duration": 5,
    "start_time": "2024-07-25T17:53:46.427Z"
   },
   {
    "duration": 15,
    "start_time": "2024-07-25T17:53:46.435Z"
   },
   {
    "duration": 14,
    "start_time": "2024-07-25T17:53:46.453Z"
   },
   {
    "duration": 52,
    "start_time": "2024-07-25T17:53:46.470Z"
   },
   {
    "duration": 5,
    "start_time": "2024-07-25T17:53:46.525Z"
   },
   {
    "duration": 8,
    "start_time": "2024-07-25T17:53:46.533Z"
   },
   {
    "duration": 5,
    "start_time": "2024-07-25T17:53:46.544Z"
   },
   {
    "duration": 4,
    "start_time": "2024-07-25T17:53:46.558Z"
   },
   {
    "duration": 6,
    "start_time": "2024-07-25T17:53:46.566Z"
   },
   {
    "duration": 41,
    "start_time": "2024-07-25T17:53:46.622Z"
   },
   {
    "duration": 23,
    "start_time": "2024-07-25T17:53:46.666Z"
   },
   {
    "duration": 70,
    "start_time": "2024-07-25T17:53:46.696Z"
   },
   {
    "duration": 30,
    "start_time": "2024-07-25T17:53:46.769Z"
   },
   {
    "duration": 29,
    "start_time": "2024-07-25T17:53:46.802Z"
   },
   {
    "duration": 13,
    "start_time": "2024-07-25T17:53:46.833Z"
   },
   {
    "duration": 5,
    "start_time": "2024-07-25T17:53:46.849Z"
   },
   {
    "duration": 14,
    "start_time": "2024-07-25T17:53:46.858Z"
   },
   {
    "duration": 60,
    "start_time": "2024-07-25T17:53:46.875Z"
   },
   {
    "duration": 9,
    "start_time": "2024-07-25T17:53:46.938Z"
   },
   {
    "duration": 17,
    "start_time": "2024-07-25T17:53:46.950Z"
   },
   {
    "duration": 10,
    "start_time": "2024-07-25T17:53:46.969Z"
   },
   {
    "duration": 62,
    "start_time": "2024-07-25T17:53:46.982Z"
   },
   {
    "duration": 11,
    "start_time": "2024-07-25T17:53:47.047Z"
   },
   {
    "duration": 9,
    "start_time": "2024-07-25T17:53:47.062Z"
   },
   {
    "duration": 57,
    "start_time": "2024-07-25T17:53:47.074Z"
   },
   {
    "duration": 11,
    "start_time": "2024-07-25T17:53:47.134Z"
   },
   {
    "duration": 13,
    "start_time": "2024-07-25T17:53:47.147Z"
   },
   {
    "duration": 20,
    "start_time": "2024-07-25T17:53:47.163Z"
   },
   {
    "duration": 52,
    "start_time": "2024-07-25T17:53:47.187Z"
   },
   {
    "duration": 12,
    "start_time": "2024-07-25T17:53:47.241Z"
   },
   {
    "duration": 23,
    "start_time": "2024-07-25T17:53:47.256Z"
   },
   {
    "duration": 63,
    "start_time": "2024-07-25T17:53:47.282Z"
   },
   {
    "duration": 12,
    "start_time": "2024-07-25T17:53:47.348Z"
   },
   {
    "duration": 11,
    "start_time": "2024-07-25T17:53:47.363Z"
   },
   {
    "duration": 44,
    "start_time": "2024-07-25T17:53:47.383Z"
   },
   {
    "duration": 19,
    "start_time": "2024-07-25T17:53:47.430Z"
   },
   {
    "duration": 11,
    "start_time": "2024-07-25T17:53:47.452Z"
   },
   {
    "duration": 9,
    "start_time": "2024-07-25T17:53:47.465Z"
   },
   {
    "duration": 68,
    "start_time": "2024-07-25T17:53:47.477Z"
   },
   {
    "duration": 33,
    "start_time": "2024-07-25T17:53:47.548Z"
   },
   {
    "duration": 4,
    "start_time": "2024-07-25T17:53:47.584Z"
   },
   {
    "duration": 4,
    "start_time": "2024-07-25T17:53:47.622Z"
   },
   {
    "duration": 4,
    "start_time": "2024-07-25T17:53:47.628Z"
   },
   {
    "duration": 3,
    "start_time": "2024-07-25T17:53:47.637Z"
   },
   {
    "duration": 16,
    "start_time": "2024-07-25T17:53:47.643Z"
   },
   {
    "duration": 4,
    "start_time": "2024-07-25T17:53:47.662Z"
   },
   {
    "duration": 4,
    "start_time": "2024-07-25T17:53:47.669Z"
   },
   {
    "duration": 2,
    "start_time": "2024-07-25T17:53:47.677Z"
   },
   {
    "duration": 6,
    "start_time": "2024-07-25T18:01:33.982Z"
   },
   {
    "duration": 6,
    "start_time": "2024-07-25T18:01:39.913Z"
   },
   {
    "duration": 8,
    "start_time": "2024-07-25T18:02:53.349Z"
   },
   {
    "duration": 8,
    "start_time": "2024-07-25T18:03:01.926Z"
   },
   {
    "duration": 21,
    "start_time": "2024-07-25T18:03:06.821Z"
   },
   {
    "duration": 19,
    "start_time": "2024-07-25T18:03:17.364Z"
   },
   {
    "duration": 15,
    "start_time": "2024-07-25T18:03:30.057Z"
   },
   {
    "duration": 15,
    "start_time": "2024-07-25T18:03:36.013Z"
   },
   {
    "duration": 15,
    "start_time": "2024-07-25T18:05:22.938Z"
   },
   {
    "duration": 5,
    "start_time": "2024-07-25T18:05:39.846Z"
   },
   {
    "duration": 15,
    "start_time": "2024-07-25T18:05:49.982Z"
   },
   {
    "duration": 25,
    "start_time": "2024-07-25T18:16:54.538Z"
   },
   {
    "duration": 39,
    "start_time": "2024-07-25T18:18:02.456Z"
   },
   {
    "duration": 25,
    "start_time": "2024-07-25T18:19:11.770Z"
   },
   {
    "duration": 10,
    "start_time": "2024-07-25T18:19:47.728Z"
   },
   {
    "duration": 12,
    "start_time": "2024-07-25T18:22:00.665Z"
   },
   {
    "duration": 11,
    "start_time": "2024-07-25T18:22:26.108Z"
   },
   {
    "duration": 14,
    "start_time": "2024-07-25T18:24:43.351Z"
   },
   {
    "duration": 314,
    "start_time": "2024-07-25T19:22:09.239Z"
   },
   {
    "duration": 5,
    "start_time": "2024-07-25T19:22:36.450Z"
   },
   {
    "duration": 22,
    "start_time": "2024-07-25T19:22:41.235Z"
   },
   {
    "duration": 5135,
    "start_time": "2024-07-25T19:22:53.919Z"
   },
   {
    "duration": 387,
    "start_time": "2024-07-25T19:22:59.061Z"
   },
   {
    "duration": 20,
    "start_time": "2024-07-25T19:22:59.451Z"
   },
   {
    "duration": 36,
    "start_time": "2024-07-25T19:22:59.477Z"
   },
   {
    "duration": 5,
    "start_time": "2024-07-25T19:22:59.518Z"
   },
   {
    "duration": 9,
    "start_time": "2024-07-25T19:22:59.527Z"
   },
   {
    "duration": 6,
    "start_time": "2024-07-25T19:22:59.540Z"
   },
   {
    "duration": 18,
    "start_time": "2024-07-25T19:22:59.550Z"
   },
   {
    "duration": 18,
    "start_time": "2024-07-25T19:22:59.607Z"
   },
   {
    "duration": 10,
    "start_time": "2024-07-25T19:22:59.633Z"
   },
   {
    "duration": 7,
    "start_time": "2024-07-25T19:22:59.646Z"
   },
   {
    "duration": 8,
    "start_time": "2024-07-25T19:22:59.657Z"
   },
   {
    "duration": 7,
    "start_time": "2024-07-25T19:22:59.708Z"
   },
   {
    "duration": 6,
    "start_time": "2024-07-25T19:22:59.718Z"
   },
   {
    "duration": 7,
    "start_time": "2024-07-25T19:22:59.728Z"
   },
   {
    "duration": 68,
    "start_time": "2024-07-25T19:22:59.739Z"
   },
   {
    "duration": 14,
    "start_time": "2024-07-25T19:22:59.810Z"
   },
   {
    "duration": 79,
    "start_time": "2024-07-25T19:22:59.827Z"
   },
   {
    "duration": 30,
    "start_time": "2024-07-25T19:22:59.909Z"
   },
   {
    "duration": 14,
    "start_time": "2024-07-25T19:22:59.942Z"
   },
   {
    "duration": 12,
    "start_time": "2024-07-25T19:22:59.959Z"
   },
   {
    "duration": 33,
    "start_time": "2024-07-25T19:22:59.974Z"
   },
   {
    "duration": 13,
    "start_time": "2024-07-25T19:23:00.011Z"
   },
   {
    "duration": 28,
    "start_time": "2024-07-25T19:23:00.027Z"
   },
   {
    "duration": 48,
    "start_time": "2024-07-25T19:23:00.058Z"
   },
   {
    "duration": 24,
    "start_time": "2024-07-25T19:23:00.110Z"
   },
   {
    "duration": 11,
    "start_time": "2024-07-25T19:23:00.137Z"
   },
   {
    "duration": 55,
    "start_time": "2024-07-25T19:23:00.158Z"
   },
   {
    "duration": 11,
    "start_time": "2024-07-25T19:23:00.216Z"
   },
   {
    "duration": 10,
    "start_time": "2024-07-25T19:23:00.230Z"
   },
   {
    "duration": 22,
    "start_time": "2024-07-25T19:23:00.243Z"
   },
   {
    "duration": 49,
    "start_time": "2024-07-25T19:23:00.267Z"
   },
   {
    "duration": 14,
    "start_time": "2024-07-25T19:23:00.319Z"
   },
   {
    "duration": 22,
    "start_time": "2024-07-25T19:23:00.336Z"
   },
   {
    "duration": 61,
    "start_time": "2024-07-25T19:23:00.361Z"
   },
   {
    "duration": 19,
    "start_time": "2024-07-25T19:23:00.430Z"
   },
   {
    "duration": 61,
    "start_time": "2024-07-25T19:23:00.453Z"
   },
   {
    "duration": 59,
    "start_time": "2024-07-25T19:23:00.519Z"
   },
   {
    "duration": 38,
    "start_time": "2024-07-25T19:23:00.584Z"
   },
   {
    "duration": 23,
    "start_time": "2024-07-25T19:23:00.626Z"
   },
   {
    "duration": 9,
    "start_time": "2024-07-25T19:23:00.653Z"
   },
   {
    "duration": 50,
    "start_time": "2024-07-25T19:23:00.666Z"
   },
   {
    "duration": 23,
    "start_time": "2024-07-25T19:23:00.720Z"
   },
   {
    "duration": 11,
    "start_time": "2024-07-25T19:23:00.751Z"
   },
   {
    "duration": 39,
    "start_time": "2024-07-25T19:23:00.766Z"
   },
   {
    "duration": 85,
    "start_time": "2024-07-25T19:23:00.809Z"
   },
   {
    "duration": 3,
    "start_time": "2024-07-25T19:23:00.908Z"
   },
   {
    "duration": 9,
    "start_time": "2024-07-25T19:23:00.915Z"
   },
   {
    "duration": 3,
    "start_time": "2024-07-25T19:23:00.928Z"
   },
   {
    "duration": 4,
    "start_time": "2024-07-25T19:23:00.934Z"
   },
   {
    "duration": 5,
    "start_time": "2024-07-25T19:23:00.941Z"
   },
   {
    "duration": 3,
    "start_time": "2024-07-25T19:23:01.006Z"
   },
   {
    "duration": 31,
    "start_time": "2024-07-25T19:23:01.013Z"
   },
   {
    "duration": 3,
    "start_time": "2024-07-25T19:23:01.047Z"
   },
   {
    "duration": 4,
    "start_time": "2024-07-25T19:23:01.055Z"
   },
   {
    "duration": 10,
    "start_time": "2024-07-25T19:23:44.570Z"
   },
   {
    "duration": 9,
    "start_time": "2024-07-25T19:30:34.280Z"
   },
   {
    "duration": 26,
    "start_time": "2024-07-25T19:30:39.696Z"
   },
   {
    "duration": 1372,
    "start_time": "2024-07-25T19:36:17.520Z"
   },
   {
    "duration": 128,
    "start_time": "2024-07-25T19:37:05.619Z"
   },
   {
    "duration": 363,
    "start_time": "2024-07-25T19:38:00.397Z"
   },
   {
    "duration": 128,
    "start_time": "2024-07-25T19:39:49.588Z"
   },
   {
    "duration": 112,
    "start_time": "2024-07-25T19:40:04.900Z"
   },
   {
    "duration": 305,
    "start_time": "2024-07-25T19:45:24.918Z"
   },
   {
    "duration": 8,
    "start_time": "2024-07-25T19:48:28.947Z"
   },
   {
    "duration": 412,
    "start_time": "2024-07-25T19:48:33.494Z"
   },
   {
    "duration": 319,
    "start_time": "2024-07-25T19:49:48.839Z"
   },
   {
    "duration": 316,
    "start_time": "2024-07-25T19:53:23.428Z"
   },
   {
    "duration": 370,
    "start_time": "2024-07-25T19:56:20.521Z"
   },
   {
    "duration": 319,
    "start_time": "2024-07-25T19:57:42.097Z"
   },
   {
    "duration": 505,
    "start_time": "2024-07-25T19:58:08.584Z"
   },
   {
    "duration": 361,
    "start_time": "2024-07-25T19:58:27.915Z"
   },
   {
    "duration": 337,
    "start_time": "2024-07-25T20:01:39.297Z"
   },
   {
    "duration": 33,
    "start_time": "2024-07-25T20:03:05.924Z"
   },
   {
    "duration": 23,
    "start_time": "2024-07-25T20:03:22.799Z"
   },
   {
    "duration": 6,
    "start_time": "2024-07-25T20:03:50.293Z"
   },
   {
    "duration": 8,
    "start_time": "2024-07-25T20:04:02.812Z"
   },
   {
    "duration": 7,
    "start_time": "2024-07-25T20:04:09.506Z"
   },
   {
    "duration": 5,
    "start_time": "2024-07-25T20:04:58.897Z"
   },
   {
    "duration": 94,
    "start_time": "2024-07-25T20:10:48.042Z"
   },
   {
    "duration": 14,
    "start_time": "2024-07-25T20:11:10.852Z"
   },
   {
    "duration": 87,
    "start_time": "2024-07-25T20:11:40.785Z"
   },
   {
    "duration": 1283,
    "start_time": "2024-07-25T20:12:15.693Z"
   },
   {
    "duration": 383,
    "start_time": "2024-07-25T20:12:45.742Z"
   },
   {
    "duration": 117,
    "start_time": "2024-07-25T20:15:33.982Z"
   },
   {
    "duration": 18,
    "start_time": "2024-07-25T20:17:42.613Z"
   },
   {
    "duration": 28,
    "start_time": "2024-07-25T20:18:01.512Z"
   },
   {
    "duration": 36,
    "start_time": "2024-07-25T20:20:02.740Z"
   },
   {
    "duration": 19,
    "start_time": "2024-07-25T20:20:26.575Z"
   },
   {
    "duration": 27,
    "start_time": "2024-07-25T20:20:31.326Z"
   },
   {
    "duration": 603,
    "start_time": "2024-07-25T20:21:07.415Z"
   },
   {
    "duration": 32,
    "start_time": "2024-07-25T20:38:02.014Z"
   },
   {
    "duration": 8,
    "start_time": "2024-07-25T20:38:26.591Z"
   },
   {
    "duration": 5,
    "start_time": "2024-07-25T20:38:30.701Z"
   },
   {
    "duration": 7,
    "start_time": "2024-07-25T20:38:44.202Z"
   },
   {
    "duration": 1338,
    "start_time": "2024-07-25T20:38:58.648Z"
   },
   {
    "duration": 306,
    "start_time": "2024-07-25T20:38:59.990Z"
   },
   {
    "duration": 21,
    "start_time": "2024-07-25T20:39:00.299Z"
   },
   {
    "duration": 20,
    "start_time": "2024-07-25T20:39:00.326Z"
   },
   {
    "duration": 6,
    "start_time": "2024-07-25T20:39:00.350Z"
   },
   {
    "duration": 11,
    "start_time": "2024-07-25T20:39:00.362Z"
   },
   {
    "duration": 35,
    "start_time": "2024-07-25T20:39:00.376Z"
   },
   {
    "duration": 21,
    "start_time": "2024-07-25T20:39:00.414Z"
   },
   {
    "duration": 16,
    "start_time": "2024-07-25T20:39:00.439Z"
   },
   {
    "duration": 50,
    "start_time": "2024-07-25T20:39:00.465Z"
   },
   {
    "duration": 7,
    "start_time": "2024-07-25T20:39:00.519Z"
   },
   {
    "duration": 20,
    "start_time": "2024-07-25T20:39:00.532Z"
   },
   {
    "duration": 8,
    "start_time": "2024-07-25T20:39:00.561Z"
   },
   {
    "duration": 13,
    "start_time": "2024-07-25T20:39:00.572Z"
   },
   {
    "duration": 9,
    "start_time": "2024-07-25T20:39:00.588Z"
   },
   {
    "duration": 39,
    "start_time": "2024-07-25T20:39:00.600Z"
   },
   {
    "duration": 12,
    "start_time": "2024-07-25T20:39:00.643Z"
   },
   {
    "duration": 91,
    "start_time": "2024-07-25T20:39:00.658Z"
   },
   {
    "duration": 38,
    "start_time": "2024-07-25T20:39:00.751Z"
   },
   {
    "duration": 29,
    "start_time": "2024-07-25T20:39:00.791Z"
   },
   {
    "duration": 15,
    "start_time": "2024-07-25T20:39:00.824Z"
   },
   {
    "duration": 5,
    "start_time": "2024-07-25T20:39:00.842Z"
   },
   {
    "duration": 14,
    "start_time": "2024-07-25T20:39:00.851Z"
   },
   {
    "duration": 57,
    "start_time": "2024-07-25T20:39:00.868Z"
   },
   {
    "duration": 12,
    "start_time": "2024-07-25T20:39:00.928Z"
   },
   {
    "duration": 22,
    "start_time": "2024-07-25T20:39:00.943Z"
   },
   {
    "duration": 39,
    "start_time": "2024-07-25T20:39:00.968Z"
   },
   {
    "duration": 32,
    "start_time": "2024-07-25T20:39:01.016Z"
   },
   {
    "duration": 17,
    "start_time": "2024-07-25T20:39:01.052Z"
   },
   {
    "duration": 37,
    "start_time": "2024-07-25T20:39:01.075Z"
   },
   {
    "duration": 29,
    "start_time": "2024-07-25T20:39:01.115Z"
   },
   {
    "duration": 13,
    "start_time": "2024-07-25T20:39:01.147Z"
   },
   {
    "duration": 14,
    "start_time": "2024-07-25T20:39:01.163Z"
   },
   {
    "duration": 27,
    "start_time": "2024-07-25T20:39:01.206Z"
   },
   {
    "duration": 19,
    "start_time": "2024-07-25T20:39:01.236Z"
   },
   {
    "duration": 16,
    "start_time": "2024-07-25T20:39:01.259Z"
   },
   {
    "duration": 31,
    "start_time": "2024-07-25T20:39:01.306Z"
   },
   {
    "duration": 41,
    "start_time": "2024-07-25T20:39:01.340Z"
   },
   {
    "duration": 11,
    "start_time": "2024-07-25T20:39:01.408Z"
   },
   {
    "duration": 11,
    "start_time": "2024-07-25T20:39:01.422Z"
   },
   {
    "duration": 8,
    "start_time": "2024-07-25T20:39:01.436Z"
   },
   {
    "duration": 60,
    "start_time": "2024-07-25T20:39:01.448Z"
   },
   {
    "duration": 12,
    "start_time": "2024-07-25T20:39:01.511Z"
   },
   {
    "duration": 11,
    "start_time": "2024-07-25T20:39:01.527Z"
   },
   {
    "duration": 8,
    "start_time": "2024-07-25T20:39:01.542Z"
   },
   {
    "duration": 86,
    "start_time": "2024-07-25T20:39:01.554Z"
   },
   {
    "duration": 9,
    "start_time": "2024-07-25T20:39:01.643Z"
   },
   {
    "duration": 6,
    "start_time": "2024-07-25T20:39:01.656Z"
   },
   {
    "duration": 6,
    "start_time": "2024-07-25T20:39:01.666Z"
   },
   {
    "duration": 35,
    "start_time": "2024-07-25T20:39:01.675Z"
   },
   {
    "duration": 582,
    "start_time": "2024-07-25T20:39:01.714Z"
   },
   {
    "duration": 5,
    "start_time": "2024-07-25T20:39:02.311Z"
   },
   {
    "duration": 6,
    "start_time": "2024-07-25T20:39:02.320Z"
   },
   {
    "duration": 4,
    "start_time": "2024-07-25T20:39:02.330Z"
   },
   {
    "duration": 4,
    "start_time": "2024-07-25T20:39:02.338Z"
   },
   {
    "duration": 4,
    "start_time": "2024-07-25T20:39:02.347Z"
   },
   {
    "duration": 4,
    "start_time": "2024-07-25T20:39:02.355Z"
   },
   {
    "duration": 43,
    "start_time": "2024-07-25T20:39:02.364Z"
   },
   {
    "duration": 23,
    "start_time": "2024-07-25T20:39:34.698Z"
   },
   {
    "duration": 18,
    "start_time": "2024-07-25T20:40:16.089Z"
   },
   {
    "duration": 280,
    "start_time": "2024-07-25T20:42:13.568Z"
   },
   {
    "duration": 528,
    "start_time": "2024-07-25T20:45:07.452Z"
   },
   {
    "duration": 28,
    "start_time": "2024-07-25T20:46:40.296Z"
   },
   {
    "duration": 31,
    "start_time": "2024-07-25T20:46:53.315Z"
   },
   {
    "duration": 29,
    "start_time": "2024-07-25T20:47:00.415Z"
   },
   {
    "duration": 24,
    "start_time": "2024-07-25T20:47:15.665Z"
   },
   {
    "duration": 29,
    "start_time": "2024-07-25T20:47:22.080Z"
   },
   {
    "duration": 298,
    "start_time": "2024-07-25T20:48:04.616Z"
   },
   {
    "duration": 302,
    "start_time": "2024-07-25T20:48:13.690Z"
   },
   {
    "duration": 247,
    "start_time": "2024-07-25T20:48:22.587Z"
   },
   {
    "duration": 285,
    "start_time": "2024-07-25T20:49:03.761Z"
   },
   {
    "duration": 13,
    "start_time": "2024-07-26T18:48:35.422Z"
   },
   {
    "duration": 306,
    "start_time": "2024-07-26T18:48:39.255Z"
   },
   {
    "duration": 4756,
    "start_time": "2024-07-26T18:49:00.691Z"
   },
   {
    "duration": 372,
    "start_time": "2024-07-26T18:49:05.450Z"
   },
   {
    "duration": 17,
    "start_time": "2024-07-26T18:49:05.824Z"
   },
   {
    "duration": 17,
    "start_time": "2024-07-26T18:49:05.845Z"
   },
   {
    "duration": 5,
    "start_time": "2024-07-26T18:49:05.866Z"
   },
   {
    "duration": 8,
    "start_time": "2024-07-26T18:49:05.874Z"
   },
   {
    "duration": 5,
    "start_time": "2024-07-26T18:49:05.924Z"
   },
   {
    "duration": 15,
    "start_time": "2024-07-26T18:49:05.933Z"
   },
   {
    "duration": 14,
    "start_time": "2024-07-26T18:49:05.951Z"
   },
   {
    "duration": 9,
    "start_time": "2024-07-26T18:49:05.971Z"
   },
   {
    "duration": 7,
    "start_time": "2024-07-26T18:49:06.024Z"
   },
   {
    "duration": 10,
    "start_time": "2024-07-26T18:49:06.034Z"
   },
   {
    "duration": 11,
    "start_time": "2024-07-26T18:49:06.047Z"
   },
   {
    "duration": 5,
    "start_time": "2024-07-26T18:49:06.062Z"
   },
   {
    "duration": 6,
    "start_time": "2024-07-26T18:49:06.070Z"
   },
   {
    "duration": 26,
    "start_time": "2024-07-26T18:49:06.123Z"
   },
   {
    "duration": 11,
    "start_time": "2024-07-26T18:49:06.151Z"
   },
   {
    "duration": 89,
    "start_time": "2024-07-26T18:49:06.165Z"
   },
   {
    "duration": 29,
    "start_time": "2024-07-26T18:49:06.257Z"
   },
   {
    "duration": 33,
    "start_time": "2024-07-26T18:49:06.289Z"
   },
   {
    "duration": 13,
    "start_time": "2024-07-26T18:49:06.325Z"
   },
   {
    "duration": 4,
    "start_time": "2024-07-26T18:49:06.341Z"
   },
   {
    "duration": 12,
    "start_time": "2024-07-26T18:49:06.348Z"
   },
   {
    "duration": 20,
    "start_time": "2024-07-26T18:49:06.363Z"
   },
   {
    "duration": 10,
    "start_time": "2024-07-26T18:49:06.424Z"
   },
   {
    "duration": 17,
    "start_time": "2024-07-26T18:49:06.438Z"
   },
   {
    "duration": 11,
    "start_time": "2024-07-26T18:49:06.458Z"
   },
   {
    "duration": 63,
    "start_time": "2024-07-26T18:49:06.477Z"
   },
   {
    "duration": 11,
    "start_time": "2024-07-26T18:49:06.543Z"
   },
   {
    "duration": 10,
    "start_time": "2024-07-26T18:49:06.557Z"
   },
   {
    "duration": 52,
    "start_time": "2024-07-26T18:49:06.570Z"
   },
   {
    "duration": 12,
    "start_time": "2024-07-26T18:49:06.625Z"
   },
   {
    "duration": 15,
    "start_time": "2024-07-26T18:49:06.639Z"
   },
   {
    "duration": 23,
    "start_time": "2024-07-26T18:49:06.660Z"
   },
   {
    "duration": 48,
    "start_time": "2024-07-26T18:49:06.686Z"
   },
   {
    "duration": 14,
    "start_time": "2024-07-26T18:49:06.737Z"
   },
   {
    "duration": 22,
    "start_time": "2024-07-26T18:49:06.753Z"
   },
   {
    "duration": 69,
    "start_time": "2024-07-26T18:49:06.778Z"
   },
   {
    "duration": 12,
    "start_time": "2024-07-26T18:49:06.850Z"
   },
   {
    "duration": 10,
    "start_time": "2024-07-26T18:49:06.864Z"
   },
   {
    "duration": 47,
    "start_time": "2024-07-26T18:49:06.877Z"
   },
   {
    "duration": 20,
    "start_time": "2024-07-26T18:49:06.926Z"
   },
   {
    "duration": 10,
    "start_time": "2024-07-26T18:49:06.951Z"
   },
   {
    "duration": 10,
    "start_time": "2024-07-26T18:49:06.964Z"
   },
   {
    "duration": 8,
    "start_time": "2024-07-26T18:49:06.976Z"
   },
   {
    "duration": 36,
    "start_time": "2024-07-26T18:49:07.023Z"
   },
   {
    "duration": 6,
    "start_time": "2024-07-26T18:49:07.063Z"
   },
   {
    "duration": 60,
    "start_time": "2024-07-26T18:49:07.073Z"
   },
   {
    "duration": 6,
    "start_time": "2024-07-26T18:49:07.136Z"
   },
   {
    "duration": 3,
    "start_time": "2024-07-26T18:49:07.145Z"
   },
   {
    "duration": 23,
    "start_time": "2024-07-26T18:49:07.150Z"
   },
   {
    "duration": 536,
    "start_time": "2024-07-26T18:49:07.176Z"
   },
   {
    "duration": 251,
    "start_time": "2024-07-26T18:49:07.723Z"
   },
   {
    "duration": 3,
    "start_time": "2024-07-26T18:49:07.977Z"
   },
   {
    "duration": 3,
    "start_time": "2024-07-26T18:49:07.984Z"
   },
   {
    "duration": 32,
    "start_time": "2024-07-26T18:49:07.991Z"
   },
   {
    "duration": 4,
    "start_time": "2024-07-26T18:49:08.025Z"
   },
   {
    "duration": 3,
    "start_time": "2024-07-26T18:49:08.032Z"
   },
   {
    "duration": 4,
    "start_time": "2024-07-26T18:49:08.038Z"
   },
   {
    "duration": 258,
    "start_time": "2024-07-26T18:49:44.113Z"
   },
   {
    "duration": 236,
    "start_time": "2024-07-26T18:50:16.241Z"
   },
   {
    "duration": 8,
    "start_time": "2024-07-26T18:53:41.878Z"
   },
   {
    "duration": 8,
    "start_time": "2024-07-26T18:54:19.761Z"
   },
   {
    "duration": 8,
    "start_time": "2024-07-26T19:01:14.588Z"
   },
   {
    "duration": 12,
    "start_time": "2024-07-26T19:02:15.960Z"
   },
   {
    "duration": 478,
    "start_time": "2024-07-26T19:04:51.320Z"
   },
   {
    "duration": 9,
    "start_time": "2024-07-26T19:06:24.585Z"
   },
   {
    "duration": 8,
    "start_time": "2024-07-26T19:06:43.685Z"
   },
   {
    "duration": 7,
    "start_time": "2024-07-26T19:07:13.918Z"
   },
   {
    "duration": 8,
    "start_time": "2024-07-26T19:08:47.060Z"
   },
   {
    "duration": 8,
    "start_time": "2024-07-26T19:09:04.340Z"
   },
   {
    "duration": 9,
    "start_time": "2024-07-26T19:09:58.680Z"
   },
   {
    "duration": 8,
    "start_time": "2024-07-26T19:10:14.159Z"
   },
   {
    "duration": 30,
    "start_time": "2024-07-26T19:11:21.265Z"
   },
   {
    "duration": 8,
    "start_time": "2024-07-26T19:11:33.629Z"
   },
   {
    "duration": 8,
    "start_time": "2024-07-26T19:12:08.766Z"
   },
   {
    "duration": 8,
    "start_time": "2024-07-26T19:12:50.106Z"
   },
   {
    "duration": 23,
    "start_time": "2024-07-26T19:13:21.180Z"
   },
   {
    "duration": 1317,
    "start_time": "2024-07-26T19:14:23.736Z"
   },
   {
    "duration": 273,
    "start_time": "2024-07-26T19:14:25.057Z"
   },
   {
    "duration": 16,
    "start_time": "2024-07-26T19:14:25.332Z"
   },
   {
    "duration": 18,
    "start_time": "2024-07-26T19:14:25.351Z"
   },
   {
    "duration": 5,
    "start_time": "2024-07-26T19:14:25.374Z"
   },
   {
    "duration": 41,
    "start_time": "2024-07-26T19:14:25.382Z"
   },
   {
    "duration": 6,
    "start_time": "2024-07-26T19:14:25.426Z"
   },
   {
    "duration": 14,
    "start_time": "2024-07-26T19:14:25.435Z"
   },
   {
    "duration": 14,
    "start_time": "2024-07-26T19:14:25.453Z"
   },
   {
    "duration": 54,
    "start_time": "2024-07-26T19:14:25.470Z"
   },
   {
    "duration": 5,
    "start_time": "2024-07-26T19:14:25.527Z"
   },
   {
    "duration": 7,
    "start_time": "2024-07-26T19:14:25.536Z"
   },
   {
    "duration": 6,
    "start_time": "2024-07-26T19:14:25.547Z"
   },
   {
    "duration": 4,
    "start_time": "2024-07-26T19:14:25.560Z"
   },
   {
    "duration": 7,
    "start_time": "2024-07-26T19:14:25.567Z"
   },
   {
    "duration": 75,
    "start_time": "2024-07-26T19:14:25.576Z"
   },
   {
    "duration": 12,
    "start_time": "2024-07-26T19:14:25.654Z"
   },
   {
    "duration": 88,
    "start_time": "2024-07-26T19:14:25.669Z"
   },
   {
    "duration": 27,
    "start_time": "2024-07-26T19:14:25.760Z"
   },
   {
    "duration": 32,
    "start_time": "2024-07-26T19:14:25.790Z"
   },
   {
    "duration": 13,
    "start_time": "2024-07-26T19:14:25.825Z"
   },
   {
    "duration": 7,
    "start_time": "2024-07-26T19:14:25.840Z"
   },
   {
    "duration": 11,
    "start_time": "2024-07-26T19:14:25.850Z"
   },
   {
    "duration": 21,
    "start_time": "2024-07-26T19:14:25.864Z"
   },
   {
    "duration": 11,
    "start_time": "2024-07-26T19:14:25.923Z"
   },
   {
    "duration": 18,
    "start_time": "2024-07-26T19:14:25.937Z"
   },
   {
    "duration": 10,
    "start_time": "2024-07-26T19:14:25.958Z"
   },
   {
    "duration": 59,
    "start_time": "2024-07-26T19:14:25.970Z"
   },
   {
    "duration": 12,
    "start_time": "2024-07-26T19:14:26.032Z"
   },
   {
    "duration": 11,
    "start_time": "2024-07-26T19:14:26.046Z"
   },
   {
    "duration": 23,
    "start_time": "2024-07-26T19:14:26.060Z"
   },
   {
    "duration": 11,
    "start_time": "2024-07-26T19:14:26.123Z"
   },
   {
    "duration": 13,
    "start_time": "2024-07-26T19:14:26.137Z"
   },
   {
    "duration": 21,
    "start_time": "2024-07-26T19:14:26.153Z"
   },
   {
    "duration": 52,
    "start_time": "2024-07-26T19:14:26.177Z"
   },
   {
    "duration": 14,
    "start_time": "2024-07-26T19:14:26.232Z"
   },
   {
    "duration": 23,
    "start_time": "2024-07-26T19:14:26.249Z"
   },
   {
    "duration": 66,
    "start_time": "2024-07-26T19:14:26.275Z"
   },
   {
    "duration": 11,
    "start_time": "2024-07-26T19:14:26.344Z"
   },
   {
    "duration": 12,
    "start_time": "2024-07-26T19:14:26.358Z"
   },
   {
    "duration": 6,
    "start_time": "2024-07-26T19:14:26.379Z"
   },
   {
    "duration": 19,
    "start_time": "2024-07-26T19:14:26.422Z"
   },
   {
    "duration": 10,
    "start_time": "2024-07-26T19:14:26.445Z"
   },
   {
    "duration": 9,
    "start_time": "2024-07-26T19:14:26.457Z"
   },
   {
    "duration": 7,
    "start_time": "2024-07-26T19:14:26.468Z"
   },
   {
    "duration": 74,
    "start_time": "2024-07-26T19:14:26.478Z"
   },
   {
    "duration": 6,
    "start_time": "2024-07-26T19:14:26.556Z"
   },
   {
    "duration": 62,
    "start_time": "2024-07-26T19:14:26.565Z"
   },
   {
    "duration": 7,
    "start_time": "2024-07-26T19:14:26.630Z"
   },
   {
    "duration": 4,
    "start_time": "2024-07-26T19:14:26.640Z"
   },
   {
    "duration": 29,
    "start_time": "2024-07-26T19:14:26.648Z"
   },
   {
    "duration": 534,
    "start_time": "2024-07-26T19:14:26.681Z"
   },
   {
    "duration": 311,
    "start_time": "2024-07-26T19:14:27.222Z"
   },
   {
    "duration": 9,
    "start_time": "2024-07-26T19:14:27.536Z"
   },
   {
    "duration": 429,
    "start_time": "2024-07-26T19:14:27.549Z"
   },
   {
    "duration": 0,
    "start_time": "2024-07-26T19:14:27.981Z"
   },
   {
    "duration": 0,
    "start_time": "2024-07-26T19:14:27.983Z"
   },
   {
    "duration": 0,
    "start_time": "2024-07-26T19:14:27.985Z"
   },
   {
    "duration": 0,
    "start_time": "2024-07-26T19:14:27.987Z"
   },
   {
    "duration": 142,
    "start_time": "2024-07-26T19:15:05.406Z"
   },
   {
    "duration": 157,
    "start_time": "2024-07-26T19:15:23.754Z"
   },
   {
    "duration": 134,
    "start_time": "2024-07-26T19:20:28.920Z"
   },
   {
    "duration": 120,
    "start_time": "2024-07-26T19:20:56.231Z"
   },
   {
    "duration": 127,
    "start_time": "2024-07-26T19:21:30.734Z"
   },
   {
    "duration": 1090,
    "start_time": "2024-07-26T19:22:05.279Z"
   },
   {
    "duration": 246,
    "start_time": "2024-07-26T19:22:22.645Z"
   },
   {
    "duration": 158,
    "start_time": "2024-07-26T19:23:10.204Z"
   },
   {
    "duration": 151,
    "start_time": "2024-07-26T19:23:55.155Z"
   },
   {
    "duration": 154,
    "start_time": "2024-07-26T19:24:38.532Z"
   },
   {
    "duration": 152,
    "start_time": "2024-07-26T19:24:48.557Z"
   },
   {
    "duration": 196,
    "start_time": "2024-07-26T19:25:16.247Z"
   },
   {
    "duration": 150,
    "start_time": "2024-07-26T19:25:30.620Z"
   },
   {
    "duration": 150,
    "start_time": "2024-07-26T19:25:47.464Z"
   },
   {
    "duration": 384,
    "start_time": "2024-07-26T19:28:39.544Z"
   },
   {
    "duration": 156,
    "start_time": "2024-07-26T19:29:34.409Z"
   },
   {
    "duration": 161,
    "start_time": "2024-07-26T19:30:08.597Z"
   },
   {
    "duration": 173,
    "start_time": "2024-07-26T19:30:16.517Z"
   },
   {
    "duration": 165,
    "start_time": "2024-07-26T19:30:33.820Z"
   },
   {
    "duration": 84,
    "start_time": "2024-07-26T19:31:30.132Z"
   },
   {
    "duration": 185,
    "start_time": "2024-07-26T19:37:02.461Z"
   },
   {
    "duration": 206,
    "start_time": "2024-07-26T19:37:29.165Z"
   },
   {
    "duration": 305,
    "start_time": "2024-07-26T19:37:53.411Z"
   },
   {
    "duration": 187,
    "start_time": "2024-07-26T19:38:03.461Z"
   },
   {
    "duration": 16,
    "start_time": "2024-07-26T19:39:11.304Z"
   },
   {
    "duration": 14,
    "start_time": "2024-07-26T19:41:49.283Z"
   },
   {
    "duration": 1336,
    "start_time": "2024-07-26T19:50:37.599Z"
   },
   {
    "duration": 277,
    "start_time": "2024-07-26T19:50:38.938Z"
   },
   {
    "duration": 16,
    "start_time": "2024-07-26T19:50:39.218Z"
   },
   {
    "duration": 16,
    "start_time": "2024-07-26T19:50:39.239Z"
   },
   {
    "duration": 6,
    "start_time": "2024-07-26T19:50:39.259Z"
   },
   {
    "duration": 8,
    "start_time": "2024-07-26T19:50:39.268Z"
   },
   {
    "duration": 45,
    "start_time": "2024-07-26T19:50:39.279Z"
   },
   {
    "duration": 15,
    "start_time": "2024-07-26T19:50:39.328Z"
   },
   {
    "duration": 14,
    "start_time": "2024-07-26T19:50:39.347Z"
   },
   {
    "duration": 55,
    "start_time": "2024-07-26T19:50:39.369Z"
   },
   {
    "duration": 5,
    "start_time": "2024-07-26T19:50:39.427Z"
   },
   {
    "duration": 8,
    "start_time": "2024-07-26T19:50:39.435Z"
   },
   {
    "duration": 5,
    "start_time": "2024-07-26T19:50:39.447Z"
   },
   {
    "duration": 7,
    "start_time": "2024-07-26T19:50:39.456Z"
   },
   {
    "duration": 6,
    "start_time": "2024-07-26T19:50:39.465Z"
   },
   {
    "duration": 26,
    "start_time": "2024-07-26T19:50:39.522Z"
   },
   {
    "duration": 11,
    "start_time": "2024-07-26T19:50:39.551Z"
   },
   {
    "duration": 87,
    "start_time": "2024-07-26T19:50:39.564Z"
   },
   {
    "duration": 31,
    "start_time": "2024-07-26T19:50:39.656Z"
   },
   {
    "duration": 37,
    "start_time": "2024-07-26T19:50:39.690Z"
   },
   {
    "duration": 15,
    "start_time": "2024-07-26T19:50:39.730Z"
   },
   {
    "duration": 5,
    "start_time": "2024-07-26T19:50:39.747Z"
   },
   {
    "duration": 11,
    "start_time": "2024-07-26T19:50:39.756Z"
   },
   {
    "duration": 61,
    "start_time": "2024-07-26T19:50:39.770Z"
   },
   {
    "duration": 11,
    "start_time": "2024-07-26T19:50:39.834Z"
   },
   {
    "duration": 18,
    "start_time": "2024-07-26T19:50:39.847Z"
   },
   {
    "duration": 10,
    "start_time": "2024-07-26T19:50:39.868Z"
   },
   {
    "duration": 58,
    "start_time": "2024-07-26T19:50:39.887Z"
   },
   {
    "duration": 11,
    "start_time": "2024-07-26T19:50:39.948Z"
   },
   {
    "duration": 11,
    "start_time": "2024-07-26T19:50:39.962Z"
   },
   {
    "duration": 58,
    "start_time": "2024-07-26T19:50:39.975Z"
   },
   {
    "duration": 11,
    "start_time": "2024-07-26T19:50:40.036Z"
   },
   {
    "duration": 14,
    "start_time": "2024-07-26T19:50:40.050Z"
   },
   {
    "duration": 22,
    "start_time": "2024-07-26T19:50:40.067Z"
   },
   {
    "duration": 17,
    "start_time": "2024-07-26T19:50:40.124Z"
   },
   {
    "duration": 13,
    "start_time": "2024-07-26T19:50:40.144Z"
   },
   {
    "duration": 23,
    "start_time": "2024-07-26T19:50:40.160Z"
   },
   {
    "duration": 65,
    "start_time": "2024-07-26T19:50:40.186Z"
   },
   {
    "duration": 13,
    "start_time": "2024-07-26T19:50:40.254Z"
   },
   {
    "duration": 10,
    "start_time": "2024-07-26T19:50:40.270Z"
   },
   {
    "duration": 42,
    "start_time": "2024-07-26T19:50:40.283Z"
   },
   {
    "duration": 24,
    "start_time": "2024-07-26T19:50:40.328Z"
   },
   {
    "duration": 9,
    "start_time": "2024-07-26T19:50:40.358Z"
   },
   {
    "duration": 10,
    "start_time": "2024-07-26T19:50:40.370Z"
   },
   {
    "duration": 41,
    "start_time": "2024-07-26T19:50:40.383Z"
   },
   {
    "duration": 35,
    "start_time": "2024-07-26T19:50:40.427Z"
   },
   {
    "duration": 4,
    "start_time": "2024-07-26T19:50:40.465Z"
   },
   {
    "duration": 58,
    "start_time": "2024-07-26T19:50:40.472Z"
   },
   {
    "duration": 490,
    "start_time": "2024-07-26T19:50:40.533Z"
   },
   {
    "duration": 300,
    "start_time": "2024-07-26T19:50:41.027Z"
   },
   {
    "duration": 9,
    "start_time": "2024-07-26T19:50:41.330Z"
   },
   {
    "duration": 210,
    "start_time": "2024-07-26T19:50:41.342Z"
   },
   {
    "duration": 4,
    "start_time": "2024-07-26T19:50:41.555Z"
   },
   {
    "duration": 4,
    "start_time": "2024-07-26T19:50:41.562Z"
   },
   {
    "duration": 3,
    "start_time": "2024-07-26T19:50:41.569Z"
   },
   {
    "duration": 4,
    "start_time": "2024-07-26T19:50:41.575Z"
   },
   {
    "duration": 14,
    "start_time": "2024-07-26T20:17:44.163Z"
   },
   {
    "duration": 1323,
    "start_time": "2024-07-26T20:18:42.642Z"
   },
   {
    "duration": 288,
    "start_time": "2024-07-26T20:18:43.968Z"
   },
   {
    "duration": 17,
    "start_time": "2024-07-26T20:18:44.259Z"
   },
   {
    "duration": 18,
    "start_time": "2024-07-26T20:18:44.280Z"
   },
   {
    "duration": 7,
    "start_time": "2024-07-26T20:18:44.324Z"
   },
   {
    "duration": 8,
    "start_time": "2024-07-26T20:18:44.335Z"
   },
   {
    "duration": 5,
    "start_time": "2024-07-26T20:18:44.346Z"
   },
   {
    "duration": 17,
    "start_time": "2024-07-26T20:18:44.354Z"
   },
   {
    "duration": 57,
    "start_time": "2024-07-26T20:18:44.375Z"
   },
   {
    "duration": 8,
    "start_time": "2024-07-26T20:18:44.439Z"
   },
   {
    "duration": 4,
    "start_time": "2024-07-26T20:18:44.450Z"
   },
   {
    "duration": 8,
    "start_time": "2024-07-26T20:18:44.458Z"
   },
   {
    "duration": 5,
    "start_time": "2024-07-26T20:18:44.469Z"
   },
   {
    "duration": 4,
    "start_time": "2024-07-26T20:18:44.522Z"
   },
   {
    "duration": 6,
    "start_time": "2024-07-26T20:18:44.529Z"
   },
   {
    "duration": 26,
    "start_time": "2024-07-26T20:18:44.538Z"
   },
   {
    "duration": 11,
    "start_time": "2024-07-26T20:18:44.567Z"
   },
   {
    "duration": 96,
    "start_time": "2024-07-26T20:18:44.580Z"
   },
   {
    "duration": 27,
    "start_time": "2024-07-26T20:18:44.678Z"
   },
   {
    "duration": 27,
    "start_time": "2024-07-26T20:18:44.707Z"
   },
   {
    "duration": 13,
    "start_time": "2024-07-26T20:18:44.737Z"
   },
   {
    "duration": 5,
    "start_time": "2024-07-26T20:18:44.752Z"
   },
   {
    "duration": 13,
    "start_time": "2024-07-26T20:18:44.759Z"
   },
   {
    "duration": 64,
    "start_time": "2024-07-26T20:18:44.775Z"
   },
   {
    "duration": 11,
    "start_time": "2024-07-26T20:18:44.842Z"
   },
   {
    "duration": 21,
    "start_time": "2024-07-26T20:18:44.856Z"
   },
   {
    "duration": 42,
    "start_time": "2024-07-26T20:18:44.880Z"
   },
   {
    "duration": 22,
    "start_time": "2024-07-26T20:18:44.931Z"
   },
   {
    "duration": 11,
    "start_time": "2024-07-26T20:18:44.956Z"
   },
   {
    "duration": 10,
    "start_time": "2024-07-26T20:18:44.971Z"
   },
   {
    "duration": 58,
    "start_time": "2024-07-26T20:18:44.984Z"
   },
   {
    "duration": 11,
    "start_time": "2024-07-26T20:18:45.045Z"
   },
   {
    "duration": 13,
    "start_time": "2024-07-26T20:18:45.059Z"
   },
   {
    "duration": 54,
    "start_time": "2024-07-26T20:18:45.075Z"
   },
   {
    "duration": 17,
    "start_time": "2024-07-26T20:18:45.132Z"
   },
   {
    "duration": 13,
    "start_time": "2024-07-26T20:18:45.152Z"
   },
   {
    "duration": 56,
    "start_time": "2024-07-26T20:18:45.168Z"
   },
   {
    "duration": 36,
    "start_time": "2024-07-26T20:18:45.227Z"
   },
   {
    "duration": 13,
    "start_time": "2024-07-26T20:18:45.266Z"
   },
   {
    "duration": 42,
    "start_time": "2024-07-26T20:18:45.282Z"
   },
   {
    "duration": 7,
    "start_time": "2024-07-26T20:18:45.326Z"
   },
   {
    "duration": 13,
    "start_time": "2024-07-26T20:18:45.336Z"
   },
   {
    "duration": 10,
    "start_time": "2024-07-26T20:18:45.353Z"
   },
   {
    "duration": 9,
    "start_time": "2024-07-26T20:18:45.366Z"
   },
   {
    "duration": 52,
    "start_time": "2024-07-26T20:18:45.377Z"
   },
   {
    "duration": 36,
    "start_time": "2024-07-26T20:18:45.431Z"
   },
   {
    "duration": 4,
    "start_time": "2024-07-26T20:18:45.469Z"
   },
   {
    "duration": 58,
    "start_time": "2024-07-26T20:18:45.477Z"
   },
   {
    "duration": 476,
    "start_time": "2024-07-26T20:18:45.538Z"
   },
   {
    "duration": 316,
    "start_time": "2024-07-26T20:18:46.017Z"
   },
   {
    "duration": 9,
    "start_time": "2024-07-26T20:18:46.336Z"
   },
   {
    "duration": 204,
    "start_time": "2024-07-26T20:18:46.348Z"
   },
   {
    "duration": 3,
    "start_time": "2024-07-26T20:18:46.556Z"
   },
   {
    "duration": 3,
    "start_time": "2024-07-26T20:18:46.562Z"
   },
   {
    "duration": 5,
    "start_time": "2024-07-26T20:18:46.568Z"
   },
   {
    "duration": 4,
    "start_time": "2024-07-26T20:18:46.576Z"
   },
   {
    "duration": 34,
    "start_time": "2024-07-26T20:19:54.808Z"
   },
   {
    "duration": 27,
    "start_time": "2024-07-26T20:20:50.502Z"
   },
   {
    "duration": 32,
    "start_time": "2024-07-26T20:21:11.355Z"
   },
   {
    "duration": 33,
    "start_time": "2024-07-26T20:28:43.176Z"
   },
   {
    "duration": 7,
    "start_time": "2024-07-26T20:30:53.277Z"
   },
   {
    "duration": 1289,
    "start_time": "2024-07-26T20:31:03.948Z"
   },
   {
    "duration": 286,
    "start_time": "2024-07-26T20:31:05.240Z"
   },
   {
    "duration": 16,
    "start_time": "2024-07-26T20:31:05.530Z"
   },
   {
    "duration": 15,
    "start_time": "2024-07-26T20:31:05.550Z"
   },
   {
    "duration": 6,
    "start_time": "2024-07-26T20:31:05.569Z"
   },
   {
    "duration": 10,
    "start_time": "2024-07-26T20:31:05.577Z"
   },
   {
    "duration": 5,
    "start_time": "2024-07-26T20:31:05.624Z"
   },
   {
    "duration": 16,
    "start_time": "2024-07-26T20:31:05.632Z"
   },
   {
    "duration": 16,
    "start_time": "2024-07-26T20:31:05.651Z"
   },
   {
    "duration": 50,
    "start_time": "2024-07-26T20:31:05.672Z"
   },
   {
    "duration": 6,
    "start_time": "2024-07-26T20:31:05.725Z"
   },
   {
    "duration": 9,
    "start_time": "2024-07-26T20:31:05.735Z"
   },
   {
    "duration": 6,
    "start_time": "2024-07-26T20:31:05.747Z"
   },
   {
    "duration": 5,
    "start_time": "2024-07-26T20:31:05.756Z"
   },
   {
    "duration": 6,
    "start_time": "2024-07-26T20:31:05.765Z"
   },
   {
    "duration": 27,
    "start_time": "2024-07-26T20:31:05.823Z"
   },
   {
    "duration": 11,
    "start_time": "2024-07-26T20:31:05.853Z"
   },
   {
    "duration": 85,
    "start_time": "2024-07-26T20:31:05.867Z"
   },
   {
    "duration": 31,
    "start_time": "2024-07-26T20:31:05.956Z"
   },
   {
    "duration": 40,
    "start_time": "2024-07-26T20:31:05.991Z"
   },
   {
    "duration": 15,
    "start_time": "2024-07-26T20:31:06.035Z"
   },
   {
    "duration": 6,
    "start_time": "2024-07-26T20:31:06.052Z"
   },
   {
    "duration": 14,
    "start_time": "2024-07-26T20:31:06.062Z"
   },
   {
    "duration": 51,
    "start_time": "2024-07-26T20:31:06.079Z"
   },
   {
    "duration": 10,
    "start_time": "2024-07-26T20:31:06.133Z"
   },
   {
    "duration": 17,
    "start_time": "2024-07-26T20:31:06.146Z"
   },
   {
    "duration": 10,
    "start_time": "2024-07-26T20:31:06.165Z"
   },
   {
    "duration": 22,
    "start_time": "2024-07-26T20:31:06.222Z"
   },
   {
    "duration": 11,
    "start_time": "2024-07-26T20:31:06.247Z"
   },
   {
    "duration": 10,
    "start_time": "2024-07-26T20:31:06.261Z"
   },
   {
    "duration": 57,
    "start_time": "2024-07-26T20:31:06.274Z"
   },
   {
    "duration": 11,
    "start_time": "2024-07-26T20:31:06.334Z"
   },
   {
    "duration": 13,
    "start_time": "2024-07-26T20:31:06.348Z"
   },
   {
    "duration": 21,
    "start_time": "2024-07-26T20:31:06.364Z"
   },
   {
    "duration": 15,
    "start_time": "2024-07-26T20:31:06.423Z"
   },
   {
    "duration": 14,
    "start_time": "2024-07-26T20:31:06.440Z"
   },
   {
    "duration": 23,
    "start_time": "2024-07-26T20:31:06.456Z"
   },
   {
    "duration": 63,
    "start_time": "2024-07-26T20:31:06.482Z"
   },
   {
    "duration": 11,
    "start_time": "2024-07-26T20:31:06.548Z"
   },
   {
    "duration": 12,
    "start_time": "2024-07-26T20:31:06.562Z"
   },
   {
    "duration": 6,
    "start_time": "2024-07-26T20:31:06.577Z"
   },
   {
    "duration": 20,
    "start_time": "2024-07-26T20:31:06.623Z"
   },
   {
    "duration": 6,
    "start_time": "2024-07-26T20:31:06.646Z"
   },
   {
    "duration": 11,
    "start_time": "2024-07-26T20:31:06.655Z"
   },
   {
    "duration": 10,
    "start_time": "2024-07-26T20:31:06.668Z"
   },
   {
    "duration": 14,
    "start_time": "2024-07-26T20:31:06.724Z"
   },
   {
    "duration": 35,
    "start_time": "2024-07-26T20:31:06.741Z"
   },
   {
    "duration": 3,
    "start_time": "2024-07-26T20:31:06.779Z"
   },
   {
    "duration": 51,
    "start_time": "2024-07-26T20:31:06.785Z"
   },
   {
    "duration": 478,
    "start_time": "2024-07-26T20:31:06.839Z"
   },
   {
    "duration": 289,
    "start_time": "2024-07-26T20:31:07.324Z"
   },
   {
    "duration": 8,
    "start_time": "2024-07-26T20:31:07.623Z"
   },
   {
    "duration": 206,
    "start_time": "2024-07-26T20:31:07.635Z"
   },
   {
    "duration": 4,
    "start_time": "2024-07-26T20:31:07.844Z"
   },
   {
    "duration": 3,
    "start_time": "2024-07-26T20:31:07.852Z"
   },
   {
    "duration": 3,
    "start_time": "2024-07-26T20:31:07.859Z"
   },
   {
    "duration": 4,
    "start_time": "2024-07-26T20:31:07.865Z"
   },
   {
    "duration": 6,
    "start_time": "2024-07-26T20:33:17.576Z"
   },
   {
    "duration": 430,
    "start_time": "2024-07-26T20:33:26.587Z"
   },
   {
    "duration": 13,
    "start_time": "2024-07-26T20:34:40.739Z"
   },
   {
    "duration": 8,
    "start_time": "2024-07-26T20:34:54.151Z"
   },
   {
    "duration": 12,
    "start_time": "2024-07-26T20:35:02.424Z"
   },
   {
    "duration": 6,
    "start_time": "2024-07-26T20:35:26.775Z"
   },
   {
    "duration": 6,
    "start_time": "2024-07-26T20:35:35.127Z"
   },
   {
    "duration": 11,
    "start_time": "2024-07-26T20:36:07.158Z"
   },
   {
    "duration": 6,
    "start_time": "2024-07-26T20:36:15.211Z"
   },
   {
    "duration": 35,
    "start_time": "2024-07-26T20:36:21.404Z"
   },
   {
    "duration": 16,
    "start_time": "2024-07-26T20:36:45.885Z"
   },
   {
    "duration": 22,
    "start_time": "2024-07-26T20:37:55.299Z"
   },
   {
    "duration": 36,
    "start_time": "2024-07-26T20:38:05.225Z"
   },
   {
    "duration": 26,
    "start_time": "2024-07-26T20:38:13.642Z"
   },
   {
    "duration": 445,
    "start_time": "2024-07-26T20:38:54.067Z"
   },
   {
    "duration": 1286,
    "start_time": "2024-07-26T20:39:15.972Z"
   },
   {
    "duration": 300,
    "start_time": "2024-07-26T20:39:17.262Z"
   },
   {
    "duration": 15,
    "start_time": "2024-07-26T20:39:17.565Z"
   },
   {
    "duration": 17,
    "start_time": "2024-07-26T20:39:17.585Z"
   },
   {
    "duration": 6,
    "start_time": "2024-07-26T20:39:17.623Z"
   },
   {
    "duration": 6,
    "start_time": "2024-07-26T20:39:17.633Z"
   },
   {
    "duration": 6,
    "start_time": "2024-07-26T20:39:17.642Z"
   },
   {
    "duration": 16,
    "start_time": "2024-07-26T20:39:17.652Z"
   },
   {
    "duration": 54,
    "start_time": "2024-07-26T20:39:17.671Z"
   },
   {
    "duration": 9,
    "start_time": "2024-07-26T20:39:17.731Z"
   },
   {
    "duration": 6,
    "start_time": "2024-07-26T20:39:17.743Z"
   },
   {
    "duration": 10,
    "start_time": "2024-07-26T20:39:17.753Z"
   },
   {
    "duration": 5,
    "start_time": "2024-07-26T20:39:17.766Z"
   },
   {
    "duration": 51,
    "start_time": "2024-07-26T20:39:17.774Z"
   },
   {
    "duration": 6,
    "start_time": "2024-07-26T20:39:17.828Z"
   },
   {
    "duration": 26,
    "start_time": "2024-07-26T20:39:17.838Z"
   },
   {
    "duration": 11,
    "start_time": "2024-07-26T20:39:17.867Z"
   },
   {
    "duration": 95,
    "start_time": "2024-07-26T20:39:17.881Z"
   },
   {
    "duration": 47,
    "start_time": "2024-07-26T20:39:17.979Z"
   },
   {
    "duration": 14,
    "start_time": "2024-07-26T20:39:18.030Z"
   },
   {
    "duration": 13,
    "start_time": "2024-07-26T20:39:18.046Z"
   },
   {
    "duration": 5,
    "start_time": "2024-07-26T20:39:18.062Z"
   },
   {
    "duration": 11,
    "start_time": "2024-07-26T20:39:18.070Z"
   },
   {
    "duration": 19,
    "start_time": "2024-07-26T20:39:18.124Z"
   },
   {
    "duration": 11,
    "start_time": "2024-07-26T20:39:18.146Z"
   },
   {
    "duration": 18,
    "start_time": "2024-07-26T20:39:18.160Z"
   },
   {
    "duration": 42,
    "start_time": "2024-07-26T20:39:18.181Z"
   },
   {
    "duration": 23,
    "start_time": "2024-07-26T20:39:18.232Z"
   },
   {
    "duration": 11,
    "start_time": "2024-07-26T20:39:18.259Z"
   },
   {
    "duration": 10,
    "start_time": "2024-07-26T20:39:18.273Z"
   },
   {
    "duration": 20,
    "start_time": "2024-07-26T20:39:18.324Z"
   },
   {
    "duration": 11,
    "start_time": "2024-07-26T20:39:18.347Z"
   },
   {
    "duration": 12,
    "start_time": "2024-07-26T20:39:18.361Z"
   },
   {
    "duration": 57,
    "start_time": "2024-07-26T20:39:18.377Z"
   },
   {
    "duration": 16,
    "start_time": "2024-07-26T20:39:18.437Z"
   },
   {
    "duration": 14,
    "start_time": "2024-07-26T20:39:18.456Z"
   },
   {
    "duration": 57,
    "start_time": "2024-07-26T20:39:18.472Z"
   },
   {
    "duration": 36,
    "start_time": "2024-07-26T20:39:18.532Z"
   },
   {
    "duration": 12,
    "start_time": "2024-07-26T20:39:18.572Z"
   },
   {
    "duration": 43,
    "start_time": "2024-07-26T20:39:18.587Z"
   },
   {
    "duration": 6,
    "start_time": "2024-07-26T20:39:18.635Z"
   },
   {
    "duration": 21,
    "start_time": "2024-07-26T20:39:18.644Z"
   },
   {
    "duration": 6,
    "start_time": "2024-07-26T20:39:18.668Z"
   },
   {
    "duration": 49,
    "start_time": "2024-07-26T20:39:18.677Z"
   },
   {
    "duration": 8,
    "start_time": "2024-07-26T20:39:18.729Z"
   },
   {
    "duration": 7,
    "start_time": "2024-07-26T20:39:18.740Z"
   },
   {
    "duration": 35,
    "start_time": "2024-07-26T20:39:18.750Z"
   },
   {
    "duration": 3,
    "start_time": "2024-07-26T20:39:18.825Z"
   },
   {
    "duration": 22,
    "start_time": "2024-07-26T20:39:18.831Z"
   },
   {
    "duration": 501,
    "start_time": "2024-07-26T20:39:18.856Z"
   },
   {
    "duration": 298,
    "start_time": "2024-07-26T20:39:19.360Z"
   },
   {
    "duration": 10,
    "start_time": "2024-07-26T20:39:19.661Z"
   },
   {
    "duration": 217,
    "start_time": "2024-07-26T20:39:19.675Z"
   },
   {
    "duration": 3,
    "start_time": "2024-07-26T20:39:19.897Z"
   },
   {
    "duration": 3,
    "start_time": "2024-07-26T20:39:19.904Z"
   },
   {
    "duration": 5,
    "start_time": "2024-07-26T20:39:19.925Z"
   },
   {
    "duration": 4,
    "start_time": "2024-07-26T20:39:19.933Z"
   },
   {
    "duration": 25,
    "start_time": "2024-07-26T20:39:43.802Z"
   },
   {
    "duration": 6,
    "start_time": "2024-07-26T20:40:20.675Z"
   },
   {
    "duration": 27,
    "start_time": "2024-07-26T20:40:32.990Z"
   },
   {
    "duration": 466,
    "start_time": "2024-07-26T20:41:24.925Z"
   },
   {
    "duration": 7,
    "start_time": "2024-07-26T20:42:04.336Z"
   },
   {
    "duration": 6,
    "start_time": "2024-07-26T20:42:10.750Z"
   },
   {
    "duration": 6,
    "start_time": "2024-07-26T20:42:15.311Z"
   },
   {
    "duration": 8,
    "start_time": "2024-07-26T20:45:16.416Z"
   },
   {
    "duration": 11,
    "start_time": "2024-07-26T20:45:51.826Z"
   },
   {
    "duration": 9,
    "start_time": "2024-07-26T20:45:56.612Z"
   },
   {
    "duration": 6,
    "start_time": "2024-07-26T20:46:05.730Z"
   },
   {
    "duration": 33,
    "start_time": "2024-07-26T20:47:25.962Z"
   },
   {
    "duration": 6,
    "start_time": "2024-07-26T20:48:09.914Z"
   },
   {
    "duration": 16,
    "start_time": "2024-07-26T20:48:13.549Z"
   },
   {
    "duration": 1285,
    "start_time": "2024-07-26T20:48:30.553Z"
   },
   {
    "duration": 277,
    "start_time": "2024-07-26T20:48:31.842Z"
   },
   {
    "duration": 17,
    "start_time": "2024-07-26T20:48:32.122Z"
   },
   {
    "duration": 16,
    "start_time": "2024-07-26T20:48:32.142Z"
   },
   {
    "duration": 6,
    "start_time": "2024-07-26T20:48:32.162Z"
   },
   {
    "duration": 8,
    "start_time": "2024-07-26T20:48:32.171Z"
   },
   {
    "duration": 5,
    "start_time": "2024-07-26T20:48:32.222Z"
   },
   {
    "duration": 15,
    "start_time": "2024-07-26T20:48:32.230Z"
   },
   {
    "duration": 15,
    "start_time": "2024-07-26T20:48:32.248Z"
   },
   {
    "duration": 8,
    "start_time": "2024-07-26T20:48:32.269Z"
   },
   {
    "duration": 5,
    "start_time": "2024-07-26T20:48:32.323Z"
   },
   {
    "duration": 9,
    "start_time": "2024-07-26T20:48:32.331Z"
   },
   {
    "duration": 7,
    "start_time": "2024-07-26T20:48:32.344Z"
   },
   {
    "duration": 5,
    "start_time": "2024-07-26T20:48:32.353Z"
   },
   {
    "duration": 7,
    "start_time": "2024-07-26T20:48:32.362Z"
   },
   {
    "duration": 25,
    "start_time": "2024-07-26T20:48:32.422Z"
   },
   {
    "duration": 12,
    "start_time": "2024-07-26T20:48:32.449Z"
   },
   {
    "duration": 83,
    "start_time": "2024-07-26T20:48:32.464Z"
   },
   {
    "duration": 29,
    "start_time": "2024-07-26T20:48:32.549Z"
   },
   {
    "duration": 14,
    "start_time": "2024-07-26T20:48:32.580Z"
   },
   {
    "duration": 37,
    "start_time": "2024-07-26T20:48:32.597Z"
   },
   {
    "duration": 4,
    "start_time": "2024-07-26T20:48:32.637Z"
   },
   {
    "duration": 13,
    "start_time": "2024-07-26T20:48:32.644Z"
   },
   {
    "duration": 21,
    "start_time": "2024-07-26T20:48:32.660Z"
   },
   {
    "duration": 47,
    "start_time": "2024-07-26T20:48:32.684Z"
   },
   {
    "duration": 17,
    "start_time": "2024-07-26T20:48:32.734Z"
   },
   {
    "duration": 10,
    "start_time": "2024-07-26T20:48:32.755Z"
   },
   {
    "duration": 57,
    "start_time": "2024-07-26T20:48:32.775Z"
   },
   {
    "duration": 11,
    "start_time": "2024-07-26T20:48:32.835Z"
   },
   {
    "duration": 8,
    "start_time": "2024-07-26T20:48:32.850Z"
   },
   {
    "duration": 21,
    "start_time": "2024-07-26T20:48:32.862Z"
   },
   {
    "duration": 11,
    "start_time": "2024-07-26T20:48:32.922Z"
   },
   {
    "duration": 14,
    "start_time": "2024-07-26T20:48:32.935Z"
   },
   {
    "duration": 23,
    "start_time": "2024-07-26T20:48:32.952Z"
   },
   {
    "duration": 51,
    "start_time": "2024-07-26T20:48:32.978Z"
   },
   {
    "duration": 13,
    "start_time": "2024-07-26T20:48:33.031Z"
   },
   {
    "duration": 22,
    "start_time": "2024-07-26T20:48:33.046Z"
   },
   {
    "duration": 68,
    "start_time": "2024-07-26T20:48:33.071Z"
   },
   {
    "duration": 13,
    "start_time": "2024-07-26T20:48:33.141Z"
   },
   {
    "duration": 10,
    "start_time": "2024-07-26T20:48:33.158Z"
   },
   {
    "duration": 7,
    "start_time": "2024-07-26T20:48:33.171Z"
   },
   {
    "duration": 58,
    "start_time": "2024-07-26T20:48:33.181Z"
   },
   {
    "duration": 6,
    "start_time": "2024-07-26T20:48:33.243Z"
   },
   {
    "duration": 13,
    "start_time": "2024-07-26T20:48:33.251Z"
   },
   {
    "duration": 8,
    "start_time": "2024-07-26T20:48:33.267Z"
   },
   {
    "duration": 1333,
    "start_time": "2024-07-26T20:48:33.278Z"
   },
   {
    "duration": 0,
    "start_time": "2024-07-26T20:48:34.622Z"
   },
   {
    "duration": 0,
    "start_time": "2024-07-26T20:48:34.624Z"
   },
   {
    "duration": 0,
    "start_time": "2024-07-26T20:48:34.626Z"
   },
   {
    "duration": 1,
    "start_time": "2024-07-26T20:48:34.627Z"
   },
   {
    "duration": 0,
    "start_time": "2024-07-26T20:48:34.629Z"
   },
   {
    "duration": 0,
    "start_time": "2024-07-26T20:48:34.631Z"
   },
   {
    "duration": 0,
    "start_time": "2024-07-26T20:48:34.632Z"
   },
   {
    "duration": 0,
    "start_time": "2024-07-26T20:48:34.634Z"
   },
   {
    "duration": 0,
    "start_time": "2024-07-26T20:48:34.637Z"
   },
   {
    "duration": 0,
    "start_time": "2024-07-26T20:48:34.639Z"
   },
   {
    "duration": 0,
    "start_time": "2024-07-26T20:48:34.642Z"
   },
   {
    "duration": 17,
    "start_time": "2024-07-26T20:49:43.857Z"
   },
   {
    "duration": 1332,
    "start_time": "2024-07-26T20:49:54.906Z"
   },
   {
    "duration": 280,
    "start_time": "2024-07-26T20:49:56.242Z"
   },
   {
    "duration": 16,
    "start_time": "2024-07-26T20:49:56.525Z"
   },
   {
    "duration": 16,
    "start_time": "2024-07-26T20:49:56.546Z"
   },
   {
    "duration": 5,
    "start_time": "2024-07-26T20:49:56.565Z"
   },
   {
    "duration": 49,
    "start_time": "2024-07-26T20:49:56.573Z"
   },
   {
    "duration": 5,
    "start_time": "2024-07-26T20:49:56.627Z"
   },
   {
    "duration": 16,
    "start_time": "2024-07-26T20:49:56.636Z"
   },
   {
    "duration": 15,
    "start_time": "2024-07-26T20:49:56.655Z"
   },
   {
    "duration": 47,
    "start_time": "2024-07-26T20:49:56.676Z"
   },
   {
    "duration": 8,
    "start_time": "2024-07-26T20:49:56.726Z"
   },
   {
    "duration": 9,
    "start_time": "2024-07-26T20:49:56.736Z"
   },
   {
    "duration": 6,
    "start_time": "2024-07-26T20:49:56.749Z"
   },
   {
    "duration": 4,
    "start_time": "2024-07-26T20:49:56.758Z"
   },
   {
    "duration": 6,
    "start_time": "2024-07-26T20:49:56.766Z"
   },
   {
    "duration": 25,
    "start_time": "2024-07-26T20:49:56.823Z"
   },
   {
    "duration": 10,
    "start_time": "2024-07-26T20:49:56.851Z"
   },
   {
    "duration": 82,
    "start_time": "2024-07-26T20:49:56.864Z"
   },
   {
    "duration": 27,
    "start_time": "2024-07-26T20:49:56.949Z"
   },
   {
    "duration": 13,
    "start_time": "2024-07-26T20:49:56.979Z"
   },
   {
    "duration": 33,
    "start_time": "2024-07-26T20:49:56.995Z"
   },
   {
    "duration": 4,
    "start_time": "2024-07-26T20:49:57.031Z"
   },
   {
    "duration": 12,
    "start_time": "2024-07-26T20:49:57.038Z"
   },
   {
    "duration": 20,
    "start_time": "2024-07-26T20:49:57.053Z"
   },
   {
    "duration": 54,
    "start_time": "2024-07-26T20:49:57.076Z"
   },
   {
    "duration": 18,
    "start_time": "2024-07-26T20:49:57.133Z"
   },
   {
    "duration": 10,
    "start_time": "2024-07-26T20:49:57.154Z"
   },
   {
    "duration": 54,
    "start_time": "2024-07-26T20:49:57.172Z"
   },
   {
    "duration": 11,
    "start_time": "2024-07-26T20:49:57.229Z"
   },
   {
    "duration": 9,
    "start_time": "2024-07-26T20:49:57.243Z"
   },
   {
    "duration": 21,
    "start_time": "2024-07-26T20:49:57.255Z"
   },
   {
    "duration": 47,
    "start_time": "2024-07-26T20:49:57.279Z"
   },
   {
    "duration": 16,
    "start_time": "2024-07-26T20:49:57.329Z"
   },
   {
    "duration": 21,
    "start_time": "2024-07-26T20:49:57.347Z"
   },
   {
    "duration": 56,
    "start_time": "2024-07-26T20:49:57.372Z"
   },
   {
    "duration": 13,
    "start_time": "2024-07-26T20:49:57.430Z"
   },
   {
    "duration": 24,
    "start_time": "2024-07-26T20:49:57.446Z"
   },
   {
    "duration": 59,
    "start_time": "2024-07-26T20:49:57.472Z"
   },
   {
    "duration": 12,
    "start_time": "2024-07-26T20:49:57.534Z"
   },
   {
    "duration": 11,
    "start_time": "2024-07-26T20:49:57.549Z"
   },
   {
    "duration": 7,
    "start_time": "2024-07-26T20:49:57.563Z"
   },
   {
    "duration": 56,
    "start_time": "2024-07-26T20:49:57.572Z"
   },
   {
    "duration": 6,
    "start_time": "2024-07-26T20:49:57.631Z"
   },
   {
    "duration": 12,
    "start_time": "2024-07-26T20:49:57.641Z"
   },
   {
    "duration": 10,
    "start_time": "2024-07-26T20:49:57.656Z"
   },
   {
    "duration": 64,
    "start_time": "2024-07-26T20:49:57.669Z"
   },
   {
    "duration": 39,
    "start_time": "2024-07-26T20:49:57.737Z"
   },
   {
    "duration": 4,
    "start_time": "2024-07-26T20:49:57.779Z"
   },
   {
    "duration": 51,
    "start_time": "2024-07-26T20:49:57.787Z"
   },
   {
    "duration": 473,
    "start_time": "2024-07-26T20:49:57.840Z"
   },
   {
    "duration": 285,
    "start_time": "2024-07-26T20:49:58.316Z"
   },
   {
    "duration": 19,
    "start_time": "2024-07-26T20:49:58.604Z"
   },
   {
    "duration": 198,
    "start_time": "2024-07-26T20:49:58.627Z"
   },
   {
    "duration": 3,
    "start_time": "2024-07-26T20:49:58.828Z"
   },
   {
    "duration": 4,
    "start_time": "2024-07-26T20:49:58.834Z"
   },
   {
    "duration": 4,
    "start_time": "2024-07-26T20:49:58.841Z"
   },
   {
    "duration": 3,
    "start_time": "2024-07-26T20:49:58.850Z"
   },
   {
    "duration": 18,
    "start_time": "2024-07-26T20:51:23.035Z"
   },
   {
    "duration": 6,
    "start_time": "2024-07-26T20:52:50.751Z"
   },
   {
    "duration": 11,
    "start_time": "2024-07-26T20:53:00.192Z"
   },
   {
    "duration": 17,
    "start_time": "2024-07-26T20:53:02.516Z"
   },
   {
    "duration": 23,
    "start_time": "2024-07-26T20:53:14.533Z"
   },
   {
    "duration": 25,
    "start_time": "2024-07-26T20:53:21.770Z"
   },
   {
    "duration": 1275,
    "start_time": "2024-07-26T20:53:51.176Z"
   },
   {
    "duration": 271,
    "start_time": "2024-07-26T20:53:52.455Z"
   },
   {
    "duration": 15,
    "start_time": "2024-07-26T20:53:52.729Z"
   },
   {
    "duration": 16,
    "start_time": "2024-07-26T20:53:52.749Z"
   },
   {
    "duration": 5,
    "start_time": "2024-07-26T20:53:52.768Z"
   },
   {
    "duration": 7,
    "start_time": "2024-07-26T20:53:52.777Z"
   },
   {
    "duration": 6,
    "start_time": "2024-07-26T20:53:52.824Z"
   },
   {
    "duration": 15,
    "start_time": "2024-07-26T20:53:52.834Z"
   },
   {
    "duration": 16,
    "start_time": "2024-07-26T20:53:52.852Z"
   },
   {
    "duration": 50,
    "start_time": "2024-07-26T20:53:52.874Z"
   },
   {
    "duration": 12,
    "start_time": "2024-07-26T20:53:52.927Z"
   },
   {
    "duration": 8,
    "start_time": "2024-07-26T20:53:52.943Z"
   },
   {
    "duration": 7,
    "start_time": "2024-07-26T20:53:52.955Z"
   },
   {
    "duration": 7,
    "start_time": "2024-07-26T20:53:52.965Z"
   },
   {
    "duration": 7,
    "start_time": "2024-07-26T20:53:52.974Z"
   },
   {
    "duration": 28,
    "start_time": "2024-07-26T20:53:53.023Z"
   },
   {
    "duration": 12,
    "start_time": "2024-07-26T20:53:53.054Z"
   },
   {
    "duration": 91,
    "start_time": "2024-07-26T20:53:53.069Z"
   },
   {
    "duration": 28,
    "start_time": "2024-07-26T20:53:53.163Z"
   },
   {
    "duration": 30,
    "start_time": "2024-07-26T20:53:53.193Z"
   },
   {
    "duration": 13,
    "start_time": "2024-07-26T20:53:53.226Z"
   },
   {
    "duration": 6,
    "start_time": "2024-07-26T20:53:53.241Z"
   },
   {
    "duration": 11,
    "start_time": "2024-07-26T20:53:53.251Z"
   },
   {
    "duration": 62,
    "start_time": "2024-07-26T20:53:53.266Z"
   },
   {
    "duration": 10,
    "start_time": "2024-07-26T20:53:53.331Z"
   },
   {
    "duration": 19,
    "start_time": "2024-07-26T20:53:53.346Z"
   },
   {
    "duration": 11,
    "start_time": "2024-07-26T20:53:53.369Z"
   },
   {
    "duration": 22,
    "start_time": "2024-07-26T20:53:53.427Z"
   },
   {
    "duration": 11,
    "start_time": "2024-07-26T20:53:53.452Z"
   },
   {
    "duration": 10,
    "start_time": "2024-07-26T20:53:53.465Z"
   },
   {
    "duration": 56,
    "start_time": "2024-07-26T20:53:53.479Z"
   },
   {
    "duration": 11,
    "start_time": "2024-07-26T20:53:53.538Z"
   },
   {
    "duration": 14,
    "start_time": "2024-07-26T20:53:53.551Z"
   },
   {
    "duration": 55,
    "start_time": "2024-07-26T20:53:53.569Z"
   },
   {
    "duration": 16,
    "start_time": "2024-07-26T20:53:53.627Z"
   },
   {
    "duration": 13,
    "start_time": "2024-07-26T20:53:53.646Z"
   },
   {
    "duration": 23,
    "start_time": "2024-07-26T20:53:53.662Z"
   },
   {
    "duration": 64,
    "start_time": "2024-07-26T20:53:53.688Z"
   },
   {
    "duration": 10,
    "start_time": "2024-07-26T20:53:53.755Z"
   },
   {
    "duration": 10,
    "start_time": "2024-07-26T20:53:53.768Z"
   },
   {
    "duration": 43,
    "start_time": "2024-07-26T20:53:53.781Z"
   },
   {
    "duration": 19,
    "start_time": "2024-07-26T20:53:53.829Z"
   },
   {
    "duration": 12,
    "start_time": "2024-07-26T20:53:53.851Z"
   },
   {
    "duration": 6,
    "start_time": "2024-07-26T20:53:53.866Z"
   },
   {
    "duration": 50,
    "start_time": "2024-07-26T20:53:53.875Z"
   },
   {
    "duration": 18,
    "start_time": "2024-07-26T20:53:53.928Z"
   },
   {
    "duration": 26,
    "start_time": "2024-07-26T20:53:53.949Z"
   },
   {
    "duration": 3,
    "start_time": "2024-07-26T20:53:53.978Z"
   },
   {
    "duration": 58,
    "start_time": "2024-07-26T20:53:53.985Z"
   },
   {
    "duration": 472,
    "start_time": "2024-07-26T20:53:54.046Z"
   },
   {
    "duration": 286,
    "start_time": "2024-07-26T20:53:54.523Z"
   },
   {
    "duration": 12,
    "start_time": "2024-07-26T20:53:54.812Z"
   },
   {
    "duration": 201,
    "start_time": "2024-07-26T20:53:54.827Z"
   },
   {
    "duration": 4,
    "start_time": "2024-07-26T20:53:55.031Z"
   },
   {
    "duration": 4,
    "start_time": "2024-07-26T20:53:55.037Z"
   },
   {
    "duration": 3,
    "start_time": "2024-07-26T20:53:55.044Z"
   },
   {
    "duration": 3,
    "start_time": "2024-07-26T20:53:55.051Z"
   },
   {
    "duration": 1269,
    "start_time": "2024-07-26T20:56:54.650Z"
   },
   {
    "duration": 274,
    "start_time": "2024-07-26T20:56:55.924Z"
   },
   {
    "duration": 23,
    "start_time": "2024-07-26T20:56:56.201Z"
   },
   {
    "duration": 17,
    "start_time": "2024-07-26T20:56:56.227Z"
   },
   {
    "duration": 5,
    "start_time": "2024-07-26T20:56:56.249Z"
   },
   {
    "duration": 8,
    "start_time": "2024-07-26T20:56:56.257Z"
   },
   {
    "duration": 5,
    "start_time": "2024-07-26T20:56:56.268Z"
   },
   {
    "duration": 58,
    "start_time": "2024-07-26T20:56:56.277Z"
   },
   {
    "duration": 14,
    "start_time": "2024-07-26T20:56:56.338Z"
   },
   {
    "duration": 12,
    "start_time": "2024-07-26T20:56:56.355Z"
   },
   {
    "duration": 4,
    "start_time": "2024-07-26T20:57:08.578Z"
   },
   {
    "duration": 8,
    "start_time": "2024-07-26T20:57:08.587Z"
   },
   {
    "duration": 5,
    "start_time": "2024-07-26T20:57:08.598Z"
   },
   {
    "duration": 5,
    "start_time": "2024-07-26T20:57:08.753Z"
   },
   {
    "duration": 6,
    "start_time": "2024-07-26T20:57:08.762Z"
   },
   {
    "duration": 28,
    "start_time": "2024-07-26T20:57:08.771Z"
   },
   {
    "duration": 11,
    "start_time": "2024-07-26T20:57:08.802Z"
   },
   {
    "duration": 54,
    "start_time": "2024-07-26T20:57:08.823Z"
   },
   {
    "duration": 47,
    "start_time": "2024-07-26T20:57:08.881Z"
   },
   {
    "duration": 14,
    "start_time": "2024-07-26T20:57:08.931Z"
   },
   {
    "duration": 13,
    "start_time": "2024-07-26T20:57:08.949Z"
   },
   {
    "duration": 5,
    "start_time": "2024-07-26T20:57:08.965Z"
   },
   {
    "duration": 49,
    "start_time": "2024-07-26T20:57:08.975Z"
   },
   {
    "duration": 20,
    "start_time": "2024-07-26T20:57:09.027Z"
   },
   {
    "duration": 11,
    "start_time": "2024-07-26T20:57:09.049Z"
   },
   {
    "duration": 18,
    "start_time": "2024-07-26T20:57:09.064Z"
   },
   {
    "duration": 10,
    "start_time": "2024-07-26T20:57:09.122Z"
   },
   {
    "duration": 22,
    "start_time": "2024-07-26T20:57:09.138Z"
   },
   {
    "duration": 11,
    "start_time": "2024-07-26T20:57:09.163Z"
   },
   {
    "duration": 50,
    "start_time": "2024-07-26T20:57:09.177Z"
   },
   {
    "duration": 21,
    "start_time": "2024-07-26T20:57:09.230Z"
   },
   {
    "duration": 11,
    "start_time": "2024-07-26T20:57:09.253Z"
   },
   {
    "duration": 13,
    "start_time": "2024-07-26T20:57:09.267Z"
   },
   {
    "duration": 56,
    "start_time": "2024-07-26T20:57:09.283Z"
   },
   {
    "duration": 18,
    "start_time": "2024-07-26T20:57:09.343Z"
   },
   {
    "duration": 14,
    "start_time": "2024-07-26T20:57:09.364Z"
   },
   {
    "duration": 57,
    "start_time": "2024-07-26T20:57:09.380Z"
   },
   {
    "duration": 36,
    "start_time": "2024-07-26T20:57:09.443Z"
   },
   {
    "duration": 44,
    "start_time": "2024-07-26T20:57:09.482Z"
   },
   {
    "duration": 12,
    "start_time": "2024-07-26T20:57:09.528Z"
   },
   {
    "duration": 7,
    "start_time": "2024-07-26T20:57:09.542Z"
   },
   {
    "duration": 20,
    "start_time": "2024-07-26T20:57:09.552Z"
   },
   {
    "duration": 55,
    "start_time": "2024-07-26T20:57:09.575Z"
   },
   {
    "duration": 8,
    "start_time": "2024-07-26T20:57:09.636Z"
   },
   {
    "duration": 19,
    "start_time": "2024-07-26T20:57:09.647Z"
   },
   {
    "duration": 67,
    "start_time": "2024-07-26T20:57:09.670Z"
   },
   {
    "duration": 5,
    "start_time": "2024-07-26T20:57:09.741Z"
   },
   {
    "duration": 5,
    "start_time": "2024-07-26T20:57:09.749Z"
   },
   {
    "duration": 23,
    "start_time": "2024-07-26T20:57:09.757Z"
   },
   {
    "duration": 475,
    "start_time": "2024-07-26T20:57:09.875Z"
   },
   {
    "duration": 262,
    "start_time": "2024-07-26T20:57:10.355Z"
   },
   {
    "duration": 11,
    "start_time": "2024-07-26T20:57:10.623Z"
   },
   {
    "duration": 282,
    "start_time": "2024-07-26T20:57:10.637Z"
   },
   {
    "duration": 4,
    "start_time": "2024-07-26T20:57:10.925Z"
   },
   {
    "duration": 4,
    "start_time": "2024-07-26T20:57:10.932Z"
   },
   {
    "duration": 3,
    "start_time": "2024-07-26T20:57:10.939Z"
   },
   {
    "duration": 5,
    "start_time": "2024-07-26T20:57:10.946Z"
   },
   {
    "duration": 280,
    "start_time": "2024-07-26T20:58:58.909Z"
   },
   {
    "duration": 274,
    "start_time": "2024-07-26T21:02:36.956Z"
   },
   {
    "duration": 276,
    "start_time": "2024-07-26T21:03:13.136Z"
   },
   {
    "duration": 281,
    "start_time": "2024-07-26T21:03:24.181Z"
   },
   {
    "duration": 1271,
    "start_time": "2024-07-27T11:24:06.371Z"
   },
   {
    "duration": 272,
    "start_time": "2024-07-27T11:24:07.645Z"
   },
   {
    "duration": 17,
    "start_time": "2024-07-27T11:24:07.919Z"
   },
   {
    "duration": 17,
    "start_time": "2024-07-27T11:24:07.940Z"
   },
   {
    "duration": 5,
    "start_time": "2024-07-27T11:24:07.960Z"
   },
   {
    "duration": 8,
    "start_time": "2024-07-27T11:24:07.968Z"
   },
   {
    "duration": 46,
    "start_time": "2024-07-27T11:24:07.978Z"
   },
   {
    "duration": 15,
    "start_time": "2024-07-27T11:24:08.027Z"
   },
   {
    "duration": 15,
    "start_time": "2024-07-27T11:24:08.046Z"
   },
   {
    "duration": 10,
    "start_time": "2024-07-27T11:24:08.068Z"
   },
   {
    "duration": 5,
    "start_time": "2024-07-27T11:24:08.124Z"
   },
   {
    "duration": 9,
    "start_time": "2024-07-27T11:24:08.133Z"
   },
   {
    "duration": 5,
    "start_time": "2024-07-27T11:24:08.145Z"
   },
   {
    "duration": 5,
    "start_time": "2024-07-27T11:24:08.153Z"
   },
   {
    "duration": 6,
    "start_time": "2024-07-27T11:24:08.161Z"
   },
   {
    "duration": 72,
    "start_time": "2024-07-27T11:24:08.170Z"
   },
   {
    "duration": 10,
    "start_time": "2024-07-27T11:24:08.245Z"
   },
   {
    "duration": 82,
    "start_time": "2024-07-27T11:24:08.259Z"
   },
   {
    "duration": 30,
    "start_time": "2024-07-27T11:24:08.344Z"
   },
   {
    "duration": 14,
    "start_time": "2024-07-27T11:24:08.377Z"
   },
   {
    "duration": 37,
    "start_time": "2024-07-27T11:24:08.394Z"
   },
   {
    "duration": 4,
    "start_time": "2024-07-27T11:24:08.434Z"
   },
   {
    "duration": 11,
    "start_time": "2024-07-27T11:24:08.442Z"
   },
   {
    "duration": 20,
    "start_time": "2024-07-27T11:24:08.458Z"
   },
   {
    "duration": 10,
    "start_time": "2024-07-27T11:24:08.524Z"
   },
   {
    "duration": 18,
    "start_time": "2024-07-27T11:24:08.537Z"
   },
   {
    "duration": 11,
    "start_time": "2024-07-27T11:24:08.557Z"
   },
   {
    "duration": 55,
    "start_time": "2024-07-27T11:24:08.575Z"
   },
   {
    "duration": 12,
    "start_time": "2024-07-27T11:24:08.633Z"
   },
   {
    "duration": 9,
    "start_time": "2024-07-27T11:24:08.648Z"
   },
   {
    "duration": 21,
    "start_time": "2024-07-27T11:24:08.661Z"
   },
   {
    "duration": 11,
    "start_time": "2024-07-27T11:24:08.723Z"
   },
   {
    "duration": 12,
    "start_time": "2024-07-27T11:24:08.737Z"
   },
   {
    "duration": 22,
    "start_time": "2024-07-27T11:24:08.753Z"
   },
   {
    "duration": 53,
    "start_time": "2024-07-27T11:24:08.779Z"
   },
   {
    "duration": 12,
    "start_time": "2024-07-27T11:24:08.834Z"
   },
   {
    "duration": 22,
    "start_time": "2024-07-27T11:24:08.849Z"
   },
   {
    "duration": 68,
    "start_time": "2024-07-27T11:24:08.873Z"
   },
   {
    "duration": 12,
    "start_time": "2024-07-27T11:24:08.944Z"
   },
   {
    "duration": 9,
    "start_time": "2024-07-27T11:24:08.958Z"
   },
   {
    "duration": 7,
    "start_time": "2024-07-27T11:24:08.970Z"
   },
   {
    "duration": 51,
    "start_time": "2024-07-27T11:24:08.980Z"
   },
   {
    "duration": 11,
    "start_time": "2024-07-27T11:24:09.034Z"
   },
   {
    "duration": 8,
    "start_time": "2024-07-27T11:24:09.048Z"
   },
   {
    "duration": 17,
    "start_time": "2024-07-27T11:24:09.059Z"
   },
   {
    "duration": 68,
    "start_time": "2024-07-27T11:24:09.080Z"
   },
   {
    "duration": 6,
    "start_time": "2024-07-27T11:24:09.151Z"
   },
   {
    "duration": 3,
    "start_time": "2024-07-27T11:24:09.160Z"
   },
   {
    "duration": 57,
    "start_time": "2024-07-27T11:24:09.166Z"
   },
   {
    "duration": 486,
    "start_time": "2024-07-27T11:24:09.226Z"
   },
   {
    "duration": 355,
    "start_time": "2024-07-27T11:24:09.715Z"
   },
   {
    "duration": 8,
    "start_time": "2024-07-27T11:24:10.073Z"
   },
   {
    "duration": 213,
    "start_time": "2024-07-27T11:24:10.084Z"
   },
   {
    "duration": 3,
    "start_time": "2024-07-27T11:24:10.303Z"
   },
   {
    "duration": 20,
    "start_time": "2024-07-27T11:24:10.309Z"
   },
   {
    "duration": 4,
    "start_time": "2024-07-27T11:24:10.332Z"
   },
   {
    "duration": 3,
    "start_time": "2024-07-27T11:24:10.339Z"
   },
   {
    "duration": 14,
    "start_time": "2024-07-27T11:26:51.348Z"
   },
   {
    "duration": 14,
    "start_time": "2024-07-27T11:27:29.415Z"
   },
   {
    "duration": 16,
    "start_time": "2024-07-27T11:29:57.350Z"
   },
   {
    "duration": 213,
    "start_time": "2024-07-27T11:30:50.139Z"
   },
   {
    "duration": 21,
    "start_time": "2024-07-27T11:31:00.085Z"
   },
   {
    "duration": 182,
    "start_time": "2024-07-27T11:32:41.382Z"
   },
   {
    "duration": 180,
    "start_time": "2024-07-27T11:34:59.077Z"
   },
   {
    "duration": 187,
    "start_time": "2024-07-27T11:37:05.866Z"
   },
   {
    "duration": 190,
    "start_time": "2024-07-27T11:37:28.185Z"
   },
   {
    "duration": 188,
    "start_time": "2024-07-27T11:38:24.092Z"
   },
   {
    "duration": 195,
    "start_time": "2024-07-27T11:39:09.785Z"
   },
   {
    "duration": 186,
    "start_time": "2024-07-27T11:40:12.858Z"
   },
   {
    "duration": 17,
    "start_time": "2024-07-27T11:49:53.122Z"
   },
   {
    "duration": 679,
    "start_time": "2024-07-27T11:50:24.106Z"
   },
   {
    "duration": 629,
    "start_time": "2024-07-27T11:52:52.221Z"
   },
   {
    "duration": 520,
    "start_time": "2024-07-27T11:54:13.581Z"
   },
   {
    "duration": 526,
    "start_time": "2024-07-27T11:57:19.948Z"
   },
   {
    "duration": 3,
    "start_time": "2024-07-27T11:57:28.092Z"
   },
   {
    "duration": 413,
    "start_time": "2024-07-27T11:57:58.286Z"
   },
   {
    "duration": 435,
    "start_time": "2024-07-27T11:58:54.174Z"
   },
   {
    "duration": 463,
    "start_time": "2024-07-27T11:59:47.642Z"
   },
   {
    "duration": 452,
    "start_time": "2024-07-27T12:00:17.159Z"
   },
   {
    "duration": 750,
    "start_time": "2024-07-27T12:00:37.129Z"
   },
   {
    "duration": 458,
    "start_time": "2024-07-27T12:00:44.308Z"
   },
   {
    "duration": 434,
    "start_time": "2024-07-27T12:01:01.392Z"
   },
   {
    "duration": 462,
    "start_time": "2024-07-27T12:03:13.911Z"
   },
   {
    "duration": 594,
    "start_time": "2024-07-27T12:04:06.719Z"
   },
   {
    "duration": 672,
    "start_time": "2024-07-27T12:04:58.034Z"
   },
   {
    "duration": 589,
    "start_time": "2024-07-27T12:05:46.236Z"
   },
   {
    "duration": 633,
    "start_time": "2024-07-27T12:06:09.244Z"
   },
   {
    "duration": 191,
    "start_time": "2024-07-27T12:07:59.285Z"
   },
   {
    "duration": 478,
    "start_time": "2024-07-27T12:29:56.935Z"
   },
   {
    "duration": 415,
    "start_time": "2024-07-27T12:30:24.135Z"
   },
   {
    "duration": 415,
    "start_time": "2024-07-27T12:43:06.337Z"
   },
   {
    "duration": 1366,
    "start_time": "2024-07-27T13:05:39.045Z"
   },
   {
    "duration": 159,
    "start_time": "2024-07-27T13:06:16.656Z"
   },
   {
    "duration": 157,
    "start_time": "2024-07-27T13:06:43.881Z"
   },
   {
    "duration": 267,
    "start_time": "2024-07-27T13:09:50.488Z"
   },
   {
    "duration": 168,
    "start_time": "2024-07-27T13:10:47.812Z"
   },
   {
    "duration": 179,
    "start_time": "2024-07-27T13:12:12.584Z"
   },
   {
    "duration": 186,
    "start_time": "2024-07-27T13:12:53.212Z"
   },
   {
    "duration": 180,
    "start_time": "2024-07-27T13:13:40.068Z"
   },
   {
    "duration": 8,
    "start_time": "2024-07-27T13:14:42.180Z"
   },
   {
    "duration": 178,
    "start_time": "2024-07-27T13:14:45.145Z"
   },
   {
    "duration": 21,
    "start_time": "2024-07-27T13:25:13.552Z"
   },
   {
    "duration": 23,
    "start_time": "2024-07-27T13:35:58.662Z"
   },
   {
    "duration": 24,
    "start_time": "2024-07-27T13:41:54.603Z"
   },
   {
    "duration": 25,
    "start_time": "2024-07-27T13:44:28.039Z"
   },
   {
    "duration": 751,
    "start_time": "2024-07-27T13:45:08.607Z"
   },
   {
    "duration": 24,
    "start_time": "2024-07-27T13:45:35.813Z"
   },
   {
    "duration": 458,
    "start_time": "2024-07-27T13:47:09.501Z"
   },
   {
    "duration": 23,
    "start_time": "2024-07-27T13:49:57.715Z"
   },
   {
    "duration": 21,
    "start_time": "2024-07-27T13:50:05.216Z"
   },
   {
    "duration": 23,
    "start_time": "2024-07-27T13:50:11.999Z"
   },
   {
    "duration": 275,
    "start_time": "2024-07-27T13:51:36.359Z"
   },
   {
    "duration": 443,
    "start_time": "2024-07-27T13:53:25.650Z"
   },
   {
    "duration": 25,
    "start_time": "2024-07-27T13:54:04.626Z"
   },
   {
    "duration": 22,
    "start_time": "2024-07-27T13:54:17.712Z"
   },
   {
    "duration": 457,
    "start_time": "2024-07-27T13:55:42.496Z"
   },
   {
    "duration": 457,
    "start_time": "2024-07-27T13:56:51.292Z"
   },
   {
    "duration": 469,
    "start_time": "2024-07-27T13:57:19.998Z"
   },
   {
    "duration": 446,
    "start_time": "2024-07-27T13:58:18.047Z"
   },
   {
    "duration": 974,
    "start_time": "2024-07-27T13:59:30.348Z"
   },
   {
    "duration": 321,
    "start_time": "2024-07-28T07:27:01.130Z"
   },
   {
    "duration": 4911,
    "start_time": "2024-07-28T07:27:23.422Z"
   },
   {
    "duration": 385,
    "start_time": "2024-07-28T07:27:28.336Z"
   },
   {
    "duration": 17,
    "start_time": "2024-07-28T07:27:28.725Z"
   },
   {
    "duration": 17,
    "start_time": "2024-07-28T07:27:28.747Z"
   },
   {
    "duration": 7,
    "start_time": "2024-07-28T07:27:28.766Z"
   },
   {
    "duration": 37,
    "start_time": "2024-07-28T07:27:28.777Z"
   },
   {
    "duration": 6,
    "start_time": "2024-07-28T07:27:28.817Z"
   },
   {
    "duration": 14,
    "start_time": "2024-07-28T07:27:28.826Z"
   },
   {
    "duration": 14,
    "start_time": "2024-07-28T07:27:28.844Z"
   },
   {
    "duration": 10,
    "start_time": "2024-07-28T07:27:28.910Z"
   },
   {
    "duration": 6,
    "start_time": "2024-07-28T07:27:28.924Z"
   },
   {
    "duration": 9,
    "start_time": "2024-07-28T07:27:28.934Z"
   },
   {
    "duration": 6,
    "start_time": "2024-07-28T07:27:28.947Z"
   },
   {
    "duration": 53,
    "start_time": "2024-07-28T07:27:28.957Z"
   },
   {
    "duration": 6,
    "start_time": "2024-07-28T07:27:29.013Z"
   },
   {
    "duration": 29,
    "start_time": "2024-07-28T07:27:29.022Z"
   },
   {
    "duration": 56,
    "start_time": "2024-07-28T07:27:29.054Z"
   },
   {
    "duration": 54,
    "start_time": "2024-07-28T07:27:29.113Z"
   },
   {
    "duration": 50,
    "start_time": "2024-07-28T07:27:29.170Z"
   },
   {
    "duration": 14,
    "start_time": "2024-07-28T07:27:29.224Z"
   },
   {
    "duration": 13,
    "start_time": "2024-07-28T07:27:29.241Z"
   },
   {
    "duration": 6,
    "start_time": "2024-07-28T07:27:29.257Z"
   },
   {
    "duration": 12,
    "start_time": "2024-07-28T07:27:29.308Z"
   },
   {
    "duration": 21,
    "start_time": "2024-07-28T07:27:29.324Z"
   },
   {
    "duration": 10,
    "start_time": "2024-07-28T07:27:29.349Z"
   },
   {
    "duration": 55,
    "start_time": "2024-07-28T07:27:29.362Z"
   },
   {
    "duration": 10,
    "start_time": "2024-07-28T07:27:29.420Z"
   },
   {
    "duration": 24,
    "start_time": "2024-07-28T07:27:29.438Z"
   },
   {
    "duration": 48,
    "start_time": "2024-07-28T07:27:29.465Z"
   },
   {
    "duration": 11,
    "start_time": "2024-07-28T07:27:29.517Z"
   },
   {
    "duration": 22,
    "start_time": "2024-07-28T07:27:29.532Z"
   },
   {
    "duration": 52,
    "start_time": "2024-07-28T07:27:29.558Z"
   },
   {
    "duration": 13,
    "start_time": "2024-07-28T07:27:29.613Z"
   },
   {
    "duration": 22,
    "start_time": "2024-07-28T07:27:29.629Z"
   },
   {
    "duration": 17,
    "start_time": "2024-07-28T07:27:29.655Z"
   },
   {
    "duration": 12,
    "start_time": "2024-07-28T07:27:29.710Z"
   },
   {
    "duration": 23,
    "start_time": "2024-07-28T07:27:29.726Z"
   },
   {
    "duration": 61,
    "start_time": "2024-07-28T07:27:29.752Z"
   },
   {
    "duration": 11,
    "start_time": "2024-07-28T07:27:29.817Z"
   },
   {
    "duration": 11,
    "start_time": "2024-07-28T07:27:29.831Z"
   },
   {
    "duration": 10,
    "start_time": "2024-07-28T07:27:29.845Z"
   },
   {
    "duration": 62,
    "start_time": "2024-07-28T07:27:29.858Z"
   },
   {
    "duration": 12,
    "start_time": "2024-07-28T07:27:29.923Z"
   },
   {
    "duration": 9,
    "start_time": "2024-07-28T07:27:29.939Z"
   },
   {
    "duration": 58,
    "start_time": "2024-07-28T07:27:29.952Z"
   },
   {
    "duration": 27,
    "start_time": "2024-07-28T07:27:30.013Z"
   },
   {
    "duration": 7,
    "start_time": "2024-07-28T07:27:30.044Z"
   },
   {
    "duration": 63,
    "start_time": "2024-07-28T07:27:30.054Z"
   },
   {
    "duration": 492,
    "start_time": "2024-07-28T07:27:30.120Z"
   },
   {
    "duration": 436,
    "start_time": "2024-07-28T07:27:30.616Z"
   },
   {
    "duration": 9,
    "start_time": "2024-07-28T07:27:31.055Z"
   },
   {
    "duration": 197,
    "start_time": "2024-07-28T07:27:31.066Z"
   },
   {
    "duration": 26,
    "start_time": "2024-07-28T07:27:31.266Z"
   },
   {
    "duration": 483,
    "start_time": "2024-07-28T07:27:31.308Z"
   },
   {
    "duration": 33,
    "start_time": "2024-07-28T07:27:31.794Z"
   },
   {
    "duration": 3,
    "start_time": "2024-07-28T07:27:31.830Z"
   },
   {
    "duration": 4,
    "start_time": "2024-07-28T07:27:31.836Z"
   },
   {
    "duration": 11,
    "start_time": "2024-07-28T07:41:51.356Z"
   },
   {
    "duration": 546,
    "start_time": "2024-07-28T07:42:07.534Z"
   },
   {
    "duration": 464,
    "start_time": "2024-07-28T07:43:06.723Z"
   },
   {
    "duration": 1343,
    "start_time": "2024-07-28T07:43:41.121Z"
   },
   {
    "duration": 306,
    "start_time": "2024-07-28T07:43:42.467Z"
   },
   {
    "duration": 17,
    "start_time": "2024-07-28T07:43:42.776Z"
   },
   {
    "duration": 17,
    "start_time": "2024-07-28T07:43:42.808Z"
   },
   {
    "duration": 6,
    "start_time": "2024-07-28T07:43:42.828Z"
   },
   {
    "duration": 8,
    "start_time": "2024-07-28T07:43:42.838Z"
   },
   {
    "duration": 5,
    "start_time": "2024-07-28T07:43:42.850Z"
   },
   {
    "duration": 61,
    "start_time": "2024-07-28T07:43:42.860Z"
   },
   {
    "duration": 15,
    "start_time": "2024-07-28T07:43:42.925Z"
   },
   {
    "duration": 9,
    "start_time": "2024-07-28T07:43:42.948Z"
   },
   {
    "duration": 6,
    "start_time": "2024-07-28T07:43:42.959Z"
   },
   {
    "duration": 7,
    "start_time": "2024-07-28T07:43:43.010Z"
   },
   {
    "duration": 5,
    "start_time": "2024-07-28T07:43:43.021Z"
   },
   {
    "duration": 5,
    "start_time": "2024-07-28T07:43:43.029Z"
   },
   {
    "duration": 6,
    "start_time": "2024-07-28T07:43:43.037Z"
   },
   {
    "duration": 68,
    "start_time": "2024-07-28T07:43:43.046Z"
   },
   {
    "duration": 12,
    "start_time": "2024-07-28T07:43:43.117Z"
   },
   {
    "duration": 78,
    "start_time": "2024-07-28T07:43:43.132Z"
   },
   {
    "duration": 29,
    "start_time": "2024-07-28T07:43:43.212Z"
   },
   {
    "duration": 13,
    "start_time": "2024-07-28T07:43:43.244Z"
   },
   {
    "duration": 13,
    "start_time": "2024-07-28T07:43:43.260Z"
   },
   {
    "duration": 5,
    "start_time": "2024-07-28T07:43:43.309Z"
   },
   {
    "duration": 12,
    "start_time": "2024-07-28T07:43:43.317Z"
   },
   {
    "duration": 20,
    "start_time": "2024-07-28T07:43:43.333Z"
   },
   {
    "duration": 9,
    "start_time": "2024-07-28T07:43:43.356Z"
   },
   {
    "duration": 19,
    "start_time": "2024-07-28T07:43:43.411Z"
   },
   {
    "duration": 11,
    "start_time": "2024-07-28T07:43:43.432Z"
   },
   {
    "duration": 57,
    "start_time": "2024-07-28T07:43:43.452Z"
   },
   {
    "duration": 12,
    "start_time": "2024-07-28T07:43:43.512Z"
   },
   {
    "duration": 10,
    "start_time": "2024-07-28T07:43:43.528Z"
   },
   {
    "duration": 22,
    "start_time": "2024-07-28T07:43:43.541Z"
   },
   {
    "duration": 48,
    "start_time": "2024-07-28T07:43:43.566Z"
   },
   {
    "duration": 13,
    "start_time": "2024-07-28T07:43:43.616Z"
   },
   {
    "duration": 21,
    "start_time": "2024-07-28T07:43:43.633Z"
   },
   {
    "duration": 52,
    "start_time": "2024-07-28T07:43:43.657Z"
   },
   {
    "duration": 13,
    "start_time": "2024-07-28T07:43:43.712Z"
   },
   {
    "duration": 25,
    "start_time": "2024-07-28T07:43:43.727Z"
   },
   {
    "duration": 64,
    "start_time": "2024-07-28T07:43:43.754Z"
   },
   {
    "duration": 9,
    "start_time": "2024-07-28T07:43:43.822Z"
   },
   {
    "duration": 10,
    "start_time": "2024-07-28T07:43:43.834Z"
   },
   {
    "duration": 8,
    "start_time": "2024-07-28T07:43:43.847Z"
   },
   {
    "duration": 58,
    "start_time": "2024-07-28T07:43:43.857Z"
   },
   {
    "duration": 14,
    "start_time": "2024-07-28T07:43:43.920Z"
   },
   {
    "duration": 11,
    "start_time": "2024-07-28T07:43:43.938Z"
   },
   {
    "duration": 17,
    "start_time": "2024-07-28T07:43:43.952Z"
   },
   {
    "duration": 58,
    "start_time": "2024-07-28T07:43:43.972Z"
   },
   {
    "duration": 6,
    "start_time": "2024-07-28T07:43:44.033Z"
   },
   {
    "duration": 24,
    "start_time": "2024-07-28T07:43:44.042Z"
   },
   {
    "duration": 527,
    "start_time": "2024-07-28T07:43:44.068Z"
   },
   {
    "duration": 488,
    "start_time": "2024-07-28T07:43:44.599Z"
   },
   {
    "duration": 20,
    "start_time": "2024-07-28T07:43:45.091Z"
   },
   {
    "duration": 211,
    "start_time": "2024-07-28T07:43:45.114Z"
   },
   {
    "duration": 27,
    "start_time": "2024-07-28T07:43:45.328Z"
   },
   {
    "duration": 508,
    "start_time": "2024-07-28T07:43:45.358Z"
   },
   {
    "duration": 17,
    "start_time": "2024-07-28T07:43:45.869Z"
   },
   {
    "duration": 22,
    "start_time": "2024-07-28T07:43:45.888Z"
   },
   {
    "duration": 3,
    "start_time": "2024-07-28T07:43:45.913Z"
   },
   {
    "duration": 188,
    "start_time": "2024-07-28T07:47:58.289Z"
   },
   {
    "duration": 441,
    "start_time": "2024-07-28T07:53:07.040Z"
   },
   {
    "duration": 429,
    "start_time": "2024-07-28T07:53:34.328Z"
   },
   {
    "duration": 468,
    "start_time": "2024-07-28T07:53:37.012Z"
   },
   {
    "duration": 418,
    "start_time": "2024-07-28T07:53:52.162Z"
   },
   {
    "duration": 489,
    "start_time": "2024-07-28T07:55:25.899Z"
   },
   {
    "duration": 482,
    "start_time": "2024-07-28T07:57:14.230Z"
   },
   {
    "duration": 452,
    "start_time": "2024-07-28T07:57:26.549Z"
   },
   {
    "duration": 599,
    "start_time": "2024-07-28T07:59:34.557Z"
   },
   {
    "duration": 520,
    "start_time": "2024-07-28T07:59:59.531Z"
   },
   {
    "duration": 510,
    "start_time": "2024-07-28T08:00:47.877Z"
   },
   {
    "duration": 393,
    "start_time": "2024-07-28T08:06:05.288Z"
   },
   {
    "duration": 422,
    "start_time": "2024-07-28T08:06:47.003Z"
   },
   {
    "duration": 462,
    "start_time": "2024-07-28T08:09:54.318Z"
   },
   {
    "duration": 431,
    "start_time": "2024-07-28T08:13:06.227Z"
   },
   {
    "duration": 401,
    "start_time": "2024-07-28T08:16:23.450Z"
   },
   {
    "duration": 477,
    "start_time": "2024-07-28T08:18:12.852Z"
   },
   {
    "duration": 518,
    "start_time": "2024-07-28T08:18:43.520Z"
   },
   {
    "duration": 405,
    "start_time": "2024-07-28T08:22:34.867Z"
   },
   {
    "duration": 502,
    "start_time": "2024-07-28T08:25:30.278Z"
   },
   {
    "duration": 444,
    "start_time": "2024-07-28T08:27:16.519Z"
   },
   {
    "duration": 414,
    "start_time": "2024-07-28T08:27:24.051Z"
   },
   {
    "duration": 18,
    "start_time": "2024-07-28T08:31:35.968Z"
   },
   {
    "duration": 23,
    "start_time": "2024-07-28T08:33:55.099Z"
   },
   {
    "duration": 7,
    "start_time": "2024-07-28T08:34:50.194Z"
   },
   {
    "duration": 9,
    "start_time": "2024-07-28T08:36:48.505Z"
   },
   {
    "duration": 9,
    "start_time": "2024-07-28T08:38:22.436Z"
   },
   {
    "duration": 16,
    "start_time": "2024-07-28T08:40:21.750Z"
   },
   {
    "duration": 409,
    "start_time": "2024-07-28T08:40:59.920Z"
   },
   {
    "duration": 18,
    "start_time": "2024-07-28T08:41:08.041Z"
   },
   {
    "duration": 15,
    "start_time": "2024-07-28T08:41:59.230Z"
   },
   {
    "duration": 1310,
    "start_time": "2024-07-28T08:42:14.351Z"
   },
   {
    "duration": 283,
    "start_time": "2024-07-28T08:42:15.665Z"
   },
   {
    "duration": 16,
    "start_time": "2024-07-28T08:42:15.950Z"
   },
   {
    "duration": 16,
    "start_time": "2024-07-28T08:42:15.972Z"
   },
   {
    "duration": 23,
    "start_time": "2024-07-28T08:42:15.990Z"
   },
   {
    "duration": 7,
    "start_time": "2024-07-28T08:42:16.016Z"
   },
   {
    "duration": 5,
    "start_time": "2024-07-28T08:42:16.026Z"
   },
   {
    "duration": 15,
    "start_time": "2024-07-28T08:42:16.034Z"
   },
   {
    "duration": 56,
    "start_time": "2024-07-28T08:42:16.052Z"
   },
   {
    "duration": 8,
    "start_time": "2024-07-28T08:42:16.115Z"
   },
   {
    "duration": 6,
    "start_time": "2024-07-28T08:42:16.126Z"
   },
   {
    "duration": 7,
    "start_time": "2024-07-28T08:42:16.136Z"
   },
   {
    "duration": 5,
    "start_time": "2024-07-28T08:42:16.147Z"
   },
   {
    "duration": 53,
    "start_time": "2024-07-28T08:42:16.155Z"
   },
   {
    "duration": 5,
    "start_time": "2024-07-28T08:42:16.212Z"
   },
   {
    "duration": 26,
    "start_time": "2024-07-28T08:42:16.220Z"
   },
   {
    "duration": 11,
    "start_time": "2024-07-28T08:42:16.250Z"
   },
   {
    "duration": 94,
    "start_time": "2024-07-28T08:42:16.265Z"
   },
   {
    "duration": 46,
    "start_time": "2024-07-28T08:42:16.362Z"
   },
   {
    "duration": 15,
    "start_time": "2024-07-28T08:42:16.411Z"
   },
   {
    "duration": 14,
    "start_time": "2024-07-28T08:42:16.430Z"
   },
   {
    "duration": 5,
    "start_time": "2024-07-28T08:42:16.449Z"
   },
   {
    "duration": 12,
    "start_time": "2024-07-28T08:42:16.458Z"
   },
   {
    "duration": 21,
    "start_time": "2024-07-28T08:42:16.510Z"
   },
   {
    "duration": 10,
    "start_time": "2024-07-28T08:42:16.534Z"
   },
   {
    "duration": 19,
    "start_time": "2024-07-28T08:42:16.547Z"
   },
   {
    "duration": 46,
    "start_time": "2024-07-28T08:42:16.569Z"
   },
   {
    "duration": 23,
    "start_time": "2024-07-28T08:42:16.623Z"
   },
   {
    "duration": 13,
    "start_time": "2024-07-28T08:42:16.649Z"
   },
   {
    "duration": 50,
    "start_time": "2024-07-28T08:42:16.665Z"
   },
   {
    "duration": 21,
    "start_time": "2024-07-28T08:42:16.717Z"
   },
   {
    "duration": 11,
    "start_time": "2024-07-28T08:42:16.741Z"
   },
   {
    "duration": 14,
    "start_time": "2024-07-28T08:42:16.755Z"
   },
   {
    "duration": 56,
    "start_time": "2024-07-28T08:42:16.772Z"
   },
   {
    "duration": 16,
    "start_time": "2024-07-28T08:42:16.831Z"
   },
   {
    "duration": 14,
    "start_time": "2024-07-28T08:42:16.850Z"
   },
   {
    "duration": 62,
    "start_time": "2024-07-28T08:42:16.866Z"
   },
   {
    "duration": 31,
    "start_time": "2024-07-28T08:42:16.931Z"
   },
   {
    "duration": 45,
    "start_time": "2024-07-28T08:42:16.964Z"
   },
   {
    "duration": 10,
    "start_time": "2024-07-28T08:42:17.012Z"
   },
   {
    "duration": 7,
    "start_time": "2024-07-28T08:42:17.025Z"
   },
   {
    "duration": 20,
    "start_time": "2024-07-28T08:42:17.035Z"
   },
   {
    "duration": 51,
    "start_time": "2024-07-28T08:42:17.059Z"
   },
   {
    "duration": 9,
    "start_time": "2024-07-28T08:42:17.113Z"
   },
   {
    "duration": 20,
    "start_time": "2024-07-28T08:42:17.126Z"
   },
   {
    "duration": 63,
    "start_time": "2024-07-28T08:42:17.149Z"
   },
   {
    "duration": 6,
    "start_time": "2024-07-28T08:42:17.215Z"
   },
   {
    "duration": 26,
    "start_time": "2024-07-28T08:42:17.225Z"
   },
   {
    "duration": 543,
    "start_time": "2024-07-28T08:42:17.254Z"
   },
   {
    "duration": 482,
    "start_time": "2024-07-28T08:42:17.800Z"
   },
   {
    "duration": 424,
    "start_time": "2024-07-28T08:42:18.286Z"
   },
   {
    "duration": 0,
    "start_time": "2024-07-28T08:42:18.713Z"
   },
   {
    "duration": 0,
    "start_time": "2024-07-28T08:42:18.715Z"
   },
   {
    "duration": 1,
    "start_time": "2024-07-28T08:42:18.717Z"
   },
   {
    "duration": 0,
    "start_time": "2024-07-28T08:42:18.720Z"
   },
   {
    "duration": 0,
    "start_time": "2024-07-28T08:42:18.722Z"
   },
   {
    "duration": 0,
    "start_time": "2024-07-28T08:42:18.724Z"
   },
   {
    "duration": 0,
    "start_time": "2024-07-28T08:42:18.727Z"
   },
   {
    "duration": 0,
    "start_time": "2024-07-28T08:42:18.729Z"
   },
   {
    "duration": 0,
    "start_time": "2024-07-28T08:42:18.731Z"
   },
   {
    "duration": 0,
    "start_time": "2024-07-28T08:42:18.734Z"
   },
   {
    "duration": 17,
    "start_time": "2024-07-28T08:42:43.998Z"
   },
   {
    "duration": 16,
    "start_time": "2024-07-28T08:46:23.104Z"
   },
   {
    "duration": 15,
    "start_time": "2024-07-28T08:50:07.989Z"
   },
   {
    "duration": 15,
    "start_time": "2024-07-28T08:51:56.156Z"
   },
   {
    "duration": 1326,
    "start_time": "2024-07-28T08:52:03.953Z"
   },
   {
    "duration": 314,
    "start_time": "2024-07-28T08:52:05.283Z"
   },
   {
    "duration": 19,
    "start_time": "2024-07-28T08:52:05.600Z"
   },
   {
    "duration": 17,
    "start_time": "2024-07-28T08:52:05.624Z"
   },
   {
    "duration": 9,
    "start_time": "2024-07-28T08:52:05.644Z"
   },
   {
    "duration": 8,
    "start_time": "2024-07-28T08:52:05.655Z"
   },
   {
    "duration": 48,
    "start_time": "2024-07-28T08:52:05.666Z"
   },
   {
    "duration": 19,
    "start_time": "2024-07-28T08:52:05.718Z"
   },
   {
    "duration": 14,
    "start_time": "2024-07-28T08:52:05.741Z"
   },
   {
    "duration": 47,
    "start_time": "2024-07-28T08:52:05.762Z"
   },
   {
    "duration": 6,
    "start_time": "2024-07-28T08:52:05.812Z"
   },
   {
    "duration": 9,
    "start_time": "2024-07-28T08:52:05.821Z"
   },
   {
    "duration": 6,
    "start_time": "2024-07-28T08:52:05.833Z"
   },
   {
    "duration": 5,
    "start_time": "2024-07-28T08:52:05.841Z"
   },
   {
    "duration": 6,
    "start_time": "2024-07-28T08:52:05.849Z"
   },
   {
    "duration": 27,
    "start_time": "2024-07-28T08:52:05.909Z"
   },
   {
    "duration": 11,
    "start_time": "2024-07-28T08:52:05.940Z"
   },
   {
    "duration": 92,
    "start_time": "2024-07-28T08:52:05.954Z"
   },
   {
    "duration": 28,
    "start_time": "2024-07-28T08:52:06.049Z"
   },
   {
    "duration": 34,
    "start_time": "2024-07-28T08:52:06.080Z"
   },
   {
    "duration": 13,
    "start_time": "2024-07-28T08:52:06.116Z"
   },
   {
    "duration": 5,
    "start_time": "2024-07-28T08:52:06.132Z"
   },
   {
    "duration": 15,
    "start_time": "2024-07-28T08:52:06.140Z"
   },
   {
    "duration": 54,
    "start_time": "2024-07-28T08:52:06.158Z"
   },
   {
    "duration": 10,
    "start_time": "2024-07-28T08:52:06.215Z"
   },
   {
    "duration": 17,
    "start_time": "2024-07-28T08:52:06.228Z"
   },
   {
    "duration": 10,
    "start_time": "2024-07-28T08:52:06.247Z"
   },
   {
    "duration": 62,
    "start_time": "2024-07-28T08:52:06.266Z"
   },
   {
    "duration": 11,
    "start_time": "2024-07-28T08:52:06.331Z"
   },
   {
    "duration": 10,
    "start_time": "2024-07-28T08:52:06.345Z"
   },
   {
    "duration": 60,
    "start_time": "2024-07-28T08:52:06.358Z"
   },
   {
    "duration": 11,
    "start_time": "2024-07-28T08:52:06.421Z"
   },
   {
    "duration": 13,
    "start_time": "2024-07-28T08:52:06.434Z"
   },
   {
    "duration": 20,
    "start_time": "2024-07-28T08:52:06.450Z"
   },
   {
    "duration": 47,
    "start_time": "2024-07-28T08:52:06.473Z"
   },
   {
    "duration": 14,
    "start_time": "2024-07-28T08:52:06.523Z"
   },
   {
    "duration": 22,
    "start_time": "2024-07-28T08:52:06.540Z"
   },
   {
    "duration": 69,
    "start_time": "2024-07-28T08:52:06.566Z"
   },
   {
    "duration": 11,
    "start_time": "2024-07-28T08:52:06.638Z"
   },
   {
    "duration": 10,
    "start_time": "2024-07-28T08:52:06.652Z"
   },
   {
    "duration": 7,
    "start_time": "2024-07-28T08:52:06.665Z"
   },
   {
    "duration": 25,
    "start_time": "2024-07-28T08:52:06.709Z"
   },
   {
    "duration": 11,
    "start_time": "2024-07-28T08:52:06.737Z"
   },
   {
    "duration": 8,
    "start_time": "2024-07-28T08:52:06.751Z"
   },
   {
    "duration": 58,
    "start_time": "2024-07-28T08:52:06.762Z"
   },
   {
    "duration": 26,
    "start_time": "2024-07-28T08:52:06.822Z"
   },
   {
    "duration": 7,
    "start_time": "2024-07-28T08:52:06.850Z"
   },
   {
    "duration": 56,
    "start_time": "2024-07-28T08:52:06.859Z"
   },
   {
    "duration": 490,
    "start_time": "2024-07-28T08:52:06.918Z"
   },
   {
    "duration": 477,
    "start_time": "2024-07-28T08:52:07.412Z"
   },
   {
    "duration": 20,
    "start_time": "2024-07-28T08:52:07.892Z"
   },
   {
    "duration": 217,
    "start_time": "2024-07-28T08:52:07.916Z"
   },
   {
    "duration": 19,
    "start_time": "2024-07-28T08:52:08.137Z"
   },
   {
    "duration": 495,
    "start_time": "2024-07-28T08:52:08.158Z"
   },
   {
    "duration": 426,
    "start_time": "2024-07-28T08:52:08.657Z"
   },
   {
    "duration": 6,
    "start_time": "2024-07-28T08:52:09.086Z"
   },
   {
    "duration": 26,
    "start_time": "2024-07-28T08:52:09.095Z"
   },
   {
    "duration": 512,
    "start_time": "2024-07-28T08:52:09.124Z"
   },
   {
    "duration": 414,
    "start_time": "2024-07-28T08:52:09.638Z"
   },
   {
    "duration": 4,
    "start_time": "2024-07-28T08:52:10.054Z"
   },
   {
    "duration": 3,
    "start_time": "2024-07-28T08:52:10.062Z"
   },
   {
    "duration": 18,
    "start_time": "2024-07-28T08:52:33.768Z"
   },
   {
    "duration": 16,
    "start_time": "2024-07-28T08:53:48.425Z"
   },
   {
    "duration": 207,
    "start_time": "2024-07-28T08:55:53.503Z"
   },
   {
    "duration": 192,
    "start_time": "2024-07-28T08:56:45.396Z"
   },
   {
    "duration": 185,
    "start_time": "2024-07-28T08:59:20.947Z"
   },
   {
    "duration": 174,
    "start_time": "2024-07-28T08:59:41.632Z"
   },
   {
    "duration": 200,
    "start_time": "2024-07-28T09:00:24.298Z"
   },
   {
    "duration": 14,
    "start_time": "2024-07-28T09:06:13.636Z"
   },
   {
    "duration": 25,
    "start_time": "2024-07-28T09:20:35.375Z"
   },
   {
    "duration": 110,
    "start_time": "2024-07-28T09:20:50.650Z"
   },
   {
    "duration": 407,
    "start_time": "2024-07-28T09:21:33.059Z"
   },
   {
    "duration": 782,
    "start_time": "2024-07-28T09:39:44.370Z"
   },
   {
    "duration": 178,
    "start_time": "2024-07-28T09:40:37.839Z"
   },
   {
    "duration": 186,
    "start_time": "2024-07-28T09:40:56.994Z"
   },
   {
    "duration": 239,
    "start_time": "2024-07-28T09:41:24.495Z"
   },
   {
    "duration": 278,
    "start_time": "2024-07-28T09:52:07.034Z"
   },
   {
    "duration": 324,
    "start_time": "2024-07-28T13:42:21.577Z"
   },
   {
    "duration": 4959,
    "start_time": "2024-07-28T13:52:37.775Z"
   },
   {
    "duration": 369,
    "start_time": "2024-07-28T13:52:42.738Z"
   },
   {
    "duration": 16,
    "start_time": "2024-07-28T13:52:43.109Z"
   },
   {
    "duration": 17,
    "start_time": "2024-07-28T13:52:43.129Z"
   },
   {
    "duration": 5,
    "start_time": "2024-07-28T13:52:43.149Z"
   },
   {
    "duration": 7,
    "start_time": "2024-07-28T13:52:43.158Z"
   },
   {
    "duration": 5,
    "start_time": "2024-07-28T13:52:43.169Z"
   },
   {
    "duration": 59,
    "start_time": "2024-07-28T13:52:43.177Z"
   },
   {
    "duration": 14,
    "start_time": "2024-07-28T13:52:43.239Z"
   },
   {
    "duration": 9,
    "start_time": "2024-07-28T13:52:43.260Z"
   },
   {
    "duration": 5,
    "start_time": "2024-07-28T13:52:43.272Z"
   },
   {
    "duration": 53,
    "start_time": "2024-07-28T13:52:43.281Z"
   },
   {
    "duration": 5,
    "start_time": "2024-07-28T13:52:43.337Z"
   },
   {
    "duration": 5,
    "start_time": "2024-07-28T13:52:43.345Z"
   },
   {
    "duration": 6,
    "start_time": "2024-07-28T13:52:43.353Z"
   },
   {
    "duration": 24,
    "start_time": "2024-07-28T13:52:43.363Z"
   },
   {
    "duration": 11,
    "start_time": "2024-07-28T13:52:43.435Z"
   },
   {
    "duration": 53,
    "start_time": "2024-07-28T13:52:43.449Z"
   },
   {
    "duration": 47,
    "start_time": "2024-07-28T13:52:43.505Z"
   },
   {
    "duration": 14,
    "start_time": "2024-07-28T13:52:43.554Z"
   },
   {
    "duration": 13,
    "start_time": "2024-07-28T13:52:43.570Z"
   },
   {
    "duration": 6,
    "start_time": "2024-07-28T13:52:43.586Z"
   },
   {
    "duration": 11,
    "start_time": "2024-07-28T13:52:43.633Z"
   },
   {
    "duration": 20,
    "start_time": "2024-07-28T13:52:43.648Z"
   },
   {
    "duration": 10,
    "start_time": "2024-07-28T13:52:43.671Z"
   },
   {
    "duration": 55,
    "start_time": "2024-07-28T13:52:43.685Z"
   },
   {
    "duration": 11,
    "start_time": "2024-07-28T13:52:43.742Z"
   },
   {
    "duration": 22,
    "start_time": "2024-07-28T13:52:43.761Z"
   },
   {
    "duration": 47,
    "start_time": "2024-07-28T13:52:43.786Z"
   },
   {
    "duration": 10,
    "start_time": "2024-07-28T13:52:43.836Z"
   },
   {
    "duration": 21,
    "start_time": "2024-07-28T13:52:43.849Z"
   },
   {
    "duration": 11,
    "start_time": "2024-07-28T13:52:43.873Z"
   },
   {
    "duration": 47,
    "start_time": "2024-07-28T13:52:43.887Z"
   },
   {
    "duration": 22,
    "start_time": "2024-07-28T13:52:43.937Z"
   },
   {
    "duration": 17,
    "start_time": "2024-07-28T13:52:43.961Z"
   },
   {
    "duration": 13,
    "start_time": "2024-07-28T13:52:43.980Z"
   },
   {
    "duration": 23,
    "start_time": "2024-07-28T13:52:44.033Z"
   },
   {
    "duration": 37,
    "start_time": "2024-07-28T13:52:44.058Z"
   },
   {
    "duration": 37,
    "start_time": "2024-07-28T13:52:44.098Z"
   },
   {
    "duration": 9,
    "start_time": "2024-07-28T13:52:44.138Z"
   },
   {
    "duration": 7,
    "start_time": "2024-07-28T13:52:44.150Z"
   },
   {
    "duration": 19,
    "start_time": "2024-07-28T13:52:44.161Z"
   },
   {
    "duration": 53,
    "start_time": "2024-07-28T13:52:44.184Z"
   },
   {
    "duration": 9,
    "start_time": "2024-07-28T13:52:44.239Z"
   },
   {
    "duration": 18,
    "start_time": "2024-07-28T13:52:44.251Z"
   },
   {
    "duration": 63,
    "start_time": "2024-07-28T13:52:44.273Z"
   },
   {
    "duration": 6,
    "start_time": "2024-07-28T13:52:44.339Z"
   },
   {
    "duration": 19,
    "start_time": "2024-07-28T13:52:44.347Z"
   },
   {
    "duration": 547,
    "start_time": "2024-07-28T13:52:44.369Z"
   },
   {
    "duration": 418,
    "start_time": "2024-07-28T13:52:44.919Z"
   },
   {
    "duration": 16,
    "start_time": "2024-07-28T13:52:45.341Z"
   },
   {
    "duration": 219,
    "start_time": "2024-07-28T13:52:45.359Z"
   },
   {
    "duration": 18,
    "start_time": "2024-07-28T13:52:45.581Z"
   },
   {
    "duration": 531,
    "start_time": "2024-07-28T13:52:45.602Z"
   },
   {
    "duration": 484,
    "start_time": "2024-07-28T13:52:46.137Z"
   },
   {
    "duration": 19,
    "start_time": "2024-07-28T13:52:46.624Z"
   },
   {
    "duration": 215,
    "start_time": "2024-07-28T13:52:46.646Z"
   },
   {
    "duration": 20,
    "start_time": "2024-07-28T13:52:46.864Z"
   },
   {
    "duration": 542,
    "start_time": "2024-07-28T13:52:46.887Z"
   },
   {
    "duration": 430,
    "start_time": "2024-07-28T13:52:47.434Z"
   },
   {
    "duration": 3,
    "start_time": "2024-07-28T13:52:47.868Z"
   },
   {
    "duration": 3,
    "start_time": "2024-07-28T13:52:47.875Z"
   },
   {
    "duration": 394,
    "start_time": "2024-07-28T13:57:49.699Z"
   },
   {
    "duration": 17,
    "start_time": "2024-07-28T14:06:52.544Z"
   },
   {
    "duration": 170,
    "start_time": "2024-07-28T14:08:08.382Z"
   },
   {
    "duration": 180,
    "start_time": "2024-07-28T14:08:17.482Z"
   },
   {
    "duration": 217,
    "start_time": "2024-07-28T14:24:49.716Z"
   },
   {
    "duration": 185,
    "start_time": "2024-07-28T14:25:19.581Z"
   },
   {
    "duration": 1677,
    "start_time": "2024-07-28T14:26:28.649Z"
   },
   {
    "duration": 268,
    "start_time": "2024-07-28T14:27:10.514Z"
   },
   {
    "duration": 188,
    "start_time": "2024-07-28T14:27:14.913Z"
   },
   {
    "duration": 189,
    "start_time": "2024-07-28T14:28:43.914Z"
   },
   {
    "duration": 16,
    "start_time": "2024-07-28T15:43:42.262Z"
   },
   {
    "duration": 12,
    "start_time": "2024-07-28T15:45:31.290Z"
   },
   {
    "duration": 896,
    "start_time": "2024-07-28T15:45:34.828Z"
   },
   {
    "duration": 9,
    "start_time": "2024-07-28T15:45:39.488Z"
   },
   {
    "duration": 17,
    "start_time": "2024-07-28T15:45:42.079Z"
   },
   {
    "duration": 14,
    "start_time": "2024-07-28T15:46:45.379Z"
   },
   {
    "duration": 9,
    "start_time": "2024-07-28T15:46:47.267Z"
   },
   {
    "duration": 19,
    "start_time": "2024-07-28T15:46:55.185Z"
   },
   {
    "duration": 17,
    "start_time": "2024-07-28T15:47:06.776Z"
   },
   {
    "duration": 18,
    "start_time": "2024-07-28T15:47:12.107Z"
   },
   {
    "duration": 18,
    "start_time": "2024-07-28T15:47:23.701Z"
   },
   {
    "duration": 318,
    "start_time": "2024-07-28T18:34:09.086Z"
   },
   {
    "duration": 5240,
    "start_time": "2024-07-28T18:35:22.724Z"
   },
   {
    "duration": 395,
    "start_time": "2024-07-28T18:35:27.967Z"
   },
   {
    "duration": 16,
    "start_time": "2024-07-28T18:35:28.366Z"
   },
   {
    "duration": 18,
    "start_time": "2024-07-28T18:35:28.391Z"
   },
   {
    "duration": 6,
    "start_time": "2024-07-28T18:35:28.412Z"
   },
   {
    "duration": 9,
    "start_time": "2024-07-28T18:35:28.422Z"
   },
   {
    "duration": 8,
    "start_time": "2024-07-28T18:35:28.434Z"
   },
   {
    "duration": 60,
    "start_time": "2024-07-28T18:35:28.447Z"
   },
   {
    "duration": 21,
    "start_time": "2024-07-28T18:35:28.511Z"
   },
   {
    "duration": 10,
    "start_time": "2024-07-28T18:35:28.540Z"
   },
   {
    "duration": 9,
    "start_time": "2024-07-28T18:35:28.590Z"
   },
   {
    "duration": 17,
    "start_time": "2024-07-28T18:35:28.608Z"
   },
   {
    "duration": 5,
    "start_time": "2024-07-28T18:35:28.629Z"
   },
   {
    "duration": 6,
    "start_time": "2024-07-28T18:35:28.638Z"
   },
   {
    "duration": 7,
    "start_time": "2024-07-28T18:35:28.647Z"
   },
   {
    "duration": 30,
    "start_time": "2024-07-28T18:35:28.693Z"
   },
   {
    "duration": 13,
    "start_time": "2024-07-28T18:35:28.727Z"
   },
   {
    "duration": 94,
    "start_time": "2024-07-28T18:35:28.743Z"
   },
   {
    "duration": 29,
    "start_time": "2024-07-28T18:35:28.841Z"
   },
   {
    "duration": 31,
    "start_time": "2024-07-28T18:35:28.873Z"
   },
   {
    "duration": 14,
    "start_time": "2024-07-28T18:35:28.907Z"
   },
   {
    "duration": 7,
    "start_time": "2024-07-28T18:35:28.924Z"
   },
   {
    "duration": 56,
    "start_time": "2024-07-28T18:35:28.935Z"
   },
   {
    "duration": 20,
    "start_time": "2024-07-28T18:35:28.994Z"
   },
   {
    "duration": 15,
    "start_time": "2024-07-28T18:35:29.018Z"
   },
   {
    "duration": 53,
    "start_time": "2024-07-28T18:35:29.037Z"
   },
   {
    "duration": 10,
    "start_time": "2024-07-28T18:35:29.094Z"
   },
   {
    "duration": 21,
    "start_time": "2024-07-28T18:35:29.114Z"
   },
   {
    "duration": 14,
    "start_time": "2024-07-28T18:35:29.138Z"
   },
   {
    "duration": 10,
    "start_time": "2024-07-28T18:35:29.190Z"
   },
   {
    "duration": 21,
    "start_time": "2024-07-28T18:35:29.203Z"
   },
   {
    "duration": 11,
    "start_time": "2024-07-28T18:35:29.227Z"
   },
   {
    "duration": 13,
    "start_time": "2024-07-28T18:35:29.241Z"
   },
   {
    "duration": 23,
    "start_time": "2024-07-28T18:35:29.291Z"
   },
   {
    "duration": 16,
    "start_time": "2024-07-28T18:35:29.317Z"
   },
   {
    "duration": 13,
    "start_time": "2024-07-28T18:35:29.336Z"
   },
   {
    "duration": 59,
    "start_time": "2024-07-28T18:35:29.352Z"
   },
   {
    "duration": 34,
    "start_time": "2024-07-28T18:35:29.414Z"
   },
   {
    "duration": 43,
    "start_time": "2024-07-28T18:35:29.451Z"
   },
   {
    "duration": 10,
    "start_time": "2024-07-28T18:35:29.497Z"
   },
   {
    "duration": 7,
    "start_time": "2024-07-28T18:35:29.510Z"
   },
   {
    "duration": 26,
    "start_time": "2024-07-28T18:35:29.521Z"
   },
   {
    "duration": 44,
    "start_time": "2024-07-28T18:35:29.554Z"
   },
   {
    "duration": 9,
    "start_time": "2024-07-28T18:35:29.601Z"
   },
   {
    "duration": 7,
    "start_time": "2024-07-28T18:35:29.614Z"
   },
   {
    "duration": 68,
    "start_time": "2024-07-28T18:35:29.624Z"
   },
   {
    "duration": 7,
    "start_time": "2024-07-28T18:35:29.695Z"
   },
   {
    "duration": 20,
    "start_time": "2024-07-28T18:35:29.705Z"
   },
   {
    "duration": 555,
    "start_time": "2024-07-28T18:35:29.728Z"
   },
   {
    "duration": 447,
    "start_time": "2024-07-28T18:35:30.285Z"
   },
   {
    "duration": 16,
    "start_time": "2024-07-28T18:35:30.737Z"
   },
   {
    "duration": 220,
    "start_time": "2024-07-28T18:35:30.757Z"
   },
   {
    "duration": 25,
    "start_time": "2024-07-28T18:35:30.980Z"
   },
   {
    "duration": 502,
    "start_time": "2024-07-28T18:35:31.007Z"
   },
   {
    "duration": 546,
    "start_time": "2024-07-28T18:35:31.512Z"
   },
   {
    "duration": 25,
    "start_time": "2024-07-28T18:35:32.065Z"
   },
   {
    "duration": 223,
    "start_time": "2024-07-28T18:35:32.095Z"
   },
   {
    "duration": 22,
    "start_time": "2024-07-28T18:35:32.323Z"
   },
   {
    "duration": 611,
    "start_time": "2024-07-28T18:35:32.354Z"
   },
   {
    "duration": 416,
    "start_time": "2024-07-28T18:35:32.968Z"
   },
   {
    "duration": 15,
    "start_time": "2024-07-28T18:35:33.392Z"
   },
   {
    "duration": 219,
    "start_time": "2024-07-28T18:35:33.410Z"
   },
   {
    "duration": 28,
    "start_time": "2024-07-28T18:35:33.632Z"
   },
   {
    "duration": 26,
    "start_time": "2024-07-28T18:35:33.664Z"
   },
   {
    "duration": 5,
    "start_time": "2024-07-28T18:35:33.693Z"
   },
   {
    "duration": 18,
    "start_time": "2024-07-28T18:36:22.303Z"
   },
   {
    "duration": 17,
    "start_time": "2024-07-28T18:37:38.140Z"
   },
   {
    "duration": 26,
    "start_time": "2024-07-28T18:39:49.711Z"
   },
   {
    "duration": 1337,
    "start_time": "2024-07-28T18:40:54.395Z"
   },
   {
    "duration": 303,
    "start_time": "2024-07-28T18:40:55.736Z"
   },
   {
    "duration": 18,
    "start_time": "2024-07-28T18:40:56.042Z"
   },
   {
    "duration": 30,
    "start_time": "2024-07-28T18:40:56.064Z"
   },
   {
    "duration": 6,
    "start_time": "2024-07-28T18:40:56.097Z"
   },
   {
    "duration": 8,
    "start_time": "2024-07-28T18:40:56.106Z"
   },
   {
    "duration": 5,
    "start_time": "2024-07-28T18:40:56.117Z"
   },
   {
    "duration": 16,
    "start_time": "2024-07-28T18:40:56.125Z"
   },
   {
    "duration": 17,
    "start_time": "2024-07-28T18:40:56.192Z"
   },
   {
    "duration": 11,
    "start_time": "2024-07-28T18:40:56.219Z"
   },
   {
    "duration": 6,
    "start_time": "2024-07-28T18:40:56.232Z"
   },
   {
    "duration": 55,
    "start_time": "2024-07-28T18:40:56.242Z"
   },
   {
    "duration": 5,
    "start_time": "2024-07-28T18:40:56.300Z"
   },
   {
    "duration": 5,
    "start_time": "2024-07-28T18:40:56.308Z"
   },
   {
    "duration": 6,
    "start_time": "2024-07-28T18:40:56.316Z"
   },
   {
    "duration": 69,
    "start_time": "2024-07-28T18:40:56.325Z"
   },
   {
    "duration": 12,
    "start_time": "2024-07-28T18:40:56.397Z"
   },
   {
    "duration": 79,
    "start_time": "2024-07-28T18:40:56.412Z"
   },
   {
    "duration": 26,
    "start_time": "2024-07-28T18:40:56.494Z"
   },
   {
    "duration": 13,
    "start_time": "2024-07-28T18:40:56.523Z"
   },
   {
    "duration": 13,
    "start_time": "2024-07-28T18:40:56.538Z"
   },
   {
    "duration": 4,
    "start_time": "2024-07-28T18:40:56.590Z"
   },
   {
    "duration": 13,
    "start_time": "2024-07-28T18:40:56.597Z"
   },
   {
    "duration": 20,
    "start_time": "2024-07-28T18:40:56.613Z"
   },
   {
    "duration": 11,
    "start_time": "2024-07-28T18:40:56.635Z"
   },
   {
    "duration": 53,
    "start_time": "2024-07-28T18:40:56.649Z"
   },
   {
    "duration": 10,
    "start_time": "2024-07-28T18:40:56.705Z"
   },
   {
    "duration": 24,
    "start_time": "2024-07-28T18:40:56.725Z"
   },
   {
    "duration": 50,
    "start_time": "2024-07-28T18:40:56.752Z"
   },
   {
    "duration": 11,
    "start_time": "2024-07-28T18:40:56.806Z"
   },
   {
    "duration": 22,
    "start_time": "2024-07-28T18:40:56.821Z"
   },
   {
    "duration": 47,
    "start_time": "2024-07-28T18:40:56.846Z"
   },
   {
    "duration": 15,
    "start_time": "2024-07-28T18:40:56.897Z"
   },
   {
    "duration": 21,
    "start_time": "2024-07-28T18:40:56.914Z"
   },
   {
    "duration": 52,
    "start_time": "2024-07-28T18:40:56.939Z"
   },
   {
    "duration": 12,
    "start_time": "2024-07-28T18:40:56.994Z"
   },
   {
    "duration": 23,
    "start_time": "2024-07-28T18:40:57.009Z"
   },
   {
    "duration": 61,
    "start_time": "2024-07-28T18:40:57.035Z"
   },
   {
    "duration": 11,
    "start_time": "2024-07-28T18:40:57.099Z"
   },
   {
    "duration": 9,
    "start_time": "2024-07-28T18:40:57.113Z"
   },
   {
    "duration": 7,
    "start_time": "2024-07-28T18:40:57.125Z"
   },
   {
    "duration": 61,
    "start_time": "2024-07-28T18:40:57.135Z"
   },
   {
    "duration": 14,
    "start_time": "2024-07-28T18:40:57.199Z"
   },
   {
    "duration": 8,
    "start_time": "2024-07-28T18:40:57.216Z"
   },
   {
    "duration": 6,
    "start_time": "2024-07-28T18:40:57.227Z"
   },
   {
    "duration": 65,
    "start_time": "2024-07-28T18:40:57.237Z"
   },
   {
    "duration": 6,
    "start_time": "2024-07-28T18:40:57.305Z"
   },
   {
    "duration": 19,
    "start_time": "2024-07-28T18:40:57.314Z"
   },
   {
    "duration": 542,
    "start_time": "2024-07-28T18:40:57.336Z"
   },
   {
    "duration": 469,
    "start_time": "2024-07-28T18:40:57.881Z"
   },
   {
    "duration": 15,
    "start_time": "2024-07-28T18:40:58.354Z"
   },
   {
    "duration": 208,
    "start_time": "2024-07-28T18:40:58.372Z"
   },
   {
    "duration": 22,
    "start_time": "2024-07-28T18:40:58.583Z"
   },
   {
    "duration": 497,
    "start_time": "2024-07-28T18:40:58.607Z"
   },
   {
    "duration": 448,
    "start_time": "2024-07-28T18:40:59.107Z"
   },
   {
    "duration": 15,
    "start_time": "2024-07-28T18:40:59.558Z"
   },
   {
    "duration": 204,
    "start_time": "2024-07-28T18:40:59.590Z"
   },
   {
    "duration": 18,
    "start_time": "2024-07-28T18:40:59.798Z"
   },
   {
    "duration": 549,
    "start_time": "2024-07-28T18:40:59.819Z"
   },
   {
    "duration": 385,
    "start_time": "2024-07-28T18:41:00.372Z"
   },
   {
    "duration": 15,
    "start_time": "2024-07-28T18:41:00.759Z"
   },
   {
    "duration": 196,
    "start_time": "2024-07-28T18:41:00.792Z"
   },
   {
    "duration": 24,
    "start_time": "2024-07-28T18:41:00.991Z"
   },
   {
    "duration": 3,
    "start_time": "2024-07-28T18:41:01.017Z"
   },
   {
    "duration": 4,
    "start_time": "2024-07-28T18:41:01.024Z"
   },
   {
    "duration": 25,
    "start_time": "2024-07-28T18:42:12.355Z"
   },
   {
    "duration": 23,
    "start_time": "2024-07-28T18:42:36.053Z"
   },
   {
    "duration": 11,
    "start_time": "2024-07-28T18:43:58.202Z"
   },
   {
    "duration": 21,
    "start_time": "2024-07-28T18:44:04.521Z"
   },
   {
    "duration": 16,
    "start_time": "2024-07-28T18:44:32.689Z"
   },
   {
    "duration": 26,
    "start_time": "2024-07-28T18:45:10.511Z"
   },
   {
    "duration": 32,
    "start_time": "2024-07-28T18:50:13.462Z"
   },
   {
    "duration": 12,
    "start_time": "2024-07-28T18:52:27.806Z"
   },
   {
    "duration": 9,
    "start_time": "2024-07-28T18:52:30.736Z"
   },
   {
    "duration": 6,
    "start_time": "2024-07-28T18:52:32.928Z"
   },
   {
    "duration": 15,
    "start_time": "2024-07-28T18:52:37.141Z"
   },
   {
    "duration": 25,
    "start_time": "2024-07-28T18:53:04.136Z"
   },
   {
    "duration": 26,
    "start_time": "2024-07-28T18:53:16.188Z"
   },
   {
    "duration": 27,
    "start_time": "2024-07-28T18:53:30.151Z"
   },
   {
    "duration": 18,
    "start_time": "2024-07-28T19:03:55.844Z"
   },
   {
    "duration": 22,
    "start_time": "2024-07-28T19:04:04.857Z"
   },
   {
    "duration": 24,
    "start_time": "2024-07-28T19:04:54.512Z"
   },
   {
    "duration": 38,
    "start_time": "2024-07-28T19:05:16.170Z"
   },
   {
    "duration": 35,
    "start_time": "2024-07-28T19:06:23.131Z"
   },
   {
    "duration": 29,
    "start_time": "2024-07-28T19:06:30.752Z"
   },
   {
    "duration": 22,
    "start_time": "2024-07-28T19:07:38.424Z"
   },
   {
    "duration": 22,
    "start_time": "2024-07-28T19:08:45.914Z"
   },
   {
    "duration": 23,
    "start_time": "2024-07-28T19:08:58.485Z"
   },
   {
    "duration": 468,
    "start_time": "2024-07-28T19:09:25.801Z"
   },
   {
    "duration": 528,
    "start_time": "2024-07-28T19:15:36.411Z"
   },
   {
    "duration": 23,
    "start_time": "2024-07-28T19:15:50.042Z"
   },
   {
    "duration": 560,
    "start_time": "2024-07-28T19:15:52.468Z"
   },
   {
    "duration": 22,
    "start_time": "2024-07-28T19:52:34.908Z"
   },
   {
    "duration": 467,
    "start_time": "2024-07-28T20:01:14.680Z"
   },
   {
    "duration": 435,
    "start_time": "2024-07-28T20:03:57.315Z"
   },
   {
    "duration": 418,
    "start_time": "2024-07-28T20:11:15.847Z"
   },
   {
    "duration": 19,
    "start_time": "2024-07-28T20:27:09.348Z"
   },
   {
    "duration": 17,
    "start_time": "2024-07-28T20:27:38.164Z"
   },
   {
    "duration": 19,
    "start_time": "2024-07-28T20:27:57.139Z"
   },
   {
    "duration": 19,
    "start_time": "2024-07-28T20:28:16.714Z"
   },
   {
    "duration": 183,
    "start_time": "2024-07-28T20:32:23.030Z"
   },
   {
    "duration": 187,
    "start_time": "2024-07-28T20:32:36.924Z"
   },
   {
    "duration": 204,
    "start_time": "2024-07-28T20:33:37.341Z"
   },
   {
    "duration": 193,
    "start_time": "2024-07-28T20:35:10.768Z"
   },
   {
    "duration": 14,
    "start_time": "2024-07-28T21:07:51.963Z"
   },
   {
    "duration": 871,
    "start_time": "2024-07-28T21:08:58.893Z"
   },
   {
    "duration": 11,
    "start_time": "2024-07-28T21:09:07.233Z"
   },
   {
    "duration": 198,
    "start_time": "2024-07-28T21:09:37.743Z"
   },
   {
    "duration": 9,
    "start_time": "2024-07-28T21:09:50.515Z"
   },
   {
    "duration": 10,
    "start_time": "2024-07-28T21:10:12.197Z"
   },
   {
    "duration": 433,
    "start_time": "2024-07-28T21:10:23.420Z"
   },
   {
    "duration": 79,
    "start_time": "2024-07-28T21:12:39.723Z"
   },
   {
    "duration": 6,
    "start_time": "2024-07-28T21:13:03.959Z"
   },
   {
    "duration": 4,
    "start_time": "2024-07-28T21:14:52.126Z"
   },
   {
    "duration": 6,
    "start_time": "2024-07-28T21:15:00.192Z"
   },
   {
    "duration": 194,
    "start_time": "2024-07-28T21:24:03.100Z"
   },
   {
    "duration": 207,
    "start_time": "2024-07-28T21:24:24.386Z"
   },
   {
    "duration": 187,
    "start_time": "2024-07-28T21:25:16.375Z"
   },
   {
    "duration": 11,
    "start_time": "2024-07-28T21:25:49.946Z"
   },
   {
    "duration": 7,
    "start_time": "2024-07-28T21:26:22.408Z"
   },
   {
    "duration": 14,
    "start_time": "2024-07-28T21:32:36.539Z"
   },
   {
    "duration": 15,
    "start_time": "2024-07-28T21:33:11.913Z"
   },
   {
    "duration": 16,
    "start_time": "2024-07-28T21:33:57.296Z"
   },
   {
    "duration": 15,
    "start_time": "2024-07-28T21:34:42.267Z"
   },
   {
    "duration": 14,
    "start_time": "2024-07-28T21:35:31.856Z"
   },
   {
    "duration": 28,
    "start_time": "2024-07-28T21:36:33.749Z"
   },
   {
    "duration": 5,
    "start_time": "2024-07-28T21:37:56.375Z"
   },
   {
    "duration": 7,
    "start_time": "2024-07-28T21:42:26.199Z"
   },
   {
    "duration": 11,
    "start_time": "2024-07-28T21:47:08.582Z"
   },
   {
    "duration": 43,
    "start_time": "2024-07-28T21:47:11.076Z"
   },
   {
    "duration": 1304,
    "start_time": "2024-07-28T21:47:37.510Z"
   },
   {
    "duration": 287,
    "start_time": "2024-07-28T21:47:38.819Z"
   },
   {
    "duration": 16,
    "start_time": "2024-07-28T21:47:39.109Z"
   },
   {
    "duration": 15,
    "start_time": "2024-07-28T21:47:39.131Z"
   },
   {
    "duration": 6,
    "start_time": "2024-07-28T21:47:39.149Z"
   },
   {
    "duration": 9,
    "start_time": "2024-07-28T21:47:39.189Z"
   },
   {
    "duration": 6,
    "start_time": "2024-07-28T21:47:39.200Z"
   },
   {
    "duration": 15,
    "start_time": "2024-07-28T21:47:39.210Z"
   },
   {
    "duration": 14,
    "start_time": "2024-07-28T21:47:39.228Z"
   },
   {
    "duration": 49,
    "start_time": "2024-07-28T21:47:39.248Z"
   },
   {
    "duration": 5,
    "start_time": "2024-07-28T21:47:39.300Z"
   },
   {
    "duration": 7,
    "start_time": "2024-07-28T21:47:39.309Z"
   },
   {
    "duration": 6,
    "start_time": "2024-07-28T21:47:39.319Z"
   },
   {
    "duration": 5,
    "start_time": "2024-07-28T21:47:39.328Z"
   },
   {
    "duration": 57,
    "start_time": "2024-07-28T21:47:39.336Z"
   },
   {
    "duration": 26,
    "start_time": "2024-07-28T21:47:39.396Z"
   },
   {
    "duration": 11,
    "start_time": "2024-07-28T21:47:39.425Z"
   },
   {
    "duration": 85,
    "start_time": "2024-07-28T21:47:39.440Z"
   },
   {
    "duration": 26,
    "start_time": "2024-07-28T21:47:39.528Z"
   },
   {
    "duration": 37,
    "start_time": "2024-07-28T21:47:39.557Z"
   },
   {
    "duration": 13,
    "start_time": "2024-07-28T21:47:39.597Z"
   },
   {
    "duration": 4,
    "start_time": "2024-07-28T21:47:39.613Z"
   },
   {
    "duration": 12,
    "start_time": "2024-07-28T21:47:39.620Z"
   },
   {
    "duration": 56,
    "start_time": "2024-07-28T21:47:39.634Z"
   },
   {
    "duration": 12,
    "start_time": "2024-07-28T21:47:39.693Z"
   },
   {
    "duration": 17,
    "start_time": "2024-07-28T21:47:39.707Z"
   },
   {
    "duration": 11,
    "start_time": "2024-07-28T21:47:39.727Z"
   },
   {
    "duration": 60,
    "start_time": "2024-07-28T21:47:39.746Z"
   },
   {
    "duration": 12,
    "start_time": "2024-07-28T21:47:39.810Z"
   },
   {
    "duration": 11,
    "start_time": "2024-07-28T21:47:39.826Z"
   },
   {
    "duration": 59,
    "start_time": "2024-07-28T21:47:39.841Z"
   },
   {
    "duration": 11,
    "start_time": "2024-07-28T21:47:39.903Z"
   },
   {
    "duration": 13,
    "start_time": "2024-07-28T21:47:39.917Z"
   },
   {
    "duration": 58,
    "start_time": "2024-07-28T21:47:39.934Z"
   },
   {
    "duration": 16,
    "start_time": "2024-07-28T21:47:39.994Z"
   },
   {
    "duration": 12,
    "start_time": "2024-07-28T21:47:40.013Z"
   },
   {
    "duration": 23,
    "start_time": "2024-07-28T21:47:40.028Z"
   },
   {
    "duration": 62,
    "start_time": "2024-07-28T21:47:40.055Z"
   },
   {
    "duration": 488,
    "start_time": "2024-07-28T21:47:40.120Z"
   },
   {
    "duration": 0,
    "start_time": "2024-07-28T21:47:40.611Z"
   },
   {
    "duration": 0,
    "start_time": "2024-07-28T21:47:40.613Z"
   },
   {
    "duration": 0,
    "start_time": "2024-07-28T21:47:40.615Z"
   },
   {
    "duration": 0,
    "start_time": "2024-07-28T21:47:40.618Z"
   },
   {
    "duration": 0,
    "start_time": "2024-07-28T21:47:40.620Z"
   },
   {
    "duration": 0,
    "start_time": "2024-07-28T21:47:40.622Z"
   },
   {
    "duration": 0,
    "start_time": "2024-07-28T21:47:40.624Z"
   },
   {
    "duration": 0,
    "start_time": "2024-07-28T21:47:40.626Z"
   },
   {
    "duration": 0,
    "start_time": "2024-07-28T21:47:40.628Z"
   },
   {
    "duration": 0,
    "start_time": "2024-07-28T21:47:40.631Z"
   },
   {
    "duration": 0,
    "start_time": "2024-07-28T21:47:40.633Z"
   },
   {
    "duration": 0,
    "start_time": "2024-07-28T21:47:40.635Z"
   },
   {
    "duration": 0,
    "start_time": "2024-07-28T21:47:40.638Z"
   },
   {
    "duration": 0,
    "start_time": "2024-07-28T21:47:40.640Z"
   },
   {
    "duration": 0,
    "start_time": "2024-07-28T21:47:40.642Z"
   },
   {
    "duration": 0,
    "start_time": "2024-07-28T21:47:40.690Z"
   },
   {
    "duration": 0,
    "start_time": "2024-07-28T21:47:40.694Z"
   },
   {
    "duration": 0,
    "start_time": "2024-07-28T21:47:40.696Z"
   },
   {
    "duration": 0,
    "start_time": "2024-07-28T21:47:40.700Z"
   },
   {
    "duration": 0,
    "start_time": "2024-07-28T21:47:40.702Z"
   },
   {
    "duration": 0,
    "start_time": "2024-07-28T21:47:40.705Z"
   },
   {
    "duration": 0,
    "start_time": "2024-07-28T21:47:40.708Z"
   },
   {
    "duration": 0,
    "start_time": "2024-07-28T21:47:40.710Z"
   },
   {
    "duration": 0,
    "start_time": "2024-07-28T21:47:40.712Z"
   },
   {
    "duration": 0,
    "start_time": "2024-07-28T21:47:40.714Z"
   },
   {
    "duration": 0,
    "start_time": "2024-07-28T21:47:40.716Z"
   },
   {
    "duration": 0,
    "start_time": "2024-07-28T21:47:40.719Z"
   },
   {
    "duration": 0,
    "start_time": "2024-07-28T21:47:40.721Z"
   },
   {
    "duration": 0,
    "start_time": "2024-07-28T21:47:40.723Z"
   },
   {
    "duration": 0,
    "start_time": "2024-07-28T21:47:40.725Z"
   },
   {
    "duration": 11,
    "start_time": "2024-07-28T21:48:16.593Z"
   },
   {
    "duration": 1345,
    "start_time": "2024-07-28T21:48:37.072Z"
   },
   {
    "duration": 278,
    "start_time": "2024-07-28T21:48:38.420Z"
   },
   {
    "duration": 16,
    "start_time": "2024-07-28T21:48:38.701Z"
   },
   {
    "duration": 16,
    "start_time": "2024-07-28T21:48:38.720Z"
   },
   {
    "duration": 6,
    "start_time": "2024-07-28T21:48:38.742Z"
   },
   {
    "duration": 41,
    "start_time": "2024-07-28T21:48:38.751Z"
   },
   {
    "duration": 6,
    "start_time": "2024-07-28T21:48:38.795Z"
   },
   {
    "duration": 14,
    "start_time": "2024-07-28T21:48:38.805Z"
   },
   {
    "duration": 16,
    "start_time": "2024-07-28T21:48:38.822Z"
   },
   {
    "duration": 54,
    "start_time": "2024-07-28T21:48:38.842Z"
   },
   {
    "duration": 5,
    "start_time": "2024-07-28T21:48:38.899Z"
   },
   {
    "duration": 7,
    "start_time": "2024-07-28T21:48:38.907Z"
   },
   {
    "duration": 6,
    "start_time": "2024-07-28T21:48:38.918Z"
   },
   {
    "duration": 4,
    "start_time": "2024-07-28T21:48:38.931Z"
   },
   {
    "duration": 52,
    "start_time": "2024-07-28T21:48:38.938Z"
   },
   {
    "duration": 25,
    "start_time": "2024-07-28T21:48:38.993Z"
   },
   {
    "duration": 11,
    "start_time": "2024-07-28T21:48:39.021Z"
   },
   {
    "duration": 86,
    "start_time": "2024-07-28T21:48:39.035Z"
   },
   {
    "duration": 27,
    "start_time": "2024-07-28T21:48:39.124Z"
   },
   {
    "duration": 36,
    "start_time": "2024-07-28T21:48:39.154Z"
   },
   {
    "duration": 13,
    "start_time": "2024-07-28T21:48:39.193Z"
   },
   {
    "duration": 5,
    "start_time": "2024-07-28T21:48:39.209Z"
   },
   {
    "duration": 12,
    "start_time": "2024-07-28T21:48:39.218Z"
   },
   {
    "duration": 58,
    "start_time": "2024-07-28T21:48:39.233Z"
   },
   {
    "duration": 10,
    "start_time": "2024-07-28T21:48:39.294Z"
   },
   {
    "duration": 17,
    "start_time": "2024-07-28T21:48:39.308Z"
   },
   {
    "duration": 10,
    "start_time": "2024-07-28T21:48:39.328Z"
   },
   {
    "duration": 59,
    "start_time": "2024-07-28T21:48:39.340Z"
   },
   {
    "duration": 10,
    "start_time": "2024-07-28T21:48:39.402Z"
   },
   {
    "duration": 10,
    "start_time": "2024-07-28T21:48:39.416Z"
   },
   {
    "duration": 21,
    "start_time": "2024-07-28T21:48:39.428Z"
   },
   {
    "duration": 49,
    "start_time": "2024-07-28T21:48:39.452Z"
   },
   {
    "duration": 18,
    "start_time": "2024-07-28T21:48:39.504Z"
   },
   {
    "duration": 25,
    "start_time": "2024-07-28T21:48:39.524Z"
   },
   {
    "duration": 44,
    "start_time": "2024-07-28T21:48:39.551Z"
   },
   {
    "duration": 16,
    "start_time": "2024-07-28T21:48:39.598Z"
   },
   {
    "duration": 26,
    "start_time": "2024-07-28T21:48:39.617Z"
   },
   {
    "duration": 67,
    "start_time": "2024-07-28T21:48:39.645Z"
   },
   {
    "duration": 11,
    "start_time": "2024-07-28T21:48:39.716Z"
   },
   {
    "duration": 12,
    "start_time": "2024-07-28T21:48:39.730Z"
   },
   {
    "duration": 6,
    "start_time": "2024-07-28T21:48:39.751Z"
   },
   {
    "duration": 21,
    "start_time": "2024-07-28T21:48:39.792Z"
   },
   {
    "duration": 12,
    "start_time": "2024-07-28T21:48:39.816Z"
   },
   {
    "duration": 9,
    "start_time": "2024-07-28T21:48:39.831Z"
   },
   {
    "duration": 46,
    "start_time": "2024-07-28T21:48:39.844Z"
   },
   {
    "duration": 29,
    "start_time": "2024-07-28T21:48:39.893Z"
   },
   {
    "duration": 7,
    "start_time": "2024-07-28T21:48:39.925Z"
   },
   {
    "duration": 18,
    "start_time": "2024-07-28T21:48:39.935Z"
   },
   {
    "duration": 479,
    "start_time": "2024-07-28T21:48:39.990Z"
   },
   {
    "duration": 534,
    "start_time": "2024-07-28T21:48:40.473Z"
   },
   {
    "duration": 16,
    "start_time": "2024-07-28T21:48:41.010Z"
   },
   {
    "duration": 393,
    "start_time": "2024-07-28T21:48:41.029Z"
   },
   {
    "duration": 19,
    "start_time": "2024-07-28T21:48:41.426Z"
   },
   {
    "duration": 535,
    "start_time": "2024-07-28T21:48:41.448Z"
   },
   {
    "duration": 447,
    "start_time": "2024-07-28T21:48:41.991Z"
   },
   {
    "duration": 15,
    "start_time": "2024-07-28T21:48:42.441Z"
   },
   {
    "duration": 242,
    "start_time": "2024-07-28T21:48:42.459Z"
   },
   {
    "duration": 19,
    "start_time": "2024-07-28T21:48:42.704Z"
   },
   {
    "duration": 520,
    "start_time": "2024-07-28T21:48:42.726Z"
   },
   {
    "duration": 394,
    "start_time": "2024-07-28T21:48:43.250Z"
   },
   {
    "duration": 15,
    "start_time": "2024-07-28T21:48:43.647Z"
   },
   {
    "duration": 213,
    "start_time": "2024-07-28T21:48:43.664Z"
   },
   {
    "duration": 24,
    "start_time": "2024-07-28T21:48:43.880Z"
   },
   {
    "duration": 513,
    "start_time": "2024-07-28T21:48:43.907Z"
   },
   {
    "duration": 441,
    "start_time": "2024-07-28T21:48:44.425Z"
   },
   {
    "duration": 27,
    "start_time": "2024-07-28T21:48:44.869Z"
   },
   {
    "duration": 498,
    "start_time": "2024-07-28T21:48:44.899Z"
   },
   {
    "duration": 0,
    "start_time": "2024-07-28T21:48:45.400Z"
   },
   {
    "duration": 0,
    "start_time": "2024-07-28T21:48:45.402Z"
   },
   {
    "duration": 204,
    "start_time": "2024-07-28T21:49:04.768Z"
   },
   {
    "duration": 1395,
    "start_time": "2024-07-28T21:58:42.677Z"
   },
   {
    "duration": 299,
    "start_time": "2024-07-28T21:58:44.076Z"
   },
   {
    "duration": 21,
    "start_time": "2024-07-28T21:58:44.378Z"
   },
   {
    "duration": 17,
    "start_time": "2024-07-28T21:58:44.404Z"
   },
   {
    "duration": 7,
    "start_time": "2024-07-28T21:58:44.424Z"
   },
   {
    "duration": 9,
    "start_time": "2024-07-28T21:58:44.434Z"
   },
   {
    "duration": 45,
    "start_time": "2024-07-28T21:58:44.446Z"
   },
   {
    "duration": 16,
    "start_time": "2024-07-28T21:58:44.495Z"
   },
   {
    "duration": 15,
    "start_time": "2024-07-28T21:58:44.514Z"
   },
   {
    "duration": 9,
    "start_time": "2024-07-28T21:58:44.536Z"
   },
   {
    "duration": 5,
    "start_time": "2024-07-28T21:58:44.592Z"
   },
   {
    "duration": 9,
    "start_time": "2024-07-28T21:58:44.600Z"
   },
   {
    "duration": 6,
    "start_time": "2024-07-28T21:58:44.612Z"
   },
   {
    "duration": 5,
    "start_time": "2024-07-28T21:58:44.621Z"
   },
   {
    "duration": 7,
    "start_time": "2024-07-28T21:58:44.629Z"
   },
   {
    "duration": 80,
    "start_time": "2024-07-28T21:58:44.638Z"
   },
   {
    "duration": 11,
    "start_time": "2024-07-28T21:58:44.721Z"
   },
   {
    "duration": 99,
    "start_time": "2024-07-28T21:58:44.736Z"
   },
   {
    "duration": 28,
    "start_time": "2024-07-28T21:58:44.838Z"
   },
   {
    "duration": 33,
    "start_time": "2024-07-28T21:58:44.869Z"
   },
   {
    "duration": 12,
    "start_time": "2024-07-28T21:58:44.905Z"
   },
   {
    "duration": 6,
    "start_time": "2024-07-28T21:58:44.920Z"
   },
   {
    "duration": 18,
    "start_time": "2024-07-28T21:58:44.930Z"
   },
   {
    "duration": 57,
    "start_time": "2024-07-28T21:58:44.951Z"
   },
   {
    "duration": 11,
    "start_time": "2024-07-28T21:58:45.011Z"
   },
   {
    "duration": 19,
    "start_time": "2024-07-28T21:58:45.025Z"
   },
   {
    "duration": 46,
    "start_time": "2024-07-28T21:58:45.047Z"
   },
   {
    "duration": 24,
    "start_time": "2024-07-28T21:58:45.104Z"
   },
   {
    "duration": 12,
    "start_time": "2024-07-28T21:58:45.131Z"
   },
   {
    "duration": 45,
    "start_time": "2024-07-28T21:58:45.146Z"
   },
   {
    "duration": 22,
    "start_time": "2024-07-28T21:58:45.194Z"
   },
   {
    "duration": 12,
    "start_time": "2024-07-28T21:58:45.219Z"
   },
   {
    "duration": 15,
    "start_time": "2024-07-28T21:58:45.234Z"
   },
   {
    "duration": 25,
    "start_time": "2024-07-28T21:58:45.291Z"
   },
   {
    "duration": 17,
    "start_time": "2024-07-28T21:58:45.319Z"
   },
   {
    "duration": 12,
    "start_time": "2024-07-28T21:58:45.339Z"
   },
   {
    "duration": 57,
    "start_time": "2024-07-28T21:58:45.354Z"
   },
   {
    "duration": 33,
    "start_time": "2024-07-28T21:58:45.415Z"
   },
   {
    "duration": 40,
    "start_time": "2024-07-28T21:58:45.451Z"
   },
   {
    "duration": 11,
    "start_time": "2024-07-28T21:58:45.494Z"
   },
   {
    "duration": 8,
    "start_time": "2024-07-28T21:58:45.509Z"
   },
   {
    "duration": 22,
    "start_time": "2024-07-28T21:58:45.520Z"
   },
   {
    "duration": 14,
    "start_time": "2024-07-28T21:58:45.589Z"
   },
   {
    "duration": 9,
    "start_time": "2024-07-28T21:58:45.607Z"
   },
   {
    "duration": 9,
    "start_time": "2024-07-28T21:58:45.619Z"
   },
   {
    "duration": 70,
    "start_time": "2024-07-28T21:58:45.631Z"
   },
   {
    "duration": 9,
    "start_time": "2024-07-28T21:58:45.704Z"
   },
   {
    "duration": 20,
    "start_time": "2024-07-28T21:58:45.716Z"
   },
   {
    "duration": 545,
    "start_time": "2024-07-28T21:58:45.741Z"
   },
   {
    "duration": 501,
    "start_time": "2024-07-28T21:58:46.289Z"
   },
   {
    "duration": 18,
    "start_time": "2024-07-28T21:58:46.795Z"
   },
   {
    "duration": 205,
    "start_time": "2024-07-28T21:58:46.818Z"
   },
   {
    "duration": 20,
    "start_time": "2024-07-28T21:58:47.026Z"
   },
   {
    "duration": 548,
    "start_time": "2024-07-28T21:58:47.049Z"
   },
   {
    "duration": 445,
    "start_time": "2024-07-28T21:58:47.600Z"
   },
   {
    "duration": 16,
    "start_time": "2024-07-28T21:58:48.048Z"
   },
   {
    "duration": 228,
    "start_time": "2024-07-28T21:58:48.067Z"
   },
   {
    "duration": 17,
    "start_time": "2024-07-28T21:58:48.298Z"
   },
   {
    "duration": 527,
    "start_time": "2024-07-28T21:58:48.318Z"
   },
   {
    "duration": 400,
    "start_time": "2024-07-28T21:58:48.848Z"
   },
   {
    "duration": 14,
    "start_time": "2024-07-28T21:58:49.252Z"
   },
   {
    "duration": 209,
    "start_time": "2024-07-28T21:58:49.269Z"
   },
   {
    "duration": 16,
    "start_time": "2024-07-28T21:58:49.490Z"
   },
   {
    "duration": 521,
    "start_time": "2024-07-28T21:58:49.509Z"
   },
   {
    "duration": 409,
    "start_time": "2024-07-28T21:58:50.034Z"
   },
   {
    "duration": 14,
    "start_time": "2024-07-28T21:58:50.446Z"
   },
   {
    "duration": 213,
    "start_time": "2024-07-28T21:58:50.463Z"
   },
   {
    "duration": 11,
    "start_time": "2024-07-28T21:58:50.679Z"
   },
   {
    "duration": 3,
    "start_time": "2024-07-28T21:58:50.694Z"
   },
   {
    "duration": 306,
    "start_time": "2024-07-29T06:00:50.968Z"
   },
   {
    "duration": 21,
    "start_time": "2024-07-29T06:00:53.803Z"
   },
   {
    "duration": 4840,
    "start_time": "2024-07-29T06:01:01.377Z"
   },
   {
    "duration": 361,
    "start_time": "2024-07-29T06:01:06.221Z"
   },
   {
    "duration": 17,
    "start_time": "2024-07-29T06:01:06.585Z"
   },
   {
    "duration": 28,
    "start_time": "2024-07-29T06:01:06.606Z"
   },
   {
    "duration": 6,
    "start_time": "2024-07-29T06:01:06.637Z"
   },
   {
    "duration": 8,
    "start_time": "2024-07-29T06:01:06.646Z"
   },
   {
    "duration": 5,
    "start_time": "2024-07-29T06:01:06.657Z"
   },
   {
    "duration": 16,
    "start_time": "2024-07-29T06:01:06.665Z"
   },
   {
    "duration": 60,
    "start_time": "2024-07-29T06:01:06.684Z"
   },
   {
    "duration": 9,
    "start_time": "2024-07-29T06:01:06.752Z"
   },
   {
    "duration": 5,
    "start_time": "2024-07-29T06:01:06.763Z"
   },
   {
    "duration": 8,
    "start_time": "2024-07-29T06:01:06.772Z"
   },
   {
    "duration": 50,
    "start_time": "2024-07-29T06:01:06.783Z"
   },
   {
    "duration": 5,
    "start_time": "2024-07-29T06:01:06.835Z"
   },
   {
    "duration": 8,
    "start_time": "2024-07-29T06:01:06.844Z"
   },
   {
    "duration": 26,
    "start_time": "2024-07-29T06:01:06.855Z"
   },
   {
    "duration": 11,
    "start_time": "2024-07-29T06:01:06.884Z"
   },
   {
    "duration": 52,
    "start_time": "2024-07-29T06:01:06.935Z"
   },
   {
    "duration": 53,
    "start_time": "2024-07-29T06:01:06.991Z"
   },
   {
    "duration": 17,
    "start_time": "2024-07-29T06:01:07.046Z"
   },
   {
    "duration": 12,
    "start_time": "2024-07-29T06:01:07.066Z"
   },
   {
    "duration": 4,
    "start_time": "2024-07-29T06:01:07.082Z"
   },
   {
    "duration": 45,
    "start_time": "2024-07-29T06:01:07.090Z"
   },
   {
    "duration": 26,
    "start_time": "2024-07-29T06:01:07.138Z"
   },
   {
    "duration": 11,
    "start_time": "2024-07-29T06:01:07.168Z"
   },
   {
    "duration": 54,
    "start_time": "2024-07-29T06:01:07.184Z"
   },
   {
    "duration": 10,
    "start_time": "2024-07-29T06:01:07.241Z"
   },
   {
    "duration": 23,
    "start_time": "2024-07-29T06:01:07.259Z"
   },
   {
    "duration": 11,
    "start_time": "2024-07-29T06:01:07.285Z"
   },
   {
    "duration": 10,
    "start_time": "2024-07-29T06:01:07.333Z"
   },
   {
    "duration": 21,
    "start_time": "2024-07-29T06:01:07.346Z"
   },
   {
    "duration": 11,
    "start_time": "2024-07-29T06:01:07.370Z"
   },
   {
    "duration": 49,
    "start_time": "2024-07-29T06:01:07.384Z"
   },
   {
    "duration": 21,
    "start_time": "2024-07-29T06:01:07.436Z"
   },
   {
    "duration": 23,
    "start_time": "2024-07-29T06:01:07.459Z"
   },
   {
    "duration": 54,
    "start_time": "2024-07-29T06:01:07.485Z"
   },
   {
    "duration": 22,
    "start_time": "2024-07-29T06:01:07.542Z"
   },
   {
    "duration": 30,
    "start_time": "2024-07-29T06:01:07.567Z"
   },
   {
    "duration": 39,
    "start_time": "2024-07-29T06:01:07.600Z"
   },
   {
    "duration": 10,
    "start_time": "2024-07-29T06:01:07.642Z"
   },
   {
    "duration": 7,
    "start_time": "2024-07-29T06:01:07.654Z"
   },
   {
    "duration": 20,
    "start_time": "2024-07-29T06:01:07.664Z"
   },
   {
    "duration": 56,
    "start_time": "2024-07-29T06:01:07.687Z"
   },
   {
    "duration": 10,
    "start_time": "2024-07-29T06:01:07.746Z"
   },
   {
    "duration": 6,
    "start_time": "2024-07-29T06:01:07.759Z"
   },
   {
    "duration": 28,
    "start_time": "2024-07-29T06:01:07.769Z"
   },
   {
    "duration": 6,
    "start_time": "2024-07-29T06:01:07.834Z"
   },
   {
    "duration": 18,
    "start_time": "2024-07-29T06:01:07.843Z"
   },
   {
    "duration": 526,
    "start_time": "2024-07-29T06:01:07.863Z"
   },
   {
    "duration": 402,
    "start_time": "2024-07-29T06:01:08.393Z"
   },
   {
    "duration": 16,
    "start_time": "2024-07-29T06:01:08.798Z"
   },
   {
    "duration": 270,
    "start_time": "2024-07-29T06:01:08.817Z"
   },
   {
    "duration": 21,
    "start_time": "2024-07-29T06:01:09.090Z"
   },
   {
    "duration": 508,
    "start_time": "2024-07-29T06:01:09.113Z"
   },
   {
    "duration": 432,
    "start_time": "2024-07-29T06:01:09.624Z"
   },
   {
    "duration": 15,
    "start_time": "2024-07-29T06:01:10.060Z"
   },
   {
    "duration": 221,
    "start_time": "2024-07-29T06:01:10.078Z"
   },
   {
    "duration": 31,
    "start_time": "2024-07-29T06:01:10.303Z"
   },
   {
    "duration": 518,
    "start_time": "2024-07-29T06:01:10.337Z"
   },
   {
    "duration": 415,
    "start_time": "2024-07-29T06:01:10.857Z"
   },
   {
    "duration": 15,
    "start_time": "2024-07-29T06:01:11.275Z"
   },
   {
    "duration": 217,
    "start_time": "2024-07-29T06:01:11.293Z"
   },
   {
    "duration": 25,
    "start_time": "2024-07-29T06:01:11.513Z"
   },
   {
    "duration": 517,
    "start_time": "2024-07-29T06:01:11.543Z"
   },
   {
    "duration": 424,
    "start_time": "2024-07-29T06:01:12.063Z"
   },
   {
    "duration": 14,
    "start_time": "2024-07-29T06:01:12.493Z"
   },
   {
    "duration": 208,
    "start_time": "2024-07-29T06:01:12.510Z"
   },
   {
    "duration": 15,
    "start_time": "2024-07-29T06:01:12.721Z"
   },
   {
    "duration": 3,
    "start_time": "2024-07-29T06:01:12.740Z"
   },
   {
    "duration": 8,
    "start_time": "2024-07-29T06:02:15.318Z"
   },
   {
    "duration": 24,
    "start_time": "2024-07-29T06:02:22.949Z"
   },
   {
    "duration": 6,
    "start_time": "2024-07-29T06:03:36.653Z"
   },
   {
    "duration": 24,
    "start_time": "2024-07-29T06:03:48.804Z"
   },
   {
    "duration": 9,
    "start_time": "2024-07-29T06:07:08.656Z"
   },
   {
    "duration": 7,
    "start_time": "2024-07-29T06:07:10.371Z"
   },
   {
    "duration": 42,
    "start_time": "2024-07-29T06:07:12.346Z"
   },
   {
    "duration": 39,
    "start_time": "2024-07-29T06:08:11.725Z"
   },
   {
    "duration": 19,
    "start_time": "2024-07-29T06:08:44.295Z"
   },
   {
    "duration": 1314,
    "start_time": "2024-07-29T06:10:45.669Z"
   },
   {
    "duration": 342,
    "start_time": "2024-07-29T06:10:46.986Z"
   },
   {
    "duration": 24,
    "start_time": "2024-07-29T06:10:47.333Z"
   },
   {
    "duration": 18,
    "start_time": "2024-07-29T06:10:47.362Z"
   },
   {
    "duration": 5,
    "start_time": "2024-07-29T06:10:47.383Z"
   },
   {
    "duration": 41,
    "start_time": "2024-07-29T06:10:47.392Z"
   },
   {
    "duration": 5,
    "start_time": "2024-07-29T06:10:47.437Z"
   },
   {
    "duration": 17,
    "start_time": "2024-07-29T06:10:47.446Z"
   },
   {
    "duration": 19,
    "start_time": "2024-07-29T06:10:47.466Z"
   },
   {
    "duration": 47,
    "start_time": "2024-07-29T06:10:47.493Z"
   },
   {
    "duration": 7,
    "start_time": "2024-07-29T06:10:47.543Z"
   },
   {
    "duration": 11,
    "start_time": "2024-07-29T06:10:47.552Z"
   },
   {
    "duration": 6,
    "start_time": "2024-07-29T06:10:47.571Z"
   },
   {
    "duration": 5,
    "start_time": "2024-07-29T06:10:47.580Z"
   },
   {
    "duration": 48,
    "start_time": "2024-07-29T06:10:47.588Z"
   },
   {
    "duration": 30,
    "start_time": "2024-07-29T06:10:47.640Z"
   },
   {
    "duration": 11,
    "start_time": "2024-07-29T06:10:47.674Z"
   },
   {
    "duration": 91,
    "start_time": "2024-07-29T06:10:47.688Z"
   },
   {
    "duration": 30,
    "start_time": "2024-07-29T06:10:47.782Z"
   },
   {
    "duration": 14,
    "start_time": "2024-07-29T06:10:47.834Z"
   },
   {
    "duration": 13,
    "start_time": "2024-07-29T06:10:47.851Z"
   },
   {
    "duration": 5,
    "start_time": "2024-07-29T06:10:47.868Z"
   },
   {
    "duration": 12,
    "start_time": "2024-07-29T06:10:47.877Z"
   },
   {
    "duration": 58,
    "start_time": "2024-07-29T06:10:47.892Z"
   },
   {
    "duration": 9,
    "start_time": "2024-07-29T06:10:47.953Z"
   },
   {
    "duration": 16,
    "start_time": "2024-07-29T06:10:47.966Z"
   },
   {
    "duration": 52,
    "start_time": "2024-07-29T06:10:47.986Z"
   },
   {
    "duration": 26,
    "start_time": "2024-07-29T06:10:48.050Z"
   },
   {
    "duration": 12,
    "start_time": "2024-07-29T06:10:48.080Z"
   },
   {
    "duration": 37,
    "start_time": "2024-07-29T06:10:48.096Z"
   },
   {
    "duration": 28,
    "start_time": "2024-07-29T06:10:48.136Z"
   },
   {
    "duration": 13,
    "start_time": "2024-07-29T06:10:48.168Z"
   },
   {
    "duration": 14,
    "start_time": "2024-07-29T06:10:48.184Z"
   },
   {
    "duration": 30,
    "start_time": "2024-07-29T06:10:48.233Z"
   },
   {
    "duration": 30,
    "start_time": "2024-07-29T06:10:48.266Z"
   },
   {
    "duration": 46,
    "start_time": "2024-07-29T06:10:48.300Z"
   },
   {
    "duration": 33,
    "start_time": "2024-07-29T06:10:48.352Z"
   },
   {
    "duration": 61,
    "start_time": "2024-07-29T06:10:48.389Z"
   },
   {
    "duration": 10,
    "start_time": "2024-07-29T06:10:48.453Z"
   },
   {
    "duration": 9,
    "start_time": "2024-07-29T06:10:48.466Z"
   },
   {
    "duration": 7,
    "start_time": "2024-07-29T06:10:48.478Z"
   },
   {
    "duration": 53,
    "start_time": "2024-07-29T06:10:48.489Z"
   },
   {
    "duration": 9,
    "start_time": "2024-07-29T06:10:48.545Z"
   },
   {
    "duration": 8,
    "start_time": "2024-07-29T06:10:48.557Z"
   },
   {
    "duration": 79,
    "start_time": "2024-07-29T06:10:48.568Z"
   },
   {
    "duration": 478,
    "start_time": "2024-07-29T06:10:48.650Z"
   },
   {
    "duration": 0,
    "start_time": "2024-07-29T06:10:49.133Z"
   },
   {
    "duration": 0,
    "start_time": "2024-07-29T06:10:49.135Z"
   },
   {
    "duration": 0,
    "start_time": "2024-07-29T06:10:49.137Z"
   },
   {
    "duration": 0,
    "start_time": "2024-07-29T06:10:49.139Z"
   },
   {
    "duration": 0,
    "start_time": "2024-07-29T06:10:49.142Z"
   },
   {
    "duration": 0,
    "start_time": "2024-07-29T06:10:49.144Z"
   },
   {
    "duration": 0,
    "start_time": "2024-07-29T06:10:49.146Z"
   },
   {
    "duration": 0,
    "start_time": "2024-07-29T06:10:49.148Z"
   },
   {
    "duration": 0,
    "start_time": "2024-07-29T06:10:49.150Z"
   },
   {
    "duration": 0,
    "start_time": "2024-07-29T06:10:49.152Z"
   },
   {
    "duration": 0,
    "start_time": "2024-07-29T06:10:49.155Z"
   },
   {
    "duration": 0,
    "start_time": "2024-07-29T06:10:49.157Z"
   },
   {
    "duration": 0,
    "start_time": "2024-07-29T06:10:49.159Z"
   },
   {
    "duration": 0,
    "start_time": "2024-07-29T06:10:49.161Z"
   },
   {
    "duration": 0,
    "start_time": "2024-07-29T06:10:49.162Z"
   },
   {
    "duration": 0,
    "start_time": "2024-07-29T06:10:49.165Z"
   },
   {
    "duration": 0,
    "start_time": "2024-07-29T06:10:49.167Z"
   },
   {
    "duration": 0,
    "start_time": "2024-07-29T06:10:49.169Z"
   },
   {
    "duration": 0,
    "start_time": "2024-07-29T06:10:49.171Z"
   },
   {
    "duration": 0,
    "start_time": "2024-07-29T06:10:49.172Z"
   },
   {
    "duration": 0,
    "start_time": "2024-07-29T06:10:49.173Z"
   },
   {
    "duration": 0,
    "start_time": "2024-07-29T06:10:49.175Z"
   },
   {
    "duration": 0,
    "start_time": "2024-07-29T06:10:49.233Z"
   },
   {
    "duration": 36,
    "start_time": "2024-07-29T06:11:20.190Z"
   },
   {
    "duration": 17,
    "start_time": "2024-07-29T06:11:38.236Z"
   },
   {
    "duration": 37,
    "start_time": "2024-07-29T06:17:06.516Z"
   },
   {
    "duration": 9,
    "start_time": "2024-07-29T06:17:13.302Z"
   },
   {
    "duration": 1306,
    "start_time": "2024-07-29T06:19:28.241Z"
   },
   {
    "duration": 272,
    "start_time": "2024-07-29T06:19:29.551Z"
   },
   {
    "duration": 16,
    "start_time": "2024-07-29T06:19:29.826Z"
   },
   {
    "duration": 17,
    "start_time": "2024-07-29T06:19:29.845Z"
   },
   {
    "duration": 5,
    "start_time": "2024-07-29T06:19:29.866Z"
   },
   {
    "duration": 6,
    "start_time": "2024-07-29T06:19:29.875Z"
   },
   {
    "duration": 6,
    "start_time": "2024-07-29T06:19:29.884Z"
   },
   {
    "duration": 15,
    "start_time": "2024-07-29T06:19:29.933Z"
   },
   {
    "duration": 13,
    "start_time": "2024-07-29T06:19:29.951Z"
   },
   {
    "duration": 9,
    "start_time": "2024-07-29T06:19:29.968Z"
   },
   {
    "duration": 6,
    "start_time": "2024-07-29T06:19:29.979Z"
   },
   {
    "duration": 8,
    "start_time": "2024-07-29T06:19:30.032Z"
   },
   {
    "duration": 6,
    "start_time": "2024-07-29T06:19:30.043Z"
   },
   {
    "duration": 5,
    "start_time": "2024-07-29T06:19:30.056Z"
   },
   {
    "duration": 5,
    "start_time": "2024-07-29T06:19:30.065Z"
   },
   {
    "duration": 67,
    "start_time": "2024-07-29T06:19:30.074Z"
   },
   {
    "duration": 10,
    "start_time": "2024-07-29T06:19:30.145Z"
   },
   {
    "duration": 79,
    "start_time": "2024-07-29T06:19:30.158Z"
   },
   {
    "duration": 29,
    "start_time": "2024-07-29T06:19:30.239Z"
   },
   {
    "duration": 13,
    "start_time": "2024-07-29T06:19:30.271Z"
   },
   {
    "duration": 46,
    "start_time": "2024-07-29T06:19:30.286Z"
   },
   {
    "duration": 4,
    "start_time": "2024-07-29T06:19:30.335Z"
   },
   {
    "duration": 12,
    "start_time": "2024-07-29T06:19:30.342Z"
   },
   {
    "duration": 21,
    "start_time": "2024-07-29T06:19:30.357Z"
   },
   {
    "duration": 11,
    "start_time": "2024-07-29T06:19:30.381Z"
   },
   {
    "duration": 19,
    "start_time": "2024-07-29T06:19:30.435Z"
   },
   {
    "duration": 10,
    "start_time": "2024-07-29T06:19:30.456Z"
   },
   {
    "duration": 24,
    "start_time": "2024-07-29T06:19:30.469Z"
   },
   {
    "duration": 10,
    "start_time": "2024-07-29T06:19:30.533Z"
   },
   {
    "duration": 12,
    "start_time": "2024-07-29T06:19:30.546Z"
   },
   {
    "duration": 21,
    "start_time": "2024-07-29T06:19:30.561Z"
   },
   {
    "duration": 48,
    "start_time": "2024-07-29T06:19:30.585Z"
   },
   {
    "duration": 13,
    "start_time": "2024-07-29T06:19:30.636Z"
   },
   {
    "duration": 23,
    "start_time": "2024-07-29T06:19:30.652Z"
   },
   {
    "duration": 58,
    "start_time": "2024-07-29T06:19:30.678Z"
   },
   {
    "duration": 19,
    "start_time": "2024-07-29T06:19:30.739Z"
   },
   {
    "duration": 21,
    "start_time": "2024-07-29T06:19:30.761Z"
   },
   {
    "duration": 62,
    "start_time": "2024-07-29T06:19:30.785Z"
   },
   {
    "duration": 15,
    "start_time": "2024-07-29T06:19:30.850Z"
   },
   {
    "duration": 10,
    "start_time": "2024-07-29T06:19:30.868Z"
   },
   {
    "duration": 7,
    "start_time": "2024-07-29T06:19:30.886Z"
   },
   {
    "duration": 52,
    "start_time": "2024-07-29T06:19:30.896Z"
   },
   {
    "duration": 10,
    "start_time": "2024-07-29T06:19:30.951Z"
   },
   {
    "duration": 8,
    "start_time": "2024-07-29T06:19:30.963Z"
   },
   {
    "duration": 87,
    "start_time": "2024-07-29T06:19:30.974Z"
   },
   {
    "duration": 40,
    "start_time": "2024-07-29T06:19:31.064Z"
   },
   {
    "duration": 27,
    "start_time": "2024-07-29T06:19:31.107Z"
   },
   {
    "duration": 19,
    "start_time": "2024-07-29T06:19:31.137Z"
   },
   {
    "duration": 4020,
    "start_time": "2024-07-29T06:19:31.158Z"
   },
   {
    "duration": 440,
    "start_time": "2024-07-29T06:19:35.181Z"
   },
   {
    "duration": 17,
    "start_time": "2024-07-29T06:19:35.625Z"
   },
   {
    "duration": 197,
    "start_time": "2024-07-29T06:19:35.645Z"
   },
   {
    "duration": 17,
    "start_time": "2024-07-29T06:19:35.845Z"
   },
   {
    "duration": 4764,
    "start_time": "2024-07-29T06:19:35.865Z"
   },
   {
    "duration": 468,
    "start_time": "2024-07-29T06:19:40.634Z"
   },
   {
    "duration": 14,
    "start_time": "2024-07-29T06:19:41.105Z"
   },
   {
    "duration": 224,
    "start_time": "2024-07-29T06:19:41.133Z"
   },
   {
    "duration": 20,
    "start_time": "2024-07-29T06:19:41.361Z"
   },
   {
    "duration": 4753,
    "start_time": "2024-07-29T06:19:41.384Z"
   },
   {
    "duration": 452,
    "start_time": "2024-07-29T06:19:46.140Z"
   },
   {
    "duration": 18,
    "start_time": "2024-07-29T06:19:46.595Z"
   },
   {
    "duration": 177,
    "start_time": "2024-07-29T06:19:46.632Z"
   },
   {
    "duration": 26,
    "start_time": "2024-07-29T06:19:46.812Z"
   },
   {
    "duration": 4509,
    "start_time": "2024-07-29T06:19:46.841Z"
   },
   {
    "duration": 465,
    "start_time": "2024-07-29T06:19:51.354Z"
   },
   {
    "duration": 27,
    "start_time": "2024-07-29T06:19:51.822Z"
   },
   {
    "duration": 207,
    "start_time": "2024-07-29T06:19:51.852Z"
   },
   {
    "duration": 7,
    "start_time": "2024-07-29T06:19:52.064Z"
   },
   {
    "duration": 3,
    "start_time": "2024-07-29T06:19:52.074Z"
   },
   {
    "duration": 1426,
    "start_time": "2024-07-29T06:26:31.006Z"
   },
   {
    "duration": 9,
    "start_time": "2024-07-29T06:28:36.998Z"
   },
   {
    "duration": 117,
    "start_time": "2024-07-29T06:28:46.285Z"
   },
   {
    "duration": 3990,
    "start_time": "2024-07-29T06:29:03.231Z"
   },
   {
    "duration": 18,
    "start_time": "2024-07-29T06:29:31.882Z"
   },
   {
    "duration": 4041,
    "start_time": "2024-07-29T06:29:34.194Z"
   },
   {
    "duration": 24,
    "start_time": "2024-07-29T06:29:55.663Z"
   },
   {
    "duration": 26,
    "start_time": "2024-07-29T06:31:14.620Z"
   },
   {
    "duration": 37,
    "start_time": "2024-07-29T06:34:05.828Z"
   },
   {
    "duration": 37,
    "start_time": "2024-07-29T06:34:12.596Z"
   },
   {
    "duration": 33,
    "start_time": "2024-07-29T06:34:42.599Z"
   },
   {
    "duration": 1275,
    "start_time": "2024-07-29T06:35:19.970Z"
   },
   {
    "duration": 292,
    "start_time": "2024-07-29T06:35:21.248Z"
   },
   {
    "duration": 16,
    "start_time": "2024-07-29T06:35:21.543Z"
   },
   {
    "duration": 16,
    "start_time": "2024-07-29T06:35:21.563Z"
   },
   {
    "duration": 6,
    "start_time": "2024-07-29T06:35:21.582Z"
   },
   {
    "duration": 44,
    "start_time": "2024-07-29T06:35:21.592Z"
   },
   {
    "duration": 6,
    "start_time": "2024-07-29T06:35:21.639Z"
   },
   {
    "duration": 14,
    "start_time": "2024-07-29T06:35:21.648Z"
   },
   {
    "duration": 15,
    "start_time": "2024-07-29T06:35:21.665Z"
   },
   {
    "duration": 53,
    "start_time": "2024-07-29T06:35:21.686Z"
   },
   {
    "duration": 6,
    "start_time": "2024-07-29T06:35:21.741Z"
   },
   {
    "duration": 8,
    "start_time": "2024-07-29T06:35:21.750Z"
   },
   {
    "duration": 5,
    "start_time": "2024-07-29T06:35:21.761Z"
   },
   {
    "duration": 5,
    "start_time": "2024-07-29T06:35:21.769Z"
   },
   {
    "duration": 7,
    "start_time": "2024-07-29T06:35:21.776Z"
   },
   {
    "duration": 79,
    "start_time": "2024-07-29T06:35:21.785Z"
   },
   {
    "duration": 10,
    "start_time": "2024-07-29T06:35:21.867Z"
   },
   {
    "duration": 91,
    "start_time": "2024-07-29T06:35:21.880Z"
   },
   {
    "duration": 31,
    "start_time": "2024-07-29T06:35:21.974Z"
   },
   {
    "duration": 31,
    "start_time": "2024-07-29T06:35:22.009Z"
   },
   {
    "duration": 13,
    "start_time": "2024-07-29T06:35:22.045Z"
   },
   {
    "duration": 4,
    "start_time": "2024-07-29T06:35:22.061Z"
   },
   {
    "duration": 12,
    "start_time": "2024-07-29T06:35:22.068Z"
   },
   {
    "duration": 57,
    "start_time": "2024-07-29T06:35:22.083Z"
   },
   {
    "duration": 13,
    "start_time": "2024-07-29T06:35:22.143Z"
   },
   {
    "duration": 17,
    "start_time": "2024-07-29T06:35:22.159Z"
   },
   {
    "duration": 10,
    "start_time": "2024-07-29T06:35:22.178Z"
   },
   {
    "duration": 24,
    "start_time": "2024-07-29T06:35:22.233Z"
   },
   {
    "duration": 12,
    "start_time": "2024-07-29T06:35:22.259Z"
   },
   {
    "duration": 10,
    "start_time": "2024-07-29T06:35:22.274Z"
   },
   {
    "duration": 53,
    "start_time": "2024-07-29T06:35:22.286Z"
   },
   {
    "duration": 11,
    "start_time": "2024-07-29T06:35:22.342Z"
   },
   {
    "duration": 13,
    "start_time": "2024-07-29T06:35:22.356Z"
   },
   {
    "duration": 21,
    "start_time": "2024-07-29T06:35:22.372Z"
   },
   {
    "duration": 24,
    "start_time": "2024-07-29T06:35:22.432Z"
   },
   {
    "duration": 18,
    "start_time": "2024-07-29T06:35:22.459Z"
   },
   {
    "duration": 60,
    "start_time": "2024-07-29T06:35:22.480Z"
   },
   {
    "duration": 30,
    "start_time": "2024-07-29T06:35:22.543Z"
   },
   {
    "duration": 11,
    "start_time": "2024-07-29T06:35:22.576Z"
   },
   {
    "duration": 43,
    "start_time": "2024-07-29T06:35:22.592Z"
   },
   {
    "duration": 8,
    "start_time": "2024-07-29T06:35:22.638Z"
   },
   {
    "duration": 22,
    "start_time": "2024-07-29T06:35:22.649Z"
   },
   {
    "duration": 9,
    "start_time": "2024-07-29T06:35:22.674Z"
   },
   {
    "duration": 47,
    "start_time": "2024-07-29T06:35:22.686Z"
   },
   {
    "duration": 47,
    "start_time": "2024-07-29T06:35:22.736Z"
   },
   {
    "duration": 60,
    "start_time": "2024-07-29T06:35:22.786Z"
   },
   {
    "duration": 25,
    "start_time": "2024-07-29T06:35:22.848Z"
   },
   {
    "duration": 3928,
    "start_time": "2024-07-29T06:35:22.876Z"
   },
   {
    "duration": 448,
    "start_time": "2024-07-29T06:35:26.807Z"
   },
   {
    "duration": 16,
    "start_time": "2024-07-29T06:35:27.257Z"
   },
   {
    "duration": 203,
    "start_time": "2024-07-29T06:35:27.276Z"
   },
   {
    "duration": 17,
    "start_time": "2024-07-29T06:35:27.482Z"
   },
   {
    "duration": 4802,
    "start_time": "2024-07-29T06:35:27.501Z"
   },
   {
    "duration": 451,
    "start_time": "2024-07-29T06:35:32.306Z"
   },
   {
    "duration": 15,
    "start_time": "2024-07-29T06:35:32.760Z"
   },
   {
    "duration": 217,
    "start_time": "2024-07-29T06:35:32.779Z"
   },
   {
    "duration": 16,
    "start_time": "2024-07-29T06:35:33.000Z"
   },
   {
    "duration": 4726,
    "start_time": "2024-07-29T06:35:33.033Z"
   },
   {
    "duration": 425,
    "start_time": "2024-07-29T06:35:37.762Z"
   },
   {
    "duration": 14,
    "start_time": "2024-07-29T06:35:38.191Z"
   },
   {
    "duration": 191,
    "start_time": "2024-07-29T06:35:38.208Z"
   },
   {
    "duration": 30,
    "start_time": "2024-07-29T06:35:38.402Z"
   },
   {
    "duration": 4561,
    "start_time": "2024-07-29T06:35:38.435Z"
   },
   {
    "duration": 443,
    "start_time": "2024-07-29T06:35:42.999Z"
   },
   {
    "duration": 15,
    "start_time": "2024-07-29T06:35:43.445Z"
   },
   {
    "duration": 211,
    "start_time": "2024-07-29T06:35:43.463Z"
   },
   {
    "duration": 7,
    "start_time": "2024-07-29T06:35:43.677Z"
   },
   {
    "duration": 4,
    "start_time": "2024-07-29T06:35:43.687Z"
   },
   {
    "duration": 20,
    "start_time": "2024-07-29T06:35:55.055Z"
   },
   {
    "duration": 10,
    "start_time": "2024-07-29T06:37:48.365Z"
   },
   {
    "duration": 1897,
    "start_time": "2024-07-29T06:38:01.199Z"
   },
   {
    "duration": 26,
    "start_time": "2024-07-29T06:38:23.773Z"
   },
   {
    "duration": 16,
    "start_time": "2024-07-29T06:38:38.685Z"
   },
   {
    "duration": 16,
    "start_time": "2024-07-29T06:40:29.828Z"
   },
   {
    "duration": 40,
    "start_time": "2024-07-29T06:40:45.724Z"
   },
   {
    "duration": 16,
    "start_time": "2024-07-29T06:42:02.017Z"
   },
   {
    "duration": 1284,
    "start_time": "2024-07-29T06:42:24.075Z"
   },
   {
    "duration": 276,
    "start_time": "2024-07-29T06:42:25.362Z"
   },
   {
    "duration": 16,
    "start_time": "2024-07-29T06:42:25.641Z"
   },
   {
    "duration": 17,
    "start_time": "2024-07-29T06:42:25.662Z"
   },
   {
    "duration": 5,
    "start_time": "2024-07-29T06:42:25.682Z"
   },
   {
    "duration": 43,
    "start_time": "2024-07-29T06:42:25.690Z"
   },
   {
    "duration": 5,
    "start_time": "2024-07-29T06:42:25.736Z"
   },
   {
    "duration": 15,
    "start_time": "2024-07-29T06:42:25.744Z"
   },
   {
    "duration": 14,
    "start_time": "2024-07-29T06:42:25.762Z"
   },
   {
    "duration": 52,
    "start_time": "2024-07-29T06:42:25.781Z"
   },
   {
    "duration": 5,
    "start_time": "2024-07-29T06:42:25.836Z"
   },
   {
    "duration": 10,
    "start_time": "2024-07-29T06:42:25.845Z"
   },
   {
    "duration": 6,
    "start_time": "2024-07-29T06:42:25.858Z"
   },
   {
    "duration": 5,
    "start_time": "2024-07-29T06:42:25.867Z"
   },
   {
    "duration": 6,
    "start_time": "2024-07-29T06:42:25.875Z"
   },
   {
    "duration": 25,
    "start_time": "2024-07-29T06:42:25.933Z"
   },
   {
    "duration": 11,
    "start_time": "2024-07-29T06:42:25.961Z"
   },
   {
    "duration": 86,
    "start_time": "2024-07-29T06:42:25.976Z"
   },
   {
    "duration": 27,
    "start_time": "2024-07-29T06:42:26.064Z"
   },
   {
    "duration": 14,
    "start_time": "2024-07-29T06:42:26.093Z"
   },
   {
    "duration": 12,
    "start_time": "2024-07-29T06:42:26.132Z"
   },
   {
    "duration": 6,
    "start_time": "2024-07-29T06:42:26.147Z"
   },
   {
    "duration": 14,
    "start_time": "2024-07-29T06:42:26.155Z"
   },
   {
    "duration": 20,
    "start_time": "2024-07-29T06:42:26.172Z"
   },
   {
    "duration": 9,
    "start_time": "2024-07-29T06:42:26.233Z"
   },
   {
    "duration": 18,
    "start_time": "2024-07-29T06:42:26.245Z"
   },
   {
    "duration": 10,
    "start_time": "2024-07-29T06:42:26.266Z"
   },
   {
    "duration": 59,
    "start_time": "2024-07-29T06:42:26.284Z"
   },
   {
    "duration": 12,
    "start_time": "2024-07-29T06:42:26.346Z"
   },
   {
    "duration": 13,
    "start_time": "2024-07-29T06:42:26.362Z"
   },
   {
    "duration": 57,
    "start_time": "2024-07-29T06:42:26.379Z"
   },
   {
    "duration": 11,
    "start_time": "2024-07-29T06:42:26.439Z"
   },
   {
    "duration": 14,
    "start_time": "2024-07-29T06:42:26.452Z"
   },
   {
    "duration": 22,
    "start_time": "2024-07-29T06:42:26.469Z"
   },
   {
    "duration": 57,
    "start_time": "2024-07-29T06:42:26.494Z"
   },
   {
    "duration": 21,
    "start_time": "2024-07-29T06:42:26.554Z"
   },
   {
    "duration": 55,
    "start_time": "2024-07-29T06:42:26.578Z"
   },
   {
    "duration": 30,
    "start_time": "2024-07-29T06:42:26.635Z"
   },
   {
    "duration": 11,
    "start_time": "2024-07-29T06:42:26.668Z"
   },
   {
    "duration": 11,
    "start_time": "2024-07-29T06:42:26.681Z"
   },
   {
    "duration": 43,
    "start_time": "2024-07-29T06:42:26.695Z"
   },
   {
    "duration": 20,
    "start_time": "2024-07-29T06:42:26.741Z"
   },
   {
    "duration": 10,
    "start_time": "2024-07-29T06:42:26.764Z"
   },
   {
    "duration": 10,
    "start_time": "2024-07-29T06:42:26.777Z"
   },
   {
    "duration": 95,
    "start_time": "2024-07-29T06:42:26.790Z"
   },
   {
    "duration": 18,
    "start_time": "2024-07-29T06:42:26.888Z"
   },
   {
    "duration": 47,
    "start_time": "2024-07-29T06:42:26.909Z"
   },
   {
    "duration": 3919,
    "start_time": "2024-07-29T06:42:26.959Z"
   },
   {
    "duration": 425,
    "start_time": "2024-07-29T06:42:30.881Z"
   },
   {
    "duration": 30,
    "start_time": "2024-07-29T06:42:31.309Z"
   },
   {
    "duration": 208,
    "start_time": "2024-07-29T06:42:31.341Z"
   },
   {
    "duration": 19,
    "start_time": "2024-07-29T06:42:31.553Z"
   },
   {
    "duration": 4756,
    "start_time": "2024-07-29T06:42:31.575Z"
   },
   {
    "duration": 461,
    "start_time": "2024-07-29T06:42:36.334Z"
   },
   {
    "duration": 15,
    "start_time": "2024-07-29T06:42:36.799Z"
   },
   {
    "duration": 216,
    "start_time": "2024-07-29T06:42:36.833Z"
   },
   {
    "duration": 18,
    "start_time": "2024-07-29T06:42:37.052Z"
   },
   {
    "duration": 5022,
    "start_time": "2024-07-29T06:42:37.072Z"
   },
   {
    "duration": 414,
    "start_time": "2024-07-29T06:42:42.097Z"
   },
   {
    "duration": 23,
    "start_time": "2024-07-29T06:42:42.514Z"
   },
   {
    "duration": 188,
    "start_time": "2024-07-29T06:42:42.540Z"
   },
   {
    "duration": 17,
    "start_time": "2024-07-29T06:42:42.733Z"
   },
   {
    "duration": 4539,
    "start_time": "2024-07-29T06:42:42.753Z"
   },
   {
    "duration": 437,
    "start_time": "2024-07-29T06:42:47.295Z"
   },
   {
    "duration": 15,
    "start_time": "2024-07-29T06:42:47.735Z"
   },
   {
    "duration": 212,
    "start_time": "2024-07-29T06:42:47.753Z"
   },
   {
    "duration": 7,
    "start_time": "2024-07-29T06:42:47.968Z"
   },
   {
    "duration": 10,
    "start_time": "2024-07-29T06:42:47.978Z"
   },
   {
    "duration": 41,
    "start_time": "2024-07-29T06:43:34.750Z"
   },
   {
    "duration": 16,
    "start_time": "2024-07-29T06:47:25.263Z"
   },
   {
    "duration": 25,
    "start_time": "2024-07-29T06:47:33.479Z"
   },
   {
    "duration": 4034,
    "start_time": "2024-07-29T06:47:39.314Z"
   },
   {
    "duration": 1291,
    "start_time": "2024-07-29T06:47:57.158Z"
   },
   {
    "duration": 275,
    "start_time": "2024-07-29T06:47:58.452Z"
   },
   {
    "duration": 17,
    "start_time": "2024-07-29T06:47:58.729Z"
   },
   {
    "duration": 17,
    "start_time": "2024-07-29T06:47:58.751Z"
   },
   {
    "duration": 6,
    "start_time": "2024-07-29T06:47:58.770Z"
   },
   {
    "duration": 7,
    "start_time": "2024-07-29T06:47:58.779Z"
   },
   {
    "duration": 43,
    "start_time": "2024-07-29T06:47:58.792Z"
   },
   {
    "duration": 15,
    "start_time": "2024-07-29T06:47:58.838Z"
   },
   {
    "duration": 14,
    "start_time": "2024-07-29T06:47:58.856Z"
   },
   {
    "duration": 9,
    "start_time": "2024-07-29T06:47:58.876Z"
   },
   {
    "duration": 5,
    "start_time": "2024-07-29T06:47:58.932Z"
   },
   {
    "duration": 10,
    "start_time": "2024-07-29T06:47:58.940Z"
   },
   {
    "duration": 5,
    "start_time": "2024-07-29T06:47:58.954Z"
   },
   {
    "duration": 5,
    "start_time": "2024-07-29T06:47:58.962Z"
   },
   {
    "duration": 6,
    "start_time": "2024-07-29T06:47:58.971Z"
   },
   {
    "duration": 70,
    "start_time": "2024-07-29T06:47:58.979Z"
   },
   {
    "duration": 11,
    "start_time": "2024-07-29T06:47:59.052Z"
   },
   {
    "duration": 89,
    "start_time": "2024-07-29T06:47:59.066Z"
   },
   {
    "duration": 30,
    "start_time": "2024-07-29T06:47:59.158Z"
   },
   {
    "duration": 14,
    "start_time": "2024-07-29T06:47:59.192Z"
   },
   {
    "duration": 33,
    "start_time": "2024-07-29T06:47:59.209Z"
   },
   {
    "duration": 5,
    "start_time": "2024-07-29T06:47:59.244Z"
   },
   {
    "duration": 11,
    "start_time": "2024-07-29T06:47:59.252Z"
   },
   {
    "duration": 20,
    "start_time": "2024-07-29T06:47:59.266Z"
   },
   {
    "duration": 50,
    "start_time": "2024-07-29T06:47:59.289Z"
   },
   {
    "duration": 18,
    "start_time": "2024-07-29T06:47:59.343Z"
   },
   {
    "duration": 10,
    "start_time": "2024-07-29T06:47:59.363Z"
   },
   {
    "duration": 60,
    "start_time": "2024-07-29T06:47:59.382Z"
   },
   {
    "duration": 11,
    "start_time": "2024-07-29T06:47:59.444Z"
   },
   {
    "duration": 10,
    "start_time": "2024-07-29T06:47:59.458Z"
   },
   {
    "duration": 22,
    "start_time": "2024-07-29T06:47:59.470Z"
   },
   {
    "duration": 43,
    "start_time": "2024-07-29T06:47:59.494Z"
   },
   {
    "duration": 12,
    "start_time": "2024-07-29T06:47:59.540Z"
   },
   {
    "duration": 22,
    "start_time": "2024-07-29T06:47:59.556Z"
   },
   {
    "duration": 66,
    "start_time": "2024-07-29T06:47:59.581Z"
   },
   {
    "duration": 19,
    "start_time": "2024-07-29T06:47:59.650Z"
   },
   {
    "duration": 22,
    "start_time": "2024-07-29T06:47:59.672Z"
   },
   {
    "duration": 59,
    "start_time": "2024-07-29T06:47:59.697Z"
   },
   {
    "duration": 12,
    "start_time": "2024-07-29T06:47:59.759Z"
   },
   {
    "duration": 9,
    "start_time": "2024-07-29T06:47:59.773Z"
   },
   {
    "duration": 8,
    "start_time": "2024-07-29T06:47:59.784Z"
   },
   {
    "duration": 56,
    "start_time": "2024-07-29T06:47:59.795Z"
   },
   {
    "duration": 10,
    "start_time": "2024-07-29T06:47:59.854Z"
   },
   {
    "duration": 8,
    "start_time": "2024-07-29T06:47:59.866Z"
   },
   {
    "duration": 83,
    "start_time": "2024-07-29T06:47:59.878Z"
   },
   {
    "duration": 16,
    "start_time": "2024-07-29T06:47:59.964Z"
   },
   {
    "duration": 49,
    "start_time": "2024-07-29T06:47:59.983Z"
   },
   {
    "duration": 473,
    "start_time": "2024-07-29T06:48:00.035Z"
   },
   {
    "duration": 479,
    "start_time": "2024-07-29T06:48:00.511Z"
   },
   {
    "duration": 15,
    "start_time": "2024-07-29T06:48:00.994Z"
   },
   {
    "duration": 201,
    "start_time": "2024-07-29T06:48:01.012Z"
   },
   {
    "duration": 27,
    "start_time": "2024-07-29T06:48:01.216Z"
   },
   {
    "duration": 504,
    "start_time": "2024-07-29T06:48:01.246Z"
   },
   {
    "duration": 435,
    "start_time": "2024-07-29T06:48:01.754Z"
   },
   {
    "duration": 14,
    "start_time": "2024-07-29T06:48:02.192Z"
   },
   {
    "duration": 218,
    "start_time": "2024-07-29T06:48:02.209Z"
   },
   {
    "duration": 19,
    "start_time": "2024-07-29T06:48:02.434Z"
   },
   {
    "duration": 496,
    "start_time": "2024-07-29T06:48:02.456Z"
   },
   {
    "duration": 414,
    "start_time": "2024-07-29T06:48:02.955Z"
   },
   {
    "duration": 15,
    "start_time": "2024-07-29T06:48:03.372Z"
   },
   {
    "duration": 207,
    "start_time": "2024-07-29T06:48:03.390Z"
   },
   {
    "duration": 32,
    "start_time": "2024-07-29T06:48:03.600Z"
   },
   {
    "duration": 512,
    "start_time": "2024-07-29T06:48:03.635Z"
   },
   {
    "duration": 415,
    "start_time": "2024-07-29T06:48:04.150Z"
   },
   {
    "duration": 15,
    "start_time": "2024-07-29T06:48:04.568Z"
   },
   {
    "duration": 207,
    "start_time": "2024-07-29T06:48:04.586Z"
   },
   {
    "duration": 8,
    "start_time": "2024-07-29T06:48:04.796Z"
   },
   {
    "duration": 4,
    "start_time": "2024-07-29T06:48:04.807Z"
   },
   {
    "duration": 34,
    "start_time": "2024-07-29T06:49:21.538Z"
   },
   {
    "duration": 32,
    "start_time": "2024-07-29T06:49:29.764Z"
   },
   {
    "duration": 33,
    "start_time": "2024-07-29T06:51:54.066Z"
   },
   {
    "duration": 23,
    "start_time": "2024-07-29T06:54:13.193Z"
   },
   {
    "duration": 22,
    "start_time": "2024-07-29T06:56:22.744Z"
   },
   {
    "duration": 571,
    "start_time": "2024-07-29T06:59:56.375Z"
   },
   {
    "duration": 429,
    "start_time": "2024-07-29T07:00:19.726Z"
   },
   {
    "duration": 5089,
    "start_time": "2024-07-29T13:49:33.941Z"
   },
   {
    "duration": 455,
    "start_time": "2024-07-29T13:49:39.034Z"
   },
   {
    "duration": 15,
    "start_time": "2024-07-29T13:49:39.492Z"
   },
   {
    "duration": 18,
    "start_time": "2024-07-29T13:49:39.511Z"
   },
   {
    "duration": 6,
    "start_time": "2024-07-29T13:49:39.532Z"
   },
   {
    "duration": 8,
    "start_time": "2024-07-29T13:49:39.541Z"
   },
   {
    "duration": 5,
    "start_time": "2024-07-29T13:49:39.552Z"
   },
   {
    "duration": 15,
    "start_time": "2024-07-29T13:49:39.560Z"
   },
   {
    "duration": 56,
    "start_time": "2024-07-29T13:49:39.578Z"
   },
   {
    "duration": 8,
    "start_time": "2024-07-29T13:49:39.640Z"
   },
   {
    "duration": 5,
    "start_time": "2024-07-29T13:49:39.650Z"
   },
   {
    "duration": 10,
    "start_time": "2024-07-29T13:49:39.658Z"
   },
   {
    "duration": 6,
    "start_time": "2024-07-29T13:49:39.671Z"
   },
   {
    "duration": 5,
    "start_time": "2024-07-29T13:49:39.728Z"
   },
   {
    "duration": 6,
    "start_time": "2024-07-29T13:49:39.736Z"
   },
   {
    "duration": 24,
    "start_time": "2024-07-29T13:49:39.746Z"
   },
   {
    "duration": 54,
    "start_time": "2024-07-29T13:49:39.773Z"
   },
   {
    "duration": 59,
    "start_time": "2024-07-29T13:49:39.830Z"
   },
   {
    "duration": 45,
    "start_time": "2024-07-29T13:49:39.892Z"
   },
   {
    "duration": 13,
    "start_time": "2024-07-29T13:49:39.940Z"
   },
   {
    "duration": 12,
    "start_time": "2024-07-29T13:49:39.956Z"
   },
   {
    "duration": 4,
    "start_time": "2024-07-29T13:49:39.971Z"
   },
   {
    "duration": 49,
    "start_time": "2024-07-29T13:49:39.979Z"
   },
   {
    "duration": 20,
    "start_time": "2024-07-29T13:49:40.031Z"
   },
   {
    "duration": 11,
    "start_time": "2024-07-29T13:49:40.053Z"
   },
   {
    "duration": 17,
    "start_time": "2024-07-29T13:49:40.067Z"
   },
   {
    "duration": 46,
    "start_time": "2024-07-29T13:49:40.086Z"
   },
   {
    "duration": 22,
    "start_time": "2024-07-29T13:49:40.141Z"
   },
   {
    "duration": 11,
    "start_time": "2024-07-29T13:49:40.166Z"
   },
   {
    "duration": 49,
    "start_time": "2024-07-29T13:49:40.180Z"
   },
   {
    "duration": 20,
    "start_time": "2024-07-29T13:49:40.232Z"
   },
   {
    "duration": 11,
    "start_time": "2024-07-29T13:49:40.255Z"
   },
   {
    "duration": 13,
    "start_time": "2024-07-29T13:49:40.269Z"
   },
   {
    "duration": 58,
    "start_time": "2024-07-29T13:49:40.286Z"
   },
   {
    "duration": 21,
    "start_time": "2024-07-29T13:49:40.348Z"
   },
   {
    "duration": 20,
    "start_time": "2024-07-29T13:49:40.372Z"
   },
   {
    "duration": 30,
    "start_time": "2024-07-29T13:49:40.426Z"
   },
   {
    "duration": 36,
    "start_time": "2024-07-29T13:49:40.459Z"
   },
   {
    "duration": 35,
    "start_time": "2024-07-29T13:49:40.498Z"
   },
   {
    "duration": 10,
    "start_time": "2024-07-29T13:49:40.536Z"
   },
   {
    "duration": 6,
    "start_time": "2024-07-29T13:49:40.549Z"
   },
   {
    "duration": 19,
    "start_time": "2024-07-29T13:49:40.558Z"
   },
   {
    "duration": 50,
    "start_time": "2024-07-29T13:49:40.581Z"
   },
   {
    "duration": 9,
    "start_time": "2024-07-29T13:49:40.634Z"
   },
   {
    "duration": 35,
    "start_time": "2024-07-29T13:49:40.646Z"
   },
   {
    "duration": 69,
    "start_time": "2024-07-29T13:49:40.683Z"
   },
   {
    "duration": 24,
    "start_time": "2024-07-29T13:49:40.756Z"
   },
   {
    "duration": 535,
    "start_time": "2024-07-29T13:49:40.783Z"
   },
   {
    "duration": 433,
    "start_time": "2024-07-29T13:49:41.320Z"
   },
   {
    "duration": 16,
    "start_time": "2024-07-29T13:49:41.756Z"
   },
   {
    "duration": 207,
    "start_time": "2024-07-29T13:49:41.775Z"
   },
   {
    "duration": 19,
    "start_time": "2024-07-29T13:49:41.984Z"
   },
   {
    "duration": 517,
    "start_time": "2024-07-29T13:49:42.006Z"
   },
   {
    "duration": 433,
    "start_time": "2024-07-29T13:49:42.527Z"
   },
   {
    "duration": 15,
    "start_time": "2024-07-29T13:49:42.964Z"
   },
   {
    "duration": 284,
    "start_time": "2024-07-29T13:49:42.982Z"
   },
   {
    "duration": 17,
    "start_time": "2024-07-29T13:49:43.269Z"
   },
   {
    "duration": 548,
    "start_time": "2024-07-29T13:49:43.289Z"
   },
   {
    "duration": 424,
    "start_time": "2024-07-29T13:49:43.840Z"
   },
   {
    "duration": 15,
    "start_time": "2024-07-29T13:49:44.266Z"
   },
   {
    "duration": 206,
    "start_time": "2024-07-29T13:49:44.284Z"
   },
   {
    "duration": 39,
    "start_time": "2024-07-29T13:49:44.493Z"
   },
   {
    "duration": 511,
    "start_time": "2024-07-29T13:49:44.535Z"
   },
   {
    "duration": 425,
    "start_time": "2024-07-29T13:49:45.048Z"
   },
   {
    "duration": 13,
    "start_time": "2024-07-29T13:49:45.478Z"
   },
   {
    "duration": 203,
    "start_time": "2024-07-29T13:49:45.494Z"
   },
   {
    "duration": 8,
    "start_time": "2024-07-29T13:49:45.700Z"
   },
   {
    "duration": 3,
    "start_time": "2024-07-29T13:49:45.725Z"
   },
   {
    "duration": 36,
    "start_time": "2024-07-29T13:53:00.553Z"
   },
   {
    "duration": 382,
    "start_time": "2024-07-29T13:53:22.716Z"
   },
   {
    "duration": 23,
    "start_time": "2024-07-29T13:53:34.507Z"
   },
   {
    "duration": 48,
    "start_time": "2024-07-29T13:55:33.062Z"
   },
   {
    "duration": 21,
    "start_time": "2024-07-29T13:56:03.384Z"
   },
   {
    "duration": 31,
    "start_time": "2024-07-29T13:57:54.459Z"
   },
   {
    "duration": 30,
    "start_time": "2024-07-29T13:57:55.704Z"
   },
   {
    "duration": 11,
    "start_time": "2024-07-29T14:00:13.408Z"
   },
   {
    "duration": 9,
    "start_time": "2024-07-29T14:00:15.414Z"
   },
   {
    "duration": 1342,
    "start_time": "2024-07-29T14:01:06.454Z"
   },
   {
    "duration": 10,
    "start_time": "2024-07-29T14:01:11.113Z"
   },
   {
    "duration": 8,
    "start_time": "2024-07-29T14:01:12.991Z"
   },
   {
    "duration": 82,
    "start_time": "2024-07-29T14:01:14.903Z"
   },
   {
    "duration": 82,
    "start_time": "2024-07-29T14:01:23.709Z"
   },
   {
    "duration": 20,
    "start_time": "2024-07-29T14:01:55.950Z"
   },
   {
    "duration": 12,
    "start_time": "2024-07-29T14:02:45.850Z"
   },
   {
    "duration": 496,
    "start_time": "2024-07-29T14:03:50.135Z"
   },
   {
    "duration": 38,
    "start_time": "2024-07-29T14:06:18.724Z"
   },
   {
    "duration": 15,
    "start_time": "2024-07-29T14:06:37.648Z"
   },
   {
    "duration": 23,
    "start_time": "2024-07-29T14:06:42.717Z"
   },
   {
    "duration": 502,
    "start_time": "2024-07-29T14:06:50.840Z"
   },
   {
    "duration": 1279,
    "start_time": "2024-07-29T14:07:46.394Z"
   },
   {
    "duration": 284,
    "start_time": "2024-07-29T14:07:47.677Z"
   },
   {
    "duration": 16,
    "start_time": "2024-07-29T14:07:47.964Z"
   },
   {
    "duration": 18,
    "start_time": "2024-07-29T14:07:47.984Z"
   },
   {
    "duration": 28,
    "start_time": "2024-07-29T14:07:48.004Z"
   },
   {
    "duration": 8,
    "start_time": "2024-07-29T14:07:48.036Z"
   },
   {
    "duration": 5,
    "start_time": "2024-07-29T14:07:48.047Z"
   },
   {
    "duration": 13,
    "start_time": "2024-07-29T14:07:48.056Z"
   },
   {
    "duration": 54,
    "start_time": "2024-07-29T14:07:48.072Z"
   },
   {
    "duration": 8,
    "start_time": "2024-07-29T14:07:48.135Z"
   },
   {
    "duration": 5,
    "start_time": "2024-07-29T14:07:48.146Z"
   },
   {
    "duration": 10,
    "start_time": "2024-07-29T14:07:48.154Z"
   },
   {
    "duration": 6,
    "start_time": "2024-07-29T14:07:48.167Z"
   },
   {
    "duration": 53,
    "start_time": "2024-07-29T14:07:48.176Z"
   },
   {
    "duration": 9,
    "start_time": "2024-07-29T14:07:48.233Z"
   },
   {
    "duration": 25,
    "start_time": "2024-07-29T14:07:48.245Z"
   },
   {
    "duration": 12,
    "start_time": "2024-07-29T14:07:48.273Z"
   },
   {
    "duration": 58,
    "start_time": "2024-07-29T14:07:48.327Z"
   },
   {
    "duration": 45,
    "start_time": "2024-07-29T14:07:48.391Z"
   },
   {
    "duration": 14,
    "start_time": "2024-07-29T14:07:48.439Z"
   },
   {
    "duration": 13,
    "start_time": "2024-07-29T14:07:48.455Z"
   },
   {
    "duration": 5,
    "start_time": "2024-07-29T14:07:48.470Z"
   },
   {
    "duration": 47,
    "start_time": "2024-07-29T14:07:48.479Z"
   },
   {
    "duration": 20,
    "start_time": "2024-07-29T14:07:48.532Z"
   },
   {
    "duration": 10,
    "start_time": "2024-07-29T14:07:48.555Z"
   },
   {
    "duration": 18,
    "start_time": "2024-07-29T14:07:48.568Z"
   },
   {
    "duration": 42,
    "start_time": "2024-07-29T14:07:48.589Z"
   },
   {
    "duration": 21,
    "start_time": "2024-07-29T14:07:48.640Z"
   },
   {
    "duration": 11,
    "start_time": "2024-07-29T14:07:48.664Z"
   },
   {
    "duration": 48,
    "start_time": "2024-07-29T14:07:48.678Z"
   },
   {
    "duration": 22,
    "start_time": "2024-07-29T14:07:48.729Z"
   },
   {
    "duration": 11,
    "start_time": "2024-07-29T14:07:48.754Z"
   },
   {
    "duration": 13,
    "start_time": "2024-07-29T14:07:48.768Z"
   },
   {
    "duration": 58,
    "start_time": "2024-07-29T14:07:48.784Z"
   },
   {
    "duration": 21,
    "start_time": "2024-07-29T14:07:48.845Z"
   },
   {
    "duration": 18,
    "start_time": "2024-07-29T14:07:48.869Z"
   },
   {
    "duration": 55,
    "start_time": "2024-07-29T14:07:48.890Z"
   },
   {
    "duration": 29,
    "start_time": "2024-07-29T14:07:48.948Z"
   },
   {
    "duration": 48,
    "start_time": "2024-07-29T14:07:48.980Z"
   },
   {
    "duration": 11,
    "start_time": "2024-07-29T14:07:49.031Z"
   },
   {
    "duration": 7,
    "start_time": "2024-07-29T14:07:49.045Z"
   },
   {
    "duration": 18,
    "start_time": "2024-07-29T14:07:49.056Z"
   },
   {
    "duration": 49,
    "start_time": "2024-07-29T14:07:49.078Z"
   },
   {
    "duration": 9,
    "start_time": "2024-07-29T14:07:49.130Z"
   },
   {
    "duration": 7,
    "start_time": "2024-07-29T14:07:49.142Z"
   },
   {
    "duration": 1339,
    "start_time": "2024-07-29T14:07:49.154Z"
   },
   {
    "duration": 0,
    "start_time": "2024-07-29T14:07:50.495Z"
   },
   {
    "duration": 0,
    "start_time": "2024-07-29T14:07:50.498Z"
   },
   {
    "duration": 0,
    "start_time": "2024-07-29T14:07:50.500Z"
   },
   {
    "duration": 0,
    "start_time": "2024-07-29T14:07:50.501Z"
   },
   {
    "duration": 0,
    "start_time": "2024-07-29T14:07:50.503Z"
   },
   {
    "duration": 0,
    "start_time": "2024-07-29T14:07:50.526Z"
   },
   {
    "duration": 0,
    "start_time": "2024-07-29T14:07:50.528Z"
   },
   {
    "duration": 0,
    "start_time": "2024-07-29T14:07:50.530Z"
   },
   {
    "duration": 0,
    "start_time": "2024-07-29T14:07:50.533Z"
   },
   {
    "duration": 0,
    "start_time": "2024-07-29T14:07:50.535Z"
   },
   {
    "duration": 0,
    "start_time": "2024-07-29T14:07:50.537Z"
   },
   {
    "duration": 0,
    "start_time": "2024-07-29T14:07:50.538Z"
   },
   {
    "duration": 0,
    "start_time": "2024-07-29T14:07:50.541Z"
   },
   {
    "duration": 0,
    "start_time": "2024-07-29T14:07:50.543Z"
   },
   {
    "duration": 0,
    "start_time": "2024-07-29T14:07:50.545Z"
   },
   {
    "duration": 0,
    "start_time": "2024-07-29T14:07:50.550Z"
   },
   {
    "duration": 0,
    "start_time": "2024-07-29T14:07:50.552Z"
   },
   {
    "duration": 0,
    "start_time": "2024-07-29T14:07:50.554Z"
   },
   {
    "duration": 0,
    "start_time": "2024-07-29T14:07:50.556Z"
   },
   {
    "duration": 0,
    "start_time": "2024-07-29T14:07:50.558Z"
   },
   {
    "duration": 0,
    "start_time": "2024-07-29T14:07:50.560Z"
   },
   {
    "duration": 0,
    "start_time": "2024-07-29T14:07:50.563Z"
   },
   {
    "duration": 1162,
    "start_time": "2024-07-29T14:08:45.606Z"
   },
   {
    "duration": 109,
    "start_time": "2024-07-29T14:09:44.043Z"
   },
   {
    "duration": 29,
    "start_time": "2024-07-29T14:10:23.120Z"
   },
   {
    "duration": 33,
    "start_time": "2024-07-29T14:10:27.734Z"
   },
   {
    "duration": 1370,
    "start_time": "2024-07-29T14:11:09.014Z"
   },
   {
    "duration": 481,
    "start_time": "2024-07-29T14:11:10.388Z"
   },
   {
    "duration": 17,
    "start_time": "2024-07-29T14:11:10.871Z"
   },
   {
    "duration": 16,
    "start_time": "2024-07-29T14:11:10.891Z"
   },
   {
    "duration": 18,
    "start_time": "2024-07-29T14:11:10.911Z"
   },
   {
    "duration": 14,
    "start_time": "2024-07-29T14:11:10.932Z"
   },
   {
    "duration": 5,
    "start_time": "2024-07-29T14:11:10.949Z"
   },
   {
    "duration": 15,
    "start_time": "2024-07-29T14:11:10.957Z"
   },
   {
    "duration": 51,
    "start_time": "2024-07-29T14:11:10.975Z"
   },
   {
    "duration": 9,
    "start_time": "2024-07-29T14:11:11.030Z"
   },
   {
    "duration": 5,
    "start_time": "2024-07-29T14:11:11.043Z"
   },
   {
    "duration": 10,
    "start_time": "2024-07-29T14:11:11.051Z"
   },
   {
    "duration": 4,
    "start_time": "2024-07-29T14:11:11.065Z"
   },
   {
    "duration": 51,
    "start_time": "2024-07-29T14:11:11.076Z"
   },
   {
    "duration": 7,
    "start_time": "2024-07-29T14:11:11.130Z"
   },
   {
    "duration": 25,
    "start_time": "2024-07-29T14:11:11.142Z"
   },
   {
    "duration": 11,
    "start_time": "2024-07-29T14:11:11.170Z"
   },
   {
    "duration": 93,
    "start_time": "2024-07-29T14:11:11.184Z"
   },
   {
    "duration": 28,
    "start_time": "2024-07-29T14:11:11.279Z"
   },
   {
    "duration": 13,
    "start_time": "2024-07-29T14:11:11.328Z"
   },
   {
    "duration": 13,
    "start_time": "2024-07-29T14:11:11.344Z"
   },
   {
    "duration": 7,
    "start_time": "2024-07-29T14:11:11.360Z"
   },
   {
    "duration": 12,
    "start_time": "2024-07-29T14:11:11.370Z"
   },
   {
    "duration": 57,
    "start_time": "2024-07-29T14:11:11.387Z"
   },
   {
    "duration": 13,
    "start_time": "2024-07-29T14:11:11.447Z"
   },
   {
    "duration": 17,
    "start_time": "2024-07-29T14:11:11.463Z"
   },
   {
    "duration": 43,
    "start_time": "2024-07-29T14:11:11.483Z"
   },
   {
    "duration": 23,
    "start_time": "2024-07-29T14:11:11.528Z"
   },
   {
    "duration": 13,
    "start_time": "2024-07-29T14:11:11.555Z"
   },
   {
    "duration": 12,
    "start_time": "2024-07-29T14:11:11.570Z"
   },
   {
    "duration": 21,
    "start_time": "2024-07-29T14:11:11.625Z"
   },
   {
    "duration": 11,
    "start_time": "2024-07-29T14:11:11.649Z"
   },
   {
    "duration": 13,
    "start_time": "2024-07-29T14:11:11.663Z"
   },
   {
    "duration": 53,
    "start_time": "2024-07-29T14:11:11.680Z"
   },
   {
    "duration": 23,
    "start_time": "2024-07-29T14:11:11.735Z"
   },
   {
    "duration": 19,
    "start_time": "2024-07-29T14:11:11.760Z"
   },
   {
    "duration": 61,
    "start_time": "2024-07-29T14:11:11.781Z"
   },
   {
    "duration": 29,
    "start_time": "2024-07-29T14:11:11.845Z"
   },
   {
    "duration": 11,
    "start_time": "2024-07-29T14:11:11.876Z"
   },
   {
    "duration": 40,
    "start_time": "2024-07-29T14:11:11.890Z"
   },
   {
    "duration": 6,
    "start_time": "2024-07-29T14:11:11.939Z"
   },
   {
    "duration": 19,
    "start_time": "2024-07-29T14:11:11.948Z"
   },
   {
    "duration": 11,
    "start_time": "2024-07-29T14:11:11.970Z"
   },
   {
    "duration": 45,
    "start_time": "2024-07-29T14:11:11.983Z"
   },
   {
    "duration": 7,
    "start_time": "2024-07-29T14:11:12.031Z"
   },
   {
    "duration": 31,
    "start_time": "2024-07-29T14:11:12.043Z"
   },
   {
    "duration": 60,
    "start_time": "2024-07-29T14:11:12.077Z"
   },
   {
    "duration": 484,
    "start_time": "2024-07-29T14:11:12.139Z"
   },
   {
    "duration": 463,
    "start_time": "2024-07-29T14:11:12.627Z"
   },
   {
    "duration": 15,
    "start_time": "2024-07-29T14:11:13.093Z"
   },
   {
    "duration": 190,
    "start_time": "2024-07-29T14:11:13.126Z"
   },
   {
    "duration": 15,
    "start_time": "2024-07-29T14:11:13.325Z"
   },
   {
    "duration": 492,
    "start_time": "2024-07-29T14:11:13.343Z"
   },
   {
    "duration": 441,
    "start_time": "2024-07-29T14:11:13.838Z"
   },
   {
    "duration": 14,
    "start_time": "2024-07-29T14:11:14.283Z"
   },
   {
    "duration": 226,
    "start_time": "2024-07-29T14:11:14.300Z"
   },
   {
    "duration": 18,
    "start_time": "2024-07-29T14:11:14.529Z"
   },
   {
    "duration": 511,
    "start_time": "2024-07-29T14:11:14.552Z"
   },
   {
    "duration": 419,
    "start_time": "2024-07-29T14:11:15.066Z"
   },
   {
    "duration": 15,
    "start_time": "2024-07-29T14:11:15.488Z"
   },
   {
    "duration": 218,
    "start_time": "2024-07-29T14:11:15.506Z"
   },
   {
    "duration": 34,
    "start_time": "2024-07-29T14:11:15.727Z"
   },
   {
    "duration": 513,
    "start_time": "2024-07-29T14:11:15.764Z"
   },
   {
    "duration": 401,
    "start_time": "2024-07-29T14:11:16.280Z"
   },
   {
    "duration": 16,
    "start_time": "2024-07-29T14:11:16.684Z"
   },
   {
    "duration": 726,
    "start_time": "2024-07-29T14:11:16.703Z"
   },
   {
    "duration": 0,
    "start_time": "2024-07-29T14:11:17.432Z"
   },
   {
    "duration": 0,
    "start_time": "2024-07-29T14:11:17.434Z"
   },
   {
    "duration": 31,
    "start_time": "2024-07-29T14:12:23.802Z"
   },
   {
    "duration": 19,
    "start_time": "2024-07-29T14:12:42.770Z"
   },
   {
    "duration": 17,
    "start_time": "2024-07-29T14:12:53.372Z"
   },
   {
    "duration": 18,
    "start_time": "2024-07-29T14:13:18.022Z"
   },
   {
    "duration": 182,
    "start_time": "2024-07-29T14:13:43.671Z"
   },
   {
    "duration": 23,
    "start_time": "2024-07-29T14:14:00.335Z"
   },
   {
    "duration": 1293,
    "start_time": "2024-07-29T14:14:12.756Z"
   },
   {
    "duration": 275,
    "start_time": "2024-07-29T14:14:14.052Z"
   },
   {
    "duration": 15,
    "start_time": "2024-07-29T14:14:14.330Z"
   },
   {
    "duration": 17,
    "start_time": "2024-07-29T14:14:14.349Z"
   },
   {
    "duration": 6,
    "start_time": "2024-07-29T14:14:14.368Z"
   },
   {
    "duration": 49,
    "start_time": "2024-07-29T14:14:14.377Z"
   },
   {
    "duration": 6,
    "start_time": "2024-07-29T14:14:14.428Z"
   },
   {
    "duration": 14,
    "start_time": "2024-07-29T14:14:14.437Z"
   },
   {
    "duration": 14,
    "start_time": "2024-07-29T14:14:14.454Z"
   },
   {
    "duration": 9,
    "start_time": "2024-07-29T14:14:14.474Z"
   },
   {
    "duration": 6,
    "start_time": "2024-07-29T14:14:14.527Z"
   },
   {
    "duration": 10,
    "start_time": "2024-07-29T14:14:14.535Z"
   },
   {
    "duration": 5,
    "start_time": "2024-07-29T14:14:14.549Z"
   },
   {
    "duration": 5,
    "start_time": "2024-07-29T14:14:14.559Z"
   },
   {
    "duration": 6,
    "start_time": "2024-07-29T14:14:14.570Z"
   },
   {
    "duration": 70,
    "start_time": "2024-07-29T14:14:14.578Z"
   },
   {
    "duration": 11,
    "start_time": "2024-07-29T14:14:14.651Z"
   },
   {
    "duration": 87,
    "start_time": "2024-07-29T14:14:14.665Z"
   },
   {
    "duration": 27,
    "start_time": "2024-07-29T14:14:14.755Z"
   },
   {
    "duration": 13,
    "start_time": "2024-07-29T14:14:14.788Z"
   },
   {
    "duration": 28,
    "start_time": "2024-07-29T14:14:14.804Z"
   },
   {
    "duration": 5,
    "start_time": "2024-07-29T14:14:14.835Z"
   },
   {
    "duration": 10,
    "start_time": "2024-07-29T14:14:14.843Z"
   },
   {
    "duration": 21,
    "start_time": "2024-07-29T14:14:14.856Z"
   },
   {
    "duration": 53,
    "start_time": "2024-07-29T14:14:14.880Z"
   },
   {
    "duration": 17,
    "start_time": "2024-07-29T14:14:14.936Z"
   },
   {
    "duration": 10,
    "start_time": "2024-07-29T14:14:14.955Z"
   },
   {
    "duration": 59,
    "start_time": "2024-07-29T14:14:14.974Z"
   },
   {
    "duration": 11,
    "start_time": "2024-07-29T14:14:15.035Z"
   },
   {
    "duration": 10,
    "start_time": "2024-07-29T14:14:15.049Z"
   },
   {
    "duration": 21,
    "start_time": "2024-07-29T14:14:15.062Z"
   },
   {
    "duration": 48,
    "start_time": "2024-07-29T14:14:15.087Z"
   },
   {
    "duration": 13,
    "start_time": "2024-07-29T14:14:15.137Z"
   },
   {
    "duration": 21,
    "start_time": "2024-07-29T14:14:15.153Z"
   },
   {
    "duration": 58,
    "start_time": "2024-07-29T14:14:15.177Z"
   },
   {
    "duration": 19,
    "start_time": "2024-07-29T14:14:15.238Z"
   },
   {
    "duration": 24,
    "start_time": "2024-07-29T14:14:15.259Z"
   },
   {
    "duration": 60,
    "start_time": "2024-07-29T14:14:15.286Z"
   },
   {
    "duration": 12,
    "start_time": "2024-07-29T14:14:15.349Z"
   },
   {
    "duration": 10,
    "start_time": "2024-07-29T14:14:15.364Z"
   },
   {
    "duration": 7,
    "start_time": "2024-07-29T14:14:15.377Z"
   },
   {
    "duration": 55,
    "start_time": "2024-07-29T14:14:15.388Z"
   },
   {
    "duration": 12,
    "start_time": "2024-07-29T14:14:15.448Z"
   },
   {
    "duration": 9,
    "start_time": "2024-07-29T14:14:15.463Z"
   },
   {
    "duration": 7,
    "start_time": "2024-07-29T14:14:15.475Z"
   },
   {
    "duration": 20,
    "start_time": "2024-07-29T14:14:15.526Z"
   },
   {
    "duration": 18,
    "start_time": "2024-07-29T14:14:15.549Z"
   },
   {
    "duration": 15,
    "start_time": "2024-07-29T14:14:15.571Z"
   },
   {
    "duration": 56,
    "start_time": "2024-07-29T14:14:15.589Z"
   },
   {
    "duration": 466,
    "start_time": "2024-07-29T14:14:15.648Z"
   },
   {
    "duration": 467,
    "start_time": "2024-07-29T14:14:16.117Z"
   },
   {
    "duration": 17,
    "start_time": "2024-07-29T14:14:16.587Z"
   },
   {
    "duration": 209,
    "start_time": "2024-07-29T14:14:16.608Z"
   },
   {
    "duration": 17,
    "start_time": "2024-07-29T14:14:16.825Z"
   },
   {
    "duration": 481,
    "start_time": "2024-07-29T14:14:16.845Z"
   },
   {
    "duration": 454,
    "start_time": "2024-07-29T14:14:17.329Z"
   },
   {
    "duration": 15,
    "start_time": "2024-07-29T14:14:17.787Z"
   },
   {
    "duration": 224,
    "start_time": "2024-07-29T14:14:17.805Z"
   },
   {
    "duration": 20,
    "start_time": "2024-07-29T14:14:18.032Z"
   },
   {
    "duration": 514,
    "start_time": "2024-07-29T14:14:18.055Z"
   },
   {
    "duration": 404,
    "start_time": "2024-07-29T14:14:18.572Z"
   },
   {
    "duration": 16,
    "start_time": "2024-07-29T14:14:18.979Z"
   },
   {
    "duration": 204,
    "start_time": "2024-07-29T14:14:18.999Z"
   },
   {
    "duration": 32,
    "start_time": "2024-07-29T14:14:19.205Z"
   },
   {
    "duration": 499,
    "start_time": "2024-07-29T14:14:19.240Z"
   },
   {
    "duration": 434,
    "start_time": "2024-07-29T14:14:19.743Z"
   },
   {
    "duration": 16,
    "start_time": "2024-07-29T14:14:20.180Z"
   },
   {
    "duration": 210,
    "start_time": "2024-07-29T14:14:20.199Z"
   },
   {
    "duration": 15,
    "start_time": "2024-07-29T14:14:20.413Z"
   },
   {
    "duration": 4,
    "start_time": "2024-07-29T14:14:20.431Z"
   },
   {
    "duration": 20,
    "start_time": "2024-07-29T14:16:19.603Z"
   },
   {
    "duration": 17,
    "start_time": "2024-07-29T14:16:32.794Z"
   },
   {
    "duration": 12,
    "start_time": "2024-07-29T14:17:13.881Z"
   },
   {
    "duration": 8,
    "start_time": "2024-07-29T14:17:16.292Z"
   },
   {
    "duration": 6,
    "start_time": "2024-07-29T14:17:22.972Z"
   },
   {
    "duration": 6,
    "start_time": "2024-07-29T14:17:41.334Z"
   },
   {
    "duration": 109,
    "start_time": "2024-07-29T14:17:43.239Z"
   },
   {
    "duration": 17,
    "start_time": "2024-07-29T14:17:51.582Z"
   },
   {
    "duration": 17,
    "start_time": "2024-07-29T14:18:50.332Z"
   },
   {
    "duration": 16,
    "start_time": "2024-07-29T14:18:52.569Z"
   },
   {
    "duration": 16,
    "start_time": "2024-07-29T14:19:01.641Z"
   },
   {
    "duration": 16,
    "start_time": "2024-07-29T14:19:11.773Z"
   },
   {
    "duration": 15,
    "start_time": "2024-07-29T14:19:15.672Z"
   },
   {
    "duration": 226,
    "start_time": "2024-07-29T14:20:17.422Z"
   },
   {
    "duration": 9,
    "start_time": "2024-07-29T14:20:21.120Z"
   },
   {
    "duration": 1251,
    "start_time": "2024-07-29T14:20:53.697Z"
   },
   {
    "duration": 286,
    "start_time": "2024-07-29T14:20:54.952Z"
   },
   {
    "duration": 18,
    "start_time": "2024-07-29T14:20:55.249Z"
   },
   {
    "duration": 20,
    "start_time": "2024-07-29T14:20:55.273Z"
   },
   {
    "duration": 6,
    "start_time": "2024-07-29T14:20:55.297Z"
   },
   {
    "duration": 25,
    "start_time": "2024-07-29T14:20:55.306Z"
   },
   {
    "duration": 5,
    "start_time": "2024-07-29T14:20:55.334Z"
   },
   {
    "duration": 14,
    "start_time": "2024-07-29T14:20:55.343Z"
   },
   {
    "duration": 13,
    "start_time": "2024-07-29T14:20:55.361Z"
   },
   {
    "duration": 9,
    "start_time": "2024-07-29T14:20:55.425Z"
   },
   {
    "duration": 6,
    "start_time": "2024-07-29T14:20:55.437Z"
   },
   {
    "duration": 10,
    "start_time": "2024-07-29T14:20:55.446Z"
   },
   {
    "duration": 5,
    "start_time": "2024-07-29T14:20:55.459Z"
   },
   {
    "duration": 4,
    "start_time": "2024-07-29T14:20:55.468Z"
   },
   {
    "duration": 53,
    "start_time": "2024-07-29T14:20:55.475Z"
   },
   {
    "duration": 25,
    "start_time": "2024-07-29T14:20:55.531Z"
   },
   {
    "duration": 11,
    "start_time": "2024-07-29T14:20:55.559Z"
   },
   {
    "duration": 91,
    "start_time": "2024-07-29T14:20:55.573Z"
   },
   {
    "duration": 27,
    "start_time": "2024-07-29T14:20:55.667Z"
   },
   {
    "duration": 35,
    "start_time": "2024-07-29T14:20:55.697Z"
   },
   {
    "duration": 14,
    "start_time": "2024-07-29T14:20:55.735Z"
   },
   {
    "duration": 6,
    "start_time": "2024-07-29T14:20:55.752Z"
   },
   {
    "duration": 11,
    "start_time": "2024-07-29T14:20:55.762Z"
   },
   {
    "duration": 58,
    "start_time": "2024-07-29T14:20:55.776Z"
   },
   {
    "duration": 10,
    "start_time": "2024-07-29T14:20:55.838Z"
   },
   {
    "duration": 17,
    "start_time": "2024-07-29T14:20:55.851Z"
   },
   {
    "duration": 10,
    "start_time": "2024-07-29T14:20:55.871Z"
   },
   {
    "duration": 54,
    "start_time": "2024-07-29T14:20:55.891Z"
   },
   {
    "duration": 11,
    "start_time": "2024-07-29T14:20:55.948Z"
   },
   {
    "duration": 9,
    "start_time": "2024-07-29T14:20:55.963Z"
   },
   {
    "duration": 58,
    "start_time": "2024-07-29T14:20:55.974Z"
   },
   {
    "duration": 11,
    "start_time": "2024-07-29T14:20:56.035Z"
   },
   {
    "duration": 13,
    "start_time": "2024-07-29T14:20:56.049Z"
   },
   {
    "duration": 22,
    "start_time": "2024-07-29T14:20:56.065Z"
   },
   {
    "duration": 21,
    "start_time": "2024-07-29T14:20:56.125Z"
   },
   {
    "duration": 18,
    "start_time": "2024-07-29T14:20:56.149Z"
   },
   {
    "duration": 25,
    "start_time": "2024-07-29T14:20:56.170Z"
   },
   {
    "duration": 31,
    "start_time": "2024-07-29T14:20:56.227Z"
   },
   {
    "duration": 12,
    "start_time": "2024-07-29T14:20:56.260Z"
   },
   {
    "duration": 10,
    "start_time": "2024-07-29T14:20:56.274Z"
   },
   {
    "duration": 43,
    "start_time": "2024-07-29T14:20:56.287Z"
   },
   {
    "duration": 22,
    "start_time": "2024-07-29T14:20:56.333Z"
   },
   {
    "duration": 15,
    "start_time": "2024-07-29T14:20:56.358Z"
   },
   {
    "duration": 9,
    "start_time": "2024-07-29T14:20:56.376Z"
   },
   {
    "duration": 7,
    "start_time": "2024-07-29T14:20:56.427Z"
   },
   {
    "duration": 9,
    "start_time": "2024-07-29T14:20:56.437Z"
   },
   {
    "duration": 21,
    "start_time": "2024-07-29T14:20:56.450Z"
   },
   {
    "duration": 54,
    "start_time": "2024-07-29T14:20:56.474Z"
   },
   {
    "duration": 16,
    "start_time": "2024-07-29T14:20:56.531Z"
   },
   {
    "duration": 25,
    "start_time": "2024-07-29T14:20:56.550Z"
   },
   {
    "duration": 533,
    "start_time": "2024-07-29T14:20:56.579Z"
   },
   {
    "duration": 478,
    "start_time": "2024-07-29T14:20:57.115Z"
   },
   {
    "duration": 16,
    "start_time": "2024-07-29T14:20:57.596Z"
   },
   {
    "duration": 228,
    "start_time": "2024-07-29T14:20:57.614Z"
   },
   {
    "duration": 18,
    "start_time": "2024-07-29T14:20:57.845Z"
   },
   {
    "duration": 502,
    "start_time": "2024-07-29T14:20:57.866Z"
   },
   {
    "duration": 440,
    "start_time": "2024-07-29T14:20:58.371Z"
   },
   {
    "duration": 21,
    "start_time": "2024-07-29T14:20:58.814Z"
   },
   {
    "duration": 209,
    "start_time": "2024-07-29T14:20:58.838Z"
   },
   {
    "duration": 18,
    "start_time": "2024-07-29T14:20:59.050Z"
   },
   {
    "duration": 498,
    "start_time": "2024-07-29T14:20:59.071Z"
   },
   {
    "duration": 421,
    "start_time": "2024-07-29T14:20:59.572Z"
   },
   {
    "duration": 16,
    "start_time": "2024-07-29T14:20:59.996Z"
   },
   {
    "duration": 196,
    "start_time": "2024-07-29T14:21:00.027Z"
   },
   {
    "duration": 25,
    "start_time": "2024-07-29T14:21:00.227Z"
   },
   {
    "duration": 510,
    "start_time": "2024-07-29T14:21:00.254Z"
   },
   {
    "duration": 416,
    "start_time": "2024-07-29T14:21:00.768Z"
   },
   {
    "duration": 15,
    "start_time": "2024-07-29T14:21:01.187Z"
   },
   {
    "duration": 222,
    "start_time": "2024-07-29T14:21:01.205Z"
   },
   {
    "duration": 8,
    "start_time": "2024-07-29T14:21:01.431Z"
   },
   {
    "duration": 10,
    "start_time": "2024-07-29T14:21:01.444Z"
   },
   {
    "duration": 6,
    "start_time": "2024-07-29T14:25:45.969Z"
   },
   {
    "duration": 580,
    "start_time": "2024-07-29T14:25:54.336Z"
   },
   {
    "duration": 7,
    "start_time": "2024-07-29T14:26:06.260Z"
   },
   {
    "duration": 6,
    "start_time": "2024-07-29T14:26:33.218Z"
   },
   {
    "duration": 1316,
    "start_time": "2024-07-29T14:26:43.829Z"
   },
   {
    "duration": 283,
    "start_time": "2024-07-29T14:26:45.148Z"
   },
   {
    "duration": 17,
    "start_time": "2024-07-29T14:26:45.433Z"
   },
   {
    "duration": 16,
    "start_time": "2024-07-29T14:26:45.456Z"
   },
   {
    "duration": 7,
    "start_time": "2024-07-29T14:26:45.475Z"
   },
   {
    "duration": 42,
    "start_time": "2024-07-29T14:26:45.485Z"
   },
   {
    "duration": 5,
    "start_time": "2024-07-29T14:26:45.530Z"
   },
   {
    "duration": 15,
    "start_time": "2024-07-29T14:26:45.540Z"
   },
   {
    "duration": 15,
    "start_time": "2024-07-29T14:26:45.557Z"
   },
   {
    "duration": 49,
    "start_time": "2024-07-29T14:26:45.577Z"
   },
   {
    "duration": 5,
    "start_time": "2024-07-29T14:26:45.630Z"
   },
   {
    "duration": 10,
    "start_time": "2024-07-29T14:26:45.638Z"
   },
   {
    "duration": 6,
    "start_time": "2024-07-29T14:26:45.650Z"
   },
   {
    "duration": 7,
    "start_time": "2024-07-29T14:26:45.659Z"
   },
   {
    "duration": 57,
    "start_time": "2024-07-29T14:26:45.669Z"
   },
   {
    "duration": 25,
    "start_time": "2024-07-29T14:26:45.728Z"
   },
   {
    "duration": 10,
    "start_time": "2024-07-29T14:26:45.756Z"
   },
   {
    "duration": 78,
    "start_time": "2024-07-29T14:26:45.769Z"
   },
   {
    "duration": 27,
    "start_time": "2024-07-29T14:26:45.849Z"
   },
   {
    "duration": 14,
    "start_time": "2024-07-29T14:26:45.879Z"
   },
   {
    "duration": 36,
    "start_time": "2024-07-29T14:26:45.896Z"
   },
   {
    "duration": 4,
    "start_time": "2024-07-29T14:26:45.935Z"
   },
   {
    "duration": 12,
    "start_time": "2024-07-29T14:26:45.942Z"
   },
   {
    "duration": 20,
    "start_time": "2024-07-29T14:26:45.957Z"
   },
   {
    "duration": 52,
    "start_time": "2024-07-29T14:26:45.980Z"
   },
   {
    "duration": 17,
    "start_time": "2024-07-29T14:26:46.035Z"
   },
   {
    "duration": 10,
    "start_time": "2024-07-29T14:26:46.054Z"
   },
   {
    "duration": 55,
    "start_time": "2024-07-29T14:26:46.075Z"
   },
   {
    "duration": 13,
    "start_time": "2024-07-29T14:26:46.133Z"
   },
   {
    "duration": 10,
    "start_time": "2024-07-29T14:26:46.149Z"
   },
   {
    "duration": 20,
    "start_time": "2024-07-29T14:26:46.162Z"
   },
   {
    "duration": 11,
    "start_time": "2024-07-29T14:26:46.226Z"
   },
   {
    "duration": 14,
    "start_time": "2024-07-29T14:26:46.239Z"
   },
   {
    "duration": 21,
    "start_time": "2024-07-29T14:26:46.256Z"
   },
   {
    "duration": 61,
    "start_time": "2024-07-29T14:26:46.280Z"
   },
   {
    "duration": 20,
    "start_time": "2024-07-29T14:26:46.344Z"
   },
   {
    "duration": 25,
    "start_time": "2024-07-29T14:26:46.367Z"
   },
   {
    "duration": 57,
    "start_time": "2024-07-29T14:26:46.395Z"
   },
   {
    "duration": 10,
    "start_time": "2024-07-29T14:26:46.455Z"
   },
   {
    "duration": 9,
    "start_time": "2024-07-29T14:26:46.468Z"
   },
   {
    "duration": 46,
    "start_time": "2024-07-29T14:26:46.481Z"
   },
   {
    "duration": 21,
    "start_time": "2024-07-29T14:26:46.530Z"
   },
   {
    "duration": 13,
    "start_time": "2024-07-29T14:26:46.554Z"
   },
   {
    "duration": 10,
    "start_time": "2024-07-29T14:26:46.570Z"
   },
   {
    "duration": 44,
    "start_time": "2024-07-29T14:26:46.584Z"
   },
   {
    "duration": 11,
    "start_time": "2024-07-29T14:26:46.634Z"
   },
   {
    "duration": 26,
    "start_time": "2024-07-29T14:26:46.648Z"
   },
   {
    "duration": 51,
    "start_time": "2024-07-29T14:26:46.676Z"
   },
   {
    "duration": 15,
    "start_time": "2024-07-29T14:26:46.730Z"
   },
   {
    "duration": 25,
    "start_time": "2024-07-29T14:26:46.748Z"
   },
   {
    "duration": 530,
    "start_time": "2024-07-29T14:26:46.776Z"
   },
   {
    "duration": 488,
    "start_time": "2024-07-29T14:26:47.309Z"
   },
   {
    "duration": 26,
    "start_time": "2024-07-29T14:26:47.800Z"
   },
   {
    "duration": 202,
    "start_time": "2024-07-29T14:26:47.829Z"
   },
   {
    "duration": 19,
    "start_time": "2024-07-29T14:26:48.034Z"
   },
   {
    "duration": 488,
    "start_time": "2024-07-29T14:26:48.056Z"
   },
   {
    "duration": 438,
    "start_time": "2024-07-29T14:26:48.547Z"
   },
   {
    "duration": 15,
    "start_time": "2024-07-29T14:26:48.988Z"
   },
   {
    "duration": 215,
    "start_time": "2024-07-29T14:26:49.006Z"
   },
   {
    "duration": 19,
    "start_time": "2024-07-29T14:26:49.227Z"
   },
   {
    "duration": 506,
    "start_time": "2024-07-29T14:26:49.248Z"
   },
   {
    "duration": 413,
    "start_time": "2024-07-29T14:26:49.757Z"
   },
   {
    "duration": 15,
    "start_time": "2024-07-29T14:26:50.173Z"
   },
   {
    "duration": 227,
    "start_time": "2024-07-29T14:26:50.191Z"
   },
   {
    "duration": 28,
    "start_time": "2024-07-29T14:26:50.430Z"
   },
   {
    "duration": 536,
    "start_time": "2024-07-29T14:26:50.463Z"
   },
   {
    "duration": 436,
    "start_time": "2024-07-29T14:26:51.002Z"
   },
   {
    "duration": 17,
    "start_time": "2024-07-29T14:26:51.441Z"
   },
   {
    "duration": 211,
    "start_time": "2024-07-29T14:26:51.461Z"
   },
   {
    "duration": 7,
    "start_time": "2024-07-29T14:26:51.675Z"
   },
   {
    "duration": 3,
    "start_time": "2024-07-29T14:26:51.686Z"
   },
   {
    "duration": 15,
    "start_time": "2024-07-29T14:33:39.546Z"
   },
   {
    "duration": 11,
    "start_time": "2024-07-29T14:38:15.028Z"
   },
   {
    "duration": 1281,
    "start_time": "2024-07-29T14:38:39.384Z"
   },
   {
    "duration": 276,
    "start_time": "2024-07-29T14:38:40.668Z"
   },
   {
    "duration": 17,
    "start_time": "2024-07-29T14:38:40.947Z"
   },
   {
    "duration": 19,
    "start_time": "2024-07-29T14:38:40.968Z"
   },
   {
    "duration": 5,
    "start_time": "2024-07-29T14:38:40.992Z"
   },
   {
    "duration": 8,
    "start_time": "2024-07-29T14:38:41.027Z"
   },
   {
    "duration": 5,
    "start_time": "2024-07-29T14:38:41.038Z"
   },
   {
    "duration": 14,
    "start_time": "2024-07-29T14:38:41.047Z"
   },
   {
    "duration": 14,
    "start_time": "2024-07-29T14:38:41.064Z"
   },
   {
    "duration": 10,
    "start_time": "2024-07-29T14:38:41.128Z"
   },
   {
    "duration": 4,
    "start_time": "2024-07-29T14:38:41.141Z"
   },
   {
    "duration": 10,
    "start_time": "2024-07-29T14:38:41.149Z"
   },
   {
    "duration": 5,
    "start_time": "2024-07-29T14:38:41.162Z"
   },
   {
    "duration": 4,
    "start_time": "2024-07-29T14:38:41.172Z"
   },
   {
    "duration": 49,
    "start_time": "2024-07-29T14:38:41.179Z"
   },
   {
    "duration": 26,
    "start_time": "2024-07-29T14:38:41.232Z"
   },
   {
    "duration": 10,
    "start_time": "2024-07-29T14:38:41.261Z"
   },
   {
    "duration": 94,
    "start_time": "2024-07-29T14:38:41.274Z"
   },
   {
    "duration": 27,
    "start_time": "2024-07-29T14:38:41.371Z"
   },
   {
    "duration": 30,
    "start_time": "2024-07-29T14:38:41.401Z"
   },
   {
    "duration": 13,
    "start_time": "2024-07-29T14:38:41.434Z"
   },
   {
    "duration": 5,
    "start_time": "2024-07-29T14:38:41.450Z"
   },
   {
    "duration": 11,
    "start_time": "2024-07-29T14:38:41.459Z"
   },
   {
    "duration": 59,
    "start_time": "2024-07-29T14:38:41.473Z"
   },
   {
    "duration": 11,
    "start_time": "2024-07-29T14:38:41.535Z"
   },
   {
    "duration": 18,
    "start_time": "2024-07-29T14:38:41.549Z"
   },
   {
    "duration": 10,
    "start_time": "2024-07-29T14:38:41.569Z"
   },
   {
    "duration": 22,
    "start_time": "2024-07-29T14:38:41.626Z"
   },
   {
    "duration": 12,
    "start_time": "2024-07-29T14:38:41.650Z"
   },
   {
    "duration": 11,
    "start_time": "2024-07-29T14:38:41.665Z"
   },
   {
    "duration": 58,
    "start_time": "2024-07-29T14:38:41.680Z"
   },
   {
    "duration": 11,
    "start_time": "2024-07-29T14:38:41.741Z"
   },
   {
    "duration": 13,
    "start_time": "2024-07-29T14:38:41.755Z"
   },
   {
    "duration": 55,
    "start_time": "2024-07-29T14:38:41.771Z"
   },
   {
    "duration": 23,
    "start_time": "2024-07-29T14:38:41.828Z"
   },
   {
    "duration": 18,
    "start_time": "2024-07-29T14:38:41.854Z"
   },
   {
    "duration": 60,
    "start_time": "2024-07-29T14:38:41.875Z"
   },
   {
    "duration": 30,
    "start_time": "2024-07-29T14:38:41.937Z"
   },
   {
    "duration": 11,
    "start_time": "2024-07-29T14:38:41.970Z"
   },
   {
    "duration": 43,
    "start_time": "2024-07-29T14:38:41.984Z"
   },
   {
    "duration": 7,
    "start_time": "2024-07-29T14:38:42.030Z"
   },
   {
    "duration": 21,
    "start_time": "2024-07-29T14:38:42.039Z"
   },
   {
    "duration": 13,
    "start_time": "2024-07-29T14:38:42.063Z"
   },
   {
    "duration": 8,
    "start_time": "2024-07-29T14:38:42.079Z"
   },
   {
    "duration": 10,
    "start_time": "2024-07-29T14:38:42.127Z"
   },
   {
    "duration": 12,
    "start_time": "2024-07-29T14:38:42.139Z"
   },
   {
    "duration": 20,
    "start_time": "2024-07-29T14:38:42.157Z"
   },
   {
    "duration": 48,
    "start_time": "2024-07-29T14:38:42.180Z"
   },
   {
    "duration": 15,
    "start_time": "2024-07-29T14:38:42.231Z"
   },
   {
    "duration": 17,
    "start_time": "2024-07-29T14:38:42.250Z"
   },
   {
    "duration": 524,
    "start_time": "2024-07-29T14:38:42.270Z"
   },
   {
    "duration": 474,
    "start_time": "2024-07-29T14:38:42.797Z"
   },
   {
    "duration": 14,
    "start_time": "2024-07-29T14:38:43.274Z"
   },
   {
    "duration": 208,
    "start_time": "2024-07-29T14:38:43.291Z"
   },
   {
    "duration": 31,
    "start_time": "2024-07-29T14:38:43.503Z"
   },
   {
    "duration": 496,
    "start_time": "2024-07-29T14:38:43.537Z"
   },
   {
    "duration": 433,
    "start_time": "2024-07-29T14:38:44.036Z"
   },
   {
    "duration": 15,
    "start_time": "2024-07-29T14:38:44.471Z"
   },
   {
    "duration": 215,
    "start_time": "2024-07-29T14:38:44.490Z"
   },
   {
    "duration": 25,
    "start_time": "2024-07-29T14:38:44.710Z"
   },
   {
    "duration": 507,
    "start_time": "2024-07-29T14:38:44.738Z"
   },
   {
    "duration": 416,
    "start_time": "2024-07-29T14:38:45.249Z"
   },
   {
    "duration": 15,
    "start_time": "2024-07-29T14:38:45.667Z"
   },
   {
    "duration": 215,
    "start_time": "2024-07-29T14:38:45.685Z"
   },
   {
    "duration": 28,
    "start_time": "2024-07-29T14:38:45.903Z"
   },
   {
    "duration": 516,
    "start_time": "2024-07-29T14:38:45.934Z"
   },
   {
    "duration": 433,
    "start_time": "2024-07-29T14:38:46.453Z"
   },
   {
    "duration": 17,
    "start_time": "2024-07-29T14:38:46.890Z"
   },
   {
    "duration": 210,
    "start_time": "2024-07-29T14:38:46.910Z"
   },
   {
    "duration": 6,
    "start_time": "2024-07-29T14:38:47.123Z"
   },
   {
    "duration": 4,
    "start_time": "2024-07-29T14:38:47.133Z"
   },
   {
    "duration": 1195,
    "start_time": "2024-07-29T14:42:33.398Z"
   },
   {
    "duration": 1305,
    "start_time": "2024-07-29T14:42:57.398Z"
   },
   {
    "duration": 273,
    "start_time": "2024-07-29T14:42:58.709Z"
   },
   {
    "duration": 16,
    "start_time": "2024-07-29T14:42:58.986Z"
   },
   {
    "duration": 34,
    "start_time": "2024-07-29T14:42:59.006Z"
   },
   {
    "duration": 7,
    "start_time": "2024-07-29T14:42:59.043Z"
   },
   {
    "duration": 8,
    "start_time": "2024-07-29T14:42:59.053Z"
   },
   {
    "duration": 5,
    "start_time": "2024-07-29T14:42:59.064Z"
   },
   {
    "duration": 59,
    "start_time": "2024-07-29T14:42:59.073Z"
   },
   {
    "duration": 14,
    "start_time": "2024-07-29T14:42:59.135Z"
   },
   {
    "duration": 8,
    "start_time": "2024-07-29T14:42:59.156Z"
   },
   {
    "duration": 6,
    "start_time": "2024-07-29T14:42:59.167Z"
   },
   {
    "duration": 51,
    "start_time": "2024-07-29T14:42:59.176Z"
   },
   {
    "duration": 5,
    "start_time": "2024-07-29T14:42:59.230Z"
   },
   {
    "duration": 5,
    "start_time": "2024-07-29T14:42:59.238Z"
   },
   {
    "duration": 6,
    "start_time": "2024-07-29T14:42:59.246Z"
   },
   {
    "duration": 25,
    "start_time": "2024-07-29T14:42:59.255Z"
   },
   {
    "duration": 51,
    "start_time": "2024-07-29T14:42:59.283Z"
   },
   {
    "duration": 54,
    "start_time": "2024-07-29T14:42:59.338Z"
   },
   {
    "duration": 55,
    "start_time": "2024-07-29T14:42:59.395Z"
   },
   {
    "duration": 15,
    "start_time": "2024-07-29T14:42:59.453Z"
   },
   {
    "duration": 13,
    "start_time": "2024-07-29T14:42:59.471Z"
   },
   {
    "duration": 5,
    "start_time": "2024-07-29T14:42:59.486Z"
   },
   {
    "duration": 11,
    "start_time": "2024-07-29T14:42:59.525Z"
   },
   {
    "duration": 21,
    "start_time": "2024-07-29T14:42:59.540Z"
   },
   {
    "duration": 10,
    "start_time": "2024-07-29T14:42:59.564Z"
   },
   {
    "duration": 57,
    "start_time": "2024-07-29T14:42:59.578Z"
   },
   {
    "duration": 10,
    "start_time": "2024-07-29T14:42:59.638Z"
   },
   {
    "duration": 22,
    "start_time": "2024-07-29T14:42:59.658Z"
   },
   {
    "duration": 43,
    "start_time": "2024-07-29T14:42:59.683Z"
   },
   {
    "duration": 10,
    "start_time": "2024-07-29T14:42:59.729Z"
   },
   {
    "duration": 21,
    "start_time": "2024-07-29T14:42:59.742Z"
   },
   {
    "duration": 11,
    "start_time": "2024-07-29T14:42:59.766Z"
   },
   {
    "duration": 51,
    "start_time": "2024-07-29T14:42:59.780Z"
   },
   {
    "duration": 24,
    "start_time": "2024-07-29T14:42:59.834Z"
   },
   {
    "duration": 34,
    "start_time": "2024-07-29T14:42:59.864Z"
   },
   {
    "duration": 39,
    "start_time": "2024-07-29T14:42:59.901Z"
   },
   {
    "duration": 25,
    "start_time": "2024-07-29T14:42:59.943Z"
   },
   {
    "duration": 62,
    "start_time": "2024-07-29T14:42:59.971Z"
   },
   {
    "duration": 10,
    "start_time": "2024-07-29T14:43:00.036Z"
   },
   {
    "duration": 9,
    "start_time": "2024-07-29T14:43:00.050Z"
   },
   {
    "duration": 7,
    "start_time": "2024-07-29T14:43:00.062Z"
   },
   {
    "duration": 55,
    "start_time": "2024-07-29T14:43:00.073Z"
   },
   {
    "duration": 13,
    "start_time": "2024-07-29T14:43:00.131Z"
   },
   {
    "duration": 9,
    "start_time": "2024-07-29T14:43:00.146Z"
   },
   {
    "duration": 6,
    "start_time": "2024-07-29T14:43:00.158Z"
   },
   {
    "duration": 59,
    "start_time": "2024-07-29T14:43:00.167Z"
   },
   {
    "duration": 25,
    "start_time": "2024-07-29T14:43:00.229Z"
   },
   {
    "duration": 17,
    "start_time": "2024-07-29T14:43:00.256Z"
   },
   {
    "duration": 15,
    "start_time": "2024-07-29T14:43:00.277Z"
   },
   {
    "duration": 17,
    "start_time": "2024-07-29T14:43:00.326Z"
   },
   {
    "duration": 471,
    "start_time": "2024-07-29T14:43:00.346Z"
   },
   {
    "duration": 464,
    "start_time": "2024-07-29T14:43:00.820Z"
   },
   {
    "duration": 15,
    "start_time": "2024-07-29T14:43:01.287Z"
   },
   {
    "duration": 223,
    "start_time": "2024-07-29T14:43:01.305Z"
   },
   {
    "duration": 18,
    "start_time": "2024-07-29T14:43:01.531Z"
   },
   {
    "duration": 492,
    "start_time": "2024-07-29T14:43:01.551Z"
   },
   {
    "duration": 434,
    "start_time": "2024-07-29T14:43:02.046Z"
   },
   {
    "duration": 15,
    "start_time": "2024-07-29T14:43:02.483Z"
   },
   {
    "duration": 215,
    "start_time": "2024-07-29T14:43:02.500Z"
   },
   {
    "duration": 22,
    "start_time": "2024-07-29T14:43:02.718Z"
   },
   {
    "duration": 517,
    "start_time": "2024-07-29T14:43:02.742Z"
   },
   {
    "duration": 413,
    "start_time": "2024-07-29T14:43:03.263Z"
   },
   {
    "duration": 16,
    "start_time": "2024-07-29T14:43:03.679Z"
   },
   {
    "duration": 207,
    "start_time": "2024-07-29T14:43:03.698Z"
   },
   {
    "duration": 23,
    "start_time": "2024-07-29T14:43:03.908Z"
   },
   {
    "duration": 520,
    "start_time": "2024-07-29T14:43:03.934Z"
   },
   {
    "duration": 430,
    "start_time": "2024-07-29T14:43:04.457Z"
   },
   {
    "duration": 15,
    "start_time": "2024-07-29T14:43:04.890Z"
   },
   {
    "duration": 215,
    "start_time": "2024-07-29T14:43:04.908Z"
   },
   {
    "duration": 8,
    "start_time": "2024-07-29T14:43:05.127Z"
   },
   {
    "duration": 1235,
    "start_time": "2024-07-29T14:43:05.139Z"
   },
   {
    "duration": 14,
    "start_time": "2024-07-29T14:44:32.600Z"
   },
   {
    "duration": 1321,
    "start_time": "2024-07-29T14:44:40.237Z"
   },
   {
    "duration": 277,
    "start_time": "2024-07-29T14:44:41.561Z"
   },
   {
    "duration": 19,
    "start_time": "2024-07-29T14:44:41.842Z"
   },
   {
    "duration": 16,
    "start_time": "2024-07-29T14:44:41.866Z"
   },
   {
    "duration": 6,
    "start_time": "2024-07-29T14:44:41.885Z"
   },
   {
    "duration": 35,
    "start_time": "2024-07-29T14:44:41.894Z"
   },
   {
    "duration": 6,
    "start_time": "2024-07-29T14:44:41.932Z"
   },
   {
    "duration": 15,
    "start_time": "2024-07-29T14:44:41.942Z"
   },
   {
    "duration": 16,
    "start_time": "2024-07-29T14:44:41.960Z"
   },
   {
    "duration": 46,
    "start_time": "2024-07-29T14:44:41.982Z"
   },
   {
    "duration": 5,
    "start_time": "2024-07-29T14:44:42.031Z"
   },
   {
    "duration": 10,
    "start_time": "2024-07-29T14:44:42.040Z"
   },
   {
    "duration": 5,
    "start_time": "2024-07-29T14:44:42.054Z"
   },
   {
    "duration": 4,
    "start_time": "2024-07-29T14:44:42.063Z"
   },
   {
    "duration": 56,
    "start_time": "2024-07-29T14:44:42.070Z"
   },
   {
    "duration": 26,
    "start_time": "2024-07-29T14:44:42.128Z"
   },
   {
    "duration": 11,
    "start_time": "2024-07-29T14:44:42.157Z"
   },
   {
    "duration": 92,
    "start_time": "2024-07-29T14:44:42.172Z"
   },
   {
    "duration": 27,
    "start_time": "2024-07-29T14:44:42.267Z"
   },
   {
    "duration": 30,
    "start_time": "2024-07-29T14:44:42.297Z"
   },
   {
    "duration": 13,
    "start_time": "2024-07-29T14:44:42.330Z"
   },
   {
    "duration": 4,
    "start_time": "2024-07-29T14:44:42.346Z"
   },
   {
    "duration": 11,
    "start_time": "2024-07-29T14:44:42.353Z"
   },
   {
    "duration": 62,
    "start_time": "2024-07-29T14:44:42.367Z"
   },
   {
    "duration": 10,
    "start_time": "2024-07-29T14:44:42.432Z"
   },
   {
    "duration": 18,
    "start_time": "2024-07-29T14:44:42.444Z"
   },
   {
    "duration": 10,
    "start_time": "2024-07-29T14:44:42.464Z"
   },
   {
    "duration": 60,
    "start_time": "2024-07-29T14:44:42.483Z"
   },
   {
    "duration": 11,
    "start_time": "2024-07-29T14:44:42.547Z"
   },
   {
    "duration": 11,
    "start_time": "2024-07-29T14:44:42.561Z"
   },
   {
    "duration": 56,
    "start_time": "2024-07-29T14:44:42.575Z"
   },
   {
    "duration": 11,
    "start_time": "2024-07-29T14:44:42.634Z"
   },
   {
    "duration": 14,
    "start_time": "2024-07-29T14:44:42.647Z"
   },
   {
    "duration": 21,
    "start_time": "2024-07-29T14:44:42.664Z"
   },
   {
    "duration": 21,
    "start_time": "2024-07-29T14:44:42.727Z"
   },
   {
    "duration": 19,
    "start_time": "2024-07-29T14:44:42.751Z"
   },
   {
    "duration": 55,
    "start_time": "2024-07-29T14:44:42.774Z"
   },
   {
    "duration": 32,
    "start_time": "2024-07-29T14:44:42.832Z"
   },
   {
    "duration": 12,
    "start_time": "2024-07-29T14:44:42.867Z"
   },
   {
    "duration": 45,
    "start_time": "2024-07-29T14:44:42.881Z"
   },
   {
    "duration": 7,
    "start_time": "2024-07-29T14:44:42.929Z"
   },
   {
    "duration": 20,
    "start_time": "2024-07-29T14:44:42.939Z"
   },
   {
    "duration": 13,
    "start_time": "2024-07-29T14:44:42.962Z"
   },
   {
    "duration": 10,
    "start_time": "2024-07-29T14:44:42.978Z"
   },
   {
    "duration": 7,
    "start_time": "2024-07-29T14:44:43.028Z"
   },
   {
    "duration": 12,
    "start_time": "2024-07-29T14:44:43.038Z"
   },
   {
    "duration": 24,
    "start_time": "2024-07-29T14:44:43.052Z"
   },
   {
    "duration": 60,
    "start_time": "2024-07-29T14:44:43.078Z"
   },
   {
    "duration": 16,
    "start_time": "2024-07-29T14:44:43.141Z"
   },
   {
    "duration": 18,
    "start_time": "2024-07-29T14:44:43.160Z"
   },
   {
    "duration": 532,
    "start_time": "2024-07-29T14:44:43.181Z"
   },
   {
    "duration": 455,
    "start_time": "2024-07-29T14:44:43.725Z"
   },
   {
    "duration": 15,
    "start_time": "2024-07-29T14:44:44.183Z"
   },
   {
    "duration": 206,
    "start_time": "2024-07-29T14:44:44.201Z"
   },
   {
    "duration": 28,
    "start_time": "2024-07-29T14:44:44.410Z"
   },
   {
    "duration": 490,
    "start_time": "2024-07-29T14:44:44.441Z"
   },
   {
    "duration": 441,
    "start_time": "2024-07-29T14:44:44.934Z"
   },
   {
    "duration": 15,
    "start_time": "2024-07-29T14:44:45.378Z"
   },
   {
    "duration": 216,
    "start_time": "2024-07-29T14:44:45.396Z"
   },
   {
    "duration": 26,
    "start_time": "2024-07-29T14:44:45.615Z"
   },
   {
    "duration": 509,
    "start_time": "2024-07-29T14:44:45.644Z"
   },
   {
    "duration": 406,
    "start_time": "2024-07-29T14:44:46.156Z"
   },
   {
    "duration": 15,
    "start_time": "2024-07-29T14:44:46.565Z"
   },
   {
    "duration": 201,
    "start_time": "2024-07-29T14:44:46.583Z"
   },
   {
    "duration": 17,
    "start_time": "2024-07-29T14:44:46.787Z"
   },
   {
    "duration": 537,
    "start_time": "2024-07-29T14:44:46.806Z"
   },
   {
    "duration": 433,
    "start_time": "2024-07-29T14:44:47.346Z"
   },
   {
    "duration": 15,
    "start_time": "2024-07-29T14:44:47.782Z"
   },
   {
    "duration": 219,
    "start_time": "2024-07-29T14:44:47.800Z"
   },
   {
    "duration": 8,
    "start_time": "2024-07-29T14:44:48.026Z"
   },
   {
    "duration": 12,
    "start_time": "2024-07-29T14:44:48.037Z"
   },
   {
    "duration": 23,
    "start_time": "2024-07-29T14:44:54.557Z"
   },
   {
    "duration": 64,
    "start_time": "2024-07-29T14:48:07.576Z"
   },
   {
    "duration": 59,
    "start_time": "2024-07-29T14:48:40.951Z"
   },
   {
    "duration": 129,
    "start_time": "2024-07-29T14:49:19.651Z"
   },
   {
    "duration": 729,
    "start_time": "2024-07-29T14:53:59.533Z"
   },
   {
    "duration": 6,
    "start_time": "2024-07-29T14:57:12.485Z"
   },
   {
    "duration": 11,
    "start_time": "2024-07-29T15:00:54.007Z"
   },
   {
    "duration": 7,
    "start_time": "2024-07-29T15:01:11.088Z"
   },
   {
    "duration": 1325,
    "start_time": "2024-07-29T15:01:26.938Z"
   },
   {
    "duration": 296,
    "start_time": "2024-07-29T15:01:28.267Z"
   },
   {
    "duration": 16,
    "start_time": "2024-07-29T15:01:28.566Z"
   },
   {
    "duration": 17,
    "start_time": "2024-07-29T15:01:28.587Z"
   },
   {
    "duration": 22,
    "start_time": "2024-07-29T15:01:28.607Z"
   },
   {
    "duration": 7,
    "start_time": "2024-07-29T15:01:28.632Z"
   },
   {
    "duration": 5,
    "start_time": "2024-07-29T15:01:28.642Z"
   },
   {
    "duration": 13,
    "start_time": "2024-07-29T15:01:28.650Z"
   },
   {
    "duration": 15,
    "start_time": "2024-07-29T15:01:28.667Z"
   },
   {
    "duration": 9,
    "start_time": "2024-07-29T15:01:28.731Z"
   },
   {
    "duration": 6,
    "start_time": "2024-07-29T15:01:28.743Z"
   },
   {
    "duration": 10,
    "start_time": "2024-07-29T15:01:28.752Z"
   },
   {
    "duration": 6,
    "start_time": "2024-07-29T15:01:28.765Z"
   },
   {
    "duration": 5,
    "start_time": "2024-07-29T15:01:28.773Z"
   },
   {
    "duration": 7,
    "start_time": "2024-07-29T15:01:28.827Z"
   },
   {
    "duration": 26,
    "start_time": "2024-07-29T15:01:28.836Z"
   },
   {
    "duration": 11,
    "start_time": "2024-07-29T15:01:28.865Z"
   },
   {
    "duration": 90,
    "start_time": "2024-07-29T15:01:28.879Z"
   },
   {
    "duration": 28,
    "start_time": "2024-07-29T15:01:28.972Z"
   },
   {
    "duration": 30,
    "start_time": "2024-07-29T15:01:29.003Z"
   },
   {
    "duration": 13,
    "start_time": "2024-07-29T15:01:29.036Z"
   },
   {
    "duration": 6,
    "start_time": "2024-07-29T15:01:29.052Z"
   },
   {
    "duration": 12,
    "start_time": "2024-07-29T15:01:29.061Z"
   },
   {
    "duration": 60,
    "start_time": "2024-07-29T15:01:29.076Z"
   },
   {
    "duration": 10,
    "start_time": "2024-07-29T15:01:29.139Z"
   },
   {
    "duration": 17,
    "start_time": "2024-07-29T15:01:29.152Z"
   },
   {
    "duration": 10,
    "start_time": "2024-07-29T15:01:29.171Z"
   },
   {
    "duration": 22,
    "start_time": "2024-07-29T15:01:29.227Z"
   },
   {
    "duration": 11,
    "start_time": "2024-07-29T15:01:29.252Z"
   },
   {
    "duration": 10,
    "start_time": "2024-07-29T15:01:29.267Z"
   },
   {
    "duration": 58,
    "start_time": "2024-07-29T15:01:29.280Z"
   },
   {
    "duration": 12,
    "start_time": "2024-07-29T15:01:29.342Z"
   },
   {
    "duration": 13,
    "start_time": "2024-07-29T15:01:29.357Z"
   },
   {
    "duration": 54,
    "start_time": "2024-07-29T15:01:29.373Z"
   },
   {
    "duration": 26,
    "start_time": "2024-07-29T15:01:29.430Z"
   },
   {
    "duration": 23,
    "start_time": "2024-07-29T15:01:29.460Z"
   },
   {
    "duration": 54,
    "start_time": "2024-07-29T15:01:29.490Z"
   },
   {
    "duration": 29,
    "start_time": "2024-07-29T15:01:29.547Z"
   },
   {
    "duration": 14,
    "start_time": "2024-07-29T15:01:29.579Z"
   },
   {
    "duration": 39,
    "start_time": "2024-07-29T15:01:29.595Z"
   },
   {
    "duration": 7,
    "start_time": "2024-07-29T15:01:29.637Z"
   },
   {
    "duration": 21,
    "start_time": "2024-07-29T15:01:29.647Z"
   },
   {
    "duration": 57,
    "start_time": "2024-07-29T15:01:29.670Z"
   },
   {
    "duration": 9,
    "start_time": "2024-07-29T15:01:29.730Z"
   },
   {
    "duration": 6,
    "start_time": "2024-07-29T15:01:29.743Z"
   },
   {
    "duration": 10,
    "start_time": "2024-07-29T15:01:29.752Z"
   },
   {
    "duration": 61,
    "start_time": "2024-07-29T15:01:29.765Z"
   },
   {
    "duration": 18,
    "start_time": "2024-07-29T15:01:29.829Z"
   },
   {
    "duration": 18,
    "start_time": "2024-07-29T15:01:29.850Z"
   },
   {
    "duration": 54,
    "start_time": "2024-07-29T15:01:29.872Z"
   },
   {
    "duration": 481,
    "start_time": "2024-07-29T15:01:29.929Z"
   },
   {
    "duration": 473,
    "start_time": "2024-07-29T15:01:30.413Z"
   },
   {
    "duration": 16,
    "start_time": "2024-07-29T15:01:30.888Z"
   },
   {
    "duration": 208,
    "start_time": "2024-07-29T15:01:30.907Z"
   },
   {
    "duration": 21,
    "start_time": "2024-07-29T15:01:31.119Z"
   },
   {
    "duration": 498,
    "start_time": "2024-07-29T15:01:31.143Z"
   },
   {
    "duration": 431,
    "start_time": "2024-07-29T15:01:31.644Z"
   },
   {
    "duration": 14,
    "start_time": "2024-07-29T15:01:32.078Z"
   },
   {
    "duration": 211,
    "start_time": "2024-07-29T15:01:32.095Z"
   },
   {
    "duration": 25,
    "start_time": "2024-07-29T15:01:32.309Z"
   },
   {
    "duration": 512,
    "start_time": "2024-07-29T15:01:32.337Z"
   },
   {
    "duration": 418,
    "start_time": "2024-07-29T15:01:32.852Z"
   },
   {
    "duration": 15,
    "start_time": "2024-07-29T15:01:33.273Z"
   },
   {
    "duration": 200,
    "start_time": "2024-07-29T15:01:33.291Z"
   },
   {
    "duration": 32,
    "start_time": "2024-07-29T15:01:33.494Z"
   },
   {
    "duration": 525,
    "start_time": "2024-07-29T15:01:33.528Z"
   },
   {
    "duration": 418,
    "start_time": "2024-07-29T15:01:34.057Z"
   },
   {
    "duration": 16,
    "start_time": "2024-07-29T15:01:34.478Z"
   },
   {
    "duration": 216,
    "start_time": "2024-07-29T15:01:34.497Z"
   },
   {
    "duration": 6,
    "start_time": "2024-07-29T15:01:34.725Z"
   },
   {
    "duration": 8,
    "start_time": "2024-07-29T15:01:34.734Z"
   },
   {
    "duration": 25,
    "start_time": "2024-07-29T15:18:10.256Z"
   },
   {
    "duration": 7,
    "start_time": "2024-07-29T15:19:35.288Z"
   },
   {
    "duration": 26,
    "start_time": "2024-07-29T15:19:43.120Z"
   },
   {
    "duration": 24,
    "start_time": "2024-07-29T15:23:26.602Z"
   },
   {
    "duration": 25,
    "start_time": "2024-07-29T15:23:47.075Z"
   },
   {
    "duration": 19,
    "start_time": "2024-07-29T15:24:27.066Z"
   },
   {
    "duration": 116,
    "start_time": "2024-07-29T15:24:37.478Z"
   },
   {
    "duration": 887,
    "start_time": "2024-07-29T15:35:03.577Z"
   },
   {
    "duration": 29,
    "start_time": "2024-07-29T15:35:53.269Z"
   },
   {
    "duration": 28,
    "start_time": "2024-07-29T15:35:59.025Z"
   },
   {
    "duration": 29,
    "start_time": "2024-07-29T15:39:45.409Z"
   },
   {
    "duration": 28,
    "start_time": "2024-07-29T15:40:03.665Z"
   },
   {
    "duration": 30,
    "start_time": "2024-07-29T15:40:21.750Z"
   },
   {
    "duration": 7,
    "start_time": "2024-07-29T15:41:19.664Z"
   },
   {
    "duration": 8,
    "start_time": "2024-07-29T15:42:52.237Z"
   },
   {
    "duration": 6,
    "start_time": "2024-07-29T15:43:04.881Z"
   },
   {
    "duration": 6,
    "start_time": "2024-07-29T15:43:26.025Z"
   },
   {
    "duration": 30,
    "start_time": "2024-07-29T15:46:07.265Z"
   },
   {
    "duration": 8,
    "start_time": "2024-07-29T15:48:54.080Z"
   },
   {
    "duration": 11,
    "start_time": "2024-07-29T15:54:29.904Z"
   },
   {
    "duration": 11,
    "start_time": "2024-07-29T15:55:55.658Z"
   },
   {
    "duration": 11,
    "start_time": "2024-07-29T15:56:37.237Z"
   },
   {
    "duration": 10,
    "start_time": "2024-07-29T15:57:22.946Z"
   },
   {
    "duration": 331,
    "start_time": "2024-07-29T17:38:21.107Z"
   },
   {
    "duration": 1276,
    "start_time": "2024-07-29T17:38:30.991Z"
   },
   {
    "duration": 267,
    "start_time": "2024-07-29T17:38:32.270Z"
   },
   {
    "duration": 17,
    "start_time": "2024-07-29T17:38:32.540Z"
   },
   {
    "duration": 16,
    "start_time": "2024-07-29T17:38:32.561Z"
   },
   {
    "duration": 6,
    "start_time": "2024-07-29T17:38:32.580Z"
   },
   {
    "duration": 38,
    "start_time": "2024-07-29T17:38:32.590Z"
   },
   {
    "duration": 6,
    "start_time": "2024-07-29T17:38:32.631Z"
   },
   {
    "duration": 16,
    "start_time": "2024-07-29T17:38:32.640Z"
   },
   {
    "duration": 14,
    "start_time": "2024-07-29T17:38:32.659Z"
   },
   {
    "duration": 49,
    "start_time": "2024-07-29T17:38:32.678Z"
   },
   {
    "duration": 7,
    "start_time": "2024-07-29T17:38:32.730Z"
   },
   {
    "duration": 9,
    "start_time": "2024-07-29T17:38:32.740Z"
   },
   {
    "duration": 5,
    "start_time": "2024-07-29T17:38:32.753Z"
   },
   {
    "duration": 4,
    "start_time": "2024-07-29T17:38:32.761Z"
   },
   {
    "duration": 59,
    "start_time": "2024-07-29T17:38:32.768Z"
   },
   {
    "duration": 25,
    "start_time": "2024-07-29T17:38:32.830Z"
   },
   {
    "duration": 11,
    "start_time": "2024-07-29T17:38:32.858Z"
   },
   {
    "duration": 89,
    "start_time": "2024-07-29T17:38:32.872Z"
   },
   {
    "duration": 34,
    "start_time": "2024-07-29T17:38:32.965Z"
   },
   {
    "duration": 31,
    "start_time": "2024-07-29T17:38:33.002Z"
   },
   {
    "duration": 12,
    "start_time": "2024-07-29T17:38:33.036Z"
   },
   {
    "duration": 4,
    "start_time": "2024-07-29T17:38:33.051Z"
   },
   {
    "duration": 12,
    "start_time": "2024-07-29T17:38:33.058Z"
   },
   {
    "duration": 58,
    "start_time": "2024-07-29T17:38:33.073Z"
   },
   {
    "duration": 10,
    "start_time": "2024-07-29T17:38:33.134Z"
   },
   {
    "duration": 17,
    "start_time": "2024-07-29T17:38:33.147Z"
   },
   {
    "duration": 9,
    "start_time": "2024-07-29T17:38:33.167Z"
   },
   {
    "duration": 61,
    "start_time": "2024-07-29T17:38:33.185Z"
   },
   {
    "duration": 11,
    "start_time": "2024-07-29T17:38:33.249Z"
   },
   {
    "duration": 10,
    "start_time": "2024-07-29T17:38:33.263Z"
   },
   {
    "duration": 58,
    "start_time": "2024-07-29T17:38:33.277Z"
   },
   {
    "duration": 11,
    "start_time": "2024-07-29T17:38:33.337Z"
   },
   {
    "duration": 13,
    "start_time": "2024-07-29T17:38:33.351Z"
   },
   {
    "duration": 22,
    "start_time": "2024-07-29T17:38:33.367Z"
   },
   {
    "duration": 21,
    "start_time": "2024-07-29T17:38:33.426Z"
   },
   {
    "duration": 19,
    "start_time": "2024-07-29T17:38:33.450Z"
   },
   {
    "duration": 56,
    "start_time": "2024-07-29T17:38:33.472Z"
   },
   {
    "duration": 31,
    "start_time": "2024-07-29T17:38:33.531Z"
   },
   {
    "duration": 11,
    "start_time": "2024-07-29T17:38:33.566Z"
   },
   {
    "duration": 11,
    "start_time": "2024-07-29T17:38:33.579Z"
   },
   {
    "duration": 40,
    "start_time": "2024-07-29T17:38:33.592Z"
   },
   {
    "duration": 20,
    "start_time": "2024-07-29T17:38:33.635Z"
   },
   {
    "duration": 13,
    "start_time": "2024-07-29T17:38:33.659Z"
   },
   {
    "duration": 10,
    "start_time": "2024-07-29T17:38:33.675Z"
   },
   {
    "duration": 7,
    "start_time": "2024-07-29T17:38:33.727Z"
   },
   {
    "duration": 13,
    "start_time": "2024-07-29T17:38:33.737Z"
   },
   {
    "duration": 21,
    "start_time": "2024-07-29T17:38:33.752Z"
   },
   {
    "duration": 56,
    "start_time": "2024-07-29T17:38:33.776Z"
   },
   {
    "duration": 16,
    "start_time": "2024-07-29T17:38:33.835Z"
   },
   {
    "duration": 18,
    "start_time": "2024-07-29T17:38:33.854Z"
   },
   {
    "duration": 534,
    "start_time": "2024-07-29T17:38:33.875Z"
   },
   {
    "duration": 482,
    "start_time": "2024-07-29T17:38:34.412Z"
   },
   {
    "duration": 28,
    "start_time": "2024-07-29T17:38:34.897Z"
   },
   {
    "duration": 206,
    "start_time": "2024-07-29T17:38:34.928Z"
   },
   {
    "duration": 17,
    "start_time": "2024-07-29T17:38:35.137Z"
   },
   {
    "duration": 10,
    "start_time": "2024-07-29T17:38:35.156Z"
   },
   {
    "duration": 0,
    "start_time": "2024-07-29T17:38:35.168Z"
   },
   {
    "duration": 0,
    "start_time": "2024-07-29T17:38:35.171Z"
   },
   {
    "duration": 0,
    "start_time": "2024-07-29T17:38:35.173Z"
   },
   {
    "duration": 0,
    "start_time": "2024-07-29T17:38:35.175Z"
   },
   {
    "duration": 0,
    "start_time": "2024-07-29T17:38:35.177Z"
   },
   {
    "duration": 0,
    "start_time": "2024-07-29T17:38:35.179Z"
   },
   {
    "duration": 0,
    "start_time": "2024-07-29T17:38:35.182Z"
   },
   {
    "duration": 0,
    "start_time": "2024-07-29T17:38:35.227Z"
   },
   {
    "duration": 0,
    "start_time": "2024-07-29T17:38:35.229Z"
   },
   {
    "duration": 0,
    "start_time": "2024-07-29T17:38:35.231Z"
   },
   {
    "duration": 0,
    "start_time": "2024-07-29T17:38:35.233Z"
   },
   {
    "duration": 0,
    "start_time": "2024-07-29T17:38:35.235Z"
   },
   {
    "duration": 0,
    "start_time": "2024-07-29T17:38:35.237Z"
   },
   {
    "duration": 0,
    "start_time": "2024-07-29T17:38:35.239Z"
   },
   {
    "duration": 0,
    "start_time": "2024-07-29T17:38:35.241Z"
   },
   {
    "duration": 0,
    "start_time": "2024-07-29T17:38:35.243Z"
   },
   {
    "duration": 1297,
    "start_time": "2024-07-29T17:39:10.676Z"
   },
   {
    "duration": 289,
    "start_time": "2024-07-29T17:39:11.976Z"
   },
   {
    "duration": 16,
    "start_time": "2024-07-29T17:39:12.268Z"
   },
   {
    "duration": 19,
    "start_time": "2024-07-29T17:39:12.286Z"
   },
   {
    "duration": 22,
    "start_time": "2024-07-29T17:39:12.309Z"
   },
   {
    "duration": 9,
    "start_time": "2024-07-29T17:39:12.335Z"
   },
   {
    "duration": 7,
    "start_time": "2024-07-29T17:39:12.347Z"
   },
   {
    "duration": 16,
    "start_time": "2024-07-29T17:39:12.356Z"
   },
   {
    "duration": 55,
    "start_time": "2024-07-29T17:39:12.376Z"
   },
   {
    "duration": 12,
    "start_time": "2024-07-29T17:39:12.434Z"
   },
   {
    "duration": 5,
    "start_time": "2024-07-29T17:39:12.448Z"
   },
   {
    "duration": 10,
    "start_time": "2024-07-29T17:39:12.456Z"
   },
   {
    "duration": 8,
    "start_time": "2024-07-29T17:39:12.470Z"
   },
   {
    "duration": 4,
    "start_time": "2024-07-29T17:39:12.528Z"
   },
   {
    "duration": 6,
    "start_time": "2024-07-29T17:39:12.535Z"
   },
   {
    "duration": 26,
    "start_time": "2024-07-29T17:39:12.544Z"
   },
   {
    "duration": 11,
    "start_time": "2024-07-29T17:39:12.573Z"
   },
   {
    "duration": 53,
    "start_time": "2024-07-29T17:39:12.626Z"
   },
   {
    "duration": 50,
    "start_time": "2024-07-29T17:39:12.682Z"
   },
   {
    "duration": 16,
    "start_time": "2024-07-29T17:39:12.735Z"
   },
   {
    "duration": 13,
    "start_time": "2024-07-29T17:39:12.754Z"
   },
   {
    "duration": 5,
    "start_time": "2024-07-29T17:39:12.770Z"
   },
   {
    "duration": 14,
    "start_time": "2024-07-29T17:39:12.778Z"
   },
   {
    "duration": 20,
    "start_time": "2024-07-29T17:39:12.827Z"
   },
   {
    "duration": 10,
    "start_time": "2024-07-29T17:39:12.850Z"
   },
   {
    "duration": 19,
    "start_time": "2024-07-29T17:39:12.863Z"
   },
   {
    "duration": 10,
    "start_time": "2024-07-29T17:39:12.926Z"
   },
   {
    "duration": 22,
    "start_time": "2024-07-29T17:39:12.938Z"
   },
   {
    "duration": 10,
    "start_time": "2024-07-29T17:39:12.964Z"
   },
   {
    "duration": 50,
    "start_time": "2024-07-29T17:39:12.977Z"
   },
   {
    "duration": 21,
    "start_time": "2024-07-29T17:39:13.030Z"
   },
   {
    "duration": 12,
    "start_time": "2024-07-29T17:39:13.053Z"
   },
   {
    "duration": 13,
    "start_time": "2024-07-29T17:39:13.067Z"
   },
   {
    "duration": 57,
    "start_time": "2024-07-29T17:39:13.084Z"
   },
   {
    "duration": 22,
    "start_time": "2024-07-29T17:39:13.144Z"
   },
   {
    "duration": 21,
    "start_time": "2024-07-29T17:39:13.170Z"
   },
   {
    "duration": 24,
    "start_time": "2024-07-29T17:39:13.225Z"
   },
   {
    "duration": 30,
    "start_time": "2024-07-29T17:39:13.252Z"
   },
   {
    "duration": 40,
    "start_time": "2024-07-29T17:39:13.286Z"
   },
   {
    "duration": 9,
    "start_time": "2024-07-29T17:39:13.329Z"
   },
   {
    "duration": 7,
    "start_time": "2024-07-29T17:39:13.347Z"
   },
   {
    "duration": 21,
    "start_time": "2024-07-29T17:39:13.357Z"
   },
   {
    "duration": 51,
    "start_time": "2024-07-29T17:39:13.381Z"
   },
   {
    "duration": 10,
    "start_time": "2024-07-29T17:39:13.434Z"
   },
   {
    "duration": 9,
    "start_time": "2024-07-29T17:39:13.447Z"
   },
   {
    "duration": 11,
    "start_time": "2024-07-29T17:39:13.459Z"
   },
   {
    "duration": 64,
    "start_time": "2024-07-29T17:39:13.473Z"
   },
   {
    "duration": 18,
    "start_time": "2024-07-29T17:39:13.540Z"
   },
   {
    "duration": 21,
    "start_time": "2024-07-29T17:39:13.561Z"
   },
   {
    "duration": 45,
    "start_time": "2024-07-29T17:39:13.586Z"
   },
   {
    "duration": 485,
    "start_time": "2024-07-29T17:39:13.634Z"
   },
   {
    "duration": 463,
    "start_time": "2024-07-29T17:39:14.125Z"
   },
   {
    "duration": 15,
    "start_time": "2024-07-29T17:39:14.592Z"
   },
   {
    "duration": 193,
    "start_time": "2024-07-29T17:39:14.625Z"
   },
   {
    "duration": 18,
    "start_time": "2024-07-29T17:39:14.825Z"
   },
   {
    "duration": 490,
    "start_time": "2024-07-29T17:39:14.846Z"
   },
   {
    "duration": 438,
    "start_time": "2024-07-29T17:39:15.339Z"
   },
   {
    "duration": 17,
    "start_time": "2024-07-29T17:39:15.781Z"
   },
   {
    "duration": 228,
    "start_time": "2024-07-29T17:39:15.800Z"
   },
   {
    "duration": 17,
    "start_time": "2024-07-29T17:39:16.031Z"
   },
   {
    "duration": 501,
    "start_time": "2024-07-29T17:39:16.050Z"
   },
   {
    "duration": 414,
    "start_time": "2024-07-29T17:39:16.556Z"
   },
   {
    "duration": 17,
    "start_time": "2024-07-29T17:39:16.973Z"
   },
   {
    "duration": 208,
    "start_time": "2024-07-29T17:39:16.993Z"
   },
   {
    "duration": 27,
    "start_time": "2024-07-29T17:39:17.204Z"
   },
   {
    "duration": 500,
    "start_time": "2024-07-29T17:39:17.233Z"
   },
   {
    "duration": 436,
    "start_time": "2024-07-29T17:39:17.736Z"
   },
   {
    "duration": 16,
    "start_time": "2024-07-29T17:39:18.175Z"
   },
   {
    "duration": 211,
    "start_time": "2024-07-29T17:39:18.194Z"
   },
   {
    "duration": 8,
    "start_time": "2024-07-29T17:39:18.408Z"
   },
   {
    "duration": 132,
    "start_time": "2024-07-29T17:39:18.429Z"
   },
   {
    "duration": 12,
    "start_time": "2024-07-29T17:39:18.563Z"
   },
   {
    "duration": 1541,
    "start_time": "2024-07-29T17:40:47.994Z"
   },
   {
    "duration": 1316,
    "start_time": "2024-07-29T17:40:56.358Z"
   },
   {
    "duration": 282,
    "start_time": "2024-07-29T17:40:57.678Z"
   },
   {
    "duration": 16,
    "start_time": "2024-07-29T17:40:57.963Z"
   },
   {
    "duration": 16,
    "start_time": "2024-07-29T17:40:57.984Z"
   },
   {
    "duration": 26,
    "start_time": "2024-07-29T17:40:58.003Z"
   },
   {
    "duration": 7,
    "start_time": "2024-07-29T17:40:58.033Z"
   },
   {
    "duration": 5,
    "start_time": "2024-07-29T17:40:58.043Z"
   },
   {
    "duration": 15,
    "start_time": "2024-07-29T17:40:58.052Z"
   },
   {
    "duration": 58,
    "start_time": "2024-07-29T17:40:58.070Z"
   },
   {
    "duration": 11,
    "start_time": "2024-07-29T17:40:58.133Z"
   },
   {
    "duration": 5,
    "start_time": "2024-07-29T17:40:58.148Z"
   },
   {
    "duration": 10,
    "start_time": "2024-07-29T17:40:58.156Z"
   },
   {
    "duration": 5,
    "start_time": "2024-07-29T17:40:58.169Z"
   },
   {
    "duration": 52,
    "start_time": "2024-07-29T17:40:58.178Z"
   },
   {
    "duration": 7,
    "start_time": "2024-07-29T17:40:58.234Z"
   },
   {
    "duration": 26,
    "start_time": "2024-07-29T17:40:58.244Z"
   },
   {
    "duration": 14,
    "start_time": "2024-07-29T17:40:58.273Z"
   },
   {
    "duration": 55,
    "start_time": "2024-07-29T17:40:58.327Z"
   },
   {
    "duration": 50,
    "start_time": "2024-07-29T17:40:58.384Z"
   },
   {
    "duration": 14,
    "start_time": "2024-07-29T17:40:58.436Z"
   },
   {
    "duration": 12,
    "start_time": "2024-07-29T17:40:58.453Z"
   },
   {
    "duration": 5,
    "start_time": "2024-07-29T17:40:58.467Z"
   },
   {
    "duration": 13,
    "start_time": "2024-07-29T17:40:58.475Z"
   },
   {
    "duration": 19,
    "start_time": "2024-07-29T17:40:58.531Z"
   },
   {
    "duration": 15,
    "start_time": "2024-07-29T17:40:58.553Z"
   },
   {
    "duration": 17,
    "start_time": "2024-07-29T17:40:58.571Z"
   },
   {
    "duration": 38,
    "start_time": "2024-07-29T17:40:58.591Z"
   },
   {
    "duration": 22,
    "start_time": "2024-07-29T17:40:58.639Z"
   },
   {
    "duration": 11,
    "start_time": "2024-07-29T17:40:58.664Z"
   },
   {
    "duration": 50,
    "start_time": "2024-07-29T17:40:58.679Z"
   },
   {
    "duration": 21,
    "start_time": "2024-07-29T17:40:58.732Z"
   },
   {
    "duration": 11,
    "start_time": "2024-07-29T17:40:58.756Z"
   },
   {
    "duration": 13,
    "start_time": "2024-07-29T17:40:58.770Z"
   },
   {
    "duration": 57,
    "start_time": "2024-07-29T17:40:58.787Z"
   },
   {
    "duration": 23,
    "start_time": "2024-07-29T17:40:58.846Z"
   },
   {
    "duration": 20,
    "start_time": "2024-07-29T17:40:58.871Z"
   },
   {
    "duration": 52,
    "start_time": "2024-07-29T17:40:58.895Z"
   },
   {
    "duration": 29,
    "start_time": "2024-07-29T17:40:58.950Z"
   },
   {
    "duration": 44,
    "start_time": "2024-07-29T17:40:58.982Z"
   },
   {
    "duration": 9,
    "start_time": "2024-07-29T17:40:59.028Z"
   },
   {
    "duration": 9,
    "start_time": "2024-07-29T17:40:59.040Z"
   },
   {
    "duration": 20,
    "start_time": "2024-07-29T17:40:59.052Z"
   },
   {
    "duration": 53,
    "start_time": "2024-07-29T17:40:59.076Z"
   },
   {
    "duration": 8,
    "start_time": "2024-07-29T17:40:59.132Z"
   },
   {
    "duration": 7,
    "start_time": "2024-07-29T17:40:59.143Z"
   },
   {
    "duration": 12,
    "start_time": "2024-07-29T17:40:59.154Z"
   },
   {
    "duration": 62,
    "start_time": "2024-07-29T17:40:59.170Z"
   },
   {
    "duration": 17,
    "start_time": "2024-07-29T17:40:59.235Z"
   },
   {
    "duration": 16,
    "start_time": "2024-07-29T17:40:59.255Z"
   },
   {
    "duration": 52,
    "start_time": "2024-07-29T17:40:59.274Z"
   },
   {
    "duration": 488,
    "start_time": "2024-07-29T17:40:59.329Z"
   },
   {
    "duration": 469,
    "start_time": "2024-07-29T17:40:59.826Z"
   },
   {
    "duration": 27,
    "start_time": "2024-07-29T17:41:00.298Z"
   },
   {
    "duration": 215,
    "start_time": "2024-07-29T17:41:00.328Z"
   },
   {
    "duration": 18,
    "start_time": "2024-07-29T17:41:00.546Z"
   },
   {
    "duration": 474,
    "start_time": "2024-07-29T17:41:00.566Z"
   },
   {
    "duration": 444,
    "start_time": "2024-07-29T17:41:01.043Z"
   },
   {
    "duration": 15,
    "start_time": "2024-07-29T17:41:01.491Z"
   },
   {
    "duration": 199,
    "start_time": "2024-07-29T17:41:01.526Z"
   },
   {
    "duration": 17,
    "start_time": "2024-07-29T17:41:01.728Z"
   },
   {
    "duration": 512,
    "start_time": "2024-07-29T17:41:01.748Z"
   },
   {
    "duration": 411,
    "start_time": "2024-07-29T17:41:02.263Z"
   },
   {
    "duration": 15,
    "start_time": "2024-07-29T17:41:02.677Z"
   },
   {
    "duration": 215,
    "start_time": "2024-07-29T17:41:02.695Z"
   },
   {
    "duration": 24,
    "start_time": "2024-07-29T17:41:02.913Z"
   },
   {
    "duration": 518,
    "start_time": "2024-07-29T17:41:02.940Z"
   },
   {
    "duration": 423,
    "start_time": "2024-07-29T17:41:03.461Z"
   },
   {
    "duration": 15,
    "start_time": "2024-07-29T17:41:03.887Z"
   },
   {
    "duration": 212,
    "start_time": "2024-07-29T17:41:03.905Z"
   },
   {
    "duration": 7,
    "start_time": "2024-07-29T17:41:04.120Z"
   },
   {
    "duration": 133,
    "start_time": "2024-07-29T17:41:04.130Z"
   },
   {
    "duration": 11,
    "start_time": "2024-07-29T17:41:04.266Z"
   },
   {
    "duration": 188,
    "start_time": "2024-07-29T17:42:16.321Z"
   },
   {
    "duration": 1344,
    "start_time": "2024-07-29T17:43:24.500Z"
   },
   {
    "duration": 278,
    "start_time": "2024-07-29T17:43:25.848Z"
   },
   {
    "duration": 15,
    "start_time": "2024-07-29T17:43:26.129Z"
   },
   {
    "duration": 18,
    "start_time": "2024-07-29T17:43:26.147Z"
   },
   {
    "duration": 5,
    "start_time": "2024-07-29T17:43:26.171Z"
   },
   {
    "duration": 48,
    "start_time": "2024-07-29T17:43:26.179Z"
   },
   {
    "duration": 5,
    "start_time": "2024-07-29T17:43:26.230Z"
   },
   {
    "duration": 14,
    "start_time": "2024-07-29T17:43:26.239Z"
   },
   {
    "duration": 14,
    "start_time": "2024-07-29T17:43:26.256Z"
   },
   {
    "duration": 9,
    "start_time": "2024-07-29T17:43:26.273Z"
   },
   {
    "duration": 5,
    "start_time": "2024-07-29T17:43:26.327Z"
   },
   {
    "duration": 11,
    "start_time": "2024-07-29T17:43:26.335Z"
   },
   {
    "duration": 5,
    "start_time": "2024-07-29T17:43:26.349Z"
   },
   {
    "duration": 5,
    "start_time": "2024-07-29T17:43:26.362Z"
   },
   {
    "duration": 6,
    "start_time": "2024-07-29T17:43:26.370Z"
   },
   {
    "duration": 27,
    "start_time": "2024-07-29T17:43:26.426Z"
   },
   {
    "duration": 10,
    "start_time": "2024-07-29T17:43:26.457Z"
   },
   {
    "duration": 89,
    "start_time": "2024-07-29T17:43:26.470Z"
   },
   {
    "duration": 26,
    "start_time": "2024-07-29T17:43:26.562Z"
   },
   {
    "duration": 35,
    "start_time": "2024-07-29T17:43:26.591Z"
   },
   {
    "duration": 13,
    "start_time": "2024-07-29T17:43:26.630Z"
   },
   {
    "duration": 5,
    "start_time": "2024-07-29T17:43:26.646Z"
   },
   {
    "duration": 12,
    "start_time": "2024-07-29T17:43:26.655Z"
   },
   {
    "duration": 59,
    "start_time": "2024-07-29T17:43:26.671Z"
   },
   {
    "duration": 9,
    "start_time": "2024-07-29T17:43:26.734Z"
   },
   {
    "duration": 17,
    "start_time": "2024-07-29T17:43:26.747Z"
   },
   {
    "duration": 10,
    "start_time": "2024-07-29T17:43:26.767Z"
   },
   {
    "duration": 60,
    "start_time": "2024-07-29T17:43:26.779Z"
   },
   {
    "duration": 11,
    "start_time": "2024-07-29T17:43:26.842Z"
   },
   {
    "duration": 10,
    "start_time": "2024-07-29T17:43:26.856Z"
   },
   {
    "duration": 59,
    "start_time": "2024-07-29T17:43:26.868Z"
   },
   {
    "duration": 11,
    "start_time": "2024-07-29T17:43:26.929Z"
   },
   {
    "duration": 14,
    "start_time": "2024-07-29T17:43:26.943Z"
   },
   {
    "duration": 22,
    "start_time": "2024-07-29T17:43:26.960Z"
   },
   {
    "duration": 59,
    "start_time": "2024-07-29T17:43:26.985Z"
   },
   {
    "duration": 18,
    "start_time": "2024-07-29T17:43:27.048Z"
   },
   {
    "duration": 23,
    "start_time": "2024-07-29T17:43:27.068Z"
   },
   {
    "duration": 58,
    "start_time": "2024-07-29T17:43:27.093Z"
   },
   {
    "duration": 11,
    "start_time": "2024-07-29T17:43:27.154Z"
   },
   {
    "duration": 10,
    "start_time": "2024-07-29T17:43:27.167Z"
   },
   {
    "duration": 7,
    "start_time": "2024-07-29T17:43:27.228Z"
   },
   {
    "duration": 21,
    "start_time": "2024-07-29T17:43:27.238Z"
   },
   {
    "duration": 14,
    "start_time": "2024-07-29T17:43:27.262Z"
   },
   {
    "duration": 9,
    "start_time": "2024-07-29T17:43:27.279Z"
   },
   {
    "duration": 40,
    "start_time": "2024-07-29T17:43:27.291Z"
   },
   {
    "duration": 10,
    "start_time": "2024-07-29T17:43:27.335Z"
   },
   {
    "duration": 18,
    "start_time": "2024-07-29T17:43:27.349Z"
   },
   {
    "duration": 59,
    "start_time": "2024-07-29T17:43:27.370Z"
   },
   {
    "duration": 17,
    "start_time": "2024-07-29T17:43:27.432Z"
   },
   {
    "duration": 19,
    "start_time": "2024-07-29T17:43:27.452Z"
   },
   {
    "duration": 537,
    "start_time": "2024-07-29T17:43:27.474Z"
   },
   {
    "duration": 475,
    "start_time": "2024-07-29T17:43:28.014Z"
   },
   {
    "duration": 14,
    "start_time": "2024-07-29T17:43:28.492Z"
   },
   {
    "duration": 196,
    "start_time": "2024-07-29T17:43:28.525Z"
   },
   {
    "duration": 23,
    "start_time": "2024-07-29T17:43:28.726Z"
   },
   {
    "duration": 492,
    "start_time": "2024-07-29T17:43:28.752Z"
   },
   {
    "duration": 443,
    "start_time": "2024-07-29T17:43:29.247Z"
   },
   {
    "duration": 16,
    "start_time": "2024-07-29T17:43:29.692Z"
   },
   {
    "duration": 237,
    "start_time": "2024-07-29T17:43:29.711Z"
   },
   {
    "duration": 19,
    "start_time": "2024-07-29T17:43:29.951Z"
   },
   {
    "duration": 516,
    "start_time": "2024-07-29T17:43:29.973Z"
   },
   {
    "duration": 379,
    "start_time": "2024-07-29T17:43:30.493Z"
   },
   {
    "duration": 18,
    "start_time": "2024-07-29T17:43:30.875Z"
   },
   {
    "duration": 211,
    "start_time": "2024-07-29T17:43:30.896Z"
   },
   {
    "duration": 26,
    "start_time": "2024-07-29T17:43:31.110Z"
   },
   {
    "duration": 525,
    "start_time": "2024-07-29T17:43:31.139Z"
   },
   {
    "duration": 419,
    "start_time": "2024-07-29T17:43:31.666Z"
   },
   {
    "duration": 16,
    "start_time": "2024-07-29T17:43:32.087Z"
   },
   {
    "duration": 210,
    "start_time": "2024-07-29T17:43:32.106Z"
   },
   {
    "duration": 9,
    "start_time": "2024-07-29T17:43:32.327Z"
   },
   {
    "duration": 134,
    "start_time": "2024-07-29T17:43:32.339Z"
   },
   {
    "duration": 12,
    "start_time": "2024-07-29T17:43:32.477Z"
   },
   {
    "duration": 1280,
    "start_time": "2024-07-29T17:45:30.478Z"
   },
   {
    "duration": 278,
    "start_time": "2024-07-29T17:45:31.762Z"
   },
   {
    "duration": 17,
    "start_time": "2024-07-29T17:45:32.043Z"
   },
   {
    "duration": 16,
    "start_time": "2024-07-29T17:45:32.065Z"
   },
   {
    "duration": 5,
    "start_time": "2024-07-29T17:45:32.084Z"
   },
   {
    "duration": 7,
    "start_time": "2024-07-29T17:45:32.125Z"
   },
   {
    "duration": 5,
    "start_time": "2024-07-29T17:45:32.134Z"
   },
   {
    "duration": 15,
    "start_time": "2024-07-29T17:45:32.143Z"
   },
   {
    "duration": 13,
    "start_time": "2024-07-29T17:45:32.161Z"
   },
   {
    "duration": 49,
    "start_time": "2024-07-29T17:45:32.180Z"
   },
   {
    "duration": 5,
    "start_time": "2024-07-29T17:45:32.234Z"
   },
   {
    "duration": 10,
    "start_time": "2024-07-29T17:45:32.242Z"
   },
   {
    "duration": 5,
    "start_time": "2024-07-29T17:45:32.255Z"
   },
   {
    "duration": 5,
    "start_time": "2024-07-29T17:45:32.263Z"
   },
   {
    "duration": 6,
    "start_time": "2024-07-29T17:45:32.271Z"
   },
   {
    "duration": 25,
    "start_time": "2024-07-29T17:45:32.327Z"
   },
   {
    "duration": 11,
    "start_time": "2024-07-29T17:45:32.355Z"
   },
   {
    "duration": 86,
    "start_time": "2024-07-29T17:45:32.369Z"
   },
   {
    "duration": 27,
    "start_time": "2024-07-29T17:45:32.458Z"
   },
   {
    "duration": 37,
    "start_time": "2024-07-29T17:45:32.488Z"
   },
   {
    "duration": 12,
    "start_time": "2024-07-29T17:45:32.528Z"
   },
   {
    "duration": 4,
    "start_time": "2024-07-29T17:45:32.543Z"
   },
   {
    "duration": 11,
    "start_time": "2024-07-29T17:45:32.551Z"
   },
   {
    "duration": 21,
    "start_time": "2024-07-29T17:45:32.566Z"
   },
   {
    "duration": 12,
    "start_time": "2024-07-29T17:45:32.627Z"
   },
   {
    "duration": 17,
    "start_time": "2024-07-29T17:45:32.643Z"
   },
   {
    "duration": 10,
    "start_time": "2024-07-29T17:45:32.662Z"
   },
   {
    "duration": 62,
    "start_time": "2024-07-29T17:45:32.681Z"
   },
   {
    "duration": 11,
    "start_time": "2024-07-29T17:45:32.746Z"
   },
   {
    "duration": 11,
    "start_time": "2024-07-29T17:45:32.760Z"
   },
   {
    "duration": 20,
    "start_time": "2024-07-29T17:45:32.774Z"
   },
   {
    "duration": 11,
    "start_time": "2024-07-29T17:45:32.827Z"
   },
   {
    "duration": 13,
    "start_time": "2024-07-29T17:45:32.841Z"
   },
   {
    "duration": 20,
    "start_time": "2024-07-29T17:45:32.857Z"
   },
   {
    "duration": 59,
    "start_time": "2024-07-29T17:45:32.881Z"
   },
   {
    "duration": 19,
    "start_time": "2024-07-29T17:45:32.942Z"
   },
   {
    "duration": 24,
    "start_time": "2024-07-29T17:45:32.964Z"
   },
   {
    "duration": 54,
    "start_time": "2024-07-29T17:45:32.990Z"
   },
   {
    "duration": 11,
    "start_time": "2024-07-29T17:45:33.046Z"
   },
   {
    "duration": 12,
    "start_time": "2024-07-29T17:45:33.061Z"
   },
   {
    "duration": 7,
    "start_time": "2024-07-29T17:45:33.076Z"
   },
   {
    "duration": 51,
    "start_time": "2024-07-29T17:45:33.086Z"
   },
   {
    "duration": 9,
    "start_time": "2024-07-29T17:45:33.139Z"
   },
   {
    "duration": 7,
    "start_time": "2024-07-29T17:45:33.151Z"
   },
   {
    "duration": 10,
    "start_time": "2024-07-29T17:45:33.161Z"
   },
   {
    "duration": 65,
    "start_time": "2024-07-29T17:45:33.174Z"
   },
   {
    "duration": 18,
    "start_time": "2024-07-29T17:45:33.241Z"
   },
   {
    "duration": 16,
    "start_time": "2024-07-29T17:45:33.262Z"
   },
   {
    "duration": 55,
    "start_time": "2024-07-29T17:45:33.281Z"
   },
   {
    "duration": 469,
    "start_time": "2024-07-29T17:45:33.338Z"
   },
   {
    "duration": 473,
    "start_time": "2024-07-29T17:45:33.810Z"
   },
   {
    "duration": 16,
    "start_time": "2024-07-29T17:45:34.287Z"
   },
   {
    "duration": 205,
    "start_time": "2024-07-29T17:45:34.306Z"
   },
   {
    "duration": 25,
    "start_time": "2024-07-29T17:45:34.515Z"
   },
   {
    "duration": 487,
    "start_time": "2024-07-29T17:45:34.543Z"
   },
   {
    "duration": 446,
    "start_time": "2024-07-29T17:45:35.033Z"
   },
   {
    "duration": 14,
    "start_time": "2024-07-29T17:45:35.483Z"
   },
   {
    "duration": 214,
    "start_time": "2024-07-29T17:45:35.500Z"
   },
   {
    "duration": 22,
    "start_time": "2024-07-29T17:45:35.717Z"
   },
   {
    "duration": 516,
    "start_time": "2024-07-29T17:45:35.742Z"
   },
   {
    "duration": 409,
    "start_time": "2024-07-29T17:45:36.260Z"
   },
   {
    "duration": 14,
    "start_time": "2024-07-29T17:45:36.672Z"
   },
   {
    "duration": 212,
    "start_time": "2024-07-29T17:45:36.689Z"
   },
   {
    "duration": 23,
    "start_time": "2024-07-29T17:45:36.904Z"
   },
   {
    "duration": 514,
    "start_time": "2024-07-29T17:45:36.930Z"
   },
   {
    "duration": 443,
    "start_time": "2024-07-29T17:45:37.447Z"
   },
   {
    "duration": 15,
    "start_time": "2024-07-29T17:45:37.893Z"
   },
   {
    "duration": 205,
    "start_time": "2024-07-29T17:45:37.927Z"
   },
   {
    "duration": 8,
    "start_time": "2024-07-29T17:45:38.136Z"
   },
   {
    "duration": 132,
    "start_time": "2024-07-29T17:45:38.147Z"
   },
   {
    "duration": 12,
    "start_time": "2024-07-29T17:45:38.281Z"
   },
   {
    "duration": 1440,
    "start_time": "2024-07-31T04:09:29.738Z"
   },
   {
    "duration": 388,
    "start_time": "2024-07-31T04:09:31.181Z"
   },
   {
    "duration": 17,
    "start_time": "2024-07-31T04:09:31.572Z"
   },
   {
    "duration": 18,
    "start_time": "2024-07-31T04:09:31.603Z"
   },
   {
    "duration": 6,
    "start_time": "2024-07-31T04:09:31.624Z"
   },
   {
    "duration": 7,
    "start_time": "2024-07-31T04:09:31.634Z"
   },
   {
    "duration": 6,
    "start_time": "2024-07-31T04:09:31.644Z"
   },
   {
    "duration": 62,
    "start_time": "2024-07-31T04:09:31.654Z"
   },
   {
    "duration": 18,
    "start_time": "2024-07-31T04:09:31.720Z"
   },
   {
    "duration": 11,
    "start_time": "2024-07-31T04:09:31.746Z"
   },
   {
    "duration": 46,
    "start_time": "2024-07-31T04:09:31.759Z"
   },
   {
    "duration": 11,
    "start_time": "2024-07-31T04:09:31.808Z"
   },
   {
    "duration": 8,
    "start_time": "2024-07-31T04:09:31.822Z"
   },
   {
    "duration": 4,
    "start_time": "2024-07-31T04:09:31.833Z"
   },
   {
    "duration": 6,
    "start_time": "2024-07-31T04:09:31.842Z"
   },
   {
    "duration": 74,
    "start_time": "2024-07-31T04:09:31.852Z"
   },
   {
    "duration": 11,
    "start_time": "2024-07-31T04:09:31.930Z"
   },
   {
    "duration": 94,
    "start_time": "2024-07-31T04:09:31.945Z"
   },
   {
    "duration": 28,
    "start_time": "2024-07-31T04:09:32.041Z"
   },
   {
    "duration": 34,
    "start_time": "2024-07-31T04:09:32.072Z"
   },
   {
    "duration": 13,
    "start_time": "2024-07-31T04:09:32.109Z"
   },
   {
    "duration": 5,
    "start_time": "2024-07-31T04:09:32.125Z"
   },
   {
    "duration": 13,
    "start_time": "2024-07-31T04:09:32.133Z"
   },
   {
    "duration": 61,
    "start_time": "2024-07-31T04:09:32.149Z"
   },
   {
    "duration": 11,
    "start_time": "2024-07-31T04:09:32.212Z"
   },
   {
    "duration": 18,
    "start_time": "2024-07-31T04:09:32.226Z"
   },
   {
    "duration": 10,
    "start_time": "2024-07-31T04:09:32.247Z"
   },
   {
    "duration": 60,
    "start_time": "2024-07-31T04:09:32.264Z"
   },
   {
    "duration": 11,
    "start_time": "2024-07-31T04:09:32.327Z"
   },
   {
    "duration": 11,
    "start_time": "2024-07-31T04:09:32.343Z"
   },
   {
    "duration": 66,
    "start_time": "2024-07-31T04:09:32.356Z"
   },
   {
    "duration": 12,
    "start_time": "2024-07-31T04:09:32.425Z"
   },
   {
    "duration": 14,
    "start_time": "2024-07-31T04:09:32.440Z"
   },
   {
    "duration": 55,
    "start_time": "2024-07-31T04:09:32.457Z"
   },
   {
    "duration": 24,
    "start_time": "2024-07-31T04:09:32.515Z"
   },
   {
    "duration": 20,
    "start_time": "2024-07-31T04:09:32.542Z"
   },
   {
    "duration": 57,
    "start_time": "2024-07-31T04:09:32.566Z"
   },
   {
    "duration": 23,
    "start_time": "2024-07-31T04:09:32.626Z"
   },
   {
    "duration": 11,
    "start_time": "2024-07-31T04:09:32.652Z"
   },
   {
    "duration": 10,
    "start_time": "2024-07-31T04:09:32.702Z"
   },
   {
    "duration": 7,
    "start_time": "2024-07-31T04:09:32.717Z"
   },
   {
    "duration": 16,
    "start_time": "2024-07-31T04:09:32.728Z"
   },
   {
    "duration": 55,
    "start_time": "2024-07-31T04:09:32.747Z"
   },
   {
    "duration": 7,
    "start_time": "2024-07-31T04:09:32.806Z"
   },
   {
    "duration": 16,
    "start_time": "2024-07-31T04:09:32.817Z"
   },
   {
    "duration": 21,
    "start_time": "2024-07-31T04:09:32.837Z"
   },
   {
    "duration": 57,
    "start_time": "2024-07-31T04:09:32.861Z"
   },
   {
    "duration": 17,
    "start_time": "2024-07-31T04:09:32.922Z"
   },
   {
    "duration": 16,
    "start_time": "2024-07-31T04:09:50.474Z"
   },
   {
    "duration": 24,
    "start_time": "2024-07-31T04:09:55.528Z"
   },
   {
    "duration": 27,
    "start_time": "2024-07-31T04:10:08.406Z"
   },
   {
    "duration": 23,
    "start_time": "2024-07-31T04:10:43.466Z"
   },
   {
    "duration": 25,
    "start_time": "2024-07-31T04:11:02.585Z"
   },
   {
    "duration": 1376,
    "start_time": "2024-07-31T04:12:03.100Z"
   },
   {
    "duration": 284,
    "start_time": "2024-07-31T04:12:04.479Z"
   },
   {
    "duration": 16,
    "start_time": "2024-07-31T04:12:04.766Z"
   },
   {
    "duration": 30,
    "start_time": "2024-07-31T04:12:04.785Z"
   },
   {
    "duration": 9,
    "start_time": "2024-07-31T04:12:04.822Z"
   },
   {
    "duration": 7,
    "start_time": "2024-07-31T04:12:04.835Z"
   },
   {
    "duration": 5,
    "start_time": "2024-07-31T04:12:04.846Z"
   },
   {
    "duration": 57,
    "start_time": "2024-07-31T04:12:04.855Z"
   },
   {
    "duration": 15,
    "start_time": "2024-07-31T04:12:04.915Z"
   },
   {
    "duration": 9,
    "start_time": "2024-07-31T04:12:04.933Z"
   },
   {
    "duration": 5,
    "start_time": "2024-07-31T04:12:04.945Z"
   },
   {
    "duration": 55,
    "start_time": "2024-07-31T04:12:04.953Z"
   },
   {
    "duration": 6,
    "start_time": "2024-07-31T04:12:05.011Z"
   },
   {
    "duration": 4,
    "start_time": "2024-07-31T04:12:05.027Z"
   },
   {
    "duration": 7,
    "start_time": "2024-07-31T04:12:05.034Z"
   },
   {
    "duration": 68,
    "start_time": "2024-07-31T04:12:05.044Z"
   },
   {
    "duration": 11,
    "start_time": "2024-07-31T04:12:05.115Z"
   },
   {
    "duration": 81,
    "start_time": "2024-07-31T04:12:05.129Z"
   },
   {
    "duration": 27,
    "start_time": "2024-07-31T04:12:05.213Z"
   },
   {
    "duration": 13,
    "start_time": "2024-07-31T04:12:05.243Z"
   },
   {
    "duration": 44,
    "start_time": "2024-07-31T04:12:05.259Z"
   },
   {
    "duration": 5,
    "start_time": "2024-07-31T04:12:05.306Z"
   },
   {
    "duration": 13,
    "start_time": "2024-07-31T04:12:05.314Z"
   },
   {
    "duration": 25,
    "start_time": "2024-07-31T04:12:05.330Z"
   },
   {
    "duration": 52,
    "start_time": "2024-07-31T04:12:05.359Z"
   },
   {
    "duration": 17,
    "start_time": "2024-07-31T04:12:05.417Z"
   },
   {
    "duration": 10,
    "start_time": "2024-07-31T04:12:05.437Z"
   },
   {
    "duration": 60,
    "start_time": "2024-07-31T04:12:05.450Z"
   },
   {
    "duration": 12,
    "start_time": "2024-07-31T04:12:05.513Z"
   },
   {
    "duration": 10,
    "start_time": "2024-07-31T04:12:05.528Z"
   },
   {
    "duration": 21,
    "start_time": "2024-07-31T04:12:05.541Z"
   },
   {
    "duration": 11,
    "start_time": "2024-07-31T04:12:05.601Z"
   },
   {
    "duration": 14,
    "start_time": "2024-07-31T04:12:05.614Z"
   },
   {
    "duration": 22,
    "start_time": "2024-07-31T04:12:05.631Z"
   },
   {
    "duration": 62,
    "start_time": "2024-07-31T04:12:05.656Z"
   },
   {
    "duration": 19,
    "start_time": "2024-07-31T04:12:05.721Z"
   },
   {
    "duration": 23,
    "start_time": "2024-07-31T04:12:05.743Z"
   },
   {
    "duration": 50,
    "start_time": "2024-07-31T04:12:05.769Z"
   },
   {
    "duration": 10,
    "start_time": "2024-07-31T04:12:05.822Z"
   },
   {
    "duration": 9,
    "start_time": "2024-07-31T04:12:05.835Z"
   },
   {
    "duration": 7,
    "start_time": "2024-07-31T04:12:05.851Z"
   },
   {
    "duration": 33,
    "start_time": "2024-07-31T04:12:13.030Z"
   },
   {
    "duration": 15,
    "start_time": "2024-07-31T04:12:21.065Z"
   },
   {
    "duration": 23,
    "start_time": "2024-07-31T04:12:24.557Z"
   },
   {
    "duration": 9,
    "start_time": "2024-07-31T04:12:29.906Z"
   },
   {
    "duration": 6,
    "start_time": "2024-07-31T04:12:30.591Z"
   },
   {
    "duration": 11,
    "start_time": "2024-07-31T04:12:33.576Z"
   },
   {
    "duration": 20,
    "start_time": "2024-07-31T04:16:20.797Z"
   },
   {
    "duration": 24,
    "start_time": "2024-07-31T04:16:24.219Z"
   },
   {
    "duration": 20,
    "start_time": "2024-07-31T04:20:39.866Z"
   },
   {
    "duration": 19,
    "start_time": "2024-07-31T04:20:39.890Z"
   },
   {
    "duration": 20,
    "start_time": "2024-07-31T04:20:39.913Z"
   },
   {
    "duration": 505,
    "start_time": "2024-07-31T04:20:39.935Z"
   },
   {
    "duration": 589,
    "start_time": "2024-07-31T04:20:40.446Z"
   },
   {
    "duration": 70,
    "start_time": "2024-07-31T04:20:41.038Z"
   },
   {
    "duration": 289,
    "start_time": "2024-07-31T04:20:41.112Z"
   },
   {
    "duration": 17,
    "start_time": "2024-07-31T04:20:41.405Z"
   },
   {
    "duration": 526,
    "start_time": "2024-07-31T04:20:41.425Z"
   },
   {
    "duration": 424,
    "start_time": "2024-07-31T04:20:41.954Z"
   },
   {
    "duration": 24,
    "start_time": "2024-07-31T04:20:42.382Z"
   },
   {
    "duration": 231,
    "start_time": "2024-07-31T04:20:42.410Z"
   },
   {
    "duration": 21,
    "start_time": "2024-07-31T04:20:42.645Z"
   },
   {
    "duration": 561,
    "start_time": "2024-07-31T04:20:42.673Z"
   },
   {
    "duration": 405,
    "start_time": "2024-07-31T04:20:43.237Z"
   },
   {
    "duration": 15,
    "start_time": "2024-07-31T04:20:43.645Z"
   },
   {
    "duration": 224,
    "start_time": "2024-07-31T04:20:43.663Z"
   },
   {
    "duration": 22,
    "start_time": "2024-07-31T04:20:43.890Z"
   },
   {
    "duration": 516,
    "start_time": "2024-07-31T04:20:43.915Z"
   },
   {
    "duration": 440,
    "start_time": "2024-07-31T04:20:44.434Z"
   },
   {
    "duration": 24,
    "start_time": "2024-07-31T04:20:44.877Z"
   },
   {
    "duration": 212,
    "start_time": "2024-07-31T04:20:44.905Z"
   },
   {
    "duration": 8,
    "start_time": "2024-07-31T04:20:45.120Z"
   },
   {
    "duration": 144,
    "start_time": "2024-07-31T04:20:45.132Z"
   },
   {
    "duration": 12,
    "start_time": "2024-07-31T04:20:45.279Z"
   },
   {
    "duration": 26,
    "start_time": "2024-07-31T04:21:31.342Z"
   },
   {
    "duration": 23,
    "start_time": "2024-07-31T04:21:46.233Z"
   },
   {
    "duration": 7,
    "start_time": "2024-07-31T04:22:07.065Z"
   },
   {
    "duration": 8,
    "start_time": "2024-07-31T04:22:13.285Z"
   },
   {
    "duration": 7,
    "start_time": "2024-07-31T04:22:45.985Z"
   },
   {
    "duration": 1254,
    "start_time": "2024-07-31T04:24:34.622Z"
   },
   {
    "duration": 81,
    "start_time": "2024-07-31T04:24:38.533Z"
   },
   {
    "duration": 83,
    "start_time": "2024-07-31T04:24:44.218Z"
   },
   {
    "duration": 61,
    "start_time": "2024-07-31T04:24:45.767Z"
   },
   {
    "duration": 83,
    "start_time": "2024-07-31T04:24:49.230Z"
   },
   {
    "duration": 23,
    "start_time": "2024-07-31T04:24:56.027Z"
   },
   {
    "duration": 79,
    "start_time": "2024-07-31T04:25:00.286Z"
   },
   {
    "duration": 101,
    "start_time": "2024-07-31T04:25:13.526Z"
   },
   {
    "duration": 57,
    "start_time": "2024-07-31T04:25:15.599Z"
   },
   {
    "duration": 8,
    "start_time": "2024-07-31T04:25:53.432Z"
   },
   {
    "duration": 10,
    "start_time": "2024-07-31T04:25:55.710Z"
   },
   {
    "duration": 8,
    "start_time": "2024-07-31T04:26:00.024Z"
   },
   {
    "duration": 8,
    "start_time": "2024-07-31T04:26:07.008Z"
   },
   {
    "duration": 9,
    "start_time": "2024-07-31T04:26:13.654Z"
   }
  ],
  "colab": {
   "provenance": []
  },
  "kernelspec": {
   "display_name": "Python 3 (ipykernel)",
   "language": "python",
   "name": "python3"
  },
  "language_info": {
   "codemirror_mode": {
    "name": "ipython",
    "version": 3
   },
   "file_extension": ".py",
   "mimetype": "text/x-python",
   "name": "python",
   "nbconvert_exporter": "python",
   "pygments_lexer": "ipython3",
   "version": "3.9.19"
  },
  "toc": {
   "base_numbering": 1,
   "nav_menu": {},
   "number_sections": true,
   "sideBar": true,
   "skip_h1_title": false,
   "title_cell": "Table of Contents",
   "title_sidebar": "Contents",
   "toc_cell": false,
   "toc_position": {},
   "toc_section_display": true,
   "toc_window_display": false
  }
 },
 "nbformat": 4,
 "nbformat_minor": 1
}
